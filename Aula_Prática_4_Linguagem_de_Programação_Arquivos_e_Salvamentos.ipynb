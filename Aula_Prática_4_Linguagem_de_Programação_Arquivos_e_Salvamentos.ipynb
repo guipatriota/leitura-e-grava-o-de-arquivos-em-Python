{
  "nbformat": 4,
  "nbformat_minor": 0,
  "metadata": {
    "colab": {
      "name": "Aula Prática 4 - Linguagem de Programação - Arquivos e Salvamentos.ipynb",
      "provenance": [],
      "collapsed_sections": [],
      "authorship_tag": "ABX9TyOlLdI82aYzKy+mYmP4ykyq",
      "include_colab_link": true
    },
    "kernelspec": {
      "name": "python3",
      "display_name": "Python 3"
    },
    "language_info": {
      "name": "python"
    }
  },
  "cells": [
    {
      "cell_type": "markdown",
      "metadata": {
        "id": "view-in-github",
        "colab_type": "text"
      },
      "source": [
        "<a href=\"https://colab.research.google.com/github/guipatriota/leitura-e-grava-o-de-arquivos-em-Python/blob/main/Aula_Pr%C3%A1tica_4_Linguagem_de_Programa%C3%A7%C3%A3o_Arquivos_e_Salvamentos.ipynb\" target=\"_parent\"><img src=\"https://colab.research.google.com/assets/colab-badge.svg\" alt=\"Open In Colab\"/></a>"
      ]
    },
    {
      "cell_type": "markdown",
      "source": [
        "# Aula Prática 4 - Arquivos e salvamentos\n",
        "Nesta aula veremos algumas formas de importação de arquivos para uso com o Python e como realizamos o salvamento destes dados.\n",
        "\n",
        "É importante sabermos que sempre é possível realizarmos a leitura de qualquer tipo de arquivo de forma manual (criar o seu próprio parser para o arquivo), porém o uso de bibliotecas com parsers prontos para cada tipo de arquivo facilita bastante nosso trabalho.\n",
        "Nest aula veremos como realizar a leitura e a gravação de dados nos seguintes formatos:\n",
        "  * TEMA 1 – XML E JSON\n",
        "  * TEMA 2 – CSV E PARQUET\n",
        "  * TEMA 3 – SQLITE\n",
        "  * TEMA 4 – PERSISTINDO AQUI (Salvamento local e Pickle)\n",
        "  * TEMA 5 – PERSISTINDO LÁ (REST)\n",
        "\n",
        "\n"
      ],
      "metadata": {
        "id": "pE29VFy1dTjw"
      }
    },
    {
      "cell_type": "markdown",
      "source": [
        "## Preparo do ambiente de desenvolvimento\n",
        "\n",
        "Antes de iniciarmos as análises é necessário a importação dos arquivos que usaremos nos exemplos.\n",
        "\n",
        "Para esta importação, podemos fazer:\n",
        "- Upload manual de todos eles para este notebook do Google Colab;\n",
        "- Conexão com nosso Google Drive pela interface visual de arquivos do Google Colab (menu da esquerda);\n",
        "- Conexão com nosso Google Drive em forma de comandos nas células deste notebook.\n",
        "\n",
        "As próximas células conterão as linhas de programação necessárias para realizarmos a conexão em linha. Para tanto, você deverá conter todos os arquivos em seu Google Drive, preferencialmente em uma pasta na raiz de seu drive com o seguinte nome:\n",
        "\n",
        "AULA_PRÁTICA_4-PYTHON_LEITURA_E_GRAVAÇÃO\n",
        "\n",
        "Independente do método que você escolha, o uso da conexão com o Google Drive é a que permite importação mais rápida dos arquivos."
      ],
      "metadata": {
        "id": "OIqZoZ2SIi23"
      }
    },
    {
      "cell_type": "code",
      "source": [
        "# Conexão com Google Drive:\n",
        "from google.colab import drive\n",
        "drive.mount('/content/drive')"
      ],
      "metadata": {
        "colab": {
          "base_uri": "https://localhost:8080/"
        },
        "id": "mdwfgdQkIifl",
        "outputId": "a89ff812-5933-4a54-f035-f0945d07a548"
      },
      "execution_count": null,
      "outputs": [
        {
          "output_type": "stream",
          "name": "stdout",
          "text": [
            "Mounted at /content/drive\n"
          ]
        }
      ]
    },
    {
      "cell_type": "code",
      "source": [
        "# Cópia dos arquivos necessários da pasta AULA_PRÁTICA_4-PYTHON_LEITURA_E_GRAVAÇÃO (5 a 20 segundos de execução. Depende da velocidade da conexão).\n",
        "# Caso você tenha optado por um local ou nome diferente da pasta, faça as devidas alterações.\n",
        "!cp /content/drive/MyDrive/AULA_PRÁTICA_4-PYTHON_LEITURA_E_GRAVAÇÃO/*.* /content"
      ],
      "metadata": {
        "id": "kBwoSN6YLGxT"
      },
      "execution_count": null,
      "outputs": []
    },
    {
      "cell_type": "markdown",
      "source": [
        "Após a importação dos arquivos, podemos realizar a manipulação dos arquivos.\n",
        "\n",
        "De forma geral, podemos realizar a abertura, leitura, escrita e fechamento de qualquer arquivo em formato de texto simples com os comandos python abaixo:\n",
        "- arquivo = open(nome_do_arquivo, tipo_de_abertura)\n",
        "  - nome_do_arquivo deve ser uma string com o caminho e nome do seu arquivo\n",
        "  - tipo_de_abertura pode ser:\n",
        "    - 'r'  para ler (erro se arquivo não existir)\n",
        "    - 'r+' para ler (erro se arquivo não existir) e escrever (no início do arquivo)\n",
        "    - 'w'  cria novo arquivo ou substitui existente (apaga conteúdo antigo) e escreve (no início do arquivo)\n",
        "    - 'w+' cria novo arquivo ou substitui existente (apaga conteúdo antigo) e lê e escreve (no início do arquivo)\n",
        "    - 'a'  cria novo arquivo ou abre existente e escreve (no fim do arquivo)\n",
        "    - 'a+' cria novo arquivo ou abre existente e lê e escreve (no fim do arquivo)\n",
        "- arquivo.write(string_qualquer)\n",
        "- arquivo.close()"
      ],
      "metadata": {
        "id": "N6x75tC_GniA"
      }
    },
    {
      "cell_type": "code",
      "source": [
        "arquivo = open('exemplo_simples.txt', 'w+')\n",
        "arquivo.write('Olá mundo\\nEsta é a segunda linha\\nEsta é a terceira linha\\n') # 60 caracteres gravados\n",
        "arquivo.seek(0)\n",
        "conteudo = arquivo.read()\n",
        "print(conteudo)"
      ],
      "metadata": {
        "colab": {
          "base_uri": "https://localhost:8080/"
        },
        "id": "S4BlrXSjbAYB",
        "outputId": "39364fde-e4f0-4f50-ec5d-0dc764affe1b"
      },
      "execution_count": null,
      "outputs": [
        {
          "output_type": "stream",
          "name": "stdout",
          "text": [
            "Olá mundo\n",
            "Esta é a segunda linha\n",
            "Esta é a terceira linha\n",
            "\n"
          ]
        }
      ]
    },
    {
      "cell_type": "code",
      "source": [
        "# .tell() mostra a posição atual do cursor.\n",
        "arquivo.tell()"
      ],
      "metadata": {
        "colab": {
          "base_uri": "https://localhost:8080/"
        },
        "id": "cKdnEGJtvYmh",
        "outputId": "846d5042-746a-4c8a-ee3e-3340c14d885e"
      },
      "execution_count": null,
      "outputs": [
        {
          "output_type": "execute_result",
          "data": {
            "text/plain": [
              "60"
            ]
          },
          "metadata": {},
          "execution_count": 10
        }
      ]
    },
    {
      "cell_type": "markdown",
      "source": [
        "Após a abertura e manipulação de um arquivo, devemos fechá-lo, para que o arquivo seja liberado para outros programas:"
      ],
      "metadata": {
        "id": "XSQ418ORezD-"
      }
    },
    {
      "cell_type": "code",
      "source": [
        "arquivo.close()"
      ],
      "metadata": {
        "id": "O8tulB8seOzk"
      },
      "execution_count": null,
      "outputs": []
    },
    {
      "cell_type": "markdown",
      "source": [
        "Aqui no Google Colab, se quisermos abrir um arquivo pela linha de comando do linux, usamos o acesso ! para usar comandos linux e o comando cat para ver o conteúdo de um arquivo:"
      ],
      "metadata": {
        "id": "911JJdt7eU97"
      }
    },
    {
      "cell_type": "code",
      "source": [
        "!cat exemplo_simples.txt"
      ],
      "metadata": {
        "colab": {
          "base_uri": "https://localhost:8080/"
        },
        "id": "24U2KAJUeR2g",
        "outputId": "63730fcd-3ed5-4d32-e305-e39190d25d0f"
      },
      "execution_count": null,
      "outputs": [
        {
          "output_type": "stream",
          "name": "stdout",
          "text": [
            "Olá mundo\n",
            "Esta é a segunda linha\n",
            "Esta é a terceira linha\n"
          ]
        }
      ]
    },
    {
      "cell_type": "markdown",
      "source": [
        "Podemos usar o gerenciamento de contexto com o comando ```with``` para abrir e manipular arquivos em Python.\n",
        "\n",
        "Esta estratégia fecha o arquivo automaticamente quando o contexto se encerra (saída do comando ```with```)"
      ],
      "metadata": {
        "id": "-OWXNh_Re9JR"
      }
    },
    {
      "cell_type": "code",
      "source": [
        "with open('exemplo_simples.txt', 'a+') as arquivo:\n",
        "   arquivo.write('Quarta linha é feita com uso do gerenciamentode contexto\\n'+\\\n",
        "                 'Esta é a quinta linha e foi feita da mesma forma\\n')"
      ],
      "metadata": {
        "id": "_6bPdM7fe77x"
      },
      "execution_count": null,
      "outputs": []
    },
    {
      "cell_type": "code",
      "source": [
        "!cat exemplo_simples.txt"
      ],
      "metadata": {
        "colab": {
          "base_uri": "https://localhost:8080/"
        },
        "id": "s8QPFxdMgRSM",
        "outputId": "f4ce3d48-f468-4382-d964-1f53e2f4a5e1"
      },
      "execution_count": null,
      "outputs": [
        {
          "output_type": "stream",
          "name": "stdout",
          "text": [
            "Olá mundo\n",
            "Esta é a segunda linha\n",
            "Esta é a terceira linha\n",
            "Quarta linha é feita com uso do gerenciamentode contexto\n",
            "Esta é a quinta linha e foi feita da mesma forma\n"
          ]
        }
      ]
    },
    {
      "cell_type": "markdown",
      "source": [
        "Se tentarmos encontrar a posição atual do cursor no arquivo, veremos um erro nos informando que ele está fechado:"
      ],
      "metadata": {
        "id": "BwQtqU92glT3"
      }
    },
    {
      "cell_type": "code",
      "source": [
        "# .tell() mostra a posição atual do cursor.\n",
        "arquivo.tell()"
      ],
      "metadata": {
        "colab": {
          "base_uri": "https://localhost:8080/",
          "height": 183
        },
        "id": "x92d8UK-gXgD",
        "outputId": "66e99365-1989-4053-df25-2190b20bb109"
      },
      "execution_count": null,
      "outputs": [
        {
          "output_type": "error",
          "ename": "ValueError",
          "evalue": "ignored",
          "traceback": [
            "\u001b[0;31m---------------------------------------------------------------------------\u001b[0m",
            "\u001b[0;31mValueError\u001b[0m                                Traceback (most recent call last)",
            "\u001b[0;32m<ipython-input-16-d3e59de08486>\u001b[0m in \u001b[0;36m<module>\u001b[0;34m()\u001b[0m\n\u001b[1;32m      1\u001b[0m \u001b[0;31m# .tell() mostra a posição atual do cursor.\u001b[0m\u001b[0;34m\u001b[0m\u001b[0;34m\u001b[0m\u001b[0;34m\u001b[0m\u001b[0m\n\u001b[0;32m----> 2\u001b[0;31m \u001b[0marquivo\u001b[0m\u001b[0;34m.\u001b[0m\u001b[0mtell\u001b[0m\u001b[0;34m(\u001b[0m\u001b[0;34m)\u001b[0m\u001b[0;34m\u001b[0m\u001b[0;34m\u001b[0m\u001b[0m\n\u001b[0m",
            "\u001b[0;31mValueError\u001b[0m: I/O operation on closed file."
          ]
        }
      ]
    },
    {
      "cell_type": "markdown",
      "source": [
        "Com esta forma simples de abertura é possível manipular diversos tipos de arquivos, porém teríamos que criar as funções de parseamento de cada tipo de texto e formato de arquivo e isso já foi feito e está disponível em algumas bibliotecas.\n",
        "\n",
        "Nesta aula vamos utilizar duas bibliotecas principais:\n",
        "- PANDAS\n",
        "  - O Pandas é uma das bibliotecas mais usadas para manipulação de dados e possui diversas funcionalidades para importação e salvamento de arquivos em diversos formatos. Seu ponto fraco é o aumento do tempo de processamento quanto maior for o arquivo de dados. Se formos processar arquivos muito grantes (acima de 4GB), não é aconselhável o uso do pandas.\n",
        "- PYSPARK\n",
        "  - O Spark é um framework para manipulação de grandes quantidades de dados e no Pyhton usamos o Pyspark para acessar suas funcionalidades. Seu principal objetivo é permitir o processamento de dados em várias máquinas ao mesmo tempo (processamento distribuído), porém aqui vamos utilizar principalemente a sua capacidade de realizar processamente preguiçoso (Lazy Processing). Com isso, os dados só vão para a memória RAM e são computados quando solicitamos visualização. Caso contrário, o Spark mantém apenas o mínimo em memória, permitindo manippulação de grandes quantidades de dados (Big Data)."
      ],
      "metadata": {
        "id": "CvC5SSVUL7xp"
      }
    },
    {
      "cell_type": "markdown",
      "source": [
        "### INICIALIZAÇÃO DO PANDAS\n",
        "Importação da biblioteca que já vem instalada no Google Colab."
      ],
      "metadata": {
        "id": "-Pwdnz6XU3eu"
      }
    },
    {
      "cell_type": "code",
      "source": [
        "# Importação do Pandas\n",
        "import pandas as pd"
      ],
      "metadata": {
        "id": "QmaXHkp_NeJc"
      },
      "execution_count": null,
      "outputs": []
    },
    {
      "cell_type": "markdown",
      "source": [
        "### INICIALIZAÇÃO DO SPARK\n",
        "- Atualização do linux do Google Colab\n",
        "- Configuração das variáveis de ambiente para instalação do SPARK\n",
        "- Instalação do SPARK e do FINDSPARK\n",
        "- Importação da biblioteca FINDSPARK para localizar o SPARK instalado\n",
        "- Importação do SPARK através do FINDSPARK"
      ],
      "metadata": {
        "id": "ua9IijKLU495"
      }
    },
    {
      "cell_type": "code",
      "source": [
        "# Configuração do ambiente e importação do pyspark.\n",
        "# Podemos fazer de duas formas:\n",
        "## !pip install pyspark\n",
        "## from pyspark.sql import SparkSession\n",
        "# ou\n",
        "# Configurar o linux no qual este notebook está rodando. Esta última permite maior qunatidade de funcionalidades e é esta que usaremos.\n",
        "\n",
        "# Update do linux desta instância do google colab (de 5 a 15 segundos de execução):\n",
        "!sudo apt-get update"
      ],
      "metadata": {
        "colab": {
          "base_uri": "https://localhost:8080/"
        },
        "id": "FuBpbqYVNgmL",
        "outputId": "2c386228-ddac-4f44-e482-cbe598d3bd2e"
      },
      "execution_count": null,
      "outputs": [
        {
          "output_type": "stream",
          "name": "stdout",
          "text": [
            "\r0% [Working]\r            \rHit:1 https://developer.download.nvidia.com/compute/cuda/repos/ubuntu1804/x86_64  InRelease\n",
            "\r0% [Connecting to archive.ubuntu.com (185.125.190.39)] [Waiting for headers] [C\r0% [1 InRelease gpgv 1,581 B] [Connecting to archive.ubuntu.com (185.125.190.39\r                                                                               \rGet:2 https://cloud.r-project.org/bin/linux/ubuntu bionic-cran40/ InRelease [3,626 B]\n",
            "\r0% [1 InRelease gpgv 1,581 B] [Connecting to archive.ubuntu.com (185.125.190.39\r                                                                               \rGet:3 http://security.ubuntu.com/ubuntu bionic-security InRelease [88.7 kB]\n",
            "\r0% [1 InRelease gpgv 1,581 B] [Waiting for headers] [3 InRelease 14.2 kB/88.7 k\r                                                                               \rHit:4 http://ppa.launchpad.net/c2d4u.team/c2d4u4.0+/ubuntu bionic InRelease\n",
            "\r0% [1 InRelease gpgv 1,581 B] [Waiting for headers] [3 InRelease 14.2 kB/88.7 k\r                                                                               \rIgn:5 https://developer.download.nvidia.com/compute/machine-learning/repos/ubuntu1804/x86_64  InRelease\n",
            "Hit:6 https://developer.download.nvidia.com/compute/machine-learning/repos/ubuntu1804/x86_64  Release\n",
            "Hit:7 http://archive.ubuntu.com/ubuntu bionic InRelease\n",
            "Get:8 http://archive.ubuntu.com/ubuntu bionic-updates InRelease [88.7 kB]\n",
            "Hit:9 http://ppa.launchpad.net/cran/libgit2/ubuntu bionic InRelease\n",
            "Get:10 https://cloud.r-project.org/bin/linux/ubuntu bionic-cran40/ Packages [85.6 kB]\n",
            "Hit:11 http://ppa.launchpad.net/deadsnakes/ppa/ubuntu bionic InRelease\n",
            "Get:13 http://archive.ubuntu.com/ubuntu bionic-backports InRelease [74.6 kB]\n",
            "Hit:14 http://ppa.launchpad.net/graphics-drivers/ppa/ubuntu bionic InRelease\n",
            "Get:15 http://security.ubuntu.com/ubuntu bionic-security/universe amd64 Packages [1,526 kB]\n",
            "Get:16 http://archive.ubuntu.com/ubuntu bionic-updates/main amd64 Packages [3,332 kB]\n",
            "Get:17 http://security.ubuntu.com/ubuntu bionic-security/main amd64 Packages [2,898 kB]\n",
            "Get:18 http://archive.ubuntu.com/ubuntu bionic-updates/universe amd64 Packages [2,302 kB]\n",
            "Get:19 http://security.ubuntu.com/ubuntu bionic-security/restricted amd64 Packages [1,060 kB]\n",
            "Get:20 http://archive.ubuntu.com/ubuntu bionic-updates/restricted amd64 Packages [1,105 kB]\n",
            "Fetched 12.6 MB in 10s (1,297 kB/s)\n",
            "Reading package lists... Done\n"
          ]
        }
      ]
    },
    {
      "cell_type": "code",
      "source": [
        "# Descoberta da pasta do JAVA deste linux:\n",
        "JAVA_FOLDER = !readlink -f /usr/bin/java | sed \"s:bin/java::\"\n",
        "\n",
        "# Configuração de variáveis de ambiente:\n",
        "import os\n",
        "os.environ[\"JAVA_HOME\"] = JAVA_FOLDER[0]\n",
        "os.environ[\"PATH\"] += os.pathsep + os.environ[\"JAVA_HOME\"] + \"/bin\"\n",
        "\n",
        "os.environ[\"SPARK_HOME\"] = \"/usr/local/spark\"\n",
        "os.environ[\"PATH\"] += os.pathsep + os.environ[\"SPARK_HOME\"] + \"/bin\"\n",
        "\n",
        "# Opções para uso do Spark com XML:\n",
        "os.environ['PYSPARK_SUBMIT_ARGS'] = \"--packages com.databricks:spark-xml_2.12:0.15.0 pyspark-shell\""
      ],
      "metadata": {
        "id": "r-KZkatdR4_t"
      },
      "execution_count": null,
      "outputs": []
    },
    {
      "cell_type": "code",
      "source": [
        "# Instalação do SPARK (40 a 120 segundos de execução, depende da velocidade da conexão):\n",
        "!wget -q -O spark.tgz https://archive.apache.org/dist/spark/spark-3.3.0/spark-3.3.0-bin-hadoop3.tgz\n",
        "!tar xf spark.tgz\n",
        "!mv ./spark-* /usr/local/spark\n",
        "!pip install -q findspark\n",
        "!rm spark.tgz"
      ],
      "metadata": {
        "id": "8sYpM_WRSBUb"
      },
      "execution_count": null,
      "outputs": []
    },
    {
      "cell_type": "code",
      "source": [
        "# Inicializando o Spark\n",
        "import findspark\n",
        "findspark.init(os.environ[\"SPARK_HOME\"])"
      ],
      "metadata": {
        "id": "NkgHuCt1TKWo"
      },
      "execution_count": null,
      "outputs": []
    },
    {
      "cell_type": "code",
      "source": [
        "# Criação do objeto SparkSession para uso do pyspark.sql (15 a 30 segundos de execução):\n",
        "from pyspark.sql import SparkSession\n",
        "appName = \"PySpark Aula 4\"\n",
        "master = \"local[*]\"\n",
        "\n",
        "spark = SparkSession.builder\\\n",
        "    .appName(appName)\\\n",
        "    .master(master)\\\n",
        "    .getOrCreate()"
      ],
      "metadata": {
        "id": "dcG8-GmIVCFa"
      },
      "execution_count": null,
      "outputs": []
    },
    {
      "cell_type": "markdown",
      "source": [
        "## Leitura de arquivos XML e JSON com PANDAS\n",
        "\n"
      ],
      "metadata": {
        "id": "kIE2CDa0TSLP"
      }
    },
    {
      "cell_type": "markdown",
      "source": [
        "Com o PANDAS, para importar um arquivo e já formatá-lo como um dataframe, usamos os métodos de leitura:\n",
        "- pandas.read_xml\n",
        "- pandas.read_json\n",
        "- pandas.read_csv\n",
        "- pandas.read_parquet\n",
        "- pandas.read_sql\n",
        "- pandas.read_excel\n",
        "- pandas.read_html\n",
        "- pandas.read_feather\n",
        "- pandas.read_pickle\n",
        "- pandas.read_clipboard\n",
        "- ...\n",
        "\n",
        "Da mesma forma, podemos salvar os dados de um dataframe em um arquivo, usando os métodos de escrita:\n",
        "- pandas.to_xml\n",
        "- pandas.to_json\n",
        "- pandas.to_csv\n",
        "- pandas.to_parquet\n",
        "- pandas.to_sql\n",
        "- pandas.to_pickle\n",
        "- pandas.to_excel\n",
        "- pandas.to_clipboard\n",
        "- ...\n",
        "\n",
        "<font color=\"red\">**IMPORTANTE:** Como importamos o pandas e o renomeamos para pd, vamos substituir a palavra pandas por pd em nosso código.</font>"
      ],
      "metadata": {
        "id": "huVFfVAmYmgj"
      }
    },
    {
      "cell_type": "markdown",
      "source": [
        "### XML com PANDAS"
      ],
      "metadata": {
        "id": "XjAU00YzC25h"
      }
    },
    {
      "cell_type": "markdown",
      "source": [
        "Realizar a leitura de um arquivo XML muito grande com o pandas pode causar falha no Ambiente de Execução do Google Colab ou demorar muito mais do que com SPARK. Neste caso, ocorrerá uma falha de sessão após 7 minutos, por conta de uso de toda a memória RAM disponível neste notebook do Google Colab."
      ],
      "metadata": {
        "id": "g71YfqgWXFSb"
      }
    },
    {
      "cell_type": "markdown",
      "source": [
        "Análise do tamanho do arquivo:"
      ],
      "metadata": {
        "id": "VNbEJ0itXWGI"
      }
    },
    {
      "cell_type": "code",
      "source": [
        "!ls -lh | grep Badges.xml | awk '{print \"Arquivo: \" $9 \"\\nTamanho: \" $5\"B\"}'"
      ],
      "metadata": {
        "colab": {
          "base_uri": "https://localhost:8080/"
        },
        "id": "hXKPcUl4W4Ro",
        "outputId": "758d282d-b3da-4477-f447-68628821655c"
      },
      "execution_count": null,
      "outputs": [
        {
          "output_type": "stream",
          "name": "stdout",
          "text": [
            "Arquivo: Badges.xml\n",
            "Tamanho: 1.1GB\n"
          ]
        }
      ]
    },
    {
      "cell_type": "markdown",
      "source": [
        "Importação de arquivo muito grande com pandas:"
      ],
      "metadata": {
        "id": "NDOgPcYqE7ub"
      }
    },
    {
      "cell_type": "code",
      "source": [
        "# Tentativa de importação de arquivo XML com mais de 1GB no Pandas. (7 minutos de execução, em média, até o colab resetar)\n",
        "# pddf_xml_grande = pd.read_xml('Badges.xml')"
      ],
      "metadata": {
        "id": "0sQgaImNzKFW"
      },
      "execution_count": null,
      "outputs": []
    },
    {
      "cell_type": "markdown",
      "source": [
        "A figura abaixo mostra o erro que ocorre.\n",
        "![falha de memória colab mais pandas.png](data:image/png;base64,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)"
      ],
      "metadata": {
        "id": "NYinItFR58-z"
      }
    },
    {
      "cell_type": "markdown",
      "source": [
        "Para testarmos a importação de XML com PANDAS, vamos usar um arquivo com a mesma estrutura, porém menor:"
      ],
      "metadata": {
        "id": "njF5rFSZXkac"
      }
    },
    {
      "cell_type": "code",
      "source": [
        "!ls -lh | grep Badges-small.xml | awk '{print \"Arquivo: \" $9 \"\\nTamanho: \" $5\"B\"}'\n",
        "\n",
        "!echo \"\"\n",
        "!echo \"Conteúdo do arquivo Badges-small.xml:\"\n",
        "!echo \"\"\n",
        "\n",
        "!cat Badges-small.xml"
      ],
      "metadata": {
        "colab": {
          "base_uri": "https://localhost:8080/"
        },
        "id": "dFhhwnmQXsM_",
        "outputId": "eee5885d-3588-42e9-e2b7-696b886d0139"
      },
      "execution_count": null,
      "outputs": [
        {
          "output_type": "stream",
          "name": "stdout",
          "text": [
            "Arquivo: Badges-small.xml\n",
            "Tamanho: 622B\n",
            "\n",
            "Conteúdo do arquivo Badges-small.xml:\n",
            "\n",
            "<?xml version=\"1.0\" encoding=\"utf-8\"?>\n",
            "<Root>\n",
            "\t<badges>\n",
            "\t\t<row Id=\"82946\" UserId=\"3718\" Name=\"Teacher\" Date=\"2008-09-15T08:55:03.923\" Class=\"3\" TagBased=\"False\" />\n",
            "\t\t<row Id=\"82947\" UserId=\"994\" Name=\"Teacher\" Date=\"2008-09-15T08:55:03.957\" Class=\"3\" TagBased=\"False\" />\n",
            "\t\t<row Id=\"82949\" UserId=\"3893\" Name=\"Teacher\" Date=\"2008-09-15T08:55:03.957\" Class=\"3\" TagBased=\"False\" />\n",
            "\t\t<row Id=\"82950\" UserId=\"4591\" Name=\"Teacher\" Date=\"2008-09-15T08:55:03.957\" Class=\"3\" TagBased=\"False\" />\n",
            "\t\t<row Id=\"82951\" UserId=\"5196\" Name=\"Teacher\" Date=\"2008-09-15T08:55:03.957\" Class=\"3\" TagBased=\"False\" />\n",
            "\t</badges>\n",
            "</Root>"
          ]
        }
      ]
    },
    {
      "cell_type": "code",
      "source": [
        "# Importação sem opções de configuração\n",
        "pddf_xml = pd.read_xml('Badges-small.xml')"
      ],
      "metadata": {
        "id": "CZF4TDOexeqa"
      },
      "execution_count": null,
      "outputs": []
    },
    {
      "cell_type": "markdown",
      "source": [
        "Dados importados incorretamente, pois cada linha retornou um único elemento `<row>`"
      ],
      "metadata": {
        "id": "KaVIG585amex"
      }
    },
    {
      "cell_type": "code",
      "source": [
        "pddf_xml.head()"
      ],
      "metadata": {
        "colab": {
          "base_uri": "https://localhost:8080/",
          "height": 81
        },
        "id": "n7itRQdxxheu",
        "outputId": "d349f203-3403-4234-c3ad-e52472aa6295"
      },
      "execution_count": null,
      "outputs": [
        {
          "output_type": "execute_result",
          "data": {
            "text/plain": [
              "   row\n",
              "0  NaN"
            ],
            "text/html": [
              "\n",
              "  <div id=\"df-9a497ce8-30d3-48b4-978c-1eeb160f1d59\">\n",
              "    <div class=\"colab-df-container\">\n",
              "      <div>\n",
              "<style scoped>\n",
              "    .dataframe tbody tr th:only-of-type {\n",
              "        vertical-align: middle;\n",
              "    }\n",
              "\n",
              "    .dataframe tbody tr th {\n",
              "        vertical-align: top;\n",
              "    }\n",
              "\n",
              "    .dataframe thead th {\n",
              "        text-align: right;\n",
              "    }\n",
              "</style>\n",
              "<table border=\"1\" class=\"dataframe\">\n",
              "  <thead>\n",
              "    <tr style=\"text-align: right;\">\n",
              "      <th></th>\n",
              "      <th>row</th>\n",
              "    </tr>\n",
              "  </thead>\n",
              "  <tbody>\n",
              "    <tr>\n",
              "      <th>0</th>\n",
              "      <td>NaN</td>\n",
              "    </tr>\n",
              "  </tbody>\n",
              "</table>\n",
              "</div>\n",
              "      <button class=\"colab-df-convert\" onclick=\"convertToInteractive('df-9a497ce8-30d3-48b4-978c-1eeb160f1d59')\"\n",
              "              title=\"Convert this dataframe to an interactive table.\"\n",
              "              style=\"display:none;\">\n",
              "        \n",
              "  <svg xmlns=\"http://www.w3.org/2000/svg\" height=\"24px\"viewBox=\"0 0 24 24\"\n",
              "       width=\"24px\">\n",
              "    <path d=\"M0 0h24v24H0V0z\" fill=\"none\"/>\n",
              "    <path d=\"M18.56 5.44l.94 2.06.94-2.06 2.06-.94-2.06-.94-.94-2.06-.94 2.06-2.06.94zm-11 1L8.5 8.5l.94-2.06 2.06-.94-2.06-.94L8.5 2.5l-.94 2.06-2.06.94zm10 10l.94 2.06.94-2.06 2.06-.94-2.06-.94-.94-2.06-.94 2.06-2.06.94z\"/><path d=\"M17.41 7.96l-1.37-1.37c-.4-.4-.92-.59-1.43-.59-.52 0-1.04.2-1.43.59L10.3 9.45l-7.72 7.72c-.78.78-.78 2.05 0 2.83L4 21.41c.39.39.9.59 1.41.59.51 0 1.02-.2 1.41-.59l7.78-7.78 2.81-2.81c.8-.78.8-2.07 0-2.86zM5.41 20L4 18.59l7.72-7.72 1.47 1.35L5.41 20z\"/>\n",
              "  </svg>\n",
              "      </button>\n",
              "      \n",
              "  <style>\n",
              "    .colab-df-container {\n",
              "      display:flex;\n",
              "      flex-wrap:wrap;\n",
              "      gap: 12px;\n",
              "    }\n",
              "\n",
              "    .colab-df-convert {\n",
              "      background-color: #E8F0FE;\n",
              "      border: none;\n",
              "      border-radius: 50%;\n",
              "      cursor: pointer;\n",
              "      display: none;\n",
              "      fill: #1967D2;\n",
              "      height: 32px;\n",
              "      padding: 0 0 0 0;\n",
              "      width: 32px;\n",
              "    }\n",
              "\n",
              "    .colab-df-convert:hover {\n",
              "      background-color: #E2EBFA;\n",
              "      box-shadow: 0px 1px 2px rgba(60, 64, 67, 0.3), 0px 1px 3px 1px rgba(60, 64, 67, 0.15);\n",
              "      fill: #174EA6;\n",
              "    }\n",
              "\n",
              "    [theme=dark] .colab-df-convert {\n",
              "      background-color: #3B4455;\n",
              "      fill: #D2E3FC;\n",
              "    }\n",
              "\n",
              "    [theme=dark] .colab-df-convert:hover {\n",
              "      background-color: #434B5C;\n",
              "      box-shadow: 0px 1px 3px 1px rgba(0, 0, 0, 0.15);\n",
              "      filter: drop-shadow(0px 1px 2px rgba(0, 0, 0, 0.3));\n",
              "      fill: #FFFFFF;\n",
              "    }\n",
              "  </style>\n",
              "\n",
              "      <script>\n",
              "        const buttonEl =\n",
              "          document.querySelector('#df-9a497ce8-30d3-48b4-978c-1eeb160f1d59 button.colab-df-convert');\n",
              "        buttonEl.style.display =\n",
              "          google.colab.kernel.accessAllowed ? 'block' : 'none';\n",
              "\n",
              "        async function convertToInteractive(key) {\n",
              "          const element = document.querySelector('#df-9a497ce8-30d3-48b4-978c-1eeb160f1d59');\n",
              "          const dataTable =\n",
              "            await google.colab.kernel.invokeFunction('convertToInteractive',\n",
              "                                                     [key], {});\n",
              "          if (!dataTable) return;\n",
              "\n",
              "          const docLinkHtml = 'Like what you see? Visit the ' +\n",
              "            '<a target=\"_blank\" href=https://colab.research.google.com/notebooks/data_table.ipynb>data table notebook</a>'\n",
              "            + ' to learn more about interactive tables.';\n",
              "          element.innerHTML = '';\n",
              "          dataTable['output_type'] = 'display_data';\n",
              "          await google.colab.output.renderOutput(dataTable, element);\n",
              "          const docLink = document.createElement('div');\n",
              "          docLink.innerHTML = docLinkHtml;\n",
              "          element.appendChild(docLink);\n",
              "        }\n",
              "      </script>\n",
              "    </div>\n",
              "  </div>\n",
              "  "
            ]
          },
          "metadata": {},
          "execution_count": 146
        }
      ]
    },
    {
      "cell_type": "markdown",
      "source": [
        "Para corrigir, é necessário inserir o argumento xpath.\n",
        "\n",
        "Como o arquivo XML possui cala linha como um único elemento, é necessário mudar o xpath de \"./*\" (padrão) para \".//row\":"
      ],
      "metadata": {
        "id": "IvWWVvjiauRT"
      }
    },
    {
      "cell_type": "code",
      "source": [
        "pddf_xml = pd.read_xml('Badges-small.xml', xpath=\".//row\")"
      ],
      "metadata": {
        "id": "8urabjh-wpm1"
      },
      "execution_count": null,
      "outputs": []
    },
    {
      "cell_type": "code",
      "source": [
        "pddf_xml.head()"
      ],
      "metadata": {
        "colab": {
          "base_uri": "https://localhost:8080/",
          "height": 206
        },
        "id": "hDsHCB_gxUT3",
        "outputId": "ed148ab6-04f6-4769-87f2-c9a34674ecfe"
      },
      "execution_count": null,
      "outputs": [
        {
          "output_type": "execute_result",
          "data": {
            "text/plain": [
              "      Id  UserId     Name                     Date  Class  TagBased\n",
              "0  82946    3718  Teacher  2008-09-15T08:55:03.923      3     False\n",
              "1  82947     994  Teacher  2008-09-15T08:55:03.957      3     False\n",
              "2  82949    3893  Teacher  2008-09-15T08:55:03.957      3     False\n",
              "3  82950    4591  Teacher  2008-09-15T08:55:03.957      3     False\n",
              "4  82951    5196  Teacher  2008-09-15T08:55:03.957      3     False"
            ],
            "text/html": [
              "\n",
              "  <div id=\"df-61d99f55-2529-4d0e-8923-6264aa8f346f\">\n",
              "    <div class=\"colab-df-container\">\n",
              "      <div>\n",
              "<style scoped>\n",
              "    .dataframe tbody tr th:only-of-type {\n",
              "        vertical-align: middle;\n",
              "    }\n",
              "\n",
              "    .dataframe tbody tr th {\n",
              "        vertical-align: top;\n",
              "    }\n",
              "\n",
              "    .dataframe thead th {\n",
              "        text-align: right;\n",
              "    }\n",
              "</style>\n",
              "<table border=\"1\" class=\"dataframe\">\n",
              "  <thead>\n",
              "    <tr style=\"text-align: right;\">\n",
              "      <th></th>\n",
              "      <th>Id</th>\n",
              "      <th>UserId</th>\n",
              "      <th>Name</th>\n",
              "      <th>Date</th>\n",
              "      <th>Class</th>\n",
              "      <th>TagBased</th>\n",
              "    </tr>\n",
              "  </thead>\n",
              "  <tbody>\n",
              "    <tr>\n",
              "      <th>0</th>\n",
              "      <td>82946</td>\n",
              "      <td>3718</td>\n",
              "      <td>Teacher</td>\n",
              "      <td>2008-09-15T08:55:03.923</td>\n",
              "      <td>3</td>\n",
              "      <td>False</td>\n",
              "    </tr>\n",
              "    <tr>\n",
              "      <th>1</th>\n",
              "      <td>82947</td>\n",
              "      <td>994</td>\n",
              "      <td>Teacher</td>\n",
              "      <td>2008-09-15T08:55:03.957</td>\n",
              "      <td>3</td>\n",
              "      <td>False</td>\n",
              "    </tr>\n",
              "    <tr>\n",
              "      <th>2</th>\n",
              "      <td>82949</td>\n",
              "      <td>3893</td>\n",
              "      <td>Teacher</td>\n",
              "      <td>2008-09-15T08:55:03.957</td>\n",
              "      <td>3</td>\n",
              "      <td>False</td>\n",
              "    </tr>\n",
              "    <tr>\n",
              "      <th>3</th>\n",
              "      <td>82950</td>\n",
              "      <td>4591</td>\n",
              "      <td>Teacher</td>\n",
              "      <td>2008-09-15T08:55:03.957</td>\n",
              "      <td>3</td>\n",
              "      <td>False</td>\n",
              "    </tr>\n",
              "    <tr>\n",
              "      <th>4</th>\n",
              "      <td>82951</td>\n",
              "      <td>5196</td>\n",
              "      <td>Teacher</td>\n",
              "      <td>2008-09-15T08:55:03.957</td>\n",
              "      <td>3</td>\n",
              "      <td>False</td>\n",
              "    </tr>\n",
              "  </tbody>\n",
              "</table>\n",
              "</div>\n",
              "      <button class=\"colab-df-convert\" onclick=\"convertToInteractive('df-61d99f55-2529-4d0e-8923-6264aa8f346f')\"\n",
              "              title=\"Convert this dataframe to an interactive table.\"\n",
              "              style=\"display:none;\">\n",
              "        \n",
              "  <svg xmlns=\"http://www.w3.org/2000/svg\" height=\"24px\"viewBox=\"0 0 24 24\"\n",
              "       width=\"24px\">\n",
              "    <path d=\"M0 0h24v24H0V0z\" fill=\"none\"/>\n",
              "    <path d=\"M18.56 5.44l.94 2.06.94-2.06 2.06-.94-2.06-.94-.94-2.06-.94 2.06-2.06.94zm-11 1L8.5 8.5l.94-2.06 2.06-.94-2.06-.94L8.5 2.5l-.94 2.06-2.06.94zm10 10l.94 2.06.94-2.06 2.06-.94-2.06-.94-.94-2.06-.94 2.06-2.06.94z\"/><path d=\"M17.41 7.96l-1.37-1.37c-.4-.4-.92-.59-1.43-.59-.52 0-1.04.2-1.43.59L10.3 9.45l-7.72 7.72c-.78.78-.78 2.05 0 2.83L4 21.41c.39.39.9.59 1.41.59.51 0 1.02-.2 1.41-.59l7.78-7.78 2.81-2.81c.8-.78.8-2.07 0-2.86zM5.41 20L4 18.59l7.72-7.72 1.47 1.35L5.41 20z\"/>\n",
              "  </svg>\n",
              "      </button>\n",
              "      \n",
              "  <style>\n",
              "    .colab-df-container {\n",
              "      display:flex;\n",
              "      flex-wrap:wrap;\n",
              "      gap: 12px;\n",
              "    }\n",
              "\n",
              "    .colab-df-convert {\n",
              "      background-color: #E8F0FE;\n",
              "      border: none;\n",
              "      border-radius: 50%;\n",
              "      cursor: pointer;\n",
              "      display: none;\n",
              "      fill: #1967D2;\n",
              "      height: 32px;\n",
              "      padding: 0 0 0 0;\n",
              "      width: 32px;\n",
              "    }\n",
              "\n",
              "    .colab-df-convert:hover {\n",
              "      background-color: #E2EBFA;\n",
              "      box-shadow: 0px 1px 2px rgba(60, 64, 67, 0.3), 0px 1px 3px 1px rgba(60, 64, 67, 0.15);\n",
              "      fill: #174EA6;\n",
              "    }\n",
              "\n",
              "    [theme=dark] .colab-df-convert {\n",
              "      background-color: #3B4455;\n",
              "      fill: #D2E3FC;\n",
              "    }\n",
              "\n",
              "    [theme=dark] .colab-df-convert:hover {\n",
              "      background-color: #434B5C;\n",
              "      box-shadow: 0px 1px 3px 1px rgba(0, 0, 0, 0.15);\n",
              "      filter: drop-shadow(0px 1px 2px rgba(0, 0, 0, 0.3));\n",
              "      fill: #FFFFFF;\n",
              "    }\n",
              "  </style>\n",
              "\n",
              "      <script>\n",
              "        const buttonEl =\n",
              "          document.querySelector('#df-61d99f55-2529-4d0e-8923-6264aa8f346f button.colab-df-convert');\n",
              "        buttonEl.style.display =\n",
              "          google.colab.kernel.accessAllowed ? 'block' : 'none';\n",
              "\n",
              "        async function convertToInteractive(key) {\n",
              "          const element = document.querySelector('#df-61d99f55-2529-4d0e-8923-6264aa8f346f');\n",
              "          const dataTable =\n",
              "            await google.colab.kernel.invokeFunction('convertToInteractive',\n",
              "                                                     [key], {});\n",
              "          if (!dataTable) return;\n",
              "\n",
              "          const docLinkHtml = 'Like what you see? Visit the ' +\n",
              "            '<a target=\"_blank\" href=https://colab.research.google.com/notebooks/data_table.ipynb>data table notebook</a>'\n",
              "            + ' to learn more about interactive tables.';\n",
              "          element.innerHTML = '';\n",
              "          dataTable['output_type'] = 'display_data';\n",
              "          await google.colab.output.renderOutput(dataTable, element);\n",
              "          const docLink = document.createElement('div');\n",
              "          docLink.innerHTML = docLinkHtml;\n",
              "          element.appendChild(docLink);\n",
              "        }\n",
              "      </script>\n",
              "    </div>\n",
              "  </div>\n",
              "  "
            ]
          },
          "metadata": {},
          "execution_count": 28
        }
      ]
    },
    {
      "cell_type": "markdown",
      "source": [
        "#### Persistindo aqui: XML com PANDAS\n",
        "Para salvar dados de um pandas dataframe em um formato XML, devemos informar qual será a estrutura do arquivo:"
      ],
      "metadata": {
        "id": "SICQw6Pe6yeS"
      }
    },
    {
      "cell_type": "code",
      "source": [
        "# Método to_df() com todas as opções padrão:\n",
        "string_xml = pddf_xml.to_xml(\n",
        "                       path_or_buffer=None, \n",
        "                       index=True, \n",
        "                       root_name='data', \n",
        "                       row_name='row', \n",
        "                       na_rep=None, \n",
        "                       attr_cols=None, \n",
        "                       elem_cols=None, \n",
        "                       namespaces=None, \n",
        "                       prefix=None, \n",
        "                       encoding='utf-8', \n",
        "                       xml_declaration=True, \n",
        "                       pretty_print=True, \n",
        "                       parser='lxml', \n",
        "                       stylesheet=None, \n",
        "                       compression='infer', \n",
        "                       storage_options=None)\n",
        "print(string_xml)"
      ],
      "metadata": {
        "colab": {
          "base_uri": "https://localhost:8080/"
        },
        "id": "7UIF3pjAToJL",
        "outputId": "c2736a99-985a-4458-e08e-2981b1c699b5"
      },
      "execution_count": null,
      "outputs": [
        {
          "output_type": "stream",
          "name": "stdout",
          "text": [
            "<?xml version='1.0' encoding='utf-8'?>\n",
            "<data>\n",
            "  <row>\n",
            "    <index>0</index>\n",
            "    <Id>82946</Id>\n",
            "    <UserId>3718</UserId>\n",
            "    <Name>Teacher</Name>\n",
            "    <Date>2008-09-15T08:55:03.923</Date>\n",
            "    <Class>3</Class>\n",
            "    <TagBased>False</TagBased>\n",
            "  </row>\n",
            "  <row>\n",
            "    <index>1</index>\n",
            "    <Id>82947</Id>\n",
            "    <UserId>994</UserId>\n",
            "    <Name>Teacher</Name>\n",
            "    <Date>2008-09-15T08:55:03.957</Date>\n",
            "    <Class>3</Class>\n",
            "    <TagBased>False</TagBased>\n",
            "  </row>\n",
            "  <row>\n",
            "    <index>2</index>\n",
            "    <Id>82949</Id>\n",
            "    <UserId>3893</UserId>\n",
            "    <Name>Teacher</Name>\n",
            "    <Date>2008-09-15T08:55:03.957</Date>\n",
            "    <Class>3</Class>\n",
            "    <TagBased>False</TagBased>\n",
            "  </row>\n",
            "  <row>\n",
            "    <index>3</index>\n",
            "    <Id>82950</Id>\n",
            "    <UserId>4591</UserId>\n",
            "    <Name>Teacher</Name>\n",
            "    <Date>2008-09-15T08:55:03.957</Date>\n",
            "    <Class>3</Class>\n",
            "    <TagBased>False</TagBased>\n",
            "  </row>\n",
            "  <row>\n",
            "    <index>4</index>\n",
            "    <Id>82951</Id>\n",
            "    <UserId>5196</UserId>\n",
            "    <Name>Teacher</Name>\n",
            "    <Date>2008-09-15T08:55:03.957</Date>\n",
            "    <Class>3</Class>\n",
            "    <TagBased>False</TagBased>\n",
            "  </row>\n",
            "</data>\n"
          ]
        }
      ]
    },
    {
      "cell_type": "markdown",
      "source": [
        "Usar todos os argumentos como padrão é o mesmo que não colocar nenhum argumento:"
      ],
      "metadata": {
        "id": "N2GVkSqDBDKO"
      }
    },
    {
      "cell_type": "code",
      "source": [
        "string_xml = pddf_xml.to_xml()\n",
        "print(string_xml)"
      ],
      "metadata": {
        "colab": {
          "base_uri": "https://localhost:8080/"
        },
        "id": "cqWxbRfFA5zh",
        "outputId": "48ce382a-8ed8-4402-9d9f-c0448b9c606b"
      },
      "execution_count": null,
      "outputs": [
        {
          "output_type": "stream",
          "name": "stdout",
          "text": [
            "<?xml version='1.0' encoding='utf-8'?>\n",
            "<data>\n",
            "  <row>\n",
            "    <index>0</index>\n",
            "    <Id>82946</Id>\n",
            "    <UserId>3718</UserId>\n",
            "    <Name>Teacher</Name>\n",
            "    <Date>2008-09-15T08:55:03.923</Date>\n",
            "    <Class>3</Class>\n",
            "    <TagBased>False</TagBased>\n",
            "  </row>\n",
            "  <row>\n",
            "    <index>1</index>\n",
            "    <Id>82947</Id>\n",
            "    <UserId>994</UserId>\n",
            "    <Name>Teacher</Name>\n",
            "    <Date>2008-09-15T08:55:03.957</Date>\n",
            "    <Class>3</Class>\n",
            "    <TagBased>False</TagBased>\n",
            "  </row>\n",
            "  <row>\n",
            "    <index>2</index>\n",
            "    <Id>82949</Id>\n",
            "    <UserId>3893</UserId>\n",
            "    <Name>Teacher</Name>\n",
            "    <Date>2008-09-15T08:55:03.957</Date>\n",
            "    <Class>3</Class>\n",
            "    <TagBased>False</TagBased>\n",
            "  </row>\n",
            "  <row>\n",
            "    <index>3</index>\n",
            "    <Id>82950</Id>\n",
            "    <UserId>4591</UserId>\n",
            "    <Name>Teacher</Name>\n",
            "    <Date>2008-09-15T08:55:03.957</Date>\n",
            "    <Class>3</Class>\n",
            "    <TagBased>False</TagBased>\n",
            "  </row>\n",
            "  <row>\n",
            "    <index>4</index>\n",
            "    <Id>82951</Id>\n",
            "    <UserId>5196</UserId>\n",
            "    <Name>Teacher</Name>\n",
            "    <Date>2008-09-15T08:55:03.957</Date>\n",
            "    <Class>3</Class>\n",
            "    <TagBased>False</TagBased>\n",
            "  </row>\n",
            "</data>\n"
          ]
        }
      ]
    },
    {
      "cell_type": "markdown",
      "source": [
        "Caso seja interessante salvarmos o arquivo neste formato mesmo, fazemos:"
      ],
      "metadata": {
        "id": "Z0CKm7urBVGH"
      }
    },
    {
      "cell_type": "code",
      "source": [
        "pddf_xml.to_xml(\"formato1_de_xml.xml\")"
      ],
      "metadata": {
        "id": "c4MQ_8tWBU4V"
      },
      "execution_count": null,
      "outputs": []
    },
    {
      "cell_type": "markdown",
      "source": [
        "Perceba que a formatação final está correta, porém diferente da originalmente importada e com a adição da informação do index do dataframe pandas.\n",
        "\n",
        "**Original:**\n",
        "```xml\n",
        "<?xml version=\"1.0\" encoding=\"utf-8\"?>\n",
        "<Root>\n",
        "  <badges>\n",
        "    <row Id=\"82946\" UserId=\"3718\" Name=\"Teacher\" Date=\"2008-09-15T08:55:03.923\" Class=\"3\" TagBased=\"False\"/>\n",
        "    <row Id=\"82947\" UserId=\"994\" Name=\"Teacher\" Date=\"2008-09-15T08:55:03.957\" Class=\"3\" TagBased=\"False\"/>\n",
        "    <row Id=\"82949\" UserId=\"3893\" Name=\"Teacher\" Date=\"2008-09-15T08:55:03.957\" Class=\"3\" TagBased=\"False\"/>\n",
        "    <row Id=\"82950\" UserId=\"4591\" Name=\"Teacher\" Date=\"2008-09-15T08:55:03.957\" Class=\"3\" TagBased=\"False\"/>\n",
        "    <row Id=\"82951\" UserId=\"5196\" Name=\"Teacher\" Date=\"2008-09-15T08:55:03.957\" Class=\"3\" TagBased=\"False\"/>\n",
        "  </badges>\n",
        "</Root>\n",
        "```"
      ],
      "metadata": {
        "id": "4azceYk8bMTK"
      }
    },
    {
      "cell_type": "code",
      "source": [
        "!cat formato1_de_xml.xml"
      ],
      "metadata": {
        "colab": {
          "base_uri": "https://localhost:8080/"
        },
        "id": "EkPoIAfcBdTa",
        "outputId": "6baef73d-3186-411e-f53f-188b31fbb7d6"
      },
      "execution_count": null,
      "outputs": [
        {
          "output_type": "stream",
          "name": "stdout",
          "text": [
            "<?xml version='1.0' encoding='utf-8'?>\n",
            "<data>\n",
            "  <row>\n",
            "    <index>0</index>\n",
            "    <Id>82946</Id>\n",
            "    <UserId>3718</UserId>\n",
            "    <Name>Teacher</Name>\n",
            "    <Date>2008-09-15T08:55:03.923</Date>\n",
            "    <Class>3</Class>\n",
            "    <TagBased>False</TagBased>\n",
            "  </row>\n",
            "  <row>\n",
            "    <index>1</index>\n",
            "    <Id>82947</Id>\n",
            "    <UserId>994</UserId>\n",
            "    <Name>Teacher</Name>\n",
            "    <Date>2008-09-15T08:55:03.957</Date>\n",
            "    <Class>3</Class>\n",
            "    <TagBased>False</TagBased>\n",
            "  </row>\n",
            "  <row>\n",
            "    <index>2</index>\n",
            "    <Id>82949</Id>\n",
            "    <UserId>3893</UserId>\n",
            "    <Name>Teacher</Name>\n",
            "    <Date>2008-09-15T08:55:03.957</Date>\n",
            "    <Class>3</Class>\n",
            "    <TagBased>False</TagBased>\n",
            "  </row>\n",
            "  <row>\n",
            "    <index>3</index>\n",
            "    <Id>82950</Id>\n",
            "    <UserId>4591</UserId>\n",
            "    <Name>Teacher</Name>\n",
            "    <Date>2008-09-15T08:55:03.957</Date>\n",
            "    <Class>3</Class>\n",
            "    <TagBased>False</TagBased>\n",
            "  </row>\n",
            "  <row>\n",
            "    <index>4</index>\n",
            "    <Id>82951</Id>\n",
            "    <UserId>5196</UserId>\n",
            "    <Name>Teacher</Name>\n",
            "    <Date>2008-09-15T08:55:03.957</Date>\n",
            "    <Class>3</Class>\n",
            "    <TagBased>False</TagBased>\n",
            "  </row>\n",
            "</data>\n"
          ]
        }
      ]
    },
    {
      "cell_type": "markdown",
      "source": [
        "Como o resultado XML não foi no mesmo formato do arquivo original, devemos realizar algumas alterações."
      ],
      "metadata": {
        "id": "o3ygIjJSArGd"
      }
    },
    {
      "cell_type": "code",
      "source": [
        "# Lista as colunas do dataframe\n",
        "list(pddf_xml.columns.values)"
      ],
      "metadata": {
        "colab": {
          "base_uri": "https://localhost:8080/",
          "height": 183
        },
        "id": "XJ0awhYqVqPw",
        "outputId": "b84a8e2e-888e-4048-f06f-d533afacf01a"
      },
      "execution_count": null,
      "outputs": [
        {
          "output_type": "error",
          "ename": "NameError",
          "evalue": "ignored",
          "traceback": [
            "\u001b[0;31m---------------------------------------------------------------------------\u001b[0m",
            "\u001b[0;31mNameError\u001b[0m                                 Traceback (most recent call last)",
            "\u001b[0;32m<ipython-input-178-c88ff3b14879>\u001b[0m in \u001b[0;36m<module>\u001b[0;34m()\u001b[0m\n\u001b[1;32m      1\u001b[0m \u001b[0;31m# Lista as colunas do dataframe\u001b[0m\u001b[0;34m\u001b[0m\u001b[0;34m\u001b[0m\u001b[0;34m\u001b[0m\u001b[0m\n\u001b[0;32m----> 2\u001b[0;31m \u001b[0mlist\u001b[0m\u001b[0;34m(\u001b[0m\u001b[0mpddf_xml\u001b[0m\u001b[0;34m.\u001b[0m\u001b[0mcolumns\u001b[0m\u001b[0;34m.\u001b[0m\u001b[0mvalues\u001b[0m\u001b[0;34m)\u001b[0m\u001b[0;34m\u001b[0m\u001b[0;34m\u001b[0m\u001b[0m\n\u001b[0m",
            "\u001b[0;31mNameError\u001b[0m: name 'pddf_xml' is not defined"
          ]
        }
      ]
    },
    {
      "cell_type": "markdown",
      "source": [
        "Para retirar os dados da coluna index do arquivo xml e organizá-los por ATRIBUTOS do ELEMENTO row, fazemos:\n",
        "\n",
        "- attr_cols = list(df_xml.columns.values)\n",
        "  - Para configurar os atributos com os mesmo nomes das colunas do dataframe.\n",
        "- root_name = \"Root\"\n",
        "  - Para configurar o nome do elemento raiz como \"Root\"\n",
        "- row_name = \"row\"\n",
        "  - Para configurar o nome do elemento de linha como \"row\"\n",
        "- index = False\n",
        "  - Para que o arquivo xml não receba a coluna index criada automaticamento na criação do dataframe\n"
      ],
      "metadata": {
        "id": "SQfOzVi_B0hL"
      }
    },
    {
      "cell_type": "code",
      "source": [
        "pddf_xml.to_xml(\"formato2_de_xml.xml\", attr_cols=list(pddf_xml.columns.values), root_name=\"Root\", row_name=\"row\", index=False)\n",
        "!cat formato2_de_xml.xml"
      ],
      "metadata": {
        "colab": {
          "base_uri": "https://localhost:8080/"
        },
        "id": "FtlMtSxaxMM1",
        "outputId": "8d050301-5fb9-45d7-815f-1c1cc0b2adf0"
      },
      "execution_count": null,
      "outputs": [
        {
          "output_type": "stream",
          "name": "stdout",
          "text": [
            "<?xml version='1.0' encoding='utf-8'?>\n",
            "<Root>\n",
            "  <row Id=\"82946\" UserId=\"3718\" Name=\"Teacher\" Date=\"2008-09-15T08:55:03.923\" Class=\"3\" TagBased=\"False\"/>\n",
            "  <row Id=\"82947\" UserId=\"994\" Name=\"Teacher\" Date=\"2008-09-15T08:55:03.957\" Class=\"3\" TagBased=\"False\"/>\n",
            "  <row Id=\"82949\" UserId=\"3893\" Name=\"Teacher\" Date=\"2008-09-15T08:55:03.957\" Class=\"3\" TagBased=\"False\"/>\n",
            "  <row Id=\"82950\" UserId=\"4591\" Name=\"Teacher\" Date=\"2008-09-15T08:55:03.957\" Class=\"3\" TagBased=\"False\"/>\n",
            "  <row Id=\"82951\" UserId=\"5196\" Name=\"Teacher\" Date=\"2008-09-15T08:55:03.957\" Class=\"3\" TagBased=\"False\"/>\n",
            "</Root>\n"
          ]
        }
      ]
    },
    {
      "cell_type": "markdown",
      "source": [
        "Como ainda não conseguimos um resultado como o original (falta o elemento **badges**) :\n",
        "\n",
        "```xml\n",
        "<?xml version=\"1.0\" encoding=\"utf-8\"?>\n",
        "<Root>\n",
        "  <badges>\n",
        "    <row Id=\"82946\" UserId=\"3718\" Name=\"Teacher\" Date=\"2008-09-15T08:55:03.923\" Class=\"3\" TagBased=\"False\"/>\n",
        "    <row Id=\"82947\" UserId=\"994\" Name=\"Teacher\" Date=\"2008-09-15T08:55:03.957\" Class=\"3\" TagBased=\"False\"/>\n",
        "    <row Id=\"82949\" UserId=\"3893\" Name=\"Teacher\" Date=\"2008-09-15T08:55:03.957\" Class=\"3\" TagBased=\"False\"/>\n",
        "    <row Id=\"82950\" UserId=\"4591\" Name=\"Teacher\" Date=\"2008-09-15T08:55:03.957\" Class=\"3\" TagBased=\"False\"/>\n",
        "    <row Id=\"82951\" UserId=\"5196\" Name=\"Teacher\" Date=\"2008-09-15T08:55:03.957\" Class=\"3\" TagBased=\"False\"/>\n",
        "  </badges>\n",
        "</Root>\n",
        "```\n",
        "Deveremos usar um xsl:stylesheet para criarmos a formatação xml desejada:\n"
      ],
      "metadata": {
        "id": "Kf2liV54I8Wi"
      }
    },
    {
      "cell_type": "code",
      "source": [
        "meu_estilo = \\\n",
        "'''<xsl:stylesheet version=\"1.0\" xmlns:xsl=\"http://www.w3.org/1999/XSL/Transform\">\n",
        "      <xsl:output indent=\"yes\" encoding=\"utf-8\"/>\n",
        "  \n",
        "      <xsl:template match=\"data\">\n",
        "          <Root>\n",
        "              <badges>\n",
        "                  <xsl:apply-templates select=\"row\"/>\n",
        "              </badges>\n",
        "          </Root>\n",
        "      </xsl:template>\n",
        "\n",
        "      <xsl:template match=\"row\">\n",
        "          <xsl:element name=\"row\">\n",
        "              <xsl:attribute name=\"Id\"><xsl:value-of select=\"Id\"/></xsl:attribute>\n",
        "              <xsl:attribute name=\"UserId\"><xsl:value-of select=\"UserId\"/></xsl:attribute>\n",
        "              <xsl:attribute name=\"Name\"><xsl:value-of select=\"Name\"/></xsl:attribute>\n",
        "              <xsl:attribute name=\"Date\"><xsl:value-of select=\"Date\"/></xsl:attribute>\n",
        "              <xsl:attribute name=\"Class\"><xsl:value-of select=\"Class\"/></xsl:attribute>\n",
        "              <xsl:attribute name=\"TagBased\"><xsl:value-of select=\"TagBased\"/></xsl:attribute>\n",
        "          </xsl:element>\n",
        "      </xsl:template>\n",
        "</xsl:stylesheet>'''"
      ],
      "metadata": {
        "id": "PjC_d8ig9LQQ"
      },
      "execution_count": null,
      "outputs": []
    },
    {
      "cell_type": "markdown",
      "source": [
        "Como agora temos uma string com código xsl, não precisamos mais definir as colunas de atributos e nem os nomes de root e row."
      ],
      "metadata": {
        "id": "SvqSHlZpK9Ky"
      }
    },
    {
      "cell_type": "code",
      "source": [
        "pddf_xml.to_xml(\"formato_final_de_xml.xml\", index=False, stylesheet=meu_estilo)\n",
        "!cat formato_final_de_xml.xml"
      ],
      "metadata": {
        "colab": {
          "base_uri": "https://localhost:8080/"
        },
        "id": "voaD8h_UKPf3",
        "outputId": "e488927f-226e-45da-b93e-b0ccf17ece0c"
      },
      "execution_count": null,
      "outputs": [
        {
          "output_type": "stream",
          "name": "stdout",
          "text": [
            "<?xml version=\"1.0\" encoding=\"utf-8\"?>\n",
            "<Root>\n",
            "  <badges>\n",
            "    <row Id=\"82946\" UserId=\"3718\" Name=\"Teacher\" Date=\"2008-09-15T08:55:03.923\" Class=\"3\" TagBased=\"False\"/>\n",
            "    <row Id=\"82947\" UserId=\"994\" Name=\"Teacher\" Date=\"2008-09-15T08:55:03.957\" Class=\"3\" TagBased=\"False\"/>\n",
            "    <row Id=\"82949\" UserId=\"3893\" Name=\"Teacher\" Date=\"2008-09-15T08:55:03.957\" Class=\"3\" TagBased=\"False\"/>\n",
            "    <row Id=\"82950\" UserId=\"4591\" Name=\"Teacher\" Date=\"2008-09-15T08:55:03.957\" Class=\"3\" TagBased=\"False\"/>\n",
            "    <row Id=\"82951\" UserId=\"5196\" Name=\"Teacher\" Date=\"2008-09-15T08:55:03.957\" Class=\"3\" TagBased=\"False\"/>\n",
            "  </badges>\n",
            "</Root>\n"
          ]
        }
      ]
    },
    {
      "cell_type": "markdown",
      "source": [
        "De fato, não precisamos de nenhum outro argumento além do nome do arquivo de destino e do nome do stylesheet, que pode ser um arquivo no formato xsl ou uma string com o código xsl, como neste exemplo."
      ],
      "metadata": {
        "id": "EYzcumDqLXVW"
      }
    },
    {
      "cell_type": "code",
      "source": [
        "xml_str = pddf_xml.to_xml(stylesheet=meu_estilo)\n",
        "print(xml_str)"
      ],
      "metadata": {
        "colab": {
          "base_uri": "https://localhost:8080/"
        },
        "id": "i8o2Gtn5IX26",
        "outputId": "221f9298-6300-41a4-aefd-8f3cd2cb67a4"
      },
      "execution_count": null,
      "outputs": [
        {
          "output_type": "stream",
          "name": "stdout",
          "text": [
            "<?xml version=\"1.0\" encoding=\"utf-8\"?>\n",
            "<Root>\n",
            "  <badges>\n",
            "    <row Id=\"82946\" UserId=\"3718\" Name=\"Teacher\" Date=\"2008-09-15T08:55:03.923\" Class=\"3\" TagBased=\"False\"/>\n",
            "    <row Id=\"82947\" UserId=\"994\" Name=\"Teacher\" Date=\"2008-09-15T08:55:03.957\" Class=\"3\" TagBased=\"False\"/>\n",
            "    <row Id=\"82949\" UserId=\"3893\" Name=\"Teacher\" Date=\"2008-09-15T08:55:03.957\" Class=\"3\" TagBased=\"False\"/>\n",
            "    <row Id=\"82950\" UserId=\"4591\" Name=\"Teacher\" Date=\"2008-09-15T08:55:03.957\" Class=\"3\" TagBased=\"False\"/>\n",
            "    <row Id=\"82951\" UserId=\"5196\" Name=\"Teacher\" Date=\"2008-09-15T08:55:03.957\" Class=\"3\" TagBased=\"False\"/>\n",
            "  </badges>\n",
            "</Root>\n"
          ]
        }
      ]
    },
    {
      "cell_type": "markdown",
      "source": [
        "O mesmo resultado utilizando um arquivo de estilo externo:"
      ],
      "metadata": {
        "id": "RyszTFDdMU8o"
      }
    },
    {
      "cell_type": "code",
      "source": [
        "xml_str = pddf_xml.to_xml(stylesheet=\"xml_format.xsl\")\n",
        "print(xml_str)"
      ],
      "metadata": {
        "colab": {
          "base_uri": "https://localhost:8080/"
        },
        "id": "IaPkOG4TLwPE",
        "outputId": "8b56aa8c-de71-49e0-e4e0-275b5e8a529c"
      },
      "execution_count": null,
      "outputs": [
        {
          "output_type": "stream",
          "name": "stdout",
          "text": [
            "<?xml version=\"1.0\" encoding=\"utf-8\"?>\n",
            "<Root>\n",
            "  <badges>\n",
            "    <row Id=\"82946\" UserId=\"3718\" Name=\"Teacher\" Date=\"2008-09-15T08:55:03.923\" Class=\"3\" TagBased=\"False\"/>\n",
            "    <row Id=\"82947\" UserId=\"994\" Name=\"Teacher\" Date=\"2008-09-15T08:55:03.957\" Class=\"3\" TagBased=\"False\"/>\n",
            "    <row Id=\"82949\" UserId=\"3893\" Name=\"Teacher\" Date=\"2008-09-15T08:55:03.957\" Class=\"3\" TagBased=\"False\"/>\n",
            "    <row Id=\"82950\" UserId=\"4591\" Name=\"Teacher\" Date=\"2008-09-15T08:55:03.957\" Class=\"3\" TagBased=\"False\"/>\n",
            "    <row Id=\"82951\" UserId=\"5196\" Name=\"Teacher\" Date=\"2008-09-15T08:55:03.957\" Class=\"3\" TagBased=\"False\"/>\n",
            "  </badges>\n",
            "</Root>\n"
          ]
        }
      ]
    },
    {
      "cell_type": "markdown",
      "source": [
        "### JSON com PANDAS"
      ],
      "metadata": {
        "id": "KvkTQ3drC8tZ"
      }
    },
    {
      "cell_type": "markdown",
      "source": [
        "O arquivo de exemplo é oriundo de uma coleta real de dados do Twitter com os filtros:\n",
        "- Data entre 02/05/2022 e 08/05/2022\n",
        "- Palavra chave: COVID.\n",
        "\n",
        "Estrutura do nosso arquivo tweets_colected_May_2_to_8_2022_0515190324.json:\n",
        "\n",
        "```json\n",
        "{\n",
        "    \"data\": [\n",
        "        {\n",
        "            \"created_at\": data e hora,\n",
        "            \"id\": número,\n",
        "            \"text\": texto do tweet\n",
        "        },\n",
        "        {\n",
        "            \"created_at\": data e hora,\n",
        "            \"id\": número,\n",
        "            \"text\": texto do tweet\n",
        "        }\n",
        "    ],\n",
        "    \"meta\": {\n",
        "        \"newest_id\": número do primeiro tweet coletado,\n",
        "        \"oldest_id\": número do último tweet coletado,\n",
        "        \"result_count\": quantidade de tweets coletados\n",
        "    }\n",
        "}\n",
        "```"
      ],
      "metadata": {
        "id": "PCjqWrGXHR8f"
      }
    },
    {
      "cell_type": "code",
      "source": [
        "!cat tweets_colected_May_2_to_8_2022_0515190324.json"
      ],
      "metadata": {
        "colab": {
          "base_uri": "https://localhost:8080/"
        },
        "id": "oxpyIpacEaNa",
        "outputId": "07991465-9b8d-490e-db7e-7ae3b08eab99"
      },
      "execution_count": null,
      "outputs": [
        {
          "output_type": "stream",
          "name": "stdout",
          "text": [
            "{\n",
            "    \"data\": [\n",
            "        {\n",
            "            \"created_at\": \"2021-05-08T21:00:00.000Z\",\n",
            "            \"id\": \"1391135820371931137\",\n",
            "            \"text\": \"#Cuba relatou mais de 1.000 novas infec\\u00e7\\u00f5es por #COVID-19 pelo terceiro dia consecutivo, com 1.060 casos, totalizando 112.714, afirmou o Minist\\u00e9rio da Sa\\u00fade P\\u00fablica, acrescentando que houve outras sete mortes relatadas, elevando o total para 701.\\n\\nhttps://t.co/U05loLcfTH https://t.co/ahLZ9IrxOD\"\n",
            "        },\n",
            "        {\n",
            "            \"created_at\": \"2021-05-08T20:30:00.000Z\",\n",
            "            \"id\": \"1391128270721241089\",\n",
            "            \"text\": \"A #Argentina relatou na quinta-feira 24.086 novas infec\\u00e7\\u00f5es por #COVID-19 e 399 mortes nas \\u00faltimas 24 horas, elevando a contagem para 3.095.582 casos e 66.263 mortes.\\n\\nhttps://t.co/xZKWs97L3S https://t.co/WIZbblWMI7\"\n",
            "        },\n",
            "        {\n",
            "            \"created_at\": \"2021-05-08T20:02:15.000Z\",\n",
            "            \"id\": \"1391121287343452165\",\n",
            "            \"text\": \"#COVID: #NUOVA #ONDATA di #CONTAGI entro #FINE #MAGGIO, #ESTATE a #RISCHIO? #Parla il prof. #Andrea #CRISANTI https://t.co/dffuZ6tTl8\"\n",
            "        },\n",
            "        {\n",
            "            \"created_at\": \"2021-05-08T19:45:52.000Z\",\n",
            "            \"id\": \"1391117164141219840\",\n",
            "            \"text\": \"Estado de S\\u00e3o Paulo ultrapassa 100 mil mortes por covid-19\\n\\n#SP #covid #calamidade #100milmortes \\n\\nhttps://t.co/ke6AdlOmx6\"\n",
            "        },\n",
            "        {\n",
            "            \"created_at\": \"2021-05-08T18:30:00.000Z\",\n",
            "            \"id\": \"1391098071388332039\",\n",
            "            \"text\": \"A Organiza\\u00e7\\u00e3o Mundial da Sa\\u00fade (#OMS) validou nesta sexta-feira para uso emergencial a vacina BBIBP-CorV #COVID-19 desenvolvida pela empresa chinesa Sinopharm.\\n\\nhttps://t.co/lGDft7sejf https://t.co/GyaUnJTfIY\"\n",
            "        },\n",
            "        {\n",
            "            \"created_at\": \"2021-05-08T17:53:52.000Z\",\n",
            "            \"id\": \"1391088980268134402\",\n",
            "            \"text\": \"\\u2018Banco do crime\\u2019 \\u00e9 suspeito de lavar dinheiro da Covid no Rio #BancodoCrime #Covid #Witzel #PlenoNews\\n\\nhttps://t.co/Ii0oBOCRZk\"\n",
            "        },\n",
            "        {\n",
            "            \"created_at\": \"2021-05-08T17:25:00.000Z\",\n",
            "            \"id\": \"1391081713661399043\",\n",
            "            \"text\": \"A s\\u00e9rie de webin\\u00e1rios intitulada \\\"Coopera\\u00e7\\u00e3o Internacional na Medicina Tradicional contra #COVID-19\\\" teve in\\u00edcio na quarta-feira, dia 5 de maio, contando com a participa\\u00e7\\u00e3o de autoridades chinesas e brasileiras em sua cerim\\u00f4nia de abertura.\\n\\nhttps://t.co/cIJz1j1M8N https://t.co/HzzHueW875\"\n",
            "        },\n",
            "        {\n",
            "            \"created_at\": \"2021-05-08T15:39:14.000Z\",\n",
            "            \"id\": \"1391055096482607105\",\n",
            "            \"text\": \"Com a pandemia de #Covid e o consequente isolamento social, a viol\\u00eancia dom\\u00e9stica e familiar cresceu e precisamos de a\\u00e7\\u00f5es para ajudar a combater esse problema e amparar as mulheres. Votei sim! #CombateAViolenciaContraMulher #NaoAViolenciaContraAMulher\"\n",
            "        },\n",
            "        {\n",
            "            \"created_at\": \"2021-05-08T14:53:04.000Z\",\n",
            "            \"id\": \"1391043478709227524\",\n",
            "            \"text\": \"\\u00cdndia supera 4.000 mortes di\\u00e1rias por covid e debate sobre patentes continua\\n\\n#India #covid #mortes #patentes \\n\\nhttps://t.co/xxqbQaZ7AU\"\n",
            "        },\n",
            "        {\n",
            "            \"created_at\": \"2021-05-08T14:00:00.000Z\",\n",
            "            \"id\": \"1391030126507216901\",\n",
            "            \"text\": \"Este ser\\u00e1 nosso segundo Dia das M\\u00e3es marcado pela #covid. Embora a saudade seja grande, neste momento, o maior ato de amor \\u00e9 ficar em casa. Se for visitar a fam\\u00edlia, siga as recomenda\\u00e7\\u00f5es abaixo. Aos que perderam figuras maternas para essa doen\\u00e7a incans\\u00e1vel, nossos sentimentos. https://t.co/3caoJ8K5vR\"\n",
            "        },\n",
            "        {\n",
            "            \"created_at\": \"2021-05-08T11:49:33.000Z\",\n",
            "            \"id\": \"1390997297115406337\",\n",
            "            \"text\": \"O #PapaFrancisco enviou uma videomensagem para o #VaxLive\\\", evento em Los Angeles que viu o mundo do espet\\u00e1culo e das institui\\u00e7\\u00f5es apoiar a distribui\\u00e7\\u00e3o justa das #vacinas contra a #Covid: inclus\\u00e3o a fim de vencer \\\"a variante da indiferen\\u00e7a\\\".\\nhttps://t.co/Yh15J2JhyR\"\n",
            "        },\n",
            "        {\n",
            "            \"created_at\": \"2021-05-08T10:57:59.000Z\",\n",
            "            \"id\": \"1390984320735719424\",\n",
            "            \"text\": \"No #CidadeseSolu\\u00e7\\u00f5es deste domingo, saiba por que o desmatamento, o tr\\u00e1fico de animais silvestres e a produ\\u00e7\\u00e3o de prote\\u00edna animal tornam o Brasil vulner\\u00e1vel ao aparecimento de novos v\\u00edrus, eventualmente letais. Amanh\\u00e3, \\u00e0s 21h, na @GloboNews #pandemia #virus #Covid https://t.co/VwXcN9SHRs\"\n",
            "        },\n",
            "        {\n",
            "            \"created_at\": \"2021-05-08T00:27:03.000Z\",\n",
            "            \"id\": \"1390825540177866754\",\n",
            "            \"text\": \"Projeto da legenda aguarda an\\u00e1lise na Comiss\\u00e3o de Seguridade Social e Fam\\u00edlia. Leia: https://t.co/LacHBKkddn #600At\\u00e9OFimDaPandemia #Aux\\u00edlioEmergencial #Covid #Pandemia #PCdoB https://t.co/9nJQ3Wbaa7\"\n",
            "        },\n",
            "        {\n",
            "            \"created_at\": \"2021-05-08T00:12:43.000Z\",\n",
            "            \"id\": \"1390821930815610880\",\n",
            "            \"text\": \"Projeto da legenda aguarda an\\u00e1lise na Comiss\\u00e3o de Seguridade Social e Fam\\u00edlia. Leia: https://t.co/Bv9SIcoEiy #600At\\u00e9OFimDaPandemia #Aux\\u00edlioEmergencial #Covid #Pandemia #PCdoB #PCdoBnaC\\u00e2mara https://t.co/E50FtSZEYr\"\n",
            "        },\n",
            "        {\n",
            "            \"created_at\": \"2021-05-07T23:33:44.000Z\",\n",
            "            \"id\": \"1390812122217652230\",\n",
            "            \"text\": \"Ibuprofeno n\\u00e3o agrava infec\\u00e7\\u00e3o por covid-19, aponta estudo\\n\\n#covid #Ibuprofeno #estudo \\n\\nhttps://t.co/DsHonHpXFO\"\n",
            "        },\n",
            "        {\n",
            "            \"created_at\": \"2021-05-07T22:46:15.000Z\",\n",
            "            \"id\": \"1390800170162479106\",\n",
            "            \"text\": \"\\ud83e\\udda0 Brasil confirma 419 mil mortes por #covid-19; s\\u00e3o 2.165 em 24 horas\\n\\nhttps://t.co/Rj04rd6hGN\"\n",
            "        },\n",
            "        {\n",
            "            \"created_at\": \"2021-05-07T22:36:11.000Z\",\n",
            "            \"id\": \"1390797638203842561\",\n",
            "            \"text\": \"\\u26a1\\ufe0fA opera\\u00e7\\u00e3o policial mais letal da hist\\u00f3ria do Rio de Janeiro. O atentado a uma creche em Santa Catarina. Os primeiros depoimentos da CPI da #Covid. A morte do humorista Paulo Gustavo. E mais. #ExtratosDaSemana\\n\\nhttps://t.co/bLkwDsiiFf\"\n",
            "        },\n",
            "        {\n",
            "            \"created_at\": \"2021-05-07T22:06:42.000Z\",\n",
            "            \"id\": \"1390790216974323720\",\n",
            "            \"text\": \"Covid: S\\u00e9rvia vai pagar R$160 a cidad\\u00e3os que se vacinarem\\n#Covid #Servia #Vacina #PlenoNews \\nhttps://t.co/7LyjuMGUdT\"\n",
            "        },\n",
            "        {\n",
            "            \"created_at\": \"2021-05-07T21:07:46.000Z\",\n",
            "            \"id\": \"1390775389220450305\",\n",
            "            \"text\": \"Covid-19: PF investiga desvio de \\u2018kit intuba\\u00e7\\u00e3o\\u2019 no Amap\\u00e1\\n#Covid #PoliciaFederal #Amapa #KitIntuba\\u00e7ao #PlenoNews \\nhttps://t.co/W8gvd6yVIy\"\n",
            "        },\n",
            "        {\n",
            "            \"created_at\": \"2021-05-07T20:03:48.000Z\",\n",
            "            \"id\": \"1390759291209097219\",\n",
            "            \"text\": \"Com as libera\\u00e7\\u00f5es por muitos lados, teremos novos fechamentos daqui algumas semanas?\\n\\n#UseMascara\\n#vacinasim \\n#COVID19\\n#Covid\"\n",
            "        },\n",
            "        {\n",
            "            \"created_at\": \"2021-05-07T20:00:02.000Z\",\n",
            "            \"id\": \"1390758340758630402\",\n",
            "            \"text\": \"A @camaradeputados aprovou dispensa de licita\\u00e7\\u00e3o para compra de insumos, medicamentos, bens e servi\\u00e7os de engenharia pra tratamento hospitalar de pacientes de #Covid-19 \\nSaiba como vai funcionar com @deputadoCelio no #PalavraAberta: https://t.co/EF1Xe4HCLn\\n\\n#combateaocoronavirus https://t.co/1HaChxysSw\"\n",
            "        },\n",
            "        {\n",
            "            \"created_at\": \"2021-05-07T19:30:00.000Z\",\n",
            "            \"id\": \"1390750783575003137\",\n",
            "            \"text\": \"A Prov\\u00edncia de #Hubei, no centro da #China, uma vez duramente atingida pela #COVID-19, administrou mais de 20,16 milh\\u00f5es de doses de vacinas contra o coronav\\u00edrus at\\u00e9 quarta-feira, anunciou a comiss\\u00e3o provincial de sa\\u00fade nesta quinta-feira.\\n\\nhttps://t.co/O8eLRb7sAu https://t.co/iKg0HCg35r\"\n",
            "        },\n",
            "        {\n",
            "            \"created_at\": \"2021-05-07T19:00:01.000Z\",\n",
            "            \"id\": \"1390743238479335428\",\n",
            "            \"text\": \"O aeroporto de #Wuhan, capital de #Hubei, no centro da #China, que foi duramente atingida pela epidemia de #COVID-19 no in\\u00edcio do ano passado, atendeu 87 mil passageiros nesta quarta-feira, um recorde di\\u00e1rio desde o in\\u00edcio das opera\\u00e7\\u00f5es em 1995.\\n\\nhttps://t.co/mdX52T8GXo https://t.co/z0rC9FAIQe\"\n",
            "        },\n",
            "        {\n",
            "            \"created_at\": \"2021-05-07T17:00:00.000Z\",\n",
            "            \"id\": \"1390713036357443589\",\n",
            "            \"text\": \"A parte continental chinesa reportou nesta quinta-feira 13 novos casos de #COVID-19, todos importados, informou a Comiss\\u00e3o Nacional de Sa\\u00fade em seu relat\\u00f3rio di\\u00e1rio na sexta-feira.\\n\\nhttps://t.co/AL0BXc2Zwj https://t.co/E079TzNxRC\"\n",
            "        },\n",
            "        {\n",
            "            \"created_at\": \"2021-05-07T16:44:18.000Z\",\n",
            "            \"id\": \"1390709082298978306\",\n",
            "            \"text\": \"\\ud83e\\udd73 #NoEpicentro, da @agencialupa, t\\u00e1 l\\u00e1, finalistas do @sigmaawards. Visitem https://t.co/yL3mNO5RJd e experimentem essa dram\\u00e1tica visualiza\\u00e7\\u00e3o de dados sobre #COVID19 #covid #pandemia https://t.co/L7V7Gdripo\"\n",
            "        },\n",
            "        {\n",
            "            \"created_at\": \"2021-05-07T16:31:14.000Z\",\n",
            "            \"id\": \"1390705794186944515\",\n",
            "            \"text\": \"Pessoas que j\\u00e1 tiveram dengue tem duas vezes mais chance de desenvolver forma sintom\\u00e1tica da covid\\n\\n#Pessoas #dengue #duasvezes #covid #coronav\\u00edrus\\nhttps://t.co/PMipD1C157\"\n",
            "        },\n",
            "        {\n",
            "            \"created_at\": \"2021-05-07T16:05:55.000Z\",\n",
            "            \"id\": \"1390699422850424833\",\n",
            "            \"text\": \"Nova cepa do coronav\\u00edrus encontrada no Rio est\\u00e1 presente em 5,85% das amostras\\n\\n#coronav\\u00edrus #cepa #novacepa #covid #Rio #RiodeJaneiro \\nhttps://t.co/dgQqaK4GTq\"\n",
            "        },\n",
            "        {\n",
            "            \"created_at\": \"2021-05-07T15:21:18.000Z\",\n",
            "            \"id\": \"1390688195914997768\",\n",
            "            \"text\": \"Bolsonaro diz a senadores da CPI da Covid: \\u201cN\\u00e3o encham o saco\\u201d\\n#Bolsonaro #CPI #Covid #PlenoNews\\nhttps://t.co/lsvGSSzR31\"\n",
            "        },\n",
            "        {\n",
            "            \"created_at\": \"2021-05-07T15:09:20.000Z\",\n",
            "            \"id\": \"1390685184685707265\",\n",
            "            \"text\": \"Chegamos a 500 mil doses de vacinas aplicadas contra a #covid. Seguimos firmes na imuniza\\u00e7\\u00e3o das pessoas e na orienta\\u00e7\\u00e3o pra manterem os cuidados de uso de m\\u00e1scara, higieniza\\u00e7\\u00e3o das m\\u00e3os e distanciamento. @prefrecife https://t.co/lOX5tuHWc3\"\n",
            "        },\n",
            "        {\n",
            "            \"created_at\": \"2021-05-07T13:42:31.000Z\",\n",
            "            \"id\": \"1390663335797002240\",\n",
            "            \"text\": \"Rio flexibiliza medidas contra Covid, libera praias e acaba com toque de recolher\\n\\n#Rio #Covid #medidas #toquederecolher \\nhttps://t.co/WRtRrPmrg3\"\n",
            "        },\n",
            "        {\n",
            "            \"created_at\": \"2021-05-07T13:12:04.000Z\",\n",
            "            \"id\": \"1390655674087059461\",\n",
            "            \"text\": \"A visita ocorre dois dias ap\\u00f3s o pr\\u00f3prio general alegar que a suspeita de estar com #coronav\\u00edrus o impediria de comparecer \\u00e0 #CPIdaCovid. #Covid #Pandemia https://t.co/MqESJCjvZd\"\n",
            "        },\n",
            "        {\n",
            "            \"created_at\": \"2021-05-07T13:09:32.000Z\",\n",
            "            \"id\": \"1390655034719887363\",\n",
            "            \"text\": \"Ser\\u00e3o distribu\\u00eddos 150 cilindros para 16 cidades selecionadas nos Estados onde a nossa mineradora tem \\u00e1reas de atua\\u00e7\\u00e3o.\\n#angloamerican #oxig\\u00eanio #Covid #comunidadesanfitri\\u00e3s\"\n",
            "        },\n",
            "        {\n",
            "            \"created_at\": \"2021-05-07T07:07:00.000Z\",\n",
            "            \"id\": \"1390563803134300160\",\n",
            "            \"text\": \"\\ud83c\\uddfa\\ud83c\\uddf8 #Vaccins anti-#Covid: ce qui a convaincu #JoeBiden \\u2013 par @alexisbuisson https://t.co/7UYh1phgUV\"\n",
            "        },\n",
            "        {\n",
            "            \"created_at\": \"2021-05-06T23:37:01.000Z\",\n",
            "            \"id\": \"1390450561879789568\",\n",
            "            \"text\": \"Presidente do Grupo Parlamentar Brasil-China, deputado @Daniel_PCdoB (BA), recha\\u00e7ou a postura do presidente da Rep\\u00fablica. Leia: https://t.co/FEXPbr4h39 #Covid #CPIdaCovid #VacinaJ\\u00e1 #China #Brasil  #ForaBolsonaro #PCdoB https://t.co/upobbIh9dG\"\n",
            "        },\n",
            "        {\n",
            "            \"created_at\": \"2021-05-06T23:27:28.000Z\",\n",
            "            \"id\": \"1390448157901967361\",\n",
            "            \"text\": \"Presidente do Grupo Parlamentar Brasil-China, deputado @Daniel_PCdoB (BA), recha\\u00e7ou a postura do presidente da Rep\\u00fablica. Leia: https://t.co/S84aAFnP0a #Covid #CPIdaCovid #VacinaJ\\u00e1 #China #Brasil  #ForaBolsonaro #PCdoB #PCdoBnaC\\u00e2mara https://t.co/wTShFQj9HG\"\n",
            "        },\n",
            "        {\n",
            "            \"created_at\": \"2021-05-06T23:26:03.000Z\",\n",
            "            \"id\": \"1390447800081600514\",\n",
            "            \"text\": \"Com a #Covid, estamos vendo o problema de ser dependente de insumos importados p/ a produ\\u00e7\\u00e3o de vacinas. P/ ajudsr nisso provamos o PL 4209/2019, q d\\u00e1 prioridade p/ an\\u00e1lise de pedido de registro de medicamentos q contenham o insumo farmac\\u00eautico ativo (IFA) de origem nacional. https://t.co/Q9LqUPDauJ\"\n",
            "        },\n",
            "        {\n",
            "            \"created_at\": \"2021-05-06T23:00:00.000Z\",\n",
            "            \"id\": \"1390441244548079619\",\n",
            "            \"text\": \"#Covid-19: MPT destina recursos ao Complexo Universit\\u00e1rio Hospitalar da UFPA\\n\\ud83d\\udcbbhttps://t.co/iBOuGtmL2G\\n\\ud83d\\udcf7 Freepik https://t.co/fP9Wl9Pjyy\"\n",
            "        },\n",
            "        {\n",
            "            \"created_at\": \"2021-05-06T22:56:51.000Z\",\n",
            "            \"id\": \"1390440451036139520\",\n",
            "            \"text\": \"#Covid | Estimativas de subnotifica\\u00e7\\u00e3o feitas pela @fiocruz d\\u00e3o conta de mais de meio milh\\u00e3o de mortes.\\n\\n+ Sem coordena\\u00e7\\u00e3o, aus\\u00eancia de vigil\\u00e2ncia epidemiol\\u00f3gica implicam nesse cen\\u00e1rio incerto.\\n\\nhttps://t.co/2GckuH5Fb4\"\n",
            "        },\n",
            "        {\n",
            "            \"created_at\": \"2021-05-06T21:54:25.000Z\",\n",
            "            \"id\": \"1390424740393795586\",\n",
            "            \"text\": \"Vice-governador do Amazonas afirma que medida defendida por Bolsonaro levou Manaus ao colapso. Leia: https://t.co/ATlbkmEccn #Pandemia #Covid #Amazonas #ForaBolsonaro #PCdoB https://t.co/z9UfB0TFFg\"\n",
            "        },\n",
            "        {\n",
            "            \"created_at\": \"2021-05-06T21:35:41.000Z\",\n",
            "            \"id\": \"1390420025526394880\",\n",
            "            \"text\": \"Vice-governador do Amazonas afirma que medida defendida por Bolsonaro levou Manaus ao colapso. Leia: https://t.co/DGAGeqV4Jz #Pandemia #Covid #Amazonas #ForaBolsonaro #PCdoB #PCdoBnaC\\u00e2mara https://t.co/raqJj2p2GH\"\n",
            "        },\n",
            "        {\n",
            "            \"created_at\": \"2021-05-06T21:30:00.000Z\",\n",
            "            \"id\": \"1390418596241842177\",\n",
            "            \"text\": \"A parte continental chinesa reportou nesta quarta-feira cinco novos casos de #COVID-19, todos importados, informou a Comiss\\u00e3o Nacional de Sa\\u00fade em seu relat\\u00f3rio di\\u00e1rio nesta quinta-feira.\\n\\nhttps://t.co/Sgup5MP8sd https://t.co/28h3cfVX8h\"\n",
            "        },\n",
            "        {\n",
            "            \"created_at\": \"2021-05-06T21:29:27.000Z\",\n",
            "            \"id\": \"1390418456248471559\",\n",
            "            \"text\": \"Deputados recha\\u00e7am postura de Marcelo Queiroga em depoimento \\u00e0 CPI da Covid. Leia: https://t.co/fiMlXWeXSM #CPIdaCovid #VacinaJ\\u00e1 #Covid #ForaBolsonaro #PCdoB https://t.co/0g9aNCuKLU\"\n",
            "        },\n",
            "        {\n",
            "            \"created_at\": \"2021-05-06T21:00:00.000Z\",\n",
            "            \"id\": \"1390411044326187012\",\n",
            "            \"text\": \"Uma terceira onda de surto da #COVID-19 na #\\u00cdndia \\u00e9 inevit\\u00e1vel devido aos elevados n\\u00edveis do v\\u00edrus em circula\\u00e7\\u00e3o, disse na quarta-feira o principal conselheiro cient\\u00edfico do governo federal da \\u00cdndia, K. Vijay Raghavan.\\n\\nhttps://t.co/0zsha5HlEH https://t.co/hMOqXrSveZ\"\n",
            "        },\n",
            "        {\n",
            "            \"created_at\": \"2021-05-06T19:32:16.000Z\",\n",
            "            \"id\": \"1390388966566793218\",\n",
            "            \"text\": \"#COVID: #NUOVA #ONDATA di #CONTAGI entro #FINE #MAGGIO, #ESTATE a #RISCHIO? #Parla il prof. #Andrea #CRISANTI https://t.co/TymJBiM7ys\"\n",
            "        },\n",
            "        {\n",
            "            \"created_at\": \"2021-05-06T19:30:00.000Z\",\n",
            "            \"id\": \"1390388397064216576\",\n",
            "            \"text\": \"O @minsaude liberou hoje 284 leitos de suporte ventilat\\u00f3rio pulmonar para tratamento de pacientes com #covid-19. Recursos beneficiar\\u00e3o dez estados e o Distrito Federal. Conhe\\u00e7a mais detalhes: https://t.co/klpFfDG9bB.\\n\\ud83d\\udcf7Marcello Casal Jr/ Ag\\u00eancia Brasil https://t.co/Mj6ANUYg22\"\n",
            "        },\n",
            "        {\n",
            "            \"created_at\": \"2021-05-06T18:24:39.000Z\",\n",
            "            \"id\": \"1390371951034736642\",\n",
            "            \"text\": \"Deputados recha\\u00e7am postura de Marcelo Queiroga em depoimento \\u00e0 CPI da Covid. Leia: https://t.co/BOHKkuFCTo #CPIdaCovid #VacinaJ\\u00e1 #Covid #ForaBolsonaro #PCdoB #PCdoBnaC\\u00e2mara https://t.co/oCSi5J5L4a\"\n",
            "        },\n",
            "        {\n",
            "            \"created_at\": \"2021-05-06T17:41:50.000Z\",\n",
            "            \"id\": \"1390361175670591489\",\n",
            "            \"text\": \".@OPASOMSBrasil : #Am\\u00e9ricas ter\\u00e3o que aumentar n\\u00famero de leitos de UTI se tend\\u00eancia permanecer; 40% dos \\u00f3bitos, em n\\u00edvel global, na semana passada, ocorreram na regi\\u00e3o; muitos #jovens est\\u00e3o perdendo a vida ap\\u00f3s disparadade novos casos de #Covid #vacinas \\n\\nhttps://t.co/AgMnimin1K\"\n",
            "        },\n",
            "        {\n",
            "            \"created_at\": \"2021-05-06T17:30:00.000Z\",\n",
            "            \"id\": \"1390358197412589578\",\n",
            "            \"text\": \"O n\\u00famero de casos confirmados de #COVID-19 no continente africano chegou a 4.578.902 at\\u00e9 ter\\u00e7a-feira, informou o Centro da \\u00c1frica para o Controle e a Preven\\u00e7\\u00e3o de Doen\\u00e7as (CDC da \\u00c1frica).\\n\\nhttps://t.co/RaYqe1XijS https://t.co/ZxIQBMKUYD\"\n",
            "        },\n",
            "        {\n",
            "            \"created_at\": \"2021-05-06T16:24:01.000Z\",\n",
            "            \"id\": \"1390341592687464448\",\n",
            "            \"text\": \"#CPIdaCovid I Eduardo Braga: Essa CPI foi instalada com o princ\\u00edpio de salvar vidas. Mais de 414 mil brasileiros j\\u00e1 morreram por conta da #covid. No caso do Amazonas, mais de 12 mil mortos, quase 2 vezes a m\\u00e9dia nacional. O senhor n\\u00e3o acha essa uma situa\\u00e7\\u00e3o extrema?\"\n",
            "        },\n",
            "        {\n",
            "            \"created_at\": \"2021-05-06T16:00:00.000Z\",\n",
            "            \"id\": \"1390335546996649984\",\n",
            "            \"text\": \"O presidente dos Estados Unidos, Joe Biden, estabeleceu nesta ter\\u00e7a-feira o objetivo de que 70% da popula\\u00e7\\u00e3o adulta do pa\\u00eds receba pelo menos uma dose da vacina contra a #COVID-19 antes de 4 de julho.\\n\\nhttps://t.co/zeZDgY4pGc https://t.co/8ZuPoWfrSn\"\n",
            "        },\n",
            "        {\n",
            "            \"created_at\": \"2021-05-06T15:47:00.000Z\",\n",
            "            \"id\": \"1390332277654269952\",\n",
            "            \"text\": \"G20 prev\\u00ea \\u201cfinanciamento total\\u201d de compra de vacinas pela OMS\\n#G20 #Vacina #OMS #Covid #PlenoNews\\nhttps://t.co/rLpEwbZlHx\"\n",
            "        },\n",
            "        {\n",
            "            \"created_at\": \"2021-05-06T15:34:31.000Z\",\n",
            "            \"id\": \"1390329135944323078\",\n",
            "            \"text\": \"Ao todo 284,60 milh\\u00f5es de doses das vacinas contra a #COVID-19 foram administradas em toda a #China at\\u00e9 ter\\u00e7a-feira, disse nesta quarta-feira a Comiss\\u00e3o Nacional de Sa\\u00fade.\\n\\nhttps://t.co/6NNY8zRMfE https://t.co/BsYCPwWuNY\"\n",
            "        },\n",
            "        {\n",
            "            \"created_at\": \"2021-05-06T15:26:39.000Z\",\n",
            "            \"id\": \"1390327155754741763\",\n",
            "            \"text\": \"Senador chama Renan Calheiros de \\u201cmentiroso\\u201d na CPI da Covid #RenanCalheiros #CPI #Covid #PlenoNews\\n\\nhttps://t.co/E33J5d93eL\"\n",
            "        },\n",
            "        {\n",
            "            \"created_at\": \"2021-05-06T15:05:41.000Z\",\n",
            "            \"id\": \"1390321877630001157\",\n",
            "            \"text\": \"O #Brasil contabilizou 2.811 novas mortes pelo novo coronav\\u00edrus #COVID-19 nas \\u00faltimas 24 horas, elevando o total de \\u00f3bitos da pandemia no pa\\u00eds a 414.399, informou o Minist\\u00e9rio da Sa\\u00fade nesta quarta-feira.\\n\\nhttps://t.co/8UUYd8KI7a https://t.co/NycSB8nBnw\"\n",
            "        },\n",
            "        {\n",
            "            \"created_at\": \"2021-05-06T14:47:00.000Z\",\n",
            "            \"id\": \"1390317176012214274\",\n",
            "            \"text\": \"#Previd\\u00eancia \\ud83d\\udc65\\ud83c\\udde7\\ud83c\\uddf7 | Primeira parcela ser\\u00e1 paga junto aos benef\\u00edcios do m\\u00eas de maio. A maioria dos benefici\\u00e1rios da Previd\\u00eancia Social s\\u00e3o pessoas idosas, doentes ou inv\\u00e1lidas, portanto integrantes dos grupos mais vulner\\u00e1veis \\u00e0 #Covid. #INSS \\u27a1\\ufe0f Saiba mais https://t.co/E8HmPX3wsP https://t.co/15yETjZ6wn\"\n",
            "        },\n",
            "        {\n",
            "            \"created_at\": \"2021-05-06T13:44:11.000Z\",\n",
            "            \"id\": \"1390301369383456771\",\n",
            "            \"text\": \"Deputado bolsonarista diz que querem fazer de Paulo Gustavo a nova Marielle. Leia na \\u00edntegra: https://t.co/Hi4FbGRhvi #Covid #Pandemia https://t.co/e6llAk08mO\"\n",
            "        },\n",
            "        {\n",
            "            \"created_at\": \"2021-05-06T13:43:29.000Z\",\n",
            "            \"id\": \"1390301194107572225\",\n",
            "            \"text\": \"Venda de verm\\u00edfugo #ivermectina cresceu 857% entre abril de 2020 e mar\\u00e7o de 2021, ou seja, desde o primeiro registro de caso da #COVID no Brasil. De #hidroxicloroquina foram 126%. Em unidades, foram 81 milh\\u00f5es e 2,5 milh\\u00f5es pras casas dos brasileiros. Pesquisa do CFF...\"\n",
            "        },\n",
            "        {\n",
            "            \"created_at\": \"2021-05-06T12:40:00.000Z\",\n",
            "            \"id\": \"1390285215214440448\",\n",
            "            \"text\": \"#COVID \\u27a1 Tr\\u00eas leitos est\\u00e3o no Hospital da Provid\\u00eancia, em Apucarana, que passa a contar com 10 leitos de UTI. Outros tr\\u00eas est\\u00e3o no Instituto S\\u00e3o Rafael, em Chopinzinho, que totalizar\\u00e1 23 leitos de UTI exclusivos para Covid-19. https://t.co/Rflan2htZn\"\n",
            "        },\n",
            "        {\n",
            "            \"created_at\": \"2021-05-06T11:59:50.000Z\",\n",
            "            \"id\": \"1390275106073612288\",\n",
            "            \"text\": \"Tribunal de Justi\\u00e7a derruba liminar que suspendeu restri\\u00e7\\u00f5es contra Covid no Rio\\n\\n#covid #coronav\\u00edrus #Tribunal #restri\\u00e7\\u00f5es #Rio #RJ \\nhttps://t.co/DvTCtbvmz2\"\n",
            "        },\n",
            "        {\n",
            "            \"created_at\": \"2021-05-06T10:53:17.000Z\",\n",
            "            \"id\": \"1390258360520433664\",\n",
            "            \"text\": \"Restri\\u00e7\\u00f5es voltam a valer no Rio ap\\u00f3s Justi\\u00e7a derrubar liminar #restri\\u00e7\\u00f5es #RJ #Covid #PlenoNews\\n\\nhttps://t.co/3AGEtC2HWO\"\n",
            "        },\n",
            "        {\n",
            "            \"created_at\": \"2021-05-06T00:32:48.000Z\",\n",
            "            \"id\": \"1390102212358164480\",\n",
            "            \"text\": \"\\u00c9 muito encorajador saber que a Administra\\u00e7\\u00e3o de @JoeBiden apoiar\\u00e1 a ren\\u00fancia de prote\\u00e7\\u00e3o de Propriedade Intelectual e patentes para vacinas #covid. O governo brasileiro deveria apoiar os EUA. Um grande passo para vacinar o mundo. Voc\\u00ea n\\u00e3o concorda, Ministro @mqueiroga2 ?\"\n",
            "        },\n",
            "        {\n",
            "            \"created_at\": \"2021-05-05T22:38:00.000Z\",\n",
            "            \"id\": \"1390073321056784387\",\n",
            "            \"text\": \"Aprovamos o Projeto que garante acompanhamento m\\u00e9dico aos pacientes recuperados da Covid-19. \\n\\n#pandemia #covid #sus #ubs #saude #cidade #saopaulo #vereadoradrasandratadeu https://t.co/5TtisOTVwv\"\n",
            "        },\n",
            "        {\n",
            "            \"created_at\": \"2021-05-05T21:56:16.000Z\",\n",
            "            \"id\": \"1390062815550058498\",\n",
            "            \"text\": \"Popula\\u00e7\\u00e3o do Haiti n\\u00e3o acredita na vacina contra a Covid-19\\n#Haiti #Covid #Vacina #PlenoNews \\nhttps://t.co/nt5U0ga4tS\"\n",
            "        },\n",
            "        {\n",
            "            \"created_at\": \"2021-05-05T21:16:13.000Z\",\n",
            "            \"id\": \"1390052739242205190\",\n",
            "            \"text\": \"A parte continental da #China relatou na ter\\u00e7a-feira sete novos casos de #COVID-19, todos importados, informou a Comiss\\u00e3o Nacional de Sa\\u00fade em seu relat\\u00f3rio di\\u00e1rio nesta quarta-feira.\\n\\nhttps://t.co/v7HHMRRqxO https://t.co/rJDWHFAZTd\"\n",
            "        },\n",
            "        {\n",
            "            \"created_at\": \"2021-05-05T20:00:12.000Z\",\n",
            "            \"id\": \"1390033610024103943\",\n",
            "            \"text\": \"Pfizer entrega mais 628 mil doses de vacina contra Covid-19 ao Minist\\u00e9rio da Sa\\u00fade\\nhttps://t.co/Hwl8w4Gsqu\\n#ForbesBR #ForbesSa\\u00fade #ForbesBrasil #Forbes #Pfizer #Vacina #Covid-19 https://t.co/AyTrvhEvyX\"\n",
            "        },\n",
            "        {\n",
            "            \"created_at\": \"2021-05-05T20:00:00.000Z\",\n",
            "            \"id\": \"1390033559688187908\",\n",
            "            \"text\": \"Lobby da vacina contra #covid passa policiais \\u00e0 frente de pessoas com fatores de risco. At\\u00e9 as 17h de 3\\u00aa feira (4.mai), 33,5% dos integrantes das for\\u00e7as de seguran\\u00e7a receberam a 1\\u00aa dose. Dos que t\\u00eam fatores de risco, s\\u00f3 1,7% foram vacinados.\\n\\nLeia mais: https://t.co/tPCuhEKKZL https://t.co/XRi65rBJyf\"\n",
            "        },\n",
            "        {\n",
            "            \"created_at\": \"2021-05-05T19:44:23.000Z\",\n",
            "            \"id\": \"1390029628098682882\",\n",
            "            \"text\": \"Sobre restri\\u00e7\\u00f5es a patentes de medicamentos #Covid\\n\\u274c Brasil \\n\\u2705 Estados Unidos \\n\\nWhat a time to be alive \\ud83e\\udd14 https://t.co/AJmK9Dx978\"\n",
            "        },\n",
            "        {\n",
            "            \"created_at\": \"2021-05-05T19:09:22.000Z\",\n",
            "            \"id\": \"1390020815509405700\",\n",
            "            \"text\": \"#BoletimCoronav\\u00edrus #Vacina\\u00e7\\u00e3o reduz mortes de idosos com mais de 70 anos em Minas. Nas \\u00faltimas 24h, MG registrou 441 mortes por #covid, mas m\\u00e9dia m\\u00f3vel de \\u00f3bitos tem queda de quase 19%. Vacina da @ufmg ter\\u00e1 fase final de testes em 2022. Mais informa\\u00e7\\u00f5es no v\\u00eddeo a seguir. https://t.co/Hqkg7uN64I\"\n",
            "        },\n",
            "        {\n",
            "            \"created_at\": \"2021-05-05T16:57:12.000Z\",\n",
            "            \"id\": \"1389987556385869829\",\n",
            "            \"text\": \"Sa\\u00fade reconhece que contratou s\\u00f3 metade de vacinas contra Covid anunciadas pelo governo\\n\\n#sa\\u00fade #vacinas #compradevacinas #metadedasvacinas #covid #coronav\\u00edrus \\nhttps://t.co/JpivIlHLcQ\"\n",
            "        },\n",
            "        {\n",
            "            \"created_at\": \"2021-05-05T16:27:44.000Z\",\n",
            "            \"id\": \"1389980139245744134\",\n",
            "            \"text\": \"Niter\\u00f3i tem novo calend\\u00e1rio para a segunda dose da Coronavac\\n\\nO calend\\u00e1rio de aplica\\u00e7\\u00e3o da segunda dose da vacina #Coronavac contra a #Covid-19 foi ajustado. https://t.co/yVHLocJbJb\"\n",
            "        },\n",
            "        {\n",
            "            \"created_at\": \"2021-05-05T15:20:30.000Z\",\n",
            "            \"id\": \"1389963218018254849\",\n",
            "            \"text\": \"O #Brasil contabilizou 2.966 mortes pelo novo coronav\\u00edrus nas \\u00faltimas 24 horas, elevando o total de v\\u00edtimas da pandemia de #COVID-19 a 411.518, segundo o balan\\u00e7o do Minist\\u00e9rio da Sa\\u00fade divulgado nesta ter\\u00e7a-feira.\\n\\nhttps://t.co/lJwgeP82y6 https://t.co/8TuoPUgZfP\"\n",
            "        },\n",
            "        {\n",
            "            \"created_at\": \"2021-05-05T14:28:54.000Z\",\n",
            "            \"id\": \"1389950234374115329\",\n",
            "            \"text\": \"Senador pede que Pazuello comprove que assessores est\\u00e3o com #covid. Leia na \\u00edntegra: https://t.co/P2O4QJMGB5 #CPIdaCovid #Covid19 #Pandemia https://t.co/Ux9gX4bhwn\"\n",
            "        },\n",
            "        {\n",
            "            \"created_at\": \"2021-05-05T12:08:20.000Z\",\n",
            "            \"id\": \"1389914859740008455\",\n",
            "            \"text\": \"Novas variantes de Covid-19 triplicam risco de evolu\\u00e7\\u00e3o grave, diz estudo\\n\\n#covid #variantes #evolu\\u00e7\\u00e3o #coronv\\u00edrus\\nhttps://t.co/TKPBbB2S5L\"\n",
            "        },\n",
            "        {\n",
            "            \"created_at\": \"2021-05-05T11:32:09.000Z\",\n",
            "            \"id\": \"1389905753142661121\",\n",
            "            \"text\": \"J\\u00e1 faz muitos meses que n\\u00e3o passo um \\u00fanico dia sem atender pelo menos uma pessoa que est\\u00e1 com covid, ou que teve covid, ou que acabou de perder algu\\u00e9m muito amado por covid, ou que est\\u00e1 com sequela de covid, ou vivendo qualquer coisa ruim por causa da covid. Todo dia. #covid\"\n",
            "        },\n",
            "        {\n",
            "            \"created_at\": \"2021-05-05T11:13:40.000Z\",\n",
            "            \"id\": \"1389901102980730883\",\n",
            "            \"text\": \"At\\u00e9 quando vamos viver tanta tristeza? Quando vamos todos acordar pra import\\u00e2ncia de mudar o rumo das coisas? Quantos mais precisam morrer  ? O que mais precisa acontecer ? #responsabilidade #astrologia #covid\"\n",
            "        },\n",
            "        {\n",
            "            \"created_at\": \"2021-05-05T10:56:59.000Z\",\n",
            "            \"id\": \"1389896901747691526\",\n",
            "            \"text\": \"Nesta pandemia, seu programa Avi\\u00e3o Solid\\u00e1rio tem promovido o transporte de testes r\\u00e1pidos, medicamentos, m\\u00e1scaras e profissionais de sa\\u00fade. No Brasil, o programa j\\u00e1 movimentou gratuitamente mais de 28 milh\\u00f5es de doses de #vacinas.\\nFeliz anivers\\u00e1rio, LATAM!\\ud83c\\udf82\\ud83c\\udf89\\n#aniversario #covid\"\n",
            "        },\n",
            "        {\n",
            "            \"created_at\": \"2021-05-05T10:39:13.000Z\",\n",
            "            \"id\": \"1389892432897118211\",\n",
            "            \"text\": \"Paulo Gustavo, muito amado por tantos, eu sinto muito. Um g\\u00eanio que em t\\u00e3o pouco tempo, deixou um legado gigante! Obrigada!!! Meus sentimentos \\u00e0 fam\\u00edlia, aos amigos e aos f\\u00e3s, fa\\u00e7o parte desse mar de admiradores. Desejo uma passagem linda e cheia de luz\\ud83c\\udf39\\ud83d\\ude4f\\ud83c\\udfff #paulogustavo #covid https://t.co/L5EN6jkl2a\"\n",
            "        },\n",
            "        {\n",
            "            \"created_at\": \"2021-05-05T09:34:58.000Z\",\n",
            "            \"id\": \"1389876263226118148\",\n",
            "            \"text\": \"#Covid e turismo, #GreenPass: come funziona e come ottenerlo https://t.co/qE1EavLZrN\"\n",
            "        },\n",
            "        {\n",
            "            \"created_at\": \"2021-05-05T01:22:23.000Z\",\n",
            "            \"id\": \"1389752302156779525\",\n",
            "            \"text\": \"Paulo Gustavo morre de Covid no Rio, aos 42 anos\\n\\n#PauloGustavo #Humorista #Covid \\n\\nhttps://t.co/ISaNJpjoCZ\"\n",
            "        },\n",
            "        {\n",
            "            \"created_at\": \"2021-05-04T23:29:52.000Z\",\n",
            "            \"id\": \"1389723984112013320\",\n",
            "            \"text\": \"Brasil confirma 2.966 mortes por #covid em 24 horas e total passa de 411 mil\\n\\nhttps://t.co/mj8EHJV9pX\"\n",
            "        },\n",
            "        {\n",
            "            \"created_at\": \"2021-05-04T22:01:10.000Z\",\n",
            "            \"id\": \"1389701663896875014\",\n",
            "            \"text\": \"\\u201cEstabilizamos num patamar inaceit\\u00e1vel, insuport\\u00e1vel eu diria\\\", afirma Paulo Chapchap, ex-diretor-geral do Hospital S\\u00edrio-Liban\\u00eas.\\n\\n#pandemia #covid \\nLEIA AQUI https://t.co/JXEvtT3ayn https://t.co/d2lBye3w5e\"\n",
            "        },\n",
            "        {\n",
            "            \"created_at\": \"2021-05-04T22:00:00.000Z\",\n",
            "            \"id\": \"1389701371058921472\",\n",
            "            \"text\": \"A parte continental da #China relatou na segunda-feira 17 novos casos de #COVID-19, todos importados, anunciou a Comiss\\u00e3o Nacional de Sa\\u00fade em seu relat\\u00f3rio di\\u00e1rio nesta ter\\u00e7a-feira.\\n\\nhttps://t.co/hd6I7sRhzt https://t.co/TU5rMM1LOd\"\n",
            "        },\n",
            "        {\n",
            "            \"created_at\": \"2021-05-04T20:07:07.000Z\",\n",
            "            \"id\": \"1389672960873664530\",\n",
            "            \"text\": \"Transmiss\\u00e3o de Covid-19 ocorre mesmo com distanciamento social, alertam especialistas\\n\\n#covid #distanciamentosocial #estudo\\n\\nhttps://t.co/M5TrIB8jog\"\n",
            "        },\n",
            "        {\n",
            "            \"created_at\": \"2021-05-04T19:50:48.000Z\",\n",
            "            \"id\": \"1389668853001695241\",\n",
            "            \"text\": \"#COVID-19 | No \\u00e2mbito da pandemia, fam\\u00edlias ind\\u00edgenas em situa\\u00e7\\u00e3o de vulnerabilidade social no Pernambuco receberam mais de 14 mil cestas b\\u00e1sicas. A iniciativa ocorreu numa parceria entre a @funaioficial  a @Conab_Oficial e o @MinCidadania   \\nSaiba mais: https://t.co/PXrgaFr9e9\"\n",
            "        },\n",
            "        {\n",
            "            \"created_at\": \"2021-05-04T19:18:00.000Z\",\n",
            "            \"id\": \"1389660599726968833\",\n",
            "            \"text\": \"\\ud83e\\udda0 M\\u00e9dia de mortes continua alta, mas indica desacelera\\u00e7\\u00e3o da #covid \\n\\nhttps://t.co/vmuyn5i4hn\"\n",
            "        },\n",
            "        {\n",
            "            \"created_at\": \"2021-05-04T18:34:35.000Z\",\n",
            "            \"id\": \"1389649673581957122\",\n",
            "            \"text\": \".@GuajajaraSonia, da @ApibOficial, \\u00e9 acusada de difamar o governo em webs\\u00e9rie que denuncia a omiss\\u00e3o do governo contra a #Covid entre ind\\u00edgenas. Entenda: https://t.co/T6cFQzHNqp \\n\\nMas o marac\\u00e1 e as vozes ind\\u00edgenas seguem entoando! Reveja a webs\\u00e9rie. \\ud83d\\udc47\\ud83c\\udffe https://t.co/Fjpa6uKgP5\"\n",
            "        },\n",
            "        {\n",
            "            \"created_at\": \"2021-05-04T18:02:16.000Z\",\n",
            "            \"id\": \"1389641540893556738\",\n",
            "            \"text\": \"#COVID: #NUOVA #ONDATA di #CONTAGI entro #FINE #MAGGIO, #ESTATE a #RISCHIO? #Parla il prof. #Andrea #CRISANTI https://t.co/iLNs0QNHdY\"\n",
            "        },\n",
            "        {\n",
            "            \"created_at\": \"2021-05-04T16:37:51.000Z\",\n",
            "            \"id\": \"1389620298870312964\",\n",
            "            \"text\": \"\\u00c9 poss\\u00edvel misturar duas vacinas contra a covid-19? Entenda\\n\\n#covid #covid19 #coronav\\u00edrus #vacinas #misturarvacinas \\nhttps://t.co/0faHX72Kc7\"\n",
            "        },\n",
            "        {\n",
            "            \"created_at\": \"2021-05-04T16:34:25.000Z\",\n",
            "            \"id\": \"1389619434491420674\",\n",
            "            \"text\": \"Guedes: Mandetta recebeu R$ 5 bilh\\u00f5es para in\\u00edcio da pandemia #Mandetta #Guedes #Covid #PlenoNews\\n\\nhttps://t.co/LbDX2QlEFR\"\n",
            "        },\n",
            "        {\n",
            "            \"created_at\": \"2021-05-04T16:21:51.000Z\",\n",
            "            \"id\": \"1389616270040092674\",\n",
            "            \"text\": \"Em audi\\u00eancia p\\u00fablica com o min. Paulo Guedes, @eduardobismarck questiona pq o gov. n\\u00e3o manteve o aux. emergencial em R$ 600, \\\"se foi esse valor que salvou a economia no ano passado\\\". Bismarck tb defendeu o uso de verbas de fundos p\\u00fablicos p/ o combate \\u00e0 #covid-19. #PDTnaCamara https://t.co/p1oQch9yrH\"\n",
            "        },\n",
            "        {\n",
            "            \"created_at\": \"2021-05-04T15:23:42.000Z\",\n",
            "            \"id\": \"1389601638344704009\",\n",
            "            \"text\": \"A presidenta da @depo_es @carmelasilva recibiu esta tarde no recinto do @Ifevi a primeira dose da vacina AstraZ\\u00e9neca contra a #Covid \\u201cEstou encantada\\u201d https://t.co/quW8wSL0Ij\"\n",
            "        },\n",
            "        {\n",
            "            \"created_at\": \"2021-05-04T15:08:06.000Z\",\n",
            "            \"id\": \"1389597711465435141\",\n",
            "            \"text\": \"Relembre os locais de vacina\\u00e7\\u00e3o contra a #Covid-19 Niter\\u00f3i!\\n\\nIniciamos ontem a vacina\\u00e7\\u00e3o contra Covid-19 para pessoas com comorbidades, que devem apresentar RG e CPF, comprovante de resid\\u00eancia e uma declara\\u00e7\\u00e3o m\\u00e9dica comprovando o seu quadro cl\\u00ednico. https://t.co/gKcOzsgjSI\"\n",
            "        },\n",
            "        {\n",
            "            \"created_at\": \"2021-05-04T14:50:53.000Z\",\n",
            "            \"id\": \"1389593377658839045\",\n",
            "            \"text\": \"CPI da Covid abre sess\\u00e3o em que ouvir\\u00e1 Luiz Henrique Mandetta\\n\\n#CPIdaPandemia  #covid #Mandetta #coronav\\u00edrus \\nhttps://t.co/yXhCifnruK\"\n",
            "        },\n",
            "        {\n",
            "            \"created_at\": \"2021-05-04T14:45:11.000Z\",\n",
            "            \"id\": \"1389591944540606467\",\n",
            "            \"text\": \"Sa\\u00fade determina intervalo de 12 semanas para vacina da Pfizer\\nhttps://t.co/NB2OQpvdia\\n\\n#Forbes #ForbesBrasil #ForbesSa\\u00fade #Covid-19 #VacinaCovid #Pfizer https://t.co/dD2AqoJmKb\"\n",
            "        },\n",
            "        {\n",
            "            \"created_at\": \"2021-05-04T14:18:41.000Z\",\n",
            "            \"id\": \"1389585276587102209\",\n",
            "            \"text\": \"Covid-19: Estado do Rio prorroga restri\\u00e7\\u00f5es at\\u00e9 18 de maio\\n#Covid #RJ #Restri\\u00e7oes #PlenoNews\\nhttps://t.co/WwK2xGPZDA\"\n",
            "        },\n",
            "        {\n",
            "            \"created_at\": \"2021-05-04T13:57:56.000Z\",\n",
            "            \"id\": \"1389580054103998467\",\n",
            "            \"text\": \"Pazuello alega suspeita de #covid e n\\u00e3o vai \\u00e0 CPI nesta quarta. Leia na \\u00edntegra: https://t.co/cKaDQ1uPhO #CPIdaCovid #Pandemia https://t.co/W1wjjEDiYs\"\n",
            "        },\n",
            "        {\n",
            "            \"created_at\": \"2021-05-04T13:54:51.000Z\",\n",
            "            \"id\": \"1389579277453209604\",\n",
            "            \"text\": \"#FelipeNeto mostra a av\\u00f3 recebendo segunda dose da vacina contra #Covid-19\\nhttps://t.co/zIzJYTOFsa\"\n",
            "        },\n",
            "        {\n",
            "            \"created_at\": \"2021-05-04T13:51:27.000Z\",\n",
            "            \"id\": \"1389578422289059841\",\n",
            "            \"text\": \"\\ud83d\\udd0e O Observat\\u00f3rio CNM #Covid-19 esclarece a d\\u00favida de muitos gestores sobre a quantidade de doses que comportam os frascos de cada tipo de vacina contra a Covid-19 - entre as marcas que est\\u00e3o dispon\\u00edveis no Brasil. Confira: https://t.co/ngKa00diGn\"\n",
            "        },\n",
            "        {\n",
            "            \"created_at\": \"2021-05-03T23:41:08.000Z\",\n",
            "            \"id\": \"1389364432124403720\",\n",
            "            \"text\": \"A diretora da Anvisa, Meiruze Freitas, respons\\u00e1vel pela \\u00e1rea de registros de vacina disse que as mortes provocadas pela pandemia pressionam a ag\\u00eancia, mas pol\\u00edticos n\\u00e3o!. Confira a \\u00edntegra da entrevista. https://t.co/eZTI2DetV0 \\n#anvisa #vacina # #Covid #Sputnik @anvisa_oficial https://t.co/diWOAswWJY\"\n",
            "        },\n",
            "        {\n",
            "            \"created_at\": \"2021-05-03T23:14:02.000Z\",\n",
            "            \"id\": \"1389357614388101121\",\n",
            "            \"text\": \"Cotado para elei\\u00e7\\u00e3o de 2022, Danilo Gentili (@DaniloGentili) \\u00e9 diagnosticado com #covid. Saiba mais: https://t.co/WFjriRc7jT https://t.co/2yYI8rAbDa\"\n",
            "        },\n",
            "        {\n",
            "            \"created_at\": \"2021-05-03T22:58:32.000Z\",\n",
            "            \"id\": \"1389353710682320896\",\n",
            "            \"text\": \"A parte continental da #China relatou no domingo 11 novos casos de #COVID-19, todos importados, informou a Comiss\\u00e3o Nacional de Sa\\u00fade em seu relat\\u00f3rio di\\u00e1rio nesta segunda-feira.\\n\\nhttps://t.co/ghc7MC4E2f https://t.co/YzJBM49iLz\"\n",
            "        },\n",
            "        {\n",
            "            \"created_at\": \"2021-05-03T22:33:58.000Z\",\n",
            "            \"id\": \"1389347530341851138\",\n",
            "            \"text\": \"Mais de 14,55 milh\\u00f5es de pessoas em #Beijing foram vacinadas contra a #COVID-19 at\\u00e9 este s\\u00e1bado, de acordo com a Comiss\\u00e3o Municipal de Sa\\u00fade de Beijing.\\n\\nhttps://t.co/IYqq1lgoad https://t.co/dbP1v0HRFA\"\n",
            "        },\n",
            "        {\n",
            "            \"created_at\": \"2021-05-03T22:10:12.000Z\",\n",
            "            \"id\": \"1389341547787923456\",\n",
            "            \"text\": \"Santa Catarina recebeu hoje mais 250.300 doses da vacina contra a #Covid-19.\\ud83d\\udc89\\ud83d\\udc4f\\nCom a nova remessa, ser\\u00e1 poss\\u00edvel imunizar pessoas com 60 anos ou mais, trabalhadores da \\u00e1rea da #sa\\u00fade e dar in\\u00edcio \\u00e0 #vacina\\u00e7\\u00e3o na popula\\u00e7\\u00e3o com comorbidades.\\nhttps://t.co/AOPaxjLkG7\"\n",
            "        },\n",
            "        {\n",
            "            \"created_at\": \"2021-05-03T22:10:00.000Z\",\n",
            "            \"id\": \"1389341497020059658\",\n",
            "            \"text\": \"\\ud83e\\udda0 Brasil registra mais 24.619 casos e 983 mortes por #covid em 24h \\n\\nhttps://t.co/jLFkFnZE03\"\n",
            "        },\n",
            "        {\n",
            "            \"created_at\": \"2021-05-03T21:09:20.000Z\",\n",
            "            \"id\": \"1389326231527641092\",\n",
            "            \"text\": \"Nosso maior patrim\\u00f4nio, raz\\u00e3o da capacidade de realizarmos manifesta\\u00e7\\u00f5es p\\u00fablicas num curto espa\\u00e7o de tempo, nas mais diferentes regi\\u00f5es do Brasil, \\u00e9 a m\\u00e3o de obra volunt\\u00e1ria. #riodepaz #voluntarios #400milmortosnobrasil #covid https://t.co/XwDi2Ji8M1\"\n",
            "        },\n",
            "        {\n",
            "            \"created_at\": \"2021-05-03T18:28:52.000Z\",\n",
            "            \"id\": \"1389285847300812811\",\n",
            "            \"text\": \"A Comiss\\u00e3o da #Covid ouviu hoje o secret\\u00e1rio Especial de Fazenda, Waldery Rodrigues J\\u00fanior. Waldery falou sobre a situa\\u00e7\\u00e3o fiscal e a execu\\u00e7\\u00e3o or\\u00e7ament\\u00e1ria das medidas relacionadas \\u00e0 pandemia. Ele destacou que a redu\\u00e7\\u00e3o do endividamento vir\\u00e1 com reformas estruturais. https://t.co/uaV6G4ykoq\"\n",
            "        },\n",
            "        {\n",
            "            \"created_at\": \"2021-05-03T18:00:01.000Z\",\n",
            "            \"id\": \"1389278588676067336\",\n",
            "            \"text\": \"\\ud83d\\udc89  O Brasil j\\u00e1 vacinou 55% dos habitantes com mais de 60 anos contra a #covid. O grupo \\u00e9 considerado o de maior risco para a doen\\u00e7a. Quando considera-se a popula\\u00e7\\u00e3o como um todo, 14,9% receberam a 1\\u00aa aplica\\u00e7\\u00e3o de algum imunizante.\\n\\n\\ud83d\\udd39 Leia reportagem: https://t.co/CaBKc8DQ5y https://t.co/bmn0eSe8T8\"\n",
            "        },\n",
            "        {\n",
            "            \"created_at\": \"2021-05-03T17:50:16.000Z\",\n",
            "            \"id\": \"1389276135683395591\",\n",
            "            \"text\": \"Covid: Brasil e \\u00cdndia t\\u00eam mais da metade dos casos globais\\n#Covid #Brasil #India #PlenoNews \\nhttps://t.co/3MRI5CHhyR\"\n",
            "        },\n",
            "        {\n",
            "            \"created_at\": \"2021-05-03T17:41:29.000Z\",\n",
            "            \"id\": \"1389273922214977539\",\n",
            "            \"text\": \"#Plant\\u00e3oCoronav\\u00edrus T\\u00e9cnicos de enfermagem s\\u00e3o as maiores v\\u00edtimas da #covid em Minas. Agentes comunit\\u00e1rios e de combate \\u00e0s endemias aparecem em segundo lugar no ranking, seguidos por m\\u00e9dicos e dentistas. \\nGoverno come\\u00e7a distribui\\u00e7\\u00e3o de #kitintuba\\u00e7\\u00e3o. Mais not\\u00edcias no boletim \\ud83d\\udc47\\ud83c\\udffd https://t.co/iMf1SJI996\"\n",
            "        },\n",
            "        {\n",
            "            \"created_at\": \"2021-05-03T17:25:59.000Z\",\n",
            "            \"id\": \"1389270022116319235\",\n",
            "            \"text\": \"Novas doses da vacina contra a #Covid-19 chegam \\u00e0 #Niter\\u00f3i, mas infelizmente sem doses suficientes de Coronavac para retomar o calend\\u00e1rio.\\n\\nNossa cidade recebeu neste final de semana uma nova remessa de vacinas do Minist\\u00e9rio da Sa\\u00fade. https://t.co/KE8EIn9SNc\"\n",
            "        },\n",
            "        {\n",
            "            \"created_at\": \"2021-05-03T15:00:00.000Z\",\n",
            "            \"id\": \"1389233286912921606\",\n",
            "            \"text\": \"\\u26b0\\ufe0f\\ud83e\\udda0  Dados do Minist\\u00e9rio da Sa\\u00fade sobre as mortes por data real de ocorr\\u00eancia mostram que 29 de mar\\u00e7o foi o dia mais letal da #pandemia no Brasil. Em 24 horas, 2.867 pessoas morreram por #covid. \\n\\nMar\\u00e7o \\u00e9 o m\\u00eas mais letal da pandemia.\\n\\n\\ud83d\\udd39Leia reportagem: https://t.co/09g7Nv40Zj https://t.co/4hWtX8gAHH\"\n",
            "        },\n",
            "        {\n",
            "            \"created_at\": \"2021-05-03T13:11:20.000Z\",\n",
            "            \"id\": \"1389205937580281860\",\n",
            "            \"text\": \"N\\u00e3o tenho nenhum sintoma, mas meu teste deu positivo! Posso transmitir o coronav\\u00edrus? *SIM!* Pessoas que n\\u00e3o apresentam nenhum sintoma da Covid podem sim transmitir o v\\u00edrus e contaminar outras pessoas. Por isso, o uso da m\\u00e1scara \\u00e9 fundamental! \\ud83d\\ude37\\ud83d\\ude37\\ud83d\\ude37#Covid #Conex\\u00e3oSa\\u00fadeMar\\u00e9 https://t.co/4c4jTixdSZ\"\n",
            "        },\n",
            "        {\n",
            "            \"created_at\": \"2021-05-03T11:52:14.000Z\",\n",
            "            \"id\": \"1389186032134987777\",\n",
            "            \"text\": \"Ap\\u00f3s #Covid-19 , #GeraldoLuis agradece por sentir o gosto do sorvete \\nhttps://t.co/57Q5A9wK9y\"\n",
            "        },\n",
            "        {\n",
            "            \"created_at\": \"2021-05-03T11:12:56.000Z\",\n",
            "            \"id\": \"1389176140024229888\",\n",
            "            \"text\": \"#Asturias recibe un cargamento de 46.800 vacunas de Pfizer #covid https://t.co/dGbHKbqmsW\"\n",
            "        },\n",
            "        {\n",
            "            \"created_at\": \"2021-05-03T10:07:18.000Z\",\n",
            "            \"id\": \"1389159625182883843\",\n",
            "            \"text\": \"La festa interista e il timore dei contagi #inter  #italia  #covid https://t.co/D0CCOcxvu2\"\n",
            "        },\n",
            "        {\n",
            "            \"created_at\": \"2021-05-03T08:36:26.000Z\",\n",
            "            \"id\": \"1389136758219083780\",\n",
            "            \"text\": \"Procida isola #Covid free, conclusa #vaccinazione di massa. https://t.co/13ncHadp3h\"\n",
            "        },\n",
            "        {\n",
            "            \"created_at\": \"2021-05-02T21:42:46.000Z\",\n",
            "            \"id\": \"1388972257154899969\",\n",
            "            \"text\": \"Com Covid-19, filha de Nicette Bruno \\u00e9 intubada na UTI\\n#Covid #BarbaraBruno #Intubacao #PlenoNews\\nhttps://t.co/KNA0ERxylx\"\n",
            "        },\n",
            "        {\n",
            "            \"created_at\": \"2021-05-02T21:19:29.000Z\",\n",
            "            \"id\": \"1388966395640172549\",\n",
            "            \"text\": \"Brasil recebe 2 milh\\u00f5es de doses de vacinas da Covax Facility\\n#Covax #Vacina #Covid #PlenoNews \\nhttps://t.co/aX1x9x5VaZ\"\n",
            "        },\n",
            "        {\n",
            "            \"created_at\": \"2021-05-02T20:35:44.000Z\",\n",
            "            \"id\": \"1388955388054315017\",\n",
            "            \"text\": \"Especialistas apontam para 'rejuvenescimento' da pandemia no Brasil; m\\u00e9dia de idade para casos novos e \\u00f3bitos caiu de janeiro para mar\\u00e7o, enquanto mortes aumentaram exponencialmente. #Covid #Pandemia #Brasil #Jovens \\nhttps://t.co/2lUu1dHtcq\"\n",
            "        },\n",
            "        {\n",
            "            \"created_at\": \"2021-05-02T20:35:40.000Z\",\n",
            "            \"id\": \"1388955372413767681\",\n",
            "            \"text\": \"Especialistas apontam para 'rejuvenescimento' da pandemia no Brasil; m\\u00e9dia de idade para casos novos e \\u00f3bitos caiu de janeiro para mar\\u00e7o, enquanto mortes aumentaram exponencialmente. #Covid #Pandemia #Brasil #Jovens \\nhttps://t.co/wtrxNW7iyJ\"\n",
            "        },\n",
            "        {\n",
            "            \"created_at\": \"2021-05-02T20:22:16.000Z\",\n",
            "            \"id\": \"1388951998528200704\",\n",
            "            \"text\": \"Manifesta\\u00e7\\u00e3o desta sexta-feira (30) da ONG Rio de Paz, em Copacabana, em mem\\u00f3ria dos 400 mil brasileiros que morreram v\\u00edtimas da covid-19 e pelo descaso com que o Governo Federal vem tratando a pandemia. #riodepaz #400milmortosnobrasil #covid #coronavirus #ongriodepaz https://t.co/Wu2GjS8ICX\"\n",
            "        },\n",
            "        {\n",
            "            \"created_at\": \"2021-05-02T19:32:16.000Z\",\n",
            "            \"id\": \"1388939414286618627\",\n",
            "            \"text\": \"#COVID: #NUOVA #ONDATA di #CONTAGI entro #FINE #MAGGIO, #ESTATE a #RISCHIO? #Parla il prof. #Andrea #CRISANTI https://t.co/hRIXaf6Txy\"\n",
            "        },\n",
            "        {\n",
            "            \"created_at\": \"2021-05-02T18:00:00.000Z\",\n",
            "            \"id\": \"1388916197249490947\",\n",
            "            \"text\": \"Em meio \\u00e0 pandemia de #COVID-19, a demanda por home office, aprendizado on-line e compras est\\u00e1 aumentando, levando a resultados das empresas de alta tecnologia acima das expectativas do mercado em seus relat\\u00f3rios trimestrais divulgados esta semana.\\n\\nhttps://t.co/Z75ay01zM7 https://t.co/YWum9HGpGt\"\n",
            "        },\n",
            "        {\n",
            "            \"created_at\": \"2021-05-02T16:15:23.000Z\",\n",
            "            \"id\": \"1388889867636158470\",\n",
            "            \"text\": \"O mecanismo coordenado pela ONU (Organiza\\u00e7\\u00e3o das Na\\u00e7\\u00f5es Unidas) enviou ao pa\\u00eds mais um lote do imunizante desenvolvido pela Oxford/AstraZeneca. #Vacina #Covid #CovaxFacility #Brasil \\nhttps://t.co/lpQZbBRTTx\"\n",
            "        },\n",
            "        {\n",
            "            \"created_at\": \"2021-05-02T16:15:18.000Z\",\n",
            "            \"id\": \"1388889848593981441\",\n",
            "            \"text\": \"O mecanismo coordenado pela ONU (Organiza\\u00e7\\u00e3o das Na\\u00e7\\u00f5es Unidas) enviou ao pa\\u00eds mais um lote do imunizante desenvolvido pela Oxford/AstraZeneca. #Vacina #Covid #CovaxFacility #Brasil \\nhttps://t.co/0aQdO4kK73\"\n",
            "        },\n",
            "        {\n",
            "            \"created_at\": \"2021-05-02T16:00:02.000Z\",\n",
            "            \"id\": \"1388886003293822976\",\n",
            "            \"text\": \"A parte continental da #China relatou no s\\u00e1bado 15 novos casos de #COVID-19, todos importados, divulgou a Comiss\\u00e3o Nacional de Sa\\u00fade em seu relat\\u00f3rio di\\u00e1rio neste domingo.\\n\\nhttps://t.co/Iu8wGzoBlg https://t.co/r69hbakNYE\"\n",
            "        },\n",
            "        {\n",
            "            \"created_at\": \"2021-05-02T15:40:08.000Z\",\n",
            "            \"id\": \"1388880997001875462\",\n",
            "            \"text\": \"O n\\u00famero ainda \\u00e9 inferior ao registrado por Brasil no come\\u00e7o de abril e pelos EUA em janeiro. #India #Covid #Pandemia \\nhttps://t.co/Wz0E4p0XO3\"\n",
            "        },\n",
            "        {\n",
            "            \"created_at\": \"2021-05-02T15:40:04.000Z\",\n",
            "            \"id\": \"1388880978882482177\",\n",
            "            \"text\": \"O n\\u00famero ainda \\u00e9 inferior ao registrado por Brasil no come\\u00e7o de abril e pelos EUA em janeiro. #India #Covid #Pandemia \\nhttps://t.co/phzupSPsBG\"\n",
            "        },\n",
            "        {\n",
            "            \"created_at\": \"2021-05-02T15:22:49.000Z\",\n",
            "            \"id\": \"1388876640571305990\",\n",
            "            \"text\": \"O presidente do #Chile, Sebasti\\u00e1n Pi\\u00f1era, anunciou neste s\\u00e1bado que o pa\\u00eds acelerar\\u00e1 sua campanha de vacina\\u00e7\\u00e3o em massa contra a #COVID-19 depois de j\\u00e1 ter 6,6 milh\\u00f5es de pessoas totalmente vacinadas.\\n\\nhttps://t.co/6ttfgstVFV https://t.co/jTUrKtqkqh\"\n",
            "        },\n",
            "        {\n",
            "            \"created_at\": \"2021-05-02T12:01:08.000Z\",\n",
            "            \"id\": \"1388825883365060615\",\n",
            "            \"text\": \"\\ud83d\\udcf1 O aplicativo #ConecteSUS re\\u00fane v\\u00e1rios servi\\u00e7os do Sistema \\u00danico de Sa\\u00fade, como exames e o acompanhamento da vacina\\u00e7\\u00e3o contra a #covid-19. Confira na reportagem: \\ud83d\\udcfa\\u2b07 https://t.co/qbYLhCvsWW\"\n",
            "        }\n",
            "    ],\n",
            "    \"meta\": {\n",
            "        \"newest_id\": \"1391135820371931137\",\n",
            "        \"oldest_id\": \"1388825883365060615\",\n",
            "        \"result_count\": 130\n",
            "    }\n",
            "}"
          ]
        }
      ]
    },
    {
      "cell_type": "markdown",
      "source": [
        "Primeira tentativa: Leitura do arquivo sem parâmetros:"
      ],
      "metadata": {
        "id": "fn6zBfpjN04Z"
      }
    },
    {
      "cell_type": "code",
      "source": [
        "pddf_json = pd.read_json(\"tweets_colected_May_2_to_8_2022_0515190324.json\")"
      ],
      "metadata": {
        "colab": {
          "base_uri": "https://localhost:8080/",
          "height": 311
        },
        "id": "F1P_QzRlC-Ti",
        "outputId": "df8090d7-f6d2-4be0-dcec-f365936adc4d"
      },
      "execution_count": null,
      "outputs": [
        {
          "output_type": "error",
          "ename": "ValueError",
          "evalue": "ignored",
          "traceback": [
            "\u001b[0;31m---------------------------------------------------------------------------\u001b[0m",
            "\u001b[0;31mValueError\u001b[0m                                Traceback (most recent call last)",
            "\u001b[0;32m<ipython-input-321-f2862e405ca8>\u001b[0m in \u001b[0;36m<module>\u001b[0;34m()\u001b[0m\n\u001b[0;32m----> 1\u001b[0;31m \u001b[0mpddf_json\u001b[0m \u001b[0;34m=\u001b[0m \u001b[0mpd\u001b[0m\u001b[0;34m.\u001b[0m\u001b[0mread_json\u001b[0m\u001b[0;34m(\u001b[0m\u001b[0;34m\"tweets_colected_May_2_to_8_2022_0515190324.json\"\u001b[0m\u001b[0;34m)\u001b[0m\u001b[0;34m\u001b[0m\u001b[0;34m\u001b[0m\u001b[0m\n\u001b[0m",
            "\u001b[0;32m/usr/local/lib/python3.7/dist-packages/pandas/util/_decorators.py\u001b[0m in \u001b[0;36mwrapper\u001b[0;34m(*args, **kwargs)\u001b[0m\n\u001b[1;32m    205\u001b[0m                 \u001b[0;32melse\u001b[0m\u001b[0;34m:\u001b[0m\u001b[0;34m\u001b[0m\u001b[0;34m\u001b[0m\u001b[0m\n\u001b[1;32m    206\u001b[0m                     \u001b[0mkwargs\u001b[0m\u001b[0;34m[\u001b[0m\u001b[0mnew_arg_name\u001b[0m\u001b[0;34m]\u001b[0m \u001b[0;34m=\u001b[0m \u001b[0mnew_arg_value\u001b[0m\u001b[0;34m\u001b[0m\u001b[0;34m\u001b[0m\u001b[0m\n\u001b[0;32m--> 207\u001b[0;31m             \u001b[0;32mreturn\u001b[0m \u001b[0mfunc\u001b[0m\u001b[0;34m(\u001b[0m\u001b[0;34m*\u001b[0m\u001b[0margs\u001b[0m\u001b[0;34m,\u001b[0m \u001b[0;34m**\u001b[0m\u001b[0mkwargs\u001b[0m\u001b[0;34m)\u001b[0m\u001b[0;34m\u001b[0m\u001b[0;34m\u001b[0m\u001b[0m\n\u001b[0m\u001b[1;32m    208\u001b[0m \u001b[0;34m\u001b[0m\u001b[0m\n\u001b[1;32m    209\u001b[0m         \u001b[0;32mreturn\u001b[0m \u001b[0mcast\u001b[0m\u001b[0;34m(\u001b[0m\u001b[0mF\u001b[0m\u001b[0;34m,\u001b[0m \u001b[0mwrapper\u001b[0m\u001b[0;34m)\u001b[0m\u001b[0;34m\u001b[0m\u001b[0;34m\u001b[0m\u001b[0m\n",
            "\u001b[0;32m/usr/local/lib/python3.7/dist-packages/pandas/util/_decorators.py\u001b[0m in \u001b[0;36mwrapper\u001b[0;34m(*args, **kwargs)\u001b[0m\n\u001b[1;32m    309\u001b[0m                     \u001b[0mstacklevel\u001b[0m\u001b[0;34m=\u001b[0m\u001b[0mstacklevel\u001b[0m\u001b[0;34m,\u001b[0m\u001b[0;34m\u001b[0m\u001b[0;34m\u001b[0m\u001b[0m\n\u001b[1;32m    310\u001b[0m                 )\n\u001b[0;32m--> 311\u001b[0;31m             \u001b[0;32mreturn\u001b[0m \u001b[0mfunc\u001b[0m\u001b[0;34m(\u001b[0m\u001b[0;34m*\u001b[0m\u001b[0margs\u001b[0m\u001b[0;34m,\u001b[0m \u001b[0;34m**\u001b[0m\u001b[0mkwargs\u001b[0m\u001b[0;34m)\u001b[0m\u001b[0;34m\u001b[0m\u001b[0;34m\u001b[0m\u001b[0m\n\u001b[0m\u001b[1;32m    312\u001b[0m \u001b[0;34m\u001b[0m\u001b[0m\n\u001b[1;32m    313\u001b[0m         \u001b[0;32mreturn\u001b[0m \u001b[0mwrapper\u001b[0m\u001b[0;34m\u001b[0m\u001b[0;34m\u001b[0m\u001b[0m\n",
            "\u001b[0;32m/usr/local/lib/python3.7/dist-packages/pandas/io/json/_json.py\u001b[0m in \u001b[0;36mread_json\u001b[0;34m(path_or_buf, orient, typ, dtype, convert_axes, convert_dates, keep_default_dates, numpy, precise_float, date_unit, encoding, encoding_errors, lines, chunksize, compression, nrows, storage_options)\u001b[0m\n\u001b[1;32m    612\u001b[0m \u001b[0;34m\u001b[0m\u001b[0m\n\u001b[1;32m    613\u001b[0m     \u001b[0;32mwith\u001b[0m \u001b[0mjson_reader\u001b[0m\u001b[0;34m:\u001b[0m\u001b[0;34m\u001b[0m\u001b[0;34m\u001b[0m\u001b[0m\n\u001b[0;32m--> 614\u001b[0;31m         \u001b[0;32mreturn\u001b[0m \u001b[0mjson_reader\u001b[0m\u001b[0;34m.\u001b[0m\u001b[0mread\u001b[0m\u001b[0;34m(\u001b[0m\u001b[0;34m)\u001b[0m\u001b[0;34m\u001b[0m\u001b[0;34m\u001b[0m\u001b[0m\n\u001b[0m\u001b[1;32m    615\u001b[0m \u001b[0;34m\u001b[0m\u001b[0m\n\u001b[1;32m    616\u001b[0m \u001b[0;34m\u001b[0m\u001b[0m\n",
            "\u001b[0;32m/usr/local/lib/python3.7/dist-packages/pandas/io/json/_json.py\u001b[0m in \u001b[0;36mread\u001b[0;34m(self)\u001b[0m\n\u001b[1;32m    746\u001b[0m                 \u001b[0mobj\u001b[0m \u001b[0;34m=\u001b[0m \u001b[0mself\u001b[0m\u001b[0;34m.\u001b[0m\u001b[0m_get_object_parser\u001b[0m\u001b[0;34m(\u001b[0m\u001b[0mself\u001b[0m\u001b[0;34m.\u001b[0m\u001b[0m_combine_lines\u001b[0m\u001b[0;34m(\u001b[0m\u001b[0mdata_lines\u001b[0m\u001b[0;34m)\u001b[0m\u001b[0;34m)\u001b[0m\u001b[0;34m\u001b[0m\u001b[0;34m\u001b[0m\u001b[0m\n\u001b[1;32m    747\u001b[0m         \u001b[0;32melse\u001b[0m\u001b[0;34m:\u001b[0m\u001b[0;34m\u001b[0m\u001b[0;34m\u001b[0m\u001b[0m\n\u001b[0;32m--> 748\u001b[0;31m             \u001b[0mobj\u001b[0m \u001b[0;34m=\u001b[0m \u001b[0mself\u001b[0m\u001b[0;34m.\u001b[0m\u001b[0m_get_object_parser\u001b[0m\u001b[0;34m(\u001b[0m\u001b[0mself\u001b[0m\u001b[0;34m.\u001b[0m\u001b[0mdata\u001b[0m\u001b[0;34m)\u001b[0m\u001b[0;34m\u001b[0m\u001b[0;34m\u001b[0m\u001b[0m\n\u001b[0m\u001b[1;32m    749\u001b[0m         \u001b[0mself\u001b[0m\u001b[0;34m.\u001b[0m\u001b[0mclose\u001b[0m\u001b[0;34m(\u001b[0m\u001b[0;34m)\u001b[0m\u001b[0;34m\u001b[0m\u001b[0;34m\u001b[0m\u001b[0m\n\u001b[1;32m    750\u001b[0m         \u001b[0;32mreturn\u001b[0m \u001b[0mobj\u001b[0m\u001b[0;34m\u001b[0m\u001b[0;34m\u001b[0m\u001b[0m\n",
            "\u001b[0;32m/usr/local/lib/python3.7/dist-packages/pandas/io/json/_json.py\u001b[0m in \u001b[0;36m_get_object_parser\u001b[0;34m(self, json)\u001b[0m\n\u001b[1;32m    768\u001b[0m         \u001b[0mobj\u001b[0m \u001b[0;34m=\u001b[0m \u001b[0;32mNone\u001b[0m\u001b[0;34m\u001b[0m\u001b[0;34m\u001b[0m\u001b[0m\n\u001b[1;32m    769\u001b[0m         \u001b[0;32mif\u001b[0m \u001b[0mtyp\u001b[0m \u001b[0;34m==\u001b[0m \u001b[0;34m\"frame\"\u001b[0m\u001b[0;34m:\u001b[0m\u001b[0;34m\u001b[0m\u001b[0;34m\u001b[0m\u001b[0m\n\u001b[0;32m--> 770\u001b[0;31m             \u001b[0mobj\u001b[0m \u001b[0;34m=\u001b[0m \u001b[0mFrameParser\u001b[0m\u001b[0;34m(\u001b[0m\u001b[0mjson\u001b[0m\u001b[0;34m,\u001b[0m \u001b[0;34m**\u001b[0m\u001b[0mkwargs\u001b[0m\u001b[0;34m)\u001b[0m\u001b[0;34m.\u001b[0m\u001b[0mparse\u001b[0m\u001b[0;34m(\u001b[0m\u001b[0;34m)\u001b[0m\u001b[0;34m\u001b[0m\u001b[0;34m\u001b[0m\u001b[0m\n\u001b[0m\u001b[1;32m    771\u001b[0m \u001b[0;34m\u001b[0m\u001b[0m\n\u001b[1;32m    772\u001b[0m         \u001b[0;32mif\u001b[0m \u001b[0mtyp\u001b[0m \u001b[0;34m==\u001b[0m \u001b[0;34m\"series\"\u001b[0m \u001b[0;32mor\u001b[0m \u001b[0mobj\u001b[0m \u001b[0;32mis\u001b[0m \u001b[0;32mNone\u001b[0m\u001b[0;34m:\u001b[0m\u001b[0;34m\u001b[0m\u001b[0;34m\u001b[0m\u001b[0m\n",
            "\u001b[0;32m/usr/local/lib/python3.7/dist-packages/pandas/io/json/_json.py\u001b[0m in \u001b[0;36mparse\u001b[0;34m(self)\u001b[0m\n\u001b[1;32m    883\u001b[0m \u001b[0;34m\u001b[0m\u001b[0m\n\u001b[1;32m    884\u001b[0m         \u001b[0;32melse\u001b[0m\u001b[0;34m:\u001b[0m\u001b[0;34m\u001b[0m\u001b[0;34m\u001b[0m\u001b[0m\n\u001b[0;32m--> 885\u001b[0;31m             \u001b[0mself\u001b[0m\u001b[0;34m.\u001b[0m\u001b[0m_parse_no_numpy\u001b[0m\u001b[0;34m(\u001b[0m\u001b[0;34m)\u001b[0m\u001b[0;34m\u001b[0m\u001b[0;34m\u001b[0m\u001b[0m\n\u001b[0m\u001b[1;32m    886\u001b[0m \u001b[0;34m\u001b[0m\u001b[0m\n\u001b[1;32m    887\u001b[0m         \u001b[0;32mif\u001b[0m \u001b[0mself\u001b[0m\u001b[0;34m.\u001b[0m\u001b[0mobj\u001b[0m \u001b[0;32mis\u001b[0m \u001b[0;32mNone\u001b[0m\u001b[0;34m:\u001b[0m\u001b[0;34m\u001b[0m\u001b[0;34m\u001b[0m\u001b[0m\n",
            "\u001b[0;32m/usr/local/lib/python3.7/dist-packages/pandas/io/json/_json.py\u001b[0m in \u001b[0;36m_parse_no_numpy\u001b[0;34m(self)\u001b[0m\n\u001b[1;32m   1138\u001b[0m         \u001b[0;32mif\u001b[0m \u001b[0morient\u001b[0m \u001b[0;34m==\u001b[0m \u001b[0;34m\"columns\"\u001b[0m\u001b[0;34m:\u001b[0m\u001b[0;34m\u001b[0m\u001b[0;34m\u001b[0m\u001b[0m\n\u001b[1;32m   1139\u001b[0m             self.obj = DataFrame(\n\u001b[0;32m-> 1140\u001b[0;31m                 \u001b[0mloads\u001b[0m\u001b[0;34m(\u001b[0m\u001b[0mjson\u001b[0m\u001b[0;34m,\u001b[0m \u001b[0mprecise_float\u001b[0m\u001b[0;34m=\u001b[0m\u001b[0mself\u001b[0m\u001b[0;34m.\u001b[0m\u001b[0mprecise_float\u001b[0m\u001b[0;34m)\u001b[0m\u001b[0;34m,\u001b[0m \u001b[0mdtype\u001b[0m\u001b[0;34m=\u001b[0m\u001b[0;32mNone\u001b[0m\u001b[0;34m\u001b[0m\u001b[0;34m\u001b[0m\u001b[0m\n\u001b[0m\u001b[1;32m   1141\u001b[0m             )\n\u001b[1;32m   1142\u001b[0m         \u001b[0;32melif\u001b[0m \u001b[0morient\u001b[0m \u001b[0;34m==\u001b[0m \u001b[0;34m\"split\"\u001b[0m\u001b[0;34m:\u001b[0m\u001b[0;34m\u001b[0m\u001b[0;34m\u001b[0m\u001b[0m\n",
            "\u001b[0;32m/usr/local/lib/python3.7/dist-packages/pandas/core/frame.py\u001b[0m in \u001b[0;36m__init__\u001b[0;34m(self, data, index, columns, dtype, copy)\u001b[0m\n\u001b[1;32m    612\u001b[0m         \u001b[0;32melif\u001b[0m \u001b[0misinstance\u001b[0m\u001b[0;34m(\u001b[0m\u001b[0mdata\u001b[0m\u001b[0;34m,\u001b[0m \u001b[0mdict\u001b[0m\u001b[0;34m)\u001b[0m\u001b[0;34m:\u001b[0m\u001b[0;34m\u001b[0m\u001b[0;34m\u001b[0m\u001b[0m\n\u001b[1;32m    613\u001b[0m             \u001b[0;31m# GH#38939 de facto copy defaults to False only in non-dict cases\u001b[0m\u001b[0;34m\u001b[0m\u001b[0;34m\u001b[0m\u001b[0;34m\u001b[0m\u001b[0m\n\u001b[0;32m--> 614\u001b[0;31m             \u001b[0mmgr\u001b[0m \u001b[0;34m=\u001b[0m \u001b[0mdict_to_mgr\u001b[0m\u001b[0;34m(\u001b[0m\u001b[0mdata\u001b[0m\u001b[0;34m,\u001b[0m \u001b[0mindex\u001b[0m\u001b[0;34m,\u001b[0m \u001b[0mcolumns\u001b[0m\u001b[0;34m,\u001b[0m \u001b[0mdtype\u001b[0m\u001b[0;34m=\u001b[0m\u001b[0mdtype\u001b[0m\u001b[0;34m,\u001b[0m \u001b[0mcopy\u001b[0m\u001b[0;34m=\u001b[0m\u001b[0mcopy\u001b[0m\u001b[0;34m,\u001b[0m \u001b[0mtyp\u001b[0m\u001b[0;34m=\u001b[0m\u001b[0mmanager\u001b[0m\u001b[0;34m)\u001b[0m\u001b[0;34m\u001b[0m\u001b[0;34m\u001b[0m\u001b[0m\n\u001b[0m\u001b[1;32m    615\u001b[0m         \u001b[0;32melif\u001b[0m \u001b[0misinstance\u001b[0m\u001b[0;34m(\u001b[0m\u001b[0mdata\u001b[0m\u001b[0;34m,\u001b[0m \u001b[0mma\u001b[0m\u001b[0;34m.\u001b[0m\u001b[0mMaskedArray\u001b[0m\u001b[0;34m)\u001b[0m\u001b[0;34m:\u001b[0m\u001b[0;34m\u001b[0m\u001b[0;34m\u001b[0m\u001b[0m\n\u001b[1;32m    616\u001b[0m             \u001b[0;32mimport\u001b[0m \u001b[0mnumpy\u001b[0m\u001b[0;34m.\u001b[0m\u001b[0mma\u001b[0m\u001b[0;34m.\u001b[0m\u001b[0mmrecords\u001b[0m \u001b[0;32mas\u001b[0m \u001b[0mmrecords\u001b[0m\u001b[0;34m\u001b[0m\u001b[0;34m\u001b[0m\u001b[0m\n",
            "\u001b[0;32m/usr/local/lib/python3.7/dist-packages/pandas/core/internals/construction.py\u001b[0m in \u001b[0;36mdict_to_mgr\u001b[0;34m(data, index, columns, dtype, typ, copy)\u001b[0m\n\u001b[1;32m    463\u001b[0m \u001b[0;34m\u001b[0m\u001b[0m\n\u001b[1;32m    464\u001b[0m     return arrays_to_mgr(\n\u001b[0;32m--> 465\u001b[0;31m         \u001b[0marrays\u001b[0m\u001b[0;34m,\u001b[0m \u001b[0mdata_names\u001b[0m\u001b[0;34m,\u001b[0m \u001b[0mindex\u001b[0m\u001b[0;34m,\u001b[0m \u001b[0mcolumns\u001b[0m\u001b[0;34m,\u001b[0m \u001b[0mdtype\u001b[0m\u001b[0;34m=\u001b[0m\u001b[0mdtype\u001b[0m\u001b[0;34m,\u001b[0m \u001b[0mtyp\u001b[0m\u001b[0;34m=\u001b[0m\u001b[0mtyp\u001b[0m\u001b[0;34m,\u001b[0m \u001b[0mconsolidate\u001b[0m\u001b[0;34m=\u001b[0m\u001b[0mcopy\u001b[0m\u001b[0;34m\u001b[0m\u001b[0;34m\u001b[0m\u001b[0m\n\u001b[0m\u001b[1;32m    466\u001b[0m     )\n\u001b[1;32m    467\u001b[0m \u001b[0;34m\u001b[0m\u001b[0m\n",
            "\u001b[0;32m/usr/local/lib/python3.7/dist-packages/pandas/core/internals/construction.py\u001b[0m in \u001b[0;36marrays_to_mgr\u001b[0;34m(arrays, arr_names, index, columns, dtype, verify_integrity, typ, consolidate)\u001b[0m\n\u001b[1;32m    117\u001b[0m         \u001b[0;31m# figure out the index, if necessary\u001b[0m\u001b[0;34m\u001b[0m\u001b[0;34m\u001b[0m\u001b[0;34m\u001b[0m\u001b[0m\n\u001b[1;32m    118\u001b[0m         \u001b[0;32mif\u001b[0m \u001b[0mindex\u001b[0m \u001b[0;32mis\u001b[0m \u001b[0;32mNone\u001b[0m\u001b[0;34m:\u001b[0m\u001b[0;34m\u001b[0m\u001b[0;34m\u001b[0m\u001b[0m\n\u001b[0;32m--> 119\u001b[0;31m             \u001b[0mindex\u001b[0m \u001b[0;34m=\u001b[0m \u001b[0m_extract_index\u001b[0m\u001b[0;34m(\u001b[0m\u001b[0marrays\u001b[0m\u001b[0;34m)\u001b[0m\u001b[0;34m\u001b[0m\u001b[0;34m\u001b[0m\u001b[0m\n\u001b[0m\u001b[1;32m    120\u001b[0m         \u001b[0;32melse\u001b[0m\u001b[0;34m:\u001b[0m\u001b[0;34m\u001b[0m\u001b[0;34m\u001b[0m\u001b[0m\n\u001b[1;32m    121\u001b[0m             \u001b[0mindex\u001b[0m \u001b[0;34m=\u001b[0m \u001b[0mensure_index\u001b[0m\u001b[0;34m(\u001b[0m\u001b[0mindex\u001b[0m\u001b[0;34m)\u001b[0m\u001b[0;34m\u001b[0m\u001b[0;34m\u001b[0m\u001b[0m\n",
            "\u001b[0;32m/usr/local/lib/python3.7/dist-packages/pandas/core/internals/construction.py\u001b[0m in \u001b[0;36m_extract_index\u001b[0;34m(data)\u001b[0m\n\u001b[1;32m    637\u001b[0m             \u001b[0;32mif\u001b[0m \u001b[0mhave_dicts\u001b[0m\u001b[0;34m:\u001b[0m\u001b[0;34m\u001b[0m\u001b[0;34m\u001b[0m\u001b[0m\n\u001b[1;32m    638\u001b[0m                 raise ValueError(\n\u001b[0;32m--> 639\u001b[0;31m                     \u001b[0;34m\"Mixing dicts with non-Series may lead to ambiguous ordering.\"\u001b[0m\u001b[0;34m\u001b[0m\u001b[0;34m\u001b[0m\u001b[0m\n\u001b[0m\u001b[1;32m    640\u001b[0m                 )\n\u001b[1;32m    641\u001b[0m \u001b[0;34m\u001b[0m\u001b[0m\n",
            "\u001b[0;31mValueError\u001b[0m: Mixing dicts with non-Series may lead to ambiguous ordering."
          ]
        }
      ]
    },
    {
      "cell_type": "markdown",
      "source": [
        "O erro ocorre pois nosso arquivo JSON possui dois índices com dois níveis cada. Um índice é o 'data' e dentro dele os dados dos tweets e o outro é o 'meta', com os dados gerais do arquivo.\n",
        "\n",
        "Sendo assim, vamos tentar a importação com a orientação por índices, para vermos o que temos no arquivo:"
      ],
      "metadata": {
        "id": "obp5m3KaN6gg"
      }
    },
    {
      "cell_type": "code",
      "source": [
        "pddf_json = pd.read_json(\"tweets_colected_May_2_to_8_2022_0515190324.json\", orient=\"index\")\n",
        "pddf_json.head()"
      ],
      "metadata": {
        "colab": {
          "base_uri": "https://localhost:8080/",
          "height": 257
        },
        "id": "WujlNswVJ_uy",
        "outputId": "0b7fee8d-5295-4499-bad1-06679043bec4"
      },
      "execution_count": null,
      "outputs": [
        {
          "output_type": "execute_result",
          "data": {
            "text/plain": [
              "                                                    0    \\\n",
              "data  {'created_at': '2021-05-08T21:00:00.000Z', 'id...   \n",
              "meta                                          newest_id   \n",
              "\n",
              "                                                    1    \\\n",
              "data  {'created_at': '2021-05-08T20:30:00.000Z', 'id...   \n",
              "meta                                          oldest_id   \n",
              "\n",
              "                                                    2    \\\n",
              "data  {'created_at': '2021-05-08T20:02:15.000Z', 'id...   \n",
              "meta                                       result_count   \n",
              "\n",
              "                                                    3    \\\n",
              "data  {'created_at': '2021-05-08T19:45:52.000Z', 'id...   \n",
              "meta                                               None   \n",
              "\n",
              "                                                    4    \\\n",
              "data  {'created_at': '2021-05-08T18:30:00.000Z', 'id...   \n",
              "meta                                               None   \n",
              "\n",
              "                                                    5    \\\n",
              "data  {'created_at': '2021-05-08T17:53:52.000Z', 'id...   \n",
              "meta                                               None   \n",
              "\n",
              "                                                    6    \\\n",
              "data  {'created_at': '2021-05-08T17:25:00.000Z', 'id...   \n",
              "meta                                               None   \n",
              "\n",
              "                                                    7    \\\n",
              "data  {'created_at': '2021-05-08T15:39:14.000Z', 'id...   \n",
              "meta                                               None   \n",
              "\n",
              "                                                    8    \\\n",
              "data  {'created_at': '2021-05-08T14:53:04.000Z', 'id...   \n",
              "meta                                               None   \n",
              "\n",
              "                                                    9    ...  \\\n",
              "data  {'created_at': '2021-05-08T14:00:00.000Z', 'id...  ...   \n",
              "meta                                               None  ...   \n",
              "\n",
              "                                                    120  \\\n",
              "data  {'created_at': '2021-05-02T20:22:16.000Z', 'id...   \n",
              "meta                                               None   \n",
              "\n",
              "                                                    121  \\\n",
              "data  {'created_at': '2021-05-02T19:32:16.000Z', 'id...   \n",
              "meta                                               None   \n",
              "\n",
              "                                                    122  \\\n",
              "data  {'created_at': '2021-05-02T18:00:00.000Z', 'id...   \n",
              "meta                                               None   \n",
              "\n",
              "                                                    123  \\\n",
              "data  {'created_at': '2021-05-02T16:15:23.000Z', 'id...   \n",
              "meta                                               None   \n",
              "\n",
              "                                                    124  \\\n",
              "data  {'created_at': '2021-05-02T16:15:18.000Z', 'id...   \n",
              "meta                                               None   \n",
              "\n",
              "                                                    125  \\\n",
              "data  {'created_at': '2021-05-02T16:00:02.000Z', 'id...   \n",
              "meta                                               None   \n",
              "\n",
              "                                                    126  \\\n",
              "data  {'created_at': '2021-05-02T15:40:08.000Z', 'id...   \n",
              "meta                                               None   \n",
              "\n",
              "                                                    127  \\\n",
              "data  {'created_at': '2021-05-02T15:40:04.000Z', 'id...   \n",
              "meta                                               None   \n",
              "\n",
              "                                                    128  \\\n",
              "data  {'created_at': '2021-05-02T15:22:49.000Z', 'id...   \n",
              "meta                                               None   \n",
              "\n",
              "                                                    129  \n",
              "data  {'created_at': '2021-05-02T12:01:08.000Z', 'id...  \n",
              "meta                                               None  \n",
              "\n",
              "[2 rows x 130 columns]"
            ],
            "text/html": [
              "\n",
              "  <div id=\"df-33feb8d8-c6e5-43d3-9628-32b2146aad32\">\n",
              "    <div class=\"colab-df-container\">\n",
              "      <div>\n",
              "<style scoped>\n",
              "    .dataframe tbody tr th:only-of-type {\n",
              "        vertical-align: middle;\n",
              "    }\n",
              "\n",
              "    .dataframe tbody tr th {\n",
              "        vertical-align: top;\n",
              "    }\n",
              "\n",
              "    .dataframe thead th {\n",
              "        text-align: right;\n",
              "    }\n",
              "</style>\n",
              "<table border=\"1\" class=\"dataframe\">\n",
              "  <thead>\n",
              "    <tr style=\"text-align: right;\">\n",
              "      <th></th>\n",
              "      <th>0</th>\n",
              "      <th>1</th>\n",
              "      <th>2</th>\n",
              "      <th>3</th>\n",
              "      <th>4</th>\n",
              "      <th>5</th>\n",
              "      <th>6</th>\n",
              "      <th>7</th>\n",
              "      <th>8</th>\n",
              "      <th>9</th>\n",
              "      <th>...</th>\n",
              "      <th>120</th>\n",
              "      <th>121</th>\n",
              "      <th>122</th>\n",
              "      <th>123</th>\n",
              "      <th>124</th>\n",
              "      <th>125</th>\n",
              "      <th>126</th>\n",
              "      <th>127</th>\n",
              "      <th>128</th>\n",
              "      <th>129</th>\n",
              "    </tr>\n",
              "  </thead>\n",
              "  <tbody>\n",
              "    <tr>\n",
              "      <th>data</th>\n",
              "      <td>{'created_at': '2021-05-08T21:00:00.000Z', 'id...</td>\n",
              "      <td>{'created_at': '2021-05-08T20:30:00.000Z', 'id...</td>\n",
              "      <td>{'created_at': '2021-05-08T20:02:15.000Z', 'id...</td>\n",
              "      <td>{'created_at': '2021-05-08T19:45:52.000Z', 'id...</td>\n",
              "      <td>{'created_at': '2021-05-08T18:30:00.000Z', 'id...</td>\n",
              "      <td>{'created_at': '2021-05-08T17:53:52.000Z', 'id...</td>\n",
              "      <td>{'created_at': '2021-05-08T17:25:00.000Z', 'id...</td>\n",
              "      <td>{'created_at': '2021-05-08T15:39:14.000Z', 'id...</td>\n",
              "      <td>{'created_at': '2021-05-08T14:53:04.000Z', 'id...</td>\n",
              "      <td>{'created_at': '2021-05-08T14:00:00.000Z', 'id...</td>\n",
              "      <td>...</td>\n",
              "      <td>{'created_at': '2021-05-02T20:22:16.000Z', 'id...</td>\n",
              "      <td>{'created_at': '2021-05-02T19:32:16.000Z', 'id...</td>\n",
              "      <td>{'created_at': '2021-05-02T18:00:00.000Z', 'id...</td>\n",
              "      <td>{'created_at': '2021-05-02T16:15:23.000Z', 'id...</td>\n",
              "      <td>{'created_at': '2021-05-02T16:15:18.000Z', 'id...</td>\n",
              "      <td>{'created_at': '2021-05-02T16:00:02.000Z', 'id...</td>\n",
              "      <td>{'created_at': '2021-05-02T15:40:08.000Z', 'id...</td>\n",
              "      <td>{'created_at': '2021-05-02T15:40:04.000Z', 'id...</td>\n",
              "      <td>{'created_at': '2021-05-02T15:22:49.000Z', 'id...</td>\n",
              "      <td>{'created_at': '2021-05-02T12:01:08.000Z', 'id...</td>\n",
              "    </tr>\n",
              "    <tr>\n",
              "      <th>meta</th>\n",
              "      <td>newest_id</td>\n",
              "      <td>oldest_id</td>\n",
              "      <td>result_count</td>\n",
              "      <td>None</td>\n",
              "      <td>None</td>\n",
              "      <td>None</td>\n",
              "      <td>None</td>\n",
              "      <td>None</td>\n",
              "      <td>None</td>\n",
              "      <td>None</td>\n",
              "      <td>...</td>\n",
              "      <td>None</td>\n",
              "      <td>None</td>\n",
              "      <td>None</td>\n",
              "      <td>None</td>\n",
              "      <td>None</td>\n",
              "      <td>None</td>\n",
              "      <td>None</td>\n",
              "      <td>None</td>\n",
              "      <td>None</td>\n",
              "      <td>None</td>\n",
              "    </tr>\n",
              "  </tbody>\n",
              "</table>\n",
              "<p>2 rows × 130 columns</p>\n",
              "</div>\n",
              "      <button class=\"colab-df-convert\" onclick=\"convertToInteractive('df-33feb8d8-c6e5-43d3-9628-32b2146aad32')\"\n",
              "              title=\"Convert this dataframe to an interactive table.\"\n",
              "              style=\"display:none;\">\n",
              "        \n",
              "  <svg xmlns=\"http://www.w3.org/2000/svg\" height=\"24px\"viewBox=\"0 0 24 24\"\n",
              "       width=\"24px\">\n",
              "    <path d=\"M0 0h24v24H0V0z\" fill=\"none\"/>\n",
              "    <path d=\"M18.56 5.44l.94 2.06.94-2.06 2.06-.94-2.06-.94-.94-2.06-.94 2.06-2.06.94zm-11 1L8.5 8.5l.94-2.06 2.06-.94-2.06-.94L8.5 2.5l-.94 2.06-2.06.94zm10 10l.94 2.06.94-2.06 2.06-.94-2.06-.94-.94-2.06-.94 2.06-2.06.94z\"/><path d=\"M17.41 7.96l-1.37-1.37c-.4-.4-.92-.59-1.43-.59-.52 0-1.04.2-1.43.59L10.3 9.45l-7.72 7.72c-.78.78-.78 2.05 0 2.83L4 21.41c.39.39.9.59 1.41.59.51 0 1.02-.2 1.41-.59l7.78-7.78 2.81-2.81c.8-.78.8-2.07 0-2.86zM5.41 20L4 18.59l7.72-7.72 1.47 1.35L5.41 20z\"/>\n",
              "  </svg>\n",
              "      </button>\n",
              "      \n",
              "  <style>\n",
              "    .colab-df-container {\n",
              "      display:flex;\n",
              "      flex-wrap:wrap;\n",
              "      gap: 12px;\n",
              "    }\n",
              "\n",
              "    .colab-df-convert {\n",
              "      background-color: #E8F0FE;\n",
              "      border: none;\n",
              "      border-radius: 50%;\n",
              "      cursor: pointer;\n",
              "      display: none;\n",
              "      fill: #1967D2;\n",
              "      height: 32px;\n",
              "      padding: 0 0 0 0;\n",
              "      width: 32px;\n",
              "    }\n",
              "\n",
              "    .colab-df-convert:hover {\n",
              "      background-color: #E2EBFA;\n",
              "      box-shadow: 0px 1px 2px rgba(60, 64, 67, 0.3), 0px 1px 3px 1px rgba(60, 64, 67, 0.15);\n",
              "      fill: #174EA6;\n",
              "    }\n",
              "\n",
              "    [theme=dark] .colab-df-convert {\n",
              "      background-color: #3B4455;\n",
              "      fill: #D2E3FC;\n",
              "    }\n",
              "\n",
              "    [theme=dark] .colab-df-convert:hover {\n",
              "      background-color: #434B5C;\n",
              "      box-shadow: 0px 1px 3px 1px rgba(0, 0, 0, 0.15);\n",
              "      filter: drop-shadow(0px 1px 2px rgba(0, 0, 0, 0.3));\n",
              "      fill: #FFFFFF;\n",
              "    }\n",
              "  </style>\n",
              "\n",
              "      <script>\n",
              "        const buttonEl =\n",
              "          document.querySelector('#df-33feb8d8-c6e5-43d3-9628-32b2146aad32 button.colab-df-convert');\n",
              "        buttonEl.style.display =\n",
              "          google.colab.kernel.accessAllowed ? 'block' : 'none';\n",
              "\n",
              "        async function convertToInteractive(key) {\n",
              "          const element = document.querySelector('#df-33feb8d8-c6e5-43d3-9628-32b2146aad32');\n",
              "          const dataTable =\n",
              "            await google.colab.kernel.invokeFunction('convertToInteractive',\n",
              "                                                     [key], {});\n",
              "          if (!dataTable) return;\n",
              "\n",
              "          const docLinkHtml = 'Like what you see? Visit the ' +\n",
              "            '<a target=\"_blank\" href=https://colab.research.google.com/notebooks/data_table.ipynb>data table notebook</a>'\n",
              "            + ' to learn more about interactive tables.';\n",
              "          element.innerHTML = '';\n",
              "          dataTable['output_type'] = 'display_data';\n",
              "          await google.colab.output.renderOutput(dataTable, element);\n",
              "          const docLink = document.createElement('div');\n",
              "          docLink.innerHTML = docLinkHtml;\n",
              "          element.appendChild(docLink);\n",
              "        }\n",
              "      </script>\n",
              "    </div>\n",
              "  </div>\n",
              "  "
            ]
          },
          "metadata": {},
          "execution_count": 41
        }
      ]
    },
    {
      "cell_type": "markdown",
      "source": [
        "Agora precisamos configurar nossa importação para que o formato de saída seja uma lista de dois elementos:\n",
        "- data - contendo os tweets\n",
        "- meta - contendo os dados gerais\n",
        "\n",
        "Com esta lista, poderemos selecionar 'data' e criar o dataframe com estes dados:"
      ],
      "metadata": {
        "id": "5wPA0-QrOs7k"
      }
    },
    {
      "cell_type": "code",
      "source": [
        "lista_data_meta = pd.read_json(\"tweets_colected_May_2_to_8_2022_0515190324.json\", orient=\"index\", typ=\"series\",dtype={\"created_at\", \"id\", \"text\"})"
      ],
      "metadata": {
        "id": "xi6BN_3WL3Mp"
      },
      "execution_count": null,
      "outputs": []
    },
    {
      "cell_type": "code",
      "source": [
        "lista_data_meta"
      ],
      "metadata": {
        "colab": {
          "base_uri": "https://localhost:8080/"
        },
        "id": "pJlUKl1gQa5v",
        "outputId": "7f29a485-767c-42c0-beda-def5be6667e8"
      },
      "execution_count": null,
      "outputs": [
        {
          "output_type": "execute_result",
          "data": {
            "text/plain": [
              "data    [{'created_at': '2021-05-08T21:00:00.000Z', 'i...\n",
              "meta    {'newest_id': '1391135820371931137', 'oldest_i...\n",
              "dtype: object"
            ]
          },
          "metadata": {},
          "execution_count": 43
        }
      ]
    },
    {
      "cell_type": "code",
      "source": [
        "lista_data_meta[1]"
      ],
      "metadata": {
        "colab": {
          "base_uri": "https://localhost:8080/"
        },
        "id": "6_9IRzBDQOX_",
        "outputId": "70cd4bf6-61d2-4072-97ee-b04da4446927"
      },
      "execution_count": null,
      "outputs": [
        {
          "output_type": "execute_result",
          "data": {
            "text/plain": [
              "{'newest_id': '1391135820371931137',\n",
              " 'oldest_id': '1388825883365060615',\n",
              " 'result_count': 130}"
            ]
          },
          "metadata": {},
          "execution_count": 44
        }
      ]
    },
    {
      "cell_type": "code",
      "source": [
        "pddf_json_data = pd.DataFrame(lista_data_meta['data'])\n",
        "pddf_json_data"
      ],
      "metadata": {
        "colab": {
          "base_uri": "https://localhost:8080/",
          "height": 424
        },
        "id": "cBPnYkpHQNSU",
        "outputId": "8c953f4d-72ad-4266-c228-157777a74d9e"
      },
      "execution_count": null,
      "outputs": [
        {
          "output_type": "execute_result",
          "data": {
            "text/plain": [
              "                   created_at                   id  \\\n",
              "0    2021-05-08T21:00:00.000Z  1391135820371931137   \n",
              "1    2021-05-08T20:30:00.000Z  1391128270721241089   \n",
              "2    2021-05-08T20:02:15.000Z  1391121287343452165   \n",
              "3    2021-05-08T19:45:52.000Z  1391117164141219840   \n",
              "4    2021-05-08T18:30:00.000Z  1391098071388332039   \n",
              "..                        ...                  ...   \n",
              "125  2021-05-02T16:00:02.000Z  1388886003293822976   \n",
              "126  2021-05-02T15:40:08.000Z  1388880997001875462   \n",
              "127  2021-05-02T15:40:04.000Z  1388880978882482177   \n",
              "128  2021-05-02T15:22:49.000Z  1388876640571305990   \n",
              "129  2021-05-02T12:01:08.000Z  1388825883365060615   \n",
              "\n",
              "                                                  text  \n",
              "0    #Cuba relatou mais de 1.000 novas infecções po...  \n",
              "1    A #Argentina relatou na quinta-feira 24.086 no...  \n",
              "2    #COVID: #NUOVA #ONDATA di #CONTAGI entro #FINE...  \n",
              "3    Estado de São Paulo ultrapassa 100 mil mortes ...  \n",
              "4    A Organização Mundial da Saúde (#OMS) validou ...  \n",
              "..                                                 ...  \n",
              "125  A parte continental da #China relatou no sábad...  \n",
              "126  O número ainda é inferior ao registrado por Br...  \n",
              "127  O número ainda é inferior ao registrado por Br...  \n",
              "128  O presidente do #Chile, Sebastián Piñera, anun...  \n",
              "129  📱 O aplicativo #ConecteSUS reúne vários serviç...  \n",
              "\n",
              "[130 rows x 3 columns]"
            ],
            "text/html": [
              "\n",
              "  <div id=\"df-d5351af2-fcbf-420f-9534-b80f5323f4f3\">\n",
              "    <div class=\"colab-df-container\">\n",
              "      <div>\n",
              "<style scoped>\n",
              "    .dataframe tbody tr th:only-of-type {\n",
              "        vertical-align: middle;\n",
              "    }\n",
              "\n",
              "    .dataframe tbody tr th {\n",
              "        vertical-align: top;\n",
              "    }\n",
              "\n",
              "    .dataframe thead th {\n",
              "        text-align: right;\n",
              "    }\n",
              "</style>\n",
              "<table border=\"1\" class=\"dataframe\">\n",
              "  <thead>\n",
              "    <tr style=\"text-align: right;\">\n",
              "      <th></th>\n",
              "      <th>created_at</th>\n",
              "      <th>id</th>\n",
              "      <th>text</th>\n",
              "    </tr>\n",
              "  </thead>\n",
              "  <tbody>\n",
              "    <tr>\n",
              "      <th>0</th>\n",
              "      <td>2021-05-08T21:00:00.000Z</td>\n",
              "      <td>1391135820371931137</td>\n",
              "      <td>#Cuba relatou mais de 1.000 novas infecções po...</td>\n",
              "    </tr>\n",
              "    <tr>\n",
              "      <th>1</th>\n",
              "      <td>2021-05-08T20:30:00.000Z</td>\n",
              "      <td>1391128270721241089</td>\n",
              "      <td>A #Argentina relatou na quinta-feira 24.086 no...</td>\n",
              "    </tr>\n",
              "    <tr>\n",
              "      <th>2</th>\n",
              "      <td>2021-05-08T20:02:15.000Z</td>\n",
              "      <td>1391121287343452165</td>\n",
              "      <td>#COVID: #NUOVA #ONDATA di #CONTAGI entro #FINE...</td>\n",
              "    </tr>\n",
              "    <tr>\n",
              "      <th>3</th>\n",
              "      <td>2021-05-08T19:45:52.000Z</td>\n",
              "      <td>1391117164141219840</td>\n",
              "      <td>Estado de São Paulo ultrapassa 100 mil mortes ...</td>\n",
              "    </tr>\n",
              "    <tr>\n",
              "      <th>4</th>\n",
              "      <td>2021-05-08T18:30:00.000Z</td>\n",
              "      <td>1391098071388332039</td>\n",
              "      <td>A Organização Mundial da Saúde (#OMS) validou ...</td>\n",
              "    </tr>\n",
              "    <tr>\n",
              "      <th>...</th>\n",
              "      <td>...</td>\n",
              "      <td>...</td>\n",
              "      <td>...</td>\n",
              "    </tr>\n",
              "    <tr>\n",
              "      <th>125</th>\n",
              "      <td>2021-05-02T16:00:02.000Z</td>\n",
              "      <td>1388886003293822976</td>\n",
              "      <td>A parte continental da #China relatou no sábad...</td>\n",
              "    </tr>\n",
              "    <tr>\n",
              "      <th>126</th>\n",
              "      <td>2021-05-02T15:40:08.000Z</td>\n",
              "      <td>1388880997001875462</td>\n",
              "      <td>O número ainda é inferior ao registrado por Br...</td>\n",
              "    </tr>\n",
              "    <tr>\n",
              "      <th>127</th>\n",
              "      <td>2021-05-02T15:40:04.000Z</td>\n",
              "      <td>1388880978882482177</td>\n",
              "      <td>O número ainda é inferior ao registrado por Br...</td>\n",
              "    </tr>\n",
              "    <tr>\n",
              "      <th>128</th>\n",
              "      <td>2021-05-02T15:22:49.000Z</td>\n",
              "      <td>1388876640571305990</td>\n",
              "      <td>O presidente do #Chile, Sebastián Piñera, anun...</td>\n",
              "    </tr>\n",
              "    <tr>\n",
              "      <th>129</th>\n",
              "      <td>2021-05-02T12:01:08.000Z</td>\n",
              "      <td>1388825883365060615</td>\n",
              "      <td>📱 O aplicativo #ConecteSUS reúne vários serviç...</td>\n",
              "    </tr>\n",
              "  </tbody>\n",
              "</table>\n",
              "<p>130 rows × 3 columns</p>\n",
              "</div>\n",
              "      <button class=\"colab-df-convert\" onclick=\"convertToInteractive('df-d5351af2-fcbf-420f-9534-b80f5323f4f3')\"\n",
              "              title=\"Convert this dataframe to an interactive table.\"\n",
              "              style=\"display:none;\">\n",
              "        \n",
              "  <svg xmlns=\"http://www.w3.org/2000/svg\" height=\"24px\"viewBox=\"0 0 24 24\"\n",
              "       width=\"24px\">\n",
              "    <path d=\"M0 0h24v24H0V0z\" fill=\"none\"/>\n",
              "    <path d=\"M18.56 5.44l.94 2.06.94-2.06 2.06-.94-2.06-.94-.94-2.06-.94 2.06-2.06.94zm-11 1L8.5 8.5l.94-2.06 2.06-.94-2.06-.94L8.5 2.5l-.94 2.06-2.06.94zm10 10l.94 2.06.94-2.06 2.06-.94-2.06-.94-.94-2.06-.94 2.06-2.06.94z\"/><path d=\"M17.41 7.96l-1.37-1.37c-.4-.4-.92-.59-1.43-.59-.52 0-1.04.2-1.43.59L10.3 9.45l-7.72 7.72c-.78.78-.78 2.05 0 2.83L4 21.41c.39.39.9.59 1.41.59.51 0 1.02-.2 1.41-.59l7.78-7.78 2.81-2.81c.8-.78.8-2.07 0-2.86zM5.41 20L4 18.59l7.72-7.72 1.47 1.35L5.41 20z\"/>\n",
              "  </svg>\n",
              "      </button>\n",
              "      \n",
              "  <style>\n",
              "    .colab-df-container {\n",
              "      display:flex;\n",
              "      flex-wrap:wrap;\n",
              "      gap: 12px;\n",
              "    }\n",
              "\n",
              "    .colab-df-convert {\n",
              "      background-color: #E8F0FE;\n",
              "      border: none;\n",
              "      border-radius: 50%;\n",
              "      cursor: pointer;\n",
              "      display: none;\n",
              "      fill: #1967D2;\n",
              "      height: 32px;\n",
              "      padding: 0 0 0 0;\n",
              "      width: 32px;\n",
              "    }\n",
              "\n",
              "    .colab-df-convert:hover {\n",
              "      background-color: #E2EBFA;\n",
              "      box-shadow: 0px 1px 2px rgba(60, 64, 67, 0.3), 0px 1px 3px 1px rgba(60, 64, 67, 0.15);\n",
              "      fill: #174EA6;\n",
              "    }\n",
              "\n",
              "    [theme=dark] .colab-df-convert {\n",
              "      background-color: #3B4455;\n",
              "      fill: #D2E3FC;\n",
              "    }\n",
              "\n",
              "    [theme=dark] .colab-df-convert:hover {\n",
              "      background-color: #434B5C;\n",
              "      box-shadow: 0px 1px 3px 1px rgba(0, 0, 0, 0.15);\n",
              "      filter: drop-shadow(0px 1px 2px rgba(0, 0, 0, 0.3));\n",
              "      fill: #FFFFFF;\n",
              "    }\n",
              "  </style>\n",
              "\n",
              "      <script>\n",
              "        const buttonEl =\n",
              "          document.querySelector('#df-d5351af2-fcbf-420f-9534-b80f5323f4f3 button.colab-df-convert');\n",
              "        buttonEl.style.display =\n",
              "          google.colab.kernel.accessAllowed ? 'block' : 'none';\n",
              "\n",
              "        async function convertToInteractive(key) {\n",
              "          const element = document.querySelector('#df-d5351af2-fcbf-420f-9534-b80f5323f4f3');\n",
              "          const dataTable =\n",
              "            await google.colab.kernel.invokeFunction('convertToInteractive',\n",
              "                                                     [key], {});\n",
              "          if (!dataTable) return;\n",
              "\n",
              "          const docLinkHtml = 'Like what you see? Visit the ' +\n",
              "            '<a target=\"_blank\" href=https://colab.research.google.com/notebooks/data_table.ipynb>data table notebook</a>'\n",
              "            + ' to learn more about interactive tables.';\n",
              "          element.innerHTML = '';\n",
              "          dataTable['output_type'] = 'display_data';\n",
              "          await google.colab.output.renderOutput(dataTable, element);\n",
              "          const docLink = document.createElement('div');\n",
              "          docLink.innerHTML = docLinkHtml;\n",
              "          element.appendChild(docLink);\n",
              "        }\n",
              "      </script>\n",
              "    </div>\n",
              "  </div>\n",
              "  "
            ]
          },
          "metadata": {},
          "execution_count": 45
        }
      ]
    },
    {
      "cell_type": "markdown",
      "source": [
        "#### Alterar dados do dataframe para salvar novo JSON"
      ],
      "metadata": {
        "id": "fxp6bVP7-UrH"
      }
    },
    {
      "cell_type": "code",
      "source": [
        "pddf_json_data = pddf_json_data[:2]"
      ],
      "metadata": {
        "id": "s0nP6rrv-X7J"
      },
      "execution_count": null,
      "outputs": []
    },
    {
      "cell_type": "code",
      "source": [
        "pddf_json_data"
      ],
      "metadata": {
        "colab": {
          "base_uri": "https://localhost:8080/",
          "height": 112
        },
        "id": "V-8MOGw9-dz_",
        "outputId": "d33ac042-eeea-4d05-ca87-ee273632534e"
      },
      "execution_count": null,
      "outputs": [
        {
          "output_type": "execute_result",
          "data": {
            "text/plain": [
              "                 created_at                   id  \\\n",
              "0  2021-05-08T21:00:00.000Z  1391135820371931137   \n",
              "1  2021-05-08T20:30:00.000Z  1391128270721241089   \n",
              "\n",
              "                                                text  \n",
              "0  #Cuba relatou mais de 1.000 novas infecções po...  \n",
              "1  A #Argentina relatou na quinta-feira 24.086 no...  "
            ],
            "text/html": [
              "\n",
              "  <div id=\"df-a37ec41f-e6e1-4eda-bfaf-fe15f0873cfb\">\n",
              "    <div class=\"colab-df-container\">\n",
              "      <div>\n",
              "<style scoped>\n",
              "    .dataframe tbody tr th:only-of-type {\n",
              "        vertical-align: middle;\n",
              "    }\n",
              "\n",
              "    .dataframe tbody tr th {\n",
              "        vertical-align: top;\n",
              "    }\n",
              "\n",
              "    .dataframe thead th {\n",
              "        text-align: right;\n",
              "    }\n",
              "</style>\n",
              "<table border=\"1\" class=\"dataframe\">\n",
              "  <thead>\n",
              "    <tr style=\"text-align: right;\">\n",
              "      <th></th>\n",
              "      <th>created_at</th>\n",
              "      <th>id</th>\n",
              "      <th>text</th>\n",
              "    </tr>\n",
              "  </thead>\n",
              "  <tbody>\n",
              "    <tr>\n",
              "      <th>0</th>\n",
              "      <td>2021-05-08T21:00:00.000Z</td>\n",
              "      <td>1391135820371931137</td>\n",
              "      <td>#Cuba relatou mais de 1.000 novas infecções po...</td>\n",
              "    </tr>\n",
              "    <tr>\n",
              "      <th>1</th>\n",
              "      <td>2021-05-08T20:30:00.000Z</td>\n",
              "      <td>1391128270721241089</td>\n",
              "      <td>A #Argentina relatou na quinta-feira 24.086 no...</td>\n",
              "    </tr>\n",
              "  </tbody>\n",
              "</table>\n",
              "</div>\n",
              "      <button class=\"colab-df-convert\" onclick=\"convertToInteractive('df-a37ec41f-e6e1-4eda-bfaf-fe15f0873cfb')\"\n",
              "              title=\"Convert this dataframe to an interactive table.\"\n",
              "              style=\"display:none;\">\n",
              "        \n",
              "  <svg xmlns=\"http://www.w3.org/2000/svg\" height=\"24px\"viewBox=\"0 0 24 24\"\n",
              "       width=\"24px\">\n",
              "    <path d=\"M0 0h24v24H0V0z\" fill=\"none\"/>\n",
              "    <path d=\"M18.56 5.44l.94 2.06.94-2.06 2.06-.94-2.06-.94-.94-2.06-.94 2.06-2.06.94zm-11 1L8.5 8.5l.94-2.06 2.06-.94-2.06-.94L8.5 2.5l-.94 2.06-2.06.94zm10 10l.94 2.06.94-2.06 2.06-.94-2.06-.94-.94-2.06-.94 2.06-2.06.94z\"/><path d=\"M17.41 7.96l-1.37-1.37c-.4-.4-.92-.59-1.43-.59-.52 0-1.04.2-1.43.59L10.3 9.45l-7.72 7.72c-.78.78-.78 2.05 0 2.83L4 21.41c.39.39.9.59 1.41.59.51 0 1.02-.2 1.41-.59l7.78-7.78 2.81-2.81c.8-.78.8-2.07 0-2.86zM5.41 20L4 18.59l7.72-7.72 1.47 1.35L5.41 20z\"/>\n",
              "  </svg>\n",
              "      </button>\n",
              "      \n",
              "  <style>\n",
              "    .colab-df-container {\n",
              "      display:flex;\n",
              "      flex-wrap:wrap;\n",
              "      gap: 12px;\n",
              "    }\n",
              "\n",
              "    .colab-df-convert {\n",
              "      background-color: #E8F0FE;\n",
              "      border: none;\n",
              "      border-radius: 50%;\n",
              "      cursor: pointer;\n",
              "      display: none;\n",
              "      fill: #1967D2;\n",
              "      height: 32px;\n",
              "      padding: 0 0 0 0;\n",
              "      width: 32px;\n",
              "    }\n",
              "\n",
              "    .colab-df-convert:hover {\n",
              "      background-color: #E2EBFA;\n",
              "      box-shadow: 0px 1px 2px rgba(60, 64, 67, 0.3), 0px 1px 3px 1px rgba(60, 64, 67, 0.15);\n",
              "      fill: #174EA6;\n",
              "    }\n",
              "\n",
              "    [theme=dark] .colab-df-convert {\n",
              "      background-color: #3B4455;\n",
              "      fill: #D2E3FC;\n",
              "    }\n",
              "\n",
              "    [theme=dark] .colab-df-convert:hover {\n",
              "      background-color: #434B5C;\n",
              "      box-shadow: 0px 1px 3px 1px rgba(0, 0, 0, 0.15);\n",
              "      filter: drop-shadow(0px 1px 2px rgba(0, 0, 0, 0.3));\n",
              "      fill: #FFFFFF;\n",
              "    }\n",
              "  </style>\n",
              "\n",
              "      <script>\n",
              "        const buttonEl =\n",
              "          document.querySelector('#df-a37ec41f-e6e1-4eda-bfaf-fe15f0873cfb button.colab-df-convert');\n",
              "        buttonEl.style.display =\n",
              "          google.colab.kernel.accessAllowed ? 'block' : 'none';\n",
              "\n",
              "        async function convertToInteractive(key) {\n",
              "          const element = document.querySelector('#df-a37ec41f-e6e1-4eda-bfaf-fe15f0873cfb');\n",
              "          const dataTable =\n",
              "            await google.colab.kernel.invokeFunction('convertToInteractive',\n",
              "                                                     [key], {});\n",
              "          if (!dataTable) return;\n",
              "\n",
              "          const docLinkHtml = 'Like what you see? Visit the ' +\n",
              "            '<a target=\"_blank\" href=https://colab.research.google.com/notebooks/data_table.ipynb>data table notebook</a>'\n",
              "            + ' to learn more about interactive tables.';\n",
              "          element.innerHTML = '';\n",
              "          dataTable['output_type'] = 'display_data';\n",
              "          await google.colab.output.renderOutput(dataTable, element);\n",
              "          const docLink = document.createElement('div');\n",
              "          docLink.innerHTML = docLinkHtml;\n",
              "          element.appendChild(docLink);\n",
              "        }\n",
              "      </script>\n",
              "    </div>\n",
              "  </div>\n",
              "  "
            ]
          },
          "metadata": {},
          "execution_count": 47
        }
      ]
    },
    {
      "cell_type": "code",
      "source": [
        "lista_data_meta[1]"
      ],
      "metadata": {
        "colab": {
          "base_uri": "https://localhost:8080/"
        },
        "id": "xhoMHr9Z-ipu",
        "outputId": "020c016b-ebc6-4a17-8ebb-a71c5c95f7cc"
      },
      "execution_count": null,
      "outputs": [
        {
          "output_type": "execute_result",
          "data": {
            "text/plain": [
              "{'newest_id': '1391135820371931137',\n",
              " 'oldest_id': '1388825883365060615',\n",
              " 'result_count': 130}"
            ]
          },
          "metadata": {},
          "execution_count": 48
        }
      ]
    },
    {
      "cell_type": "code",
      "source": [
        "meta_novo = lista_data_meta[1].copy()"
      ],
      "metadata": {
        "id": "y9_B7AeK-_9q"
      },
      "execution_count": null,
      "outputs": []
    },
    {
      "cell_type": "code",
      "source": [
        "meta_novo['oldest_id'] = \"1391128270721241089\"\n",
        "meta_novo['result_count'] = 2"
      ],
      "metadata": {
        "id": "eOzuFpo--n-z"
      },
      "execution_count": null,
      "outputs": []
    },
    {
      "cell_type": "code",
      "source": [
        "meta_novo"
      ],
      "metadata": {
        "colab": {
          "base_uri": "https://localhost:8080/"
        },
        "id": "6RZAdDwW-3Ox",
        "outputId": "f3afbf36-5082-4671-d39f-744c961321ca"
      },
      "execution_count": null,
      "outputs": [
        {
          "output_type": "execute_result",
          "data": {
            "text/plain": [
              "{'newest_id': '1391135820371931137',\n",
              " 'oldest_id': '1391128270721241089',\n",
              " 'result_count': 2}"
            ]
          },
          "metadata": {},
          "execution_count": 51
        }
      ]
    },
    {
      "cell_type": "markdown",
      "source": [
        "#### Persistindo aqui: JSON com PANDAS\n",
        "Para salvar dados de um pandas dataframe em um formato JSON, devemos informar qual será a estrutura do arquivo:"
      ],
      "metadata": {
        "id": "HlfaO1nnRm0g"
      }
    },
    {
      "cell_type": "code",
      "source": [
        "string_json = pddf_json_data.to_json()\n",
        "print(string_json)"
      ],
      "metadata": {
        "colab": {
          "base_uri": "https://localhost:8080/"
        },
        "id": "Eyq3YBiOR3l3",
        "outputId": "6fb9a20a-6a02-4f8c-bdd5-58c80f55ed16"
      },
      "execution_count": null,
      "outputs": [
        {
          "output_type": "stream",
          "name": "stdout",
          "text": [
            "{\"created_at\":{\"0\":\"2021-05-08T21:00:00.000Z\",\"1\":\"2021-05-08T20:30:00.000Z\"},\"id\":{\"0\":\"1391135820371931137\",\"1\":\"1391128270721241089\"},\"text\":{\"0\":\"#Cuba relatou mais de 1.000 novas infec\\u00e7\\u00f5es por #COVID-19 pelo terceiro dia consecutivo, com 1.060 casos, totalizando 112.714, afirmou o Minist\\u00e9rio da Sa\\u00fade P\\u00fablica, acrescentando que houve outras sete mortes relatadas, elevando o total para 701.\\n\\nhttps:\\/\\/t.co\\/U05loLcfTH https:\\/\\/t.co\\/ahLZ9IrxOD\",\"1\":\"A #Argentina relatou na quinta-feira 24.086 novas infec\\u00e7\\u00f5es por #COVID-19 e 399 mortes nas \\u00faltimas 24 horas, elevando a contagem para 3.095.582 casos e 66.263 mortes.\\n\\nhttps:\\/\\/t.co\\/xZKWs97L3S https:\\/\\/t.co\\/WIZbblWMI7\"}}\n"
          ]
        }
      ]
    },
    {
      "cell_type": "markdown",
      "source": [
        "Para visualizarmos melhor o resultado JSON, podemos usar o argumento, indent com o número de espaços para indentação ou a biblioteca json:"
      ],
      "metadata": {
        "id": "t1of_EZWVYKx"
      }
    },
    {
      "cell_type": "code",
      "source": [
        "#Com a biblioteca json:\n",
        "import json\n",
        "parseado = json.loads(string_json)\n",
        "print(json.dumps(parseado, indent=4, sort_keys=True))"
      ],
      "metadata": {
        "colab": {
          "base_uri": "https://localhost:8080/"
        },
        "id": "K-vnCBOlU2s6",
        "outputId": "49936a7d-9509-48a1-b75c-d2eebaef0b55"
      },
      "execution_count": null,
      "outputs": [
        {
          "output_type": "stream",
          "name": "stdout",
          "text": [
            "{\n",
            "    \"created_at\": {\n",
            "        \"0\": \"2021-05-08T21:00:00.000Z\",\n",
            "        \"1\": \"2021-05-08T20:30:00.000Z\"\n",
            "    },\n",
            "    \"id\": {\n",
            "        \"0\": \"1391135820371931137\",\n",
            "        \"1\": \"1391128270721241089\"\n",
            "    },\n",
            "    \"text\": {\n",
            "        \"0\": \"#Cuba relatou mais de 1.000 novas infec\\u00e7\\u00f5es por #COVID-19 pelo terceiro dia consecutivo, com 1.060 casos, totalizando 112.714, afirmou o Minist\\u00e9rio da Sa\\u00fade P\\u00fablica, acrescentando que houve outras sete mortes relatadas, elevando o total para 701.\\n\\nhttps://t.co/U05loLcfTH https://t.co/ahLZ9IrxOD\",\n",
            "        \"1\": \"A #Argentina relatou na quinta-feira 24.086 novas infec\\u00e7\\u00f5es por #COVID-19 e 399 mortes nas \\u00faltimas 24 horas, elevando a contagem para 3.095.582 casos e 66.263 mortes.\\n\\nhttps://t.co/xZKWs97L3S https://t.co/WIZbblWMI7\"\n",
            "    }\n",
            "}\n"
          ]
        }
      ]
    },
    {
      "cell_type": "code",
      "source": [
        "# Com o argumento indent igual a 4:\n",
        "string_json = pddf_json_data.to_json(indent=4)\n",
        "print(string_json)"
      ],
      "metadata": {
        "colab": {
          "base_uri": "https://localhost:8080/"
        },
        "id": "dGV-8Vk1y-cH",
        "outputId": "2bbe74c7-0202-4c6c-99ad-e01ff4d27c14"
      },
      "execution_count": null,
      "outputs": [
        {
          "output_type": "stream",
          "name": "stdout",
          "text": [
            "{\n",
            "    \"created_at\":{\n",
            "        \"0\":\"2021-05-08T21:00:00.000Z\",\n",
            "        \"1\":\"2021-05-08T20:30:00.000Z\"\n",
            "    },\n",
            "    \"id\":{\n",
            "        \"0\":\"1391135820371931137\",\n",
            "        \"1\":\"1391128270721241089\"\n",
            "    },\n",
            "    \"text\":{\n",
            "        \"0\":\"#Cuba relatou mais de 1.000 novas infec\\u00e7\\u00f5es por #COVID-19 pelo terceiro dia consecutivo, com 1.060 casos, totalizando 112.714, afirmou o Minist\\u00e9rio da Sa\\u00fade P\\u00fablica, acrescentando que houve outras sete mortes relatadas, elevando o total para 701.\\n\\nhttps:\\/\\/t.co\\/U05loLcfTH https:\\/\\/t.co\\/ahLZ9IrxOD\",\n",
            "        \"1\":\"A #Argentina relatou na quinta-feira 24.086 novas infec\\u00e7\\u00f5es por #COVID-19 e 399 mortes nas \\u00faltimas 24 horas, elevando a contagem para 3.095.582 casos e 66.263 mortes.\\n\\nhttps:\\/\\/t.co\\/xZKWs97L3S https:\\/\\/t.co\\/WIZbblWMI7\"\n",
            "    }\n",
            "}\n"
          ]
        }
      ]
    },
    {
      "cell_type": "markdown",
      "source": [
        "Percebemos que o resultado não ficou como esperávamos. Teremos que configurar mais alguns argumentos do método to_json do pandas:\n",
        "\n",
        "- orient = \"table\"\n",
        "  - Para configurar o formato de interpretação dos dados do dataframe para o json em tabela (cada linha como um dado completo e o nome das colunas como chaves dos dados)\n",
        "- force_ascii = False\n",
        "  Não forçar a codificação em ASCII para que as acentuações apareçam corretamente.\n",
        "- index = False\n",
        "  - Para que o arquivo json não receba a coluna index criada automaticamento na criação do dataframe\n",
        "- indent = 4 \n",
        "  - Para configurar indentação da saída com print (apenas visualização)\n"
      ],
      "metadata": {
        "id": "LDF2QPfXVluB"
      }
    },
    {
      "cell_type": "code",
      "source": [
        "string_json = pddf_json_data.to_json(orient=\"records\", force_ascii=False, indent=4, lines=False)\n",
        "print(string_json)"
      ],
      "metadata": {
        "colab": {
          "base_uri": "https://localhost:8080/"
        },
        "id": "qr_X0q7DXN5O",
        "outputId": "2ab2fdeb-b618-4124-ad53-fd23ee1e5e16"
      },
      "execution_count": null,
      "outputs": [
        {
          "output_type": "stream",
          "name": "stdout",
          "text": [
            "[\n",
            "    {\n",
            "        \"created_at\":\"2021-05-08T21:00:00.000Z\",\n",
            "        \"id\":\"1391135820371931137\",\n",
            "        \"text\":\"#Cuba relatou mais de 1.000 novas infecções por #COVID-19 pelo terceiro dia consecutivo, com 1.060 casos, totalizando 112.714, afirmou o Ministério da Saúde Pública, acrescentando que houve outras sete mortes relatadas, elevando o total para 701.\\n\\nhttps:\\/\\/t.co\\/U05loLcfTH https:\\/\\/t.co\\/ahLZ9IrxOD\"\n",
            "    },\n",
            "    {\n",
            "        \"created_at\":\"2021-05-08T20:30:00.000Z\",\n",
            "        \"id\":\"1391128270721241089\",\n",
            "        \"text\":\"A #Argentina relatou na quinta-feira 24.086 novas infecções por #COVID-19 e 399 mortes nas últimas 24 horas, elevando a contagem para 3.095.582 casos e 66.263 mortes.\\n\\nhttps:\\/\\/t.co\\/xZKWs97L3S https:\\/\\/t.co\\/WIZbblWMI7\"\n",
            "    }\n",
            "]\n"
          ]
        }
      ]
    },
    {
      "cell_type": "code",
      "source": [
        "pddf_json_data.to_json(\"dois_tweets_sem_metadados.json\", orient=\"records\", force_ascii=False, indent=4, lines=False)"
      ],
      "metadata": {
        "id": "UajKRbkTBQmV"
      },
      "execution_count": null,
      "outputs": []
    },
    {
      "cell_type": "code",
      "source": [
        "!cat dois_tweets_sem_metadados.json"
      ],
      "metadata": {
        "colab": {
          "base_uri": "https://localhost:8080/"
        },
        "id": "V-0nDxYlBZJr",
        "outputId": "73a272e5-c8be-43cf-c8ea-3919c7020952"
      },
      "execution_count": null,
      "outputs": [
        {
          "output_type": "stream",
          "name": "stdout",
          "text": [
            "[\n",
            "    {\n",
            "        \"created_at\":\"2021-05-08T21:00:00.000Z\",\n",
            "        \"id\":\"1391135820371931137\",\n",
            "        \"text\":\"#Cuba relatou mais de 1.000 novas infecções por #COVID-19 pelo terceiro dia consecutivo, com 1.060 casos, totalizando 112.714, afirmou o Ministério da Saúde Pública, acrescentando que houve outras sete mortes relatadas, elevando o total para 701.\\n\\nhttps:\\/\\/t.co\\/U05loLcfTH https:\\/\\/t.co\\/ahLZ9IrxOD\"\n",
            "    },\n",
            "    {\n",
            "        \"created_at\":\"2021-05-08T20:30:00.000Z\",\n",
            "        \"id\":\"1391128270721241089\",\n",
            "        \"text\":\"A #Argentina relatou na quinta-feira 24.086 novas infecções por #COVID-19 e 399 mortes nas últimas 24 horas, elevando a contagem para 3.095.582 casos e 66.263 mortes.\\n\\nhttps:\\/\\/t.co\\/xZKWs97L3S https:\\/\\/t.co\\/WIZbblWMI7\"\n",
            "    }\n",
            "]"
          ]
        }
      ]
    },
    {
      "cell_type": "code",
      "source": [
        "string_json = pddf_json_data.to_json(orient=\"table\", force_ascii=False, index=False)\n",
        "parseado = json.loads(string_json)\n",
        "print(json.dumps(parseado, indent=4, ensure_ascii=False, sort_keys=True))"
      ],
      "metadata": {
        "colab": {
          "base_uri": "https://localhost:8080/"
        },
        "id": "boAn2z9LVvVD",
        "outputId": "7d60d50c-7340-4316-c739-125ac0e6ce50"
      },
      "execution_count": null,
      "outputs": [
        {
          "output_type": "stream",
          "name": "stdout",
          "text": [
            "{\n",
            "    \"data\": [\n",
            "        {\n",
            "            \"created_at\": \"2021-05-08T21:00:00.000Z\",\n",
            "            \"id\": \"1391135820371931137\",\n",
            "            \"text\": \"#Cuba relatou mais de 1.000 novas infecções por #COVID-19 pelo terceiro dia consecutivo, com 1.060 casos, totalizando 112.714, afirmou o Ministério da Saúde Pública, acrescentando que houve outras sete mortes relatadas, elevando o total para 701.\\n\\nhttps://t.co/U05loLcfTH https://t.co/ahLZ9IrxOD\"\n",
            "        },\n",
            "        {\n",
            "            \"created_at\": \"2021-05-08T20:30:00.000Z\",\n",
            "            \"id\": \"1391128270721241089\",\n",
            "            \"text\": \"A #Argentina relatou na quinta-feira 24.086 novas infecções por #COVID-19 e 399 mortes nas últimas 24 horas, elevando a contagem para 3.095.582 casos e 66.263 mortes.\\n\\nhttps://t.co/xZKWs97L3S https://t.co/WIZbblWMI7\"\n",
            "        }\n",
            "    ],\n",
            "    \"schema\": {\n",
            "        \"fields\": [\n",
            "            {\n",
            "                \"name\": \"created_at\",\n",
            "                \"type\": \"string\"\n",
            "            },\n",
            "            {\n",
            "                \"name\": \"id\",\n",
            "                \"type\": \"string\"\n",
            "            },\n",
            "            {\n",
            "                \"name\": \"text\",\n",
            "                \"type\": \"string\"\n",
            "            }\n",
            "        ],\n",
            "        \"pandas_version\": \"0.20.0\"\n",
            "    }\n",
            "}\n"
          ]
        }
      ]
    },
    {
      "cell_type": "markdown",
      "source": [
        "- Se usarmos orient igual a records, temos os dados, mas sem a chave \"data\" e nem os metadados.\n",
        "\n",
        "- Se usarmos orient igual a table,  temos os dados com a chave \"data\", mas sem os metadados.\n",
        "\n",
        "Para criarmos um arquivo JSON no mesmo formato do original, teremos que montar uma string que contenha tanto os dados quanto os metadados e ainda, dentro destra string, teremos que garantir que os dados possuem uma chave de nome \"data\" e os metadados de nome \"meta\".\n",
        "\n",
        "Sendo assim, antes de criarmos a string final, teremos que criar um dicionário que tenha a chave \"data\" com valor igual à saída json anterior com orient=\"records\" porém em formato de diconário e outra chave \"meta\" com o valor igual aos metadados, que já estão em formato de dicionário:"
      ],
      "metadata": {
        "id": "c5aSqFNuDstQ"
      }
    },
    {
      "cell_type": "code",
      "source": [
        "data = json.loads(pddf_json_data.to_json(orient=\"records\", force_ascii=False, lines=False))\n",
        "meta = meta_novo\n",
        "\n",
        "string_json = json.dumps({\"data\":data,\"meta\":meta}, ensure_ascii=False, indent = 4)\n",
        "\n",
        "print(string_json)"
      ],
      "metadata": {
        "colab": {
          "base_uri": "https://localhost:8080/"
        },
        "id": "tQmUohzx-Cj_",
        "outputId": "eaa6bbe0-803c-499e-b0e3-7dccc1bcd481"
      },
      "execution_count": null,
      "outputs": [
        {
          "output_type": "stream",
          "name": "stdout",
          "text": [
            "{\n",
            "    \"data\": [\n",
            "        {\n",
            "            \"created_at\": \"2021-05-08T21:00:00.000Z\",\n",
            "            \"id\": \"1391135820371931137\",\n",
            "            \"text\": \"#Cuba relatou mais de 1.000 novas infecções por #COVID-19 pelo terceiro dia consecutivo, com 1.060 casos, totalizando 112.714, afirmou o Ministério da Saúde Pública, acrescentando que houve outras sete mortes relatadas, elevando o total para 701.\\n\\nhttps://t.co/U05loLcfTH https://t.co/ahLZ9IrxOD\"\n",
            "        },\n",
            "        {\n",
            "            \"created_at\": \"2021-05-08T20:30:00.000Z\",\n",
            "            \"id\": \"1391128270721241089\",\n",
            "            \"text\": \"A #Argentina relatou na quinta-feira 24.086 novas infecções por #COVID-19 e 399 mortes nas últimas 24 horas, elevando a contagem para 3.095.582 casos e 66.263 mortes.\\n\\nhttps://t.co/xZKWs97L3S https://t.co/WIZbblWMI7\"\n",
            "        }\n",
            "    ],\n",
            "    \"meta\": {\n",
            "        \"newest_id\": \"1391135820371931137\",\n",
            "        \"oldest_id\": \"1391128270721241089\",\n",
            "        \"result_count\": 2\n",
            "    }\n",
            "}\n"
          ]
        }
      ]
    },
    {
      "cell_type": "markdown",
      "source": [
        "Para salvarmos este resultado em um arquivo, basta abrirmos o arquivo no gerenciador de contexto (with) e realizarmos o json.dump() dentro dele:"
      ],
      "metadata": {
        "id": "eMi11a9eFntd"
      }
    },
    {
      "cell_type": "code",
      "source": [
        "with open('dois_tweets.json', 'w', encoding='utf-8') as arquivo_aberto:\n",
        "    json.dump({\"data\":data,\"meta\":meta}, arquivo_aberto, ensure_ascii=False, indent = 4)"
      ],
      "metadata": {
        "id": "TAhHKrRdAWyH"
      },
      "execution_count": null,
      "outputs": []
    },
    {
      "cell_type": "code",
      "source": [
        "!cat dois_tweets.json"
      ],
      "metadata": {
        "colab": {
          "base_uri": "https://localhost:8080/"
        },
        "id": "MLYAh7NcArE9",
        "outputId": "1b737c45-8f16-431a-825c-879eec8ee780"
      },
      "execution_count": null,
      "outputs": [
        {
          "output_type": "stream",
          "name": "stdout",
          "text": [
            "{\n",
            "    \"data\": [\n",
            "        {\n",
            "            \"created_at\": \"2021-05-08T21:00:00.000Z\",\n",
            "            \"id\": \"1391135820371931137\",\n",
            "            \"text\": \"#Cuba relatou mais de 1.000 novas infecções por #COVID-19 pelo terceiro dia consecutivo, com 1.060 casos, totalizando 112.714, afirmou o Ministério da Saúde Pública, acrescentando que houve outras sete mortes relatadas, elevando o total para 701.\\n\\nhttps://t.co/U05loLcfTH https://t.co/ahLZ9IrxOD\"\n",
            "        },\n",
            "        {\n",
            "            \"created_at\": \"2021-05-08T20:30:00.000Z\",\n",
            "            \"id\": \"1391128270721241089\",\n",
            "            \"text\": \"A #Argentina relatou na quinta-feira 24.086 novas infecções por #COVID-19 e 399 mortes nas últimas 24 horas, elevando a contagem para 3.095.582 casos e 66.263 mortes.\\n\\nhttps://t.co/xZKWs97L3S https://t.co/WIZbblWMI7\"\n",
            "        }\n",
            "    ],\n",
            "    \"meta\": {\n",
            "        \"newest_id\": \"1391135820371931137\",\n",
            "        \"oldest_id\": \"1391128270721241089\",\n",
            "        \"result_count\": 2\n",
            "    }\n",
            "}"
          ]
        }
      ]
    },
    {
      "cell_type": "markdown",
      "source": [
        "## Leitura de arquivos XML e JSON com SPARK"
      ],
      "metadata": {
        "id": "nTYOaVb9woEB"
      }
    },
    {
      "cell_type": "markdown",
      "source": [
        "### XML com SPARK\n",
        "O SPARK nos permite carregar e processar grandes quantidades de dados, porém é especialmente útil quando utilizamos um cluster para processamento (diversos computadores conectados e executando um pedaço da mesma tarefa).\n",
        "\n",
        "Isto é chamdo de processamento distribuído, mas aqui no colab só podemos utilizar um único servidor."
      ],
      "metadata": {
        "id": "yv1iZ3I0yaA1"
      }
    },
    {
      "cell_type": "code",
      "source": [
        "!cat Badges-small.xml"
      ],
      "metadata": {
        "colab": {
          "base_uri": "https://localhost:8080/"
        },
        "id": "lJzj5SR8Wl2c",
        "outputId": "6af9a138-9a74-4fc9-c3a2-60c4d918e091"
      },
      "execution_count": null,
      "outputs": [
        {
          "output_type": "stream",
          "name": "stdout",
          "text": [
            "<?xml version=\"1.0\" encoding=\"utf-8\"?>\r\n",
            "<Root>\r\n",
            "\t<badges>\r\n",
            "\t\t<row Id=\"82946\" UserId=\"3718\" Name=\"Teacher\" Date=\"2008-09-15T08:55:03.923\" Class=\"3\" TagBased=\"False\" />\r\n",
            "\t\t<row Id=\"82947\" UserId=\"994\" Name=\"Teacher\" Date=\"2008-09-15T08:55:03.957\" Class=\"3\" TagBased=\"False\" />\r\n",
            "\t\t<row Id=\"82949\" UserId=\"3893\" Name=\"Teacher\" Date=\"2008-09-15T08:55:03.957\" Class=\"3\" TagBased=\"False\" />\r\n",
            "\t\t<row Id=\"82950\" UserId=\"4591\" Name=\"Teacher\" Date=\"2008-09-15T08:55:03.957\" Class=\"3\" TagBased=\"False\" />\r\n",
            "\t\t<row Id=\"82951\" UserId=\"5196\" Name=\"Teacher\" Date=\"2008-09-15T08:55:03.957\" Class=\"3\" TagBased=\"False\" />\r\n",
            "\t</badges>\r\n",
            "</Root>"
          ]
        }
      ]
    },
    {
      "cell_type": "code",
      "source": [
        "# Criação do dataframe spark de um xml pequeno (10 segundos, em média)\n",
        "df_spark_xml = spark.read.format('xml') \\\n",
        "                  .option('rootTag', 'Root') \\\n",
        "                  .option('rowTag', 'row') \\\n",
        "                  .load('/content/Badges-small.xml')"
      ],
      "metadata": {
        "id": "13uSciMUiS5G"
      },
      "execution_count": null,
      "outputs": []
    },
    {
      "cell_type": "code",
      "source": [
        "df_spark_xml.show()"
      ],
      "metadata": {
        "colab": {
          "base_uri": "https://localhost:8080/"
        },
        "id": "4x3BpdFgyEAh",
        "outputId": "5806d8d6-2389-478d-ec49-4b4d82b76c51"
      },
      "execution_count": null,
      "outputs": [
        {
          "output_type": "stream",
          "name": "stdout",
          "text": [
            "+------+--------------------+-----+-------+---------+-------+\n",
            "|_Class|               _Date|  _Id|  _Name|_TagBased|_UserId|\n",
            "+------+--------------------+-----+-------+---------+-------+\n",
            "|     3|2008-09-15 08:55:...|82946|Teacher|    false|   3718|\n",
            "|     3|2008-09-15 08:55:...|82947|Teacher|    false|    994|\n",
            "|     3|2008-09-15 08:55:...|82949|Teacher|    false|   3893|\n",
            "|     3|2008-09-15 08:55:...|82950|Teacher|    false|   4591|\n",
            "|     3|2008-09-15 08:55:...|82951|Teacher|    false|   5196|\n",
            "+------+--------------------+-----+-------+---------+-------+\n",
            "\n"
          ]
        }
      ]
    },
    {
      "cell_type": "markdown",
      "source": [
        "Podemos alterar os dados e no SPARK, uma das formas é criar uma SQL VIEW temporária e usá-la como uma tabela de um banco de dados SQL para coletar os dados que queremos."
      ],
      "metadata": {
        "id": "c9UUWxJDzLns"
      }
    },
    {
      "cell_type": "code",
      "source": [
        "# Criação da VIEW temporária \"tabela_do_xml\":\n",
        "df_spark_xml.createTempView(\"tabela_do_xml\")"
      ],
      "metadata": {
        "id": "-h9gL67qzPRR"
      },
      "execution_count": null,
      "outputs": []
    },
    {
      "cell_type": "code",
      "source": [
        "df_spark_xml_novo = spark.sql(\"SELECT _UserID as UserId, _Name as Name, _Class as Class  FROM tabela_do_xml LIMIT 2\")"
      ],
      "metadata": {
        "id": "Vvf5nLTSWEMN"
      },
      "execution_count": null,
      "outputs": []
    },
    {
      "cell_type": "code",
      "source": [
        "df_spark_xml_novo.show()"
      ],
      "metadata": {
        "colab": {
          "base_uri": "https://localhost:8080/"
        },
        "id": "1OxL--R3Wb78",
        "outputId": "62e3d0a0-4b31-4192-9b1c-6c81c4b6fe18"
      },
      "execution_count": null,
      "outputs": [
        {
          "output_type": "stream",
          "name": "stdout",
          "text": [
            "+------+-------+-----+\n",
            "|UserId|   Name|Class|\n",
            "+------+-------+-----+\n",
            "|  3718|Teacher|    3|\n",
            "|   994|Teacher|    3|\n",
            "+------+-------+-----+\n",
            "\n"
          ]
        }
      ]
    },
    {
      "cell_type": "markdown",
      "source": [
        "#### Persistindo aqui: XML com SPARK"
      ],
      "metadata": {
        "id": "11HlpGY6d_FF"
      }
    },
    {
      "cell_type": "markdown",
      "source": [
        "Podemos salvar o SPARK dataframe diretamente como XML, porém com algumas limitações:"
      ],
      "metadata": {
        "id": "iwq6R1cziB0L"
      }
    },
    {
      "cell_type": "code",
      "source": [
        "df_spark_xml_novo.write.format(\"com.databricks.spark.xml\").options(rootTag = \"Root\", rowTag = \"row\").save(\"pasta_temp\")\n",
        "!mv /content/pasta_temp/part-* /content/spark_to_xml.xml\n",
        "!rm -R pasta_temp"
      ],
      "metadata": {
        "id": "QVOn4BtoXKZ1"
      },
      "execution_count": null,
      "outputs": []
    },
    {
      "cell_type": "code",
      "source": [
        "!cat spark_to_xml.xml"
      ],
      "metadata": {
        "colab": {
          "base_uri": "https://localhost:8080/"
        },
        "id": "yvDoNL-PYlQ5",
        "outputId": "2d6698cb-2d98-4b6f-a766-4ed2c5108505"
      },
      "execution_count": null,
      "outputs": [
        {
          "output_type": "stream",
          "name": "stdout",
          "text": [
            "<?xml version=\"1.0\" encoding=\"UTF-8\" standalone=\"yes\"?>\n",
            "<Root>\n",
            "    <row>\n",
            "        <UserId>3718</UserId>\n",
            "        <Name>Teacher</Name>\n",
            "        <Class>3</Class>\n",
            "    </row>\n",
            "\n",
            "    <row>\n",
            "        <UserId>994</UserId>\n",
            "        <Name>Teacher</Name>\n",
            "        <Class>3</Class>\n",
            "    </row>\n",
            "\n",
            "</Root>\n"
          ]
        }
      ]
    },
    {
      "cell_type": "markdown",
      "source": [
        "Ou podemos converter o dataframe SPRAK resultante em um PANDAS dataframe e salvá-lo como fizemos antes:"
      ],
      "metadata": {
        "id": "3XIQlRL8iR0T"
      }
    },
    {
      "cell_type": "code",
      "source": [
        "# Conversão de dataframe SPARK para PANDAS:\n",
        "df_pandas_de_df_spark_xml_novo = df_spark_xml_novo.toPandas()"
      ],
      "metadata": {
        "id": "NVyXwozniRYv"
      },
      "execution_count": null,
      "outputs": []
    },
    {
      "cell_type": "code",
      "source": [
        "# Criação do arquivo XML do PANDAS dataframe:\n",
        "df_pandas_de_df_spark_xml_novo.to_xml(\"spark_to_pandas_to_xml.xml\",stylesheet=\"xml_format.xsl\")\n",
        "!cat spark_to_pandas_to_xml.xml"
      ],
      "metadata": {
        "colab": {
          "base_uri": "https://localhost:8080/"
        },
        "id": "msm6f4VEiiX5",
        "outputId": "46d28cc5-be21-427d-d526-57f52d17b8a4"
      },
      "execution_count": null,
      "outputs": [
        {
          "output_type": "stream",
          "name": "stdout",
          "text": [
            "<?xml version=\"1.0\" encoding=\"utf-8\"?>\n",
            "<Root>\n",
            "  <badges>\n",
            "    <row Id=\"\" UserId=\"3718\" Name=\"Teacher\" Date=\"\" Class=\"3\" TagBased=\"\"/>\n",
            "    <row Id=\"\" UserId=\"994\" Name=\"Teacher\" Date=\"\" Class=\"3\" TagBased=\"\"/>\n",
            "  </badges>\n",
            "</Root>\n"
          ]
        }
      ]
    },
    {
      "cell_type": "markdown",
      "source": [
        "#### Exemplo de leitura de arquivo XML grande.\n",
        "Com mais de 1GB de tamanho e um pouco mais de 10 milhões de linhas."
      ],
      "metadata": {
        "id": "z2HTjWH_lie3"
      }
    },
    {
      "cell_type": "code",
      "source": [
        "# Exemplo de arquivo grande:\n",
        "!ls -lsh Badges.xml | awk '{print \"Nome do arquivo:\", $10, \"\\nTamanho:\\t\", $6\"B\"}' "
      ],
      "metadata": {
        "id": "0Bsnpokvufql",
        "colab": {
          "base_uri": "https://localhost:8080/"
        },
        "outputId": "02a04434-155e-434b-90a4-d0f5a279f39c"
      },
      "execution_count": null,
      "outputs": [
        {
          "output_type": "stream",
          "name": "stdout",
          "text": [
            "Nome do arquivo: Badges.xml \n",
            "Tamanho:\t 1.1GB\n"
          ]
        }
      ]
    },
    {
      "cell_type": "code",
      "source": [
        "# Tempo de execussão: 15 a 20 minutos\n",
        "df_spark_xml_grande = spark.read.format('xml') \\\n",
        "                 .option('rootTag', 'Root') \\\n",
        "                 .option('rowTag', 'row') \\\n",
        "                 .load('/content/Badges.xml')"
      ],
      "metadata": {
        "id": "ypOjv82eXbOD"
      },
      "execution_count": null,
      "outputs": []
    },
    {
      "cell_type": "code",
      "source": [
        "df_spark_xml_grande.show()"
      ],
      "metadata": {
        "id": "2rvUj4vkX5m4",
        "colab": {
          "base_uri": "https://localhost:8080/"
        },
        "outputId": "c410c6b6-93e6-4813-a0ee-6e32fee0b3c6"
      },
      "execution_count": null,
      "outputs": [
        {
          "output_type": "stream",
          "name": "stdout",
          "text": [
            "+------+--------------------+-----+-------+---------+-------+\n",
            "|_Class|               _Date|  _Id|  _Name|_TagBased|_UserId|\n",
            "+------+--------------------+-----+-------+---------+-------+\n",
            "|     3|2008-09-15 08:55:...|82946|Teacher|    false|   3718|\n",
            "|     3|2008-09-15 08:55:...|82947|Teacher|    false|    994|\n",
            "|     3|2008-09-15 08:55:...|82949|Teacher|    false|   3893|\n",
            "|     3|2008-09-15 08:55:...|82950|Teacher|    false|   4591|\n",
            "|     3|2008-09-15 08:55:...|82951|Teacher|    false|   5196|\n",
            "|     3|2008-09-15 08:55:...|82946|Teacher|    false|   3718|\n",
            "|     3|2008-09-15 08:55:...|82947|Teacher|    false|    994|\n",
            "|     3|2008-09-15 08:55:...|82949|Teacher|    false|   3893|\n",
            "|     3|2008-09-15 08:55:...|82950|Teacher|    false|   4591|\n",
            "|     3|2008-09-15 08:55:...|82951|Teacher|    false|   5196|\n",
            "|     3|2008-09-15 08:55:...|82946|Teacher|    false|   3718|\n",
            "|     3|2008-09-15 08:55:...|82947|Teacher|    false|    994|\n",
            "|     3|2008-09-15 08:55:...|82949|Teacher|    false|   3893|\n",
            "|     3|2008-09-15 08:55:...|82950|Teacher|    false|   4591|\n",
            "|     3|2008-09-15 08:55:...|82951|Teacher|    false|   5196|\n",
            "|     3|2008-09-15 08:55:...|82946|Teacher|    false|   3718|\n",
            "|     3|2008-09-15 08:55:...|82947|Teacher|    false|    994|\n",
            "|     3|2008-09-15 08:55:...|82949|Teacher|    false|   3893|\n",
            "|     3|2008-09-15 08:55:...|82950|Teacher|    false|   4591|\n",
            "|     3|2008-09-15 08:55:...|82951|Teacher|    false|   5196|\n",
            "+------+--------------------+-----+-------+---------+-------+\n",
            "only showing top 20 rows\n",
            "\n"
          ]
        }
      ]
    },
    {
      "cell_type": "markdown",
      "source": [
        "Contagem do número de linhas. Como o Spark realiza uma analise preguiçosa, ele não conhece ainda o número total de linhas. Para isso, será necessário realizar a contagem pela primeira vez, o que levará tempo."
      ],
      "metadata": {
        "id": "LT9qpuMqB9UR"
      }
    },
    {
      "cell_type": "code",
      "source": [
        "# tempo de execução: de 2 a 10 min \n",
        "df_spark_xml_grande.count()"
      ],
      "metadata": {
        "id": "WWHngBbXLzaf",
        "colab": {
          "base_uri": "https://localhost:8080/"
        },
        "outputId": "4d8d9dd2-fde6-4d47-dc34-5d69a6f0fc94"
      },
      "execution_count": null,
      "outputs": [
        {
          "output_type": "execute_result",
          "data": {
            "text/plain": [
              "10121760"
            ]
          },
          "metadata": {},
          "execution_count": 116
        }
      ]
    },
    {
      "cell_type": "markdown",
      "source": [
        "### JSON com SPARK"
      ],
      "metadata": {
        "id": "cTSi1_FJkGeI"
      }
    },
    {
      "cell_type": "markdown",
      "source": [
        "Primeiramente, vamos importar o arquivo JSON para o SPARK dataframe e analisar o que foi importado.\n",
        "\n",
        "Vamos usar .option(\"multiline\",\"true\") pois sabemos que nosso arquivo JSON possui estrutura de multiníveis."
      ],
      "metadata": {
        "id": "gyYr6yjMpwU5"
      }
    },
    {
      "cell_type": "code",
      "source": [
        "df_json_spark = spark.read.option(\"multiline\",\"true\").json(\"tweets_colected_May_2_to_8_2022_0515190324.json\")"
      ],
      "metadata": {
        "id": "AWesVjq-kfNO"
      },
      "execution_count": null,
      "outputs": []
    },
    {
      "cell_type": "code",
      "source": [
        "df_json_spark.show(truncate=70)"
      ],
      "metadata": {
        "colab": {
          "base_uri": "https://localhost:8080/"
        },
        "id": "8bk2XM6UsT6f",
        "outputId": "ad262bea-9cb5-41e0-ed5c-30d7474dd63a"
      },
      "execution_count": null,
      "outputs": [
        {
          "output_type": "stream",
          "name": "stdout",
          "text": [
            "+----------------------------------------------------------------------+-----------------------------------------------+\n",
            "|                                                                  data|                                           meta|\n",
            "+----------------------------------------------------------------------+-----------------------------------------------+\n",
            "|[{2021-05-08T21:00:00.000Z, 1391135820371931137, #Cuba relatou mais...|{1391135820371931137, 1388825883365060615, 130}|\n",
            "+----------------------------------------------------------------------+-----------------------------------------------+\n",
            "\n"
          ]
        }
      ]
    },
    {
      "cell_type": "code",
      "source": [
        "df_json_spark.dtypes"
      ],
      "metadata": {
        "colab": {
          "base_uri": "https://localhost:8080/"
        },
        "id": "-1QrXU6KyLW_",
        "outputId": "f3d18cb9-4527-48dd-e909-173d6e5cfcee"
      },
      "execution_count": null,
      "outputs": [
        {
          "output_type": "execute_result",
          "data": {
            "text/plain": [
              "[('data', 'array<struct<created_at:string,id:string,text:string>>'),\n",
              " ('meta', 'struct<newest_id:string,oldest_id:string,result_count:bigint>')]"
            ]
          },
          "metadata": {},
          "execution_count": 16
        }
      ]
    },
    {
      "cell_type": "code",
      "source": [
        "df_json_spark.printSchema()"
      ],
      "metadata": {
        "colab": {
          "base_uri": "https://localhost:8080/"
        },
        "id": "wG573KL7sVuS",
        "outputId": "4e57f338-c1eb-4a3b-e0d0-9e0d1ad43741"
      },
      "execution_count": null,
      "outputs": [
        {
          "output_type": "stream",
          "name": "stdout",
          "text": [
            "root\n",
            " |-- data: array (nullable = true)\n",
            " |    |-- element: struct (containsNull = true)\n",
            " |    |    |-- created_at: string (nullable = true)\n",
            " |    |    |-- id: string (nullable = true)\n",
            " |    |    |-- text: string (nullable = true)\n",
            " |-- meta: struct (nullable = true)\n",
            " |    |-- newest_id: string (nullable = true)\n",
            " |    |-- oldest_id: string (nullable = true)\n",
            " |    |-- result_count: long (nullable = true)\n",
            "\n"
          ]
        }
      ]
    },
    {
      "cell_type": "markdown",
      "source": [
        "Percebemos que a importação não nos trouxe todas as informações em uma única dimensão. Sendo assim, teremos que transformar os dados para que eles fiquem com apenas duas dimensões.\n",
        "\n",
        "(Flaten the data)\n",
        "\n",
        "Como os dados que nos interessam estão dentro de um array que possui uma struct com as colunas que queremos, teremos que converter este array em uma string JSON:"
      ],
      "metadata": {
        "id": "ifEkp2ndqLUt"
      }
    },
    {
      "cell_type": "code",
      "source": [
        "from pyspark.sql.functions import to_json, col\n",
        "from pyspark.sql.types import MapType,StringType,ArrayType"
      ],
      "metadata": {
        "id": "c1mlfduwtHhY"
      },
      "execution_count": null,
      "outputs": []
    },
    {
      "cell_type": "code",
      "source": [
        "df_json_spark2 = df_json_spark.withColumn(\"data\",to_json(col(\"data\"))).withColumn(\"meta\",to_json(col(\"meta\")))\n",
        "df_json_spark2.show(truncate=70)\n",
        "df_json_spark2.printSchema()\n",
        "df_json_spark2.dtypes"
      ],
      "metadata": {
        "colab": {
          "base_uri": "https://localhost:8080/"
        },
        "id": "KN76kJXRs8YK",
        "outputId": "9bcfda1c-ad8a-4346-9d47-f320c45189fe"
      },
      "execution_count": null,
      "outputs": [
        {
          "output_type": "stream",
          "name": "stdout",
          "text": [
            "+----------------------------------------------------------------------+----------------------------------------------------------------------+\n",
            "|                                                                  data|                                                                  meta|\n",
            "+----------------------------------------------------------------------+----------------------------------------------------------------------+\n",
            "|[{\"created_at\":\"2021-05-08T21:00:00.000Z\",\"id\":\"1391135820371931137...|{\"newest_id\":\"1391135820371931137\",\"oldest_id\":\"1388825883365060615...|\n",
            "+----------------------------------------------------------------------+----------------------------------------------------------------------+\n",
            "\n",
            "root\n",
            " |-- data: string (nullable = true)\n",
            " |-- meta: string (nullable = true)\n",
            "\n"
          ]
        },
        {
          "output_type": "execute_result",
          "data": {
            "text/plain": [
              "[('data', 'string'), ('meta', 'string')]"
            ]
          },
          "metadata": {},
          "execution_count": 47
        }
      ]
    },
    {
      "cell_type": "markdown",
      "source": [
        "Com a string JSON formada na coluna \"data\", vamos criar um novo dataframe apenas com as informações da coluna \"data\":"
      ],
      "metadata": {
        "id": "K8XgV3unrCH0"
      }
    },
    {
      "cell_type": "code",
      "source": [
        "df_json_spark_data = spark.read.json(df_json_spark2.select(\"data\").rdd.map(lambda x: x[0]))"
      ],
      "metadata": {
        "id": "DZpfh_4nw2qs"
      },
      "execution_count": null,
      "outputs": []
    },
    {
      "cell_type": "code",
      "source": [
        "df_json_spark_data.show(truncate=70)"
      ],
      "metadata": {
        "colab": {
          "base_uri": "https://localhost:8080/"
        },
        "id": "YzXBfDUMxAuL",
        "outputId": "dfbe64ca-a03f-4c97-956f-9587369f1fb9"
      },
      "execution_count": null,
      "outputs": [
        {
          "output_type": "stream",
          "name": "stdout",
          "text": [
            "+------------------------+-------------------+----------------------------------------------------------------------+\n",
            "|              created_at|                 id|                                                                  text|\n",
            "+------------------------+-------------------+----------------------------------------------------------------------+\n",
            "|2021-05-08T21:00:00.000Z|1391135820371931137|#Cuba relatou mais de 1.000 novas infecções por #COVID-19 pelo terc...|\n",
            "|2021-05-08T20:30:00.000Z|1391128270721241089|A #Argentina relatou na quinta-feira 24.086 novas infecções por #CO...|\n",
            "|2021-05-08T20:02:15.000Z|1391121287343452165|#COVID: #NUOVA #ONDATA di #CONTAGI entro #FINE #MAGGIO, #ESTATE a #...|\n",
            "|2021-05-08T19:45:52.000Z|1391117164141219840|Estado de São Paulo ultrapassa 100 mil mortes por covid-19\\n\\n#SP #...|\n",
            "|2021-05-08T18:30:00.000Z|1391098071388332039|A Organização Mundial da Saúde (#OMS) validou nesta sexta-feira par...|\n",
            "|2021-05-08T17:53:52.000Z|1391088980268134402|‘Banco do crime’ é suspeito de lavar dinheiro da Covid no Rio #Banc...|\n",
            "|2021-05-08T17:25:00.000Z|1391081713661399043|A série de webinários intitulada \"Cooperação Internacional na Medic...|\n",
            "|2021-05-08T15:39:14.000Z|1391055096482607105|Com a pandemia de #Covid e o consequente isolamento social, a violê...|\n",
            "|2021-05-08T14:53:04.000Z|1391043478709227524|Índia supera 4.000 mortes diárias por covid e debate sobre patentes...|\n",
            "|2021-05-08T14:00:00.000Z|1391030126507216901|Este será nosso segundo Dia das Mães marcado pela #covid. Embora a ...|\n",
            "|2021-05-08T11:49:33.000Z|1390997297115406337|O #PapaFrancisco enviou uma videomensagem para o #VaxLive\", evento ...|\n",
            "|2021-05-08T10:57:59.000Z|1390984320735719424|No #CidadeseSoluções deste domingo, saiba por que o desmatamento, o...|\n",
            "|2021-05-08T00:27:03.000Z|1390825540177866754|Projeto da legenda aguarda análise na Comissão de Seguridade Social...|\n",
            "|2021-05-08T00:12:43.000Z|1390821930815610880|Projeto da legenda aguarda análise na Comissão de Seguridade Social...|\n",
            "|2021-05-07T23:33:44.000Z|1390812122217652230|Ibuprofeno não agrava infecção por covid-19, aponta estudo\\n\\n#covi...|\n",
            "|2021-05-07T22:46:15.000Z|1390800170162479106|🦠 Brasil confirma 419 mil mortes por #covid-19; são 2.165 em 24 ho...|\n",
            "|2021-05-07T22:36:11.000Z|1390797638203842561|⚡️A operação policial mais letal da história do Rio de Janeiro. O a...|\n",
            "|2021-05-07T22:06:42.000Z|1390790216974323720|Covid: Sérvia vai pagar R$160 a cidadãos que se vacinarem\\n#Covid #...|\n",
            "|2021-05-07T21:07:46.000Z|1390775389220450305|Covid-19: PF investiga desvio de ‘kit intubação’ no Amapá\\n#Covid #...|\n",
            "|2021-05-07T20:03:48.000Z|1390759291209097219|Com as liberações por muitos lados, teremos novos fechamentos daqui...|\n",
            "+------------------------+-------------------+----------------------------------------------------------------------+\n",
            "only showing top 20 rows\n",
            "\n"
          ]
        }
      ]
    },
    {
      "cell_type": "code",
      "source": [
        "df_json_spark_data.printSchema()"
      ],
      "metadata": {
        "colab": {
          "base_uri": "https://localhost:8080/"
        },
        "id": "_ROfkZJA1usk",
        "outputId": "d80271aa-b950-42f1-f998-9593fbead365"
      },
      "execution_count": null,
      "outputs": [
        {
          "output_type": "stream",
          "name": "stdout",
          "text": [
            "root\n",
            " |-- created_at: string (nullable = true)\n",
            " |-- id: string (nullable = true)\n",
            " |-- text: string (nullable = true)\n",
            "\n"
          ]
        }
      ]
    },
    {
      "cell_type": "markdown",
      "source": [
        "Podemos fazer o mesmo com a coluna meta:"
      ],
      "metadata": {
        "id": "qRkGOJyZ04Td"
      }
    },
    {
      "cell_type": "code",
      "source": [
        "df_json_spark_meta = spark.read.json(df_json_spark2.select(\"meta\").rdd.map(lambda x: x[0]))"
      ],
      "metadata": {
        "id": "uBiC4C1M03t6"
      },
      "execution_count": null,
      "outputs": []
    },
    {
      "cell_type": "code",
      "source": [
        "df_json_spark_meta.show()"
      ],
      "metadata": {
        "colab": {
          "base_uri": "https://localhost:8080/"
        },
        "id": "6z-rBf5L1E-Q",
        "outputId": "a2978443-554b-4db1-81be-1701e38c7e60"
      },
      "execution_count": null,
      "outputs": [
        {
          "output_type": "stream",
          "name": "stdout",
          "text": [
            "+-------------------+-------------------+------------+\n",
            "|          newest_id|          oldest_id|result_count|\n",
            "+-------------------+-------------------+------------+\n",
            "|1391135820371931137|1388825883365060615|         130|\n",
            "+-------------------+-------------------+------------+\n",
            "\n"
          ]
        }
      ]
    },
    {
      "cell_type": "code",
      "source": [
        "df_json_spark_meta.printSchema()"
      ],
      "metadata": {
        "colab": {
          "base_uri": "https://localhost:8080/"
        },
        "id": "Pd3c9sI9kBPA",
        "outputId": "7074fe73-c6e0-4205-a0da-f8d5911c5cd3"
      },
      "execution_count": null,
      "outputs": [
        {
          "output_type": "stream",
          "name": "stdout",
          "text": [
            "root\n",
            " |-- newest_id: string (nullable = true)\n",
            " |-- oldest_id: string (nullable = true)\n",
            " |-- result_count: long (nullable = true)\n",
            "\n"
          ]
        }
      ]
    },
    {
      "cell_type": "markdown",
      "source": [
        "#### Alterar dados do dataframe para salvar novo JSON"
      ],
      "metadata": {
        "id": "Jv3mVBx217aT"
      }
    },
    {
      "cell_type": "code",
      "source": [
        "from pyspark.sql.functions import when"
      ],
      "metadata": {
        "id": "4CUrP9Iq5qOZ"
      },
      "execution_count": null,
      "outputs": []
    },
    {
      "cell_type": "code",
      "source": [
        "df_json_spark_meta = df_json_spark_meta \\\n",
        "  .withColumn(\"result_count\", \n",
        "              col(\"result_count\")-col(\"result_count\") + 2) \\\n",
        "  .withColumn(\"oldest_id\", \n",
        "              when(col(\"newest_id\") == \"1391135820371931137\" , \"1391128270721241089\")\\\n",
        "              .otherwise(col(\"oldest_id\")))"
      ],
      "metadata": {
        "id": "iglfLnd619vg"
      },
      "execution_count": null,
      "outputs": []
    },
    {
      "cell_type": "code",
      "source": [
        "df_json_spark_meta.show(truncate=70)"
      ],
      "metadata": {
        "colab": {
          "base_uri": "https://localhost:8080/"
        },
        "id": "JEcxFDro6d1c",
        "outputId": "244623a9-061c-4a3a-ebc1-9f96bcbe7421"
      },
      "execution_count": null,
      "outputs": [
        {
          "output_type": "stream",
          "name": "stdout",
          "text": [
            "+-------------------+-------------------+------------+\n",
            "|          newest_id|          oldest_id|result_count|\n",
            "+-------------------+-------------------+------------+\n",
            "|1391135820371931137|1391128270721241089|           2|\n",
            "+-------------------+-------------------+------------+\n",
            "\n"
          ]
        }
      ]
    },
    {
      "cell_type": "code",
      "source": [
        "df_json_spark_data = df_json_spark_data.limit(2)\n",
        "df_json_spark_data.show()"
      ],
      "metadata": {
        "colab": {
          "base_uri": "https://localhost:8080/"
        },
        "id": "oZswUkdC3rtE",
        "outputId": "ef7b24c8-4948-469c-90af-f2b63b4a2986"
      },
      "execution_count": null,
      "outputs": [
        {
          "output_type": "stream",
          "name": "stdout",
          "text": [
            "+--------------------+-------------------+--------------------+\n",
            "|          created_at|                 id|                text|\n",
            "+--------------------+-------------------+--------------------+\n",
            "|2021-05-08T21:00:...|1391135820371931137|#Cuba relatou mai...|\n",
            "|2021-05-08T20:30:...|1391128270721241089|A #Argentina rela...|\n",
            "+--------------------+-------------------+--------------------+\n",
            "\n"
          ]
        }
      ]
    },
    {
      "cell_type": "markdown",
      "source": [
        "#### Persistindo aqui: JSON com SPARK"
      ],
      "metadata": {
        "id": "ZujYB9Z6kK6U"
      }
    },
    {
      "cell_type": "markdown",
      "source": [
        "Podemos salvar os dados diretamente em uma pasta com cada dataframe em um arquivo JSON:"
      ],
      "metadata": {
        "id": "wMVmegocS2D5"
      }
    },
    {
      "cell_type": "code",
      "source": [
        "df_json_spark_meta.write.json(\"json_from_spark\")\n",
        "df_json_spark_data.write.mode(\"Append\").json(\"json_from_spark\")"
      ],
      "metadata": {
        "id": "w5uc_DONOEcq"
      },
      "execution_count": null,
      "outputs": []
    },
    {
      "cell_type": "code",
      "source": [
        "!cat /content/json_from_spark/part-*.json"
      ],
      "metadata": {
        "colab": {
          "base_uri": "https://localhost:8080/"
        },
        "id": "Llrh33yePFOm",
        "outputId": "4cf8b06a-0876-4b2c-e9ce-7c417187ac82"
      },
      "execution_count": null,
      "outputs": [
        {
          "output_type": "stream",
          "name": "stdout",
          "text": [
            "{\"newest_id\":\"1391135820371931137\",\"oldest_id\":\"1391128270721241089\",\"result_count\":2}\n",
            "{\"created_at\":\"2021-05-08T21:00:00.000Z\",\"id\":\"1391135820371931137\",\"text\":\"#Cuba relatou mais de 1.000 novas infecções por #COVID-19 pelo terceiro dia consecutivo, com 1.060 casos, totalizando 112.714, afirmou o Ministério da Saúde Pública, acrescentando que houve outras sete mortes relatadas, elevando o total para 701.\\n\\nhttps://t.co/U05loLcfTH https://t.co/ahLZ9IrxOD\"}\n",
            "{\"created_at\":\"2021-05-08T20:30:00.000Z\",\"id\":\"1391128270721241089\",\"text\":\"A #Argentina relatou na quinta-feira 24.086 novas infecções por #COVID-19 e 399 mortes nas últimas 24 horas, elevando a contagem para 3.095.582 casos e 66.263 mortes.\\n\\nhttps://t.co/xZKWs97L3S https://t.co/WIZbblWMI7\"}\n"
          ]
        }
      ]
    },
    {
      "cell_type": "code",
      "source": [
        "!ls /content/json_from_spark/*.json"
      ],
      "metadata": {
        "colab": {
          "base_uri": "https://localhost:8080/"
        },
        "id": "Ce2VpZA3apMj",
        "outputId": "70188f3e-c7b6-4e84-b841-044ad1628887"
      },
      "execution_count": null,
      "outputs": [
        {
          "output_type": "stream",
          "name": "stdout",
          "text": [
            "/content/json_from_spark/part-00000-8973de03-3b7d-4857-bef1-42a7929175e4-c000.json\n",
            "/content/json_from_spark/part-00000-c71f84a5-b76c-4b28-90fe-e29e520685b3-c000.json\n"
          ]
        }
      ]
    },
    {
      "cell_type": "markdown",
      "source": [
        "Ou podemos formatar nossa saída JSON antes de salvar o arquivo:"
      ],
      "metadata": {
        "id": "ht9pcqStS9HR"
      }
    },
    {
      "cell_type": "code",
      "source": [
        "# .toJSON() é um método spark que converte cada linha em uma string json e as coloca em uma lista.\n",
        "df_json_spark_data.toJSON().collect()"
      ],
      "metadata": {
        "colab": {
          "base_uri": "https://localhost:8080/"
        },
        "id": "vGFmL21kUECA",
        "outputId": "108e10d4-5029-46c2-9d73-8e6587243f80"
      },
      "execution_count": null,
      "outputs": [
        {
          "output_type": "execute_result",
          "data": {
            "text/plain": [
              "['{\"created_at\":\"2021-05-08T21:00:00.000Z\",\"id\":\"1391135820371931137\",\"text\":\"#Cuba relatou mais de 1.000 novas infecções por #COVID-19 pelo terceiro dia consecutivo, com 1.060 casos, totalizando 112.714, afirmou o Ministério da Saúde Pública, acrescentando que houve outras sete mortes relatadas, elevando o total para 701.\\\\n\\\\nhttps://t.co/U05loLcfTH https://t.co/ahLZ9IrxOD\"}',\n",
              " '{\"created_at\":\"2021-05-08T20:30:00.000Z\",\"id\":\"1391128270721241089\",\"text\":\"A #Argentina relatou na quinta-feira 24.086 novas infecções por #COVID-19 e 399 mortes nas últimas 24 horas, elevando a contagem para 3.095.582 casos e 66.263 mortes.\\\\n\\\\nhttps://t.co/xZKWs97L3S https://t.co/WIZbblWMI7\"}']"
            ]
          },
          "metadata": {},
          "execution_count": 116
        }
      ]
    },
    {
      "cell_type": "code",
      "source": [
        "# Podemos usar o list comprehension do Python para converter cada string da lista em um dicionário com auxílio da biblioteca json.\n",
        "[json.loads(x) for x in df_json_spark_data.toJSON().collect()]"
      ],
      "metadata": {
        "colab": {
          "base_uri": "https://localhost:8080/"
        },
        "id": "L8FR1c-IYDQx",
        "outputId": "c63b3342-dbaf-4614-c96d-a79f4c857d06"
      },
      "execution_count": null,
      "outputs": [
        {
          "output_type": "execute_result",
          "data": {
            "text/plain": [
              "[{'created_at': '2021-05-08T21:00:00.000Z',\n",
              "  'id': '1391135820371931137',\n",
              "  'text': '#Cuba relatou mais de 1.000 novas infecções por #COVID-19 pelo terceiro dia consecutivo, com 1.060 casos, totalizando 112.714, afirmou o Ministério da Saúde Pública, acrescentando que houve outras sete mortes relatadas, elevando o total para 701.\\n\\nhttps://t.co/U05loLcfTH https://t.co/ahLZ9IrxOD'},\n",
              " {'created_at': '2021-05-08T20:30:00.000Z',\n",
              "  'id': '1391128270721241089',\n",
              "  'text': 'A #Argentina relatou na quinta-feira 24.086 novas infecções por #COVID-19 e 399 mortes nas últimas 24 horas, elevando a contagem para 3.095.582 casos e 66.263 mortes.\\n\\nhttps://t.co/xZKWs97L3S https://t.co/WIZbblWMI7'}]"
            ]
          },
          "metadata": {},
          "execution_count": 166
        }
      ]
    },
    {
      "cell_type": "code",
      "source": [
        "# Por fim, criamos um dicionário que contenha os outros dois dicionários como valores das chaves data e meta:\n",
        "dicionario_json = {\"data\": [json.loads(x) for x in df_json_spark_data.toJSON().collect()], \"meta\":json.loads(df_json_spark_meta.toJSON().collect()[0])}\n",
        "string_json = json.dumps(dicionario_json, indent = 4)\n",
        "print(string_json)"
      ],
      "metadata": {
        "colab": {
          "base_uri": "https://localhost:8080/"
        },
        "id": "4yWKKg9cSmFJ",
        "outputId": "51f0e8c8-8ee2-495b-d8dc-787a52fd4066"
      },
      "execution_count": null,
      "outputs": [
        {
          "output_type": "stream",
          "name": "stdout",
          "text": [
            "{\n",
            "    \"data\": [\n",
            "        {\n",
            "            \"created_at\": \"2021-05-08T21:00:00.000Z\",\n",
            "            \"id\": \"1391135820371931137\",\n",
            "            \"text\": \"#Cuba relatou mais de 1.000 novas infec\\u00e7\\u00f5es por #COVID-19 pelo terceiro dia consecutivo, com 1.060 casos, totalizando 112.714, afirmou o Minist\\u00e9rio da Sa\\u00fade P\\u00fablica, acrescentando que houve outras sete mortes relatadas, elevando o total para 701.\\n\\nhttps://t.co/U05loLcfTH https://t.co/ahLZ9IrxOD\"\n",
            "        },\n",
            "        {\n",
            "            \"created_at\": \"2021-05-08T20:30:00.000Z\",\n",
            "            \"id\": \"1391128270721241089\",\n",
            "            \"text\": \"A #Argentina relatou na quinta-feira 24.086 novas infec\\u00e7\\u00f5es por #COVID-19 e 399 mortes nas \\u00faltimas 24 horas, elevando a contagem para 3.095.582 casos e 66.263 mortes.\\n\\nhttps://t.co/xZKWs97L3S https://t.co/WIZbblWMI7\"\n",
            "        }\n",
            "    ],\n",
            "    \"meta\": {\n",
            "        \"newest_id\": \"1391135820371931137\",\n",
            "        \"oldest_id\": \"1391128270721241089\",\n",
            "        \"result_count\": 2\n",
            "    }\n",
            "}\n"
          ]
        }
      ]
    },
    {
      "cell_type": "markdown",
      "source": [
        "Para salvar, fazemos o mesmo que fizemos com o arquivo JSON do PANDAS:"
      ],
      "metadata": {
        "id": "ZmwpNTTWcnL4"
      }
    },
    {
      "cell_type": "code",
      "source": [
        "with open('dois_tweets_spark.json', 'w+', encoding='utf-8') as arquivo_aberto:\n",
        "    json.dump(dicionario_json, arquivo_aberto, ensure_ascii=False, indent = 4)"
      ],
      "metadata": {
        "id": "cHuA-RzuY1qf"
      },
      "execution_count": null,
      "outputs": []
    },
    {
      "cell_type": "code",
      "source": [
        "!cat dois_tweets_spark.json"
      ],
      "metadata": {
        "colab": {
          "base_uri": "https://localhost:8080/"
        },
        "id": "WQz2-orTaEK1",
        "outputId": "e82148fe-56ad-418e-b608-68df413bae54"
      },
      "execution_count": null,
      "outputs": [
        {
          "output_type": "stream",
          "name": "stdout",
          "text": [
            "{\n",
            "    \"data\": [\n",
            "        {\n",
            "            \"created_at\": \"2021-05-08T21:00:00.000Z\",\n",
            "            \"id\": \"1391135820371931137\",\n",
            "            \"text\": \"#Cuba relatou mais de 1.000 novas infecções por #COVID-19 pelo terceiro dia consecutivo, com 1.060 casos, totalizando 112.714, afirmou o Ministério da Saúde Pública, acrescentando que houve outras sete mortes relatadas, elevando o total para 701.\\n\\nhttps://t.co/U05loLcfTH https://t.co/ahLZ9IrxOD\"\n",
            "        },\n",
            "        {\n",
            "            \"created_at\": \"2021-05-08T20:30:00.000Z\",\n",
            "            \"id\": \"1391128270721241089\",\n",
            "            \"text\": \"A #Argentina relatou na quinta-feira 24.086 novas infecções por #COVID-19 e 399 mortes nas últimas 24 horas, elevando a contagem para 3.095.582 casos e 66.263 mortes.\\n\\nhttps://t.co/xZKWs97L3S https://t.co/WIZbblWMI7\"\n",
            "        }\n",
            "    ],\n",
            "    \"meta\": {\n",
            "        \"newest_id\": \"1391135820371931137\",\n",
            "        \"oldest_id\": \"1391128270721241089\",\n",
            "        \"result_count\": 2\n",
            "    }\n",
            "}"
          ]
        }
      ]
    },
    {
      "cell_type": "markdown",
      "source": [
        "## Leitura e gravação de arquivos CSV e PARQUET com Pandas"
      ],
      "metadata": {
        "id": "5LBx_dVqTZS5"
      }
    },
    {
      "cell_type": "markdown",
      "source": [
        "### CSV com PANDAS"
      ],
      "metadata": {
        "id": "9ls_OTQ6dlgm"
      }
    },
    {
      "cell_type": "code",
      "source": [
        "# Ler arquivo CSV com PANDAS:\n",
        "pddf_csv = pd.read_csv('imdb-reviews-pt-br-pequeno.csv')\n",
        "pddf_csv.head()"
      ],
      "metadata": {
        "id": "JlslC-TjbwAs",
        "colab": {
          "base_uri": "https://localhost:8080/",
          "height": 206
        },
        "outputId": "d74f37c2-b11c-457b-83ed-75530c4c5c97"
      },
      "execution_count": null,
      "outputs": [
        {
          "output_type": "execute_result",
          "data": {
            "text/plain": [
              "                                             text_en  \\\n",
              "0  Once again Mr. Costner has dragged out a movie...   \n",
              "1  This is an example of why the majority of acti...   \n",
              "2  First of all I hate those moronic rappers, who...   \n",
              "3  Not even the Beatles could write songs everyon...   \n",
              "4  Brass pictures movies is not a fitting word fo...   \n",
              "\n",
              "                                             text_pt sentiment  \n",
              "0  Mais uma vez, o Sr. Costner arrumou um filme p...       neg  \n",
              "1  Este é um exemplo do motivo pelo qual a maiori...       neg  \n",
              "2  Primeiro de tudo eu odeio esses raps imbecis, ...       neg  \n",
              "3  Nem mesmo os Beatles puderam escrever músicas ...       neg  \n",
              "4  Filmes de fotos de latão não é uma palavra apr...       neg  "
            ],
            "text/html": [
              "\n",
              "  <div id=\"df-9f2feedd-c14b-4deb-a358-6deefecae2e8\">\n",
              "    <div class=\"colab-df-container\">\n",
              "      <div>\n",
              "<style scoped>\n",
              "    .dataframe tbody tr th:only-of-type {\n",
              "        vertical-align: middle;\n",
              "    }\n",
              "\n",
              "    .dataframe tbody tr th {\n",
              "        vertical-align: top;\n",
              "    }\n",
              "\n",
              "    .dataframe thead th {\n",
              "        text-align: right;\n",
              "    }\n",
              "</style>\n",
              "<table border=\"1\" class=\"dataframe\">\n",
              "  <thead>\n",
              "    <tr style=\"text-align: right;\">\n",
              "      <th></th>\n",
              "      <th>text_en</th>\n",
              "      <th>text_pt</th>\n",
              "      <th>sentiment</th>\n",
              "    </tr>\n",
              "  </thead>\n",
              "  <tbody>\n",
              "    <tr>\n",
              "      <th>0</th>\n",
              "      <td>Once again Mr. Costner has dragged out a movie...</td>\n",
              "      <td>Mais uma vez, o Sr. Costner arrumou um filme p...</td>\n",
              "      <td>neg</td>\n",
              "    </tr>\n",
              "    <tr>\n",
              "      <th>1</th>\n",
              "      <td>This is an example of why the majority of acti...</td>\n",
              "      <td>Este é um exemplo do motivo pelo qual a maiori...</td>\n",
              "      <td>neg</td>\n",
              "    </tr>\n",
              "    <tr>\n",
              "      <th>2</th>\n",
              "      <td>First of all I hate those moronic rappers, who...</td>\n",
              "      <td>Primeiro de tudo eu odeio esses raps imbecis, ...</td>\n",
              "      <td>neg</td>\n",
              "    </tr>\n",
              "    <tr>\n",
              "      <th>3</th>\n",
              "      <td>Not even the Beatles could write songs everyon...</td>\n",
              "      <td>Nem mesmo os Beatles puderam escrever músicas ...</td>\n",
              "      <td>neg</td>\n",
              "    </tr>\n",
              "    <tr>\n",
              "      <th>4</th>\n",
              "      <td>Brass pictures movies is not a fitting word fo...</td>\n",
              "      <td>Filmes de fotos de latão não é uma palavra apr...</td>\n",
              "      <td>neg</td>\n",
              "    </tr>\n",
              "  </tbody>\n",
              "</table>\n",
              "</div>\n",
              "      <button class=\"colab-df-convert\" onclick=\"convertToInteractive('df-9f2feedd-c14b-4deb-a358-6deefecae2e8')\"\n",
              "              title=\"Convert this dataframe to an interactive table.\"\n",
              "              style=\"display:none;\">\n",
              "        \n",
              "  <svg xmlns=\"http://www.w3.org/2000/svg\" height=\"24px\"viewBox=\"0 0 24 24\"\n",
              "       width=\"24px\">\n",
              "    <path d=\"M0 0h24v24H0V0z\" fill=\"none\"/>\n",
              "    <path d=\"M18.56 5.44l.94 2.06.94-2.06 2.06-.94-2.06-.94-.94-2.06-.94 2.06-2.06.94zm-11 1L8.5 8.5l.94-2.06 2.06-.94-2.06-.94L8.5 2.5l-.94 2.06-2.06.94zm10 10l.94 2.06.94-2.06 2.06-.94-2.06-.94-.94-2.06-.94 2.06-2.06.94z\"/><path d=\"M17.41 7.96l-1.37-1.37c-.4-.4-.92-.59-1.43-.59-.52 0-1.04.2-1.43.59L10.3 9.45l-7.72 7.72c-.78.78-.78 2.05 0 2.83L4 21.41c.39.39.9.59 1.41.59.51 0 1.02-.2 1.41-.59l7.78-7.78 2.81-2.81c.8-.78.8-2.07 0-2.86zM5.41 20L4 18.59l7.72-7.72 1.47 1.35L5.41 20z\"/>\n",
              "  </svg>\n",
              "      </button>\n",
              "      \n",
              "  <style>\n",
              "    .colab-df-container {\n",
              "      display:flex;\n",
              "      flex-wrap:wrap;\n",
              "      gap: 12px;\n",
              "    }\n",
              "\n",
              "    .colab-df-convert {\n",
              "      background-color: #E8F0FE;\n",
              "      border: none;\n",
              "      border-radius: 50%;\n",
              "      cursor: pointer;\n",
              "      display: none;\n",
              "      fill: #1967D2;\n",
              "      height: 32px;\n",
              "      padding: 0 0 0 0;\n",
              "      width: 32px;\n",
              "    }\n",
              "\n",
              "    .colab-df-convert:hover {\n",
              "      background-color: #E2EBFA;\n",
              "      box-shadow: 0px 1px 2px rgba(60, 64, 67, 0.3), 0px 1px 3px 1px rgba(60, 64, 67, 0.15);\n",
              "      fill: #174EA6;\n",
              "    }\n",
              "\n",
              "    [theme=dark] .colab-df-convert {\n",
              "      background-color: #3B4455;\n",
              "      fill: #D2E3FC;\n",
              "    }\n",
              "\n",
              "    [theme=dark] .colab-df-convert:hover {\n",
              "      background-color: #434B5C;\n",
              "      box-shadow: 0px 1px 3px 1px rgba(0, 0, 0, 0.15);\n",
              "      filter: drop-shadow(0px 1px 2px rgba(0, 0, 0, 0.3));\n",
              "      fill: #FFFFFF;\n",
              "    }\n",
              "  </style>\n",
              "\n",
              "      <script>\n",
              "        const buttonEl =\n",
              "          document.querySelector('#df-9f2feedd-c14b-4deb-a358-6deefecae2e8 button.colab-df-convert');\n",
              "        buttonEl.style.display =\n",
              "          google.colab.kernel.accessAllowed ? 'block' : 'none';\n",
              "\n",
              "        async function convertToInteractive(key) {\n",
              "          const element = document.querySelector('#df-9f2feedd-c14b-4deb-a358-6deefecae2e8');\n",
              "          const dataTable =\n",
              "            await google.colab.kernel.invokeFunction('convertToInteractive',\n",
              "                                                     [key], {});\n",
              "          if (!dataTable) return;\n",
              "\n",
              "          const docLinkHtml = 'Like what you see? Visit the ' +\n",
              "            '<a target=\"_blank\" href=https://colab.research.google.com/notebooks/data_table.ipynb>data table notebook</a>'\n",
              "            + ' to learn more about interactive tables.';\n",
              "          element.innerHTML = '';\n",
              "          dataTable['output_type'] = 'display_data';\n",
              "          await google.colab.output.renderOutput(dataTable, element);\n",
              "          const docLink = document.createElement('div');\n",
              "          docLink.innerHTML = docLinkHtml;\n",
              "          element.appendChild(docLink);\n",
              "        }\n",
              "      </script>\n",
              "    </div>\n",
              "  </div>\n",
              "  "
            ]
          },
          "metadata": {},
          "execution_count": 189
        }
      ]
    },
    {
      "cell_type": "markdown",
      "source": [
        "#### Alterar dados do dataframe para salvar em CSV"
      ],
      "metadata": {
        "id": "n9npzcfUd7L8"
      }
    },
    {
      "cell_type": "code",
      "source": [
        "# Criar novo dataframe apenas com 10 exemplos positivos e 10 negativos e retirar coluna de textox em inglês\n",
        "pddf_csv_pos = pddf_csv[pddf_csv['sentiment'] == 'pos'].head(10).copy()\n",
        "pddf_csv_pos = pddf_csv_pos[['text_pt', 'sentiment']]\n",
        "pddf_csv_pos.head()"
      ],
      "metadata": {
        "id": "-K2cWtjPcGH8",
        "colab": {
          "base_uri": "https://localhost:8080/",
          "height": 206
        },
        "outputId": "473424a4-f459-4e19-fe3d-fa5083d38601"
      },
      "execution_count": null,
      "outputs": [
        {
          "output_type": "execute_result",
          "data": {
            "text/plain": [
              "                                                text_pt sentiment\n",
              "5000  Eu fui e vi este filme ontem à noite depois de...       pos\n",
              "5001  O diretor do ator, Bill Paxton, segue sua prom...       pos\n",
              "5002  Como um jogador de recreio com algum conhecime...       pos\n",
              "5003  Eu vi esse filme em uma prévia, e é delicioso....       pos\n",
              "5004  Bill Paxton levou a verdadeira história do gol...       pos"
            ],
            "text/html": [
              "\n",
              "  <div id=\"df-c4bc5f3a-8e5e-4bb1-9786-e78ac35325d1\">\n",
              "    <div class=\"colab-df-container\">\n",
              "      <div>\n",
              "<style scoped>\n",
              "    .dataframe tbody tr th:only-of-type {\n",
              "        vertical-align: middle;\n",
              "    }\n",
              "\n",
              "    .dataframe tbody tr th {\n",
              "        vertical-align: top;\n",
              "    }\n",
              "\n",
              "    .dataframe thead th {\n",
              "        text-align: right;\n",
              "    }\n",
              "</style>\n",
              "<table border=\"1\" class=\"dataframe\">\n",
              "  <thead>\n",
              "    <tr style=\"text-align: right;\">\n",
              "      <th></th>\n",
              "      <th>text_pt</th>\n",
              "      <th>sentiment</th>\n",
              "    </tr>\n",
              "  </thead>\n",
              "  <tbody>\n",
              "    <tr>\n",
              "      <th>5000</th>\n",
              "      <td>Eu fui e vi este filme ontem à noite depois de...</td>\n",
              "      <td>pos</td>\n",
              "    </tr>\n",
              "    <tr>\n",
              "      <th>5001</th>\n",
              "      <td>O diretor do ator, Bill Paxton, segue sua prom...</td>\n",
              "      <td>pos</td>\n",
              "    </tr>\n",
              "    <tr>\n",
              "      <th>5002</th>\n",
              "      <td>Como um jogador de recreio com algum conhecime...</td>\n",
              "      <td>pos</td>\n",
              "    </tr>\n",
              "    <tr>\n",
              "      <th>5003</th>\n",
              "      <td>Eu vi esse filme em uma prévia, e é delicioso....</td>\n",
              "      <td>pos</td>\n",
              "    </tr>\n",
              "    <tr>\n",
              "      <th>5004</th>\n",
              "      <td>Bill Paxton levou a verdadeira história do gol...</td>\n",
              "      <td>pos</td>\n",
              "    </tr>\n",
              "  </tbody>\n",
              "</table>\n",
              "</div>\n",
              "      <button class=\"colab-df-convert\" onclick=\"convertToInteractive('df-c4bc5f3a-8e5e-4bb1-9786-e78ac35325d1')\"\n",
              "              title=\"Convert this dataframe to an interactive table.\"\n",
              "              style=\"display:none;\">\n",
              "        \n",
              "  <svg xmlns=\"http://www.w3.org/2000/svg\" height=\"24px\"viewBox=\"0 0 24 24\"\n",
              "       width=\"24px\">\n",
              "    <path d=\"M0 0h24v24H0V0z\" fill=\"none\"/>\n",
              "    <path d=\"M18.56 5.44l.94 2.06.94-2.06 2.06-.94-2.06-.94-.94-2.06-.94 2.06-2.06.94zm-11 1L8.5 8.5l.94-2.06 2.06-.94-2.06-.94L8.5 2.5l-.94 2.06-2.06.94zm10 10l.94 2.06.94-2.06 2.06-.94-2.06-.94-.94-2.06-.94 2.06-2.06.94z\"/><path d=\"M17.41 7.96l-1.37-1.37c-.4-.4-.92-.59-1.43-.59-.52 0-1.04.2-1.43.59L10.3 9.45l-7.72 7.72c-.78.78-.78 2.05 0 2.83L4 21.41c.39.39.9.59 1.41.59.51 0 1.02-.2 1.41-.59l7.78-7.78 2.81-2.81c.8-.78.8-2.07 0-2.86zM5.41 20L4 18.59l7.72-7.72 1.47 1.35L5.41 20z\"/>\n",
              "  </svg>\n",
              "      </button>\n",
              "      \n",
              "  <style>\n",
              "    .colab-df-container {\n",
              "      display:flex;\n",
              "      flex-wrap:wrap;\n",
              "      gap: 12px;\n",
              "    }\n",
              "\n",
              "    .colab-df-convert {\n",
              "      background-color: #E8F0FE;\n",
              "      border: none;\n",
              "      border-radius: 50%;\n",
              "      cursor: pointer;\n",
              "      display: none;\n",
              "      fill: #1967D2;\n",
              "      height: 32px;\n",
              "      padding: 0 0 0 0;\n",
              "      width: 32px;\n",
              "    }\n",
              "\n",
              "    .colab-df-convert:hover {\n",
              "      background-color: #E2EBFA;\n",
              "      box-shadow: 0px 1px 2px rgba(60, 64, 67, 0.3), 0px 1px 3px 1px rgba(60, 64, 67, 0.15);\n",
              "      fill: #174EA6;\n",
              "    }\n",
              "\n",
              "    [theme=dark] .colab-df-convert {\n",
              "      background-color: #3B4455;\n",
              "      fill: #D2E3FC;\n",
              "    }\n",
              "\n",
              "    [theme=dark] .colab-df-convert:hover {\n",
              "      background-color: #434B5C;\n",
              "      box-shadow: 0px 1px 3px 1px rgba(0, 0, 0, 0.15);\n",
              "      filter: drop-shadow(0px 1px 2px rgba(0, 0, 0, 0.3));\n",
              "      fill: #FFFFFF;\n",
              "    }\n",
              "  </style>\n",
              "\n",
              "      <script>\n",
              "        const buttonEl =\n",
              "          document.querySelector('#df-c4bc5f3a-8e5e-4bb1-9786-e78ac35325d1 button.colab-df-convert');\n",
              "        buttonEl.style.display =\n",
              "          google.colab.kernel.accessAllowed ? 'block' : 'none';\n",
              "\n",
              "        async function convertToInteractive(key) {\n",
              "          const element = document.querySelector('#df-c4bc5f3a-8e5e-4bb1-9786-e78ac35325d1');\n",
              "          const dataTable =\n",
              "            await google.colab.kernel.invokeFunction('convertToInteractive',\n",
              "                                                     [key], {});\n",
              "          if (!dataTable) return;\n",
              "\n",
              "          const docLinkHtml = 'Like what you see? Visit the ' +\n",
              "            '<a target=\"_blank\" href=https://colab.research.google.com/notebooks/data_table.ipynb>data table notebook</a>'\n",
              "            + ' to learn more about interactive tables.';\n",
              "          element.innerHTML = '';\n",
              "          dataTable['output_type'] = 'display_data';\n",
              "          await google.colab.output.renderOutput(dataTable, element);\n",
              "          const docLink = document.createElement('div');\n",
              "          docLink.innerHTML = docLinkHtml;\n",
              "          element.appendChild(docLink);\n",
              "        }\n",
              "      </script>\n",
              "    </div>\n",
              "  </div>\n",
              "  "
            ]
          },
          "metadata": {},
          "execution_count": 190
        }
      ]
    },
    {
      "cell_type": "code",
      "source": [
        "# Criar novo dataframe apenas com 10 exemplos positivos e 10 negativos e retirar coluna de textox em inglês\n",
        "pddf_csv_neg = pddf_csv[pddf_csv['sentiment'] == 'neg'].head(10).copy()\n",
        "pddf_csv_neg = pddf_csv_neg[['text_pt', 'sentiment']]\n",
        "pddf_csv_neg.head()"
      ],
      "metadata": {
        "id": "WNwenyDKd5LH",
        "colab": {
          "base_uri": "https://localhost:8080/",
          "height": 206
        },
        "outputId": "f8934a74-f3bc-4d40-91c2-0c65a0a8ccd8"
      },
      "execution_count": null,
      "outputs": [
        {
          "output_type": "execute_result",
          "data": {
            "text/plain": [
              "                                             text_pt sentiment\n",
              "0  Mais uma vez, o Sr. Costner arrumou um filme p...       neg\n",
              "1  Este é um exemplo do motivo pelo qual a maiori...       neg\n",
              "2  Primeiro de tudo eu odeio esses raps imbecis, ...       neg\n",
              "3  Nem mesmo os Beatles puderam escrever músicas ...       neg\n",
              "4  Filmes de fotos de latão não é uma palavra apr...       neg"
            ],
            "text/html": [
              "\n",
              "  <div id=\"df-5c6b8916-f639-4bf0-a814-66bc184f1e8a\">\n",
              "    <div class=\"colab-df-container\">\n",
              "      <div>\n",
              "<style scoped>\n",
              "    .dataframe tbody tr th:only-of-type {\n",
              "        vertical-align: middle;\n",
              "    }\n",
              "\n",
              "    .dataframe tbody tr th {\n",
              "        vertical-align: top;\n",
              "    }\n",
              "\n",
              "    .dataframe thead th {\n",
              "        text-align: right;\n",
              "    }\n",
              "</style>\n",
              "<table border=\"1\" class=\"dataframe\">\n",
              "  <thead>\n",
              "    <tr style=\"text-align: right;\">\n",
              "      <th></th>\n",
              "      <th>text_pt</th>\n",
              "      <th>sentiment</th>\n",
              "    </tr>\n",
              "  </thead>\n",
              "  <tbody>\n",
              "    <tr>\n",
              "      <th>0</th>\n",
              "      <td>Mais uma vez, o Sr. Costner arrumou um filme p...</td>\n",
              "      <td>neg</td>\n",
              "    </tr>\n",
              "    <tr>\n",
              "      <th>1</th>\n",
              "      <td>Este é um exemplo do motivo pelo qual a maiori...</td>\n",
              "      <td>neg</td>\n",
              "    </tr>\n",
              "    <tr>\n",
              "      <th>2</th>\n",
              "      <td>Primeiro de tudo eu odeio esses raps imbecis, ...</td>\n",
              "      <td>neg</td>\n",
              "    </tr>\n",
              "    <tr>\n",
              "      <th>3</th>\n",
              "      <td>Nem mesmo os Beatles puderam escrever músicas ...</td>\n",
              "      <td>neg</td>\n",
              "    </tr>\n",
              "    <tr>\n",
              "      <th>4</th>\n",
              "      <td>Filmes de fotos de latão não é uma palavra apr...</td>\n",
              "      <td>neg</td>\n",
              "    </tr>\n",
              "  </tbody>\n",
              "</table>\n",
              "</div>\n",
              "      <button class=\"colab-df-convert\" onclick=\"convertToInteractive('df-5c6b8916-f639-4bf0-a814-66bc184f1e8a')\"\n",
              "              title=\"Convert this dataframe to an interactive table.\"\n",
              "              style=\"display:none;\">\n",
              "        \n",
              "  <svg xmlns=\"http://www.w3.org/2000/svg\" height=\"24px\"viewBox=\"0 0 24 24\"\n",
              "       width=\"24px\">\n",
              "    <path d=\"M0 0h24v24H0V0z\" fill=\"none\"/>\n",
              "    <path d=\"M18.56 5.44l.94 2.06.94-2.06 2.06-.94-2.06-.94-.94-2.06-.94 2.06-2.06.94zm-11 1L8.5 8.5l.94-2.06 2.06-.94-2.06-.94L8.5 2.5l-.94 2.06-2.06.94zm10 10l.94 2.06.94-2.06 2.06-.94-2.06-.94-.94-2.06-.94 2.06-2.06.94z\"/><path d=\"M17.41 7.96l-1.37-1.37c-.4-.4-.92-.59-1.43-.59-.52 0-1.04.2-1.43.59L10.3 9.45l-7.72 7.72c-.78.78-.78 2.05 0 2.83L4 21.41c.39.39.9.59 1.41.59.51 0 1.02-.2 1.41-.59l7.78-7.78 2.81-2.81c.8-.78.8-2.07 0-2.86zM5.41 20L4 18.59l7.72-7.72 1.47 1.35L5.41 20z\"/>\n",
              "  </svg>\n",
              "      </button>\n",
              "      \n",
              "  <style>\n",
              "    .colab-df-container {\n",
              "      display:flex;\n",
              "      flex-wrap:wrap;\n",
              "      gap: 12px;\n",
              "    }\n",
              "\n",
              "    .colab-df-convert {\n",
              "      background-color: #E8F0FE;\n",
              "      border: none;\n",
              "      border-radius: 50%;\n",
              "      cursor: pointer;\n",
              "      display: none;\n",
              "      fill: #1967D2;\n",
              "      height: 32px;\n",
              "      padding: 0 0 0 0;\n",
              "      width: 32px;\n",
              "    }\n",
              "\n",
              "    .colab-df-convert:hover {\n",
              "      background-color: #E2EBFA;\n",
              "      box-shadow: 0px 1px 2px rgba(60, 64, 67, 0.3), 0px 1px 3px 1px rgba(60, 64, 67, 0.15);\n",
              "      fill: #174EA6;\n",
              "    }\n",
              "\n",
              "    [theme=dark] .colab-df-convert {\n",
              "      background-color: #3B4455;\n",
              "      fill: #D2E3FC;\n",
              "    }\n",
              "\n",
              "    [theme=dark] .colab-df-convert:hover {\n",
              "      background-color: #434B5C;\n",
              "      box-shadow: 0px 1px 3px 1px rgba(0, 0, 0, 0.15);\n",
              "      filter: drop-shadow(0px 1px 2px rgba(0, 0, 0, 0.3));\n",
              "      fill: #FFFFFF;\n",
              "    }\n",
              "  </style>\n",
              "\n",
              "      <script>\n",
              "        const buttonEl =\n",
              "          document.querySelector('#df-5c6b8916-f639-4bf0-a814-66bc184f1e8a button.colab-df-convert');\n",
              "        buttonEl.style.display =\n",
              "          google.colab.kernel.accessAllowed ? 'block' : 'none';\n",
              "\n",
              "        async function convertToInteractive(key) {\n",
              "          const element = document.querySelector('#df-5c6b8916-f639-4bf0-a814-66bc184f1e8a');\n",
              "          const dataTable =\n",
              "            await google.colab.kernel.invokeFunction('convertToInteractive',\n",
              "                                                     [key], {});\n",
              "          if (!dataTable) return;\n",
              "\n",
              "          const docLinkHtml = 'Like what you see? Visit the ' +\n",
              "            '<a target=\"_blank\" href=https://colab.research.google.com/notebooks/data_table.ipynb>data table notebook</a>'\n",
              "            + ' to learn more about interactive tables.';\n",
              "          element.innerHTML = '';\n",
              "          dataTable['output_type'] = 'display_data';\n",
              "          await google.colab.output.renderOutput(dataTable, element);\n",
              "          const docLink = document.createElement('div');\n",
              "          docLink.innerHTML = docLinkHtml;\n",
              "          element.appendChild(docLink);\n",
              "        }\n",
              "      </script>\n",
              "    </div>\n",
              "  </div>\n",
              "  "
            ]
          },
          "metadata": {},
          "execution_count": 191
        }
      ]
    },
    {
      "cell_type": "code",
      "source": [
        "# Unir os dataframes\n",
        "pddf_csv_pos = pddf_csv_pos.reset_index(drop=True)\n",
        "pddf_csv_neg = pddf_csv_neg.reset_index(drop=True)\n",
        "pddf_csv_final = pd.concat([pddf_csv_pos, pddf_csv_neg],axis = 0)\n",
        "pddf_csv_final = pddf_csv_final.reset_index(drop=True)"
      ],
      "metadata": {
        "id": "9_1DuwgodzSn"
      },
      "execution_count": null,
      "outputs": []
    },
    {
      "cell_type": "markdown",
      "source": [
        "Outra forma:"
      ],
      "metadata": {
        "id": "Qbcrmn8Reavi"
      }
    },
    {
      "cell_type": "code",
      "source": [
        "# De forma mais direta, com auxílio da biblioteca numpy:\n",
        "import pandas as pd\n",
        "import numpy as np\n",
        "pddf_csv = pd.read_csv('imdb-reviews-pt-br-pequeno.csv')\n",
        "pddf_csv_final = pd.DataFrame()\n",
        "for sentimento in np.unique(pddf_csv['sentiment']):\n",
        "  pddf_csv_final = pd.concat([pddf_csv_final, pddf_csv[['text_pt', 'sentiment']].apply(lambda linha: linha[pddf_csv['sentiment'].isin([sentimento])]).head(3)], axis = 0)\n",
        "\n",
        "pddf_csv_final = pddf_csv_final.reset_index(drop=True)\n",
        "pddf_csv_final"
      ],
      "metadata": {
        "id": "8-i0v3MYi7k3",
        "colab": {
          "base_uri": "https://localhost:8080/",
          "height": 237
        },
        "outputId": "9e72f19a-92b8-48fb-b21a-e0636e5f1824"
      },
      "execution_count": null,
      "outputs": [
        {
          "output_type": "execute_result",
          "data": {
            "text/plain": [
              "                                             text_pt sentiment\n",
              "0  Mais uma vez, o Sr. Costner arrumou um filme p...       neg\n",
              "1  Este é um exemplo do motivo pelo qual a maiori...       neg\n",
              "2  Primeiro de tudo eu odeio esses raps imbecis, ...       neg\n",
              "3  Eu fui e vi este filme ontem à noite depois de...       pos\n",
              "4  O diretor do ator, Bill Paxton, segue sua prom...       pos\n",
              "5  Como um jogador de recreio com algum conhecime...       pos"
            ],
            "text/html": [
              "\n",
              "  <div id=\"df-6fd60f71-9611-405d-b542-3e635d7f3126\">\n",
              "    <div class=\"colab-df-container\">\n",
              "      <div>\n",
              "<style scoped>\n",
              "    .dataframe tbody tr th:only-of-type {\n",
              "        vertical-align: middle;\n",
              "    }\n",
              "\n",
              "    .dataframe tbody tr th {\n",
              "        vertical-align: top;\n",
              "    }\n",
              "\n",
              "    .dataframe thead th {\n",
              "        text-align: right;\n",
              "    }\n",
              "</style>\n",
              "<table border=\"1\" class=\"dataframe\">\n",
              "  <thead>\n",
              "    <tr style=\"text-align: right;\">\n",
              "      <th></th>\n",
              "      <th>text_pt</th>\n",
              "      <th>sentiment</th>\n",
              "    </tr>\n",
              "  </thead>\n",
              "  <tbody>\n",
              "    <tr>\n",
              "      <th>0</th>\n",
              "      <td>Mais uma vez, o Sr. Costner arrumou um filme p...</td>\n",
              "      <td>neg</td>\n",
              "    </tr>\n",
              "    <tr>\n",
              "      <th>1</th>\n",
              "      <td>Este é um exemplo do motivo pelo qual a maiori...</td>\n",
              "      <td>neg</td>\n",
              "    </tr>\n",
              "    <tr>\n",
              "      <th>2</th>\n",
              "      <td>Primeiro de tudo eu odeio esses raps imbecis, ...</td>\n",
              "      <td>neg</td>\n",
              "    </tr>\n",
              "    <tr>\n",
              "      <th>3</th>\n",
              "      <td>Eu fui e vi este filme ontem à noite depois de...</td>\n",
              "      <td>pos</td>\n",
              "    </tr>\n",
              "    <tr>\n",
              "      <th>4</th>\n",
              "      <td>O diretor do ator, Bill Paxton, segue sua prom...</td>\n",
              "      <td>pos</td>\n",
              "    </tr>\n",
              "    <tr>\n",
              "      <th>5</th>\n",
              "      <td>Como um jogador de recreio com algum conhecime...</td>\n",
              "      <td>pos</td>\n",
              "    </tr>\n",
              "  </tbody>\n",
              "</table>\n",
              "</div>\n",
              "      <button class=\"colab-df-convert\" onclick=\"convertToInteractive('df-6fd60f71-9611-405d-b542-3e635d7f3126')\"\n",
              "              title=\"Convert this dataframe to an interactive table.\"\n",
              "              style=\"display:none;\">\n",
              "        \n",
              "  <svg xmlns=\"http://www.w3.org/2000/svg\" height=\"24px\"viewBox=\"0 0 24 24\"\n",
              "       width=\"24px\">\n",
              "    <path d=\"M0 0h24v24H0V0z\" fill=\"none\"/>\n",
              "    <path d=\"M18.56 5.44l.94 2.06.94-2.06 2.06-.94-2.06-.94-.94-2.06-.94 2.06-2.06.94zm-11 1L8.5 8.5l.94-2.06 2.06-.94-2.06-.94L8.5 2.5l-.94 2.06-2.06.94zm10 10l.94 2.06.94-2.06 2.06-.94-2.06-.94-.94-2.06-.94 2.06-2.06.94z\"/><path d=\"M17.41 7.96l-1.37-1.37c-.4-.4-.92-.59-1.43-.59-.52 0-1.04.2-1.43.59L10.3 9.45l-7.72 7.72c-.78.78-.78 2.05 0 2.83L4 21.41c.39.39.9.59 1.41.59.51 0 1.02-.2 1.41-.59l7.78-7.78 2.81-2.81c.8-.78.8-2.07 0-2.86zM5.41 20L4 18.59l7.72-7.72 1.47 1.35L5.41 20z\"/>\n",
              "  </svg>\n",
              "      </button>\n",
              "      \n",
              "  <style>\n",
              "    .colab-df-container {\n",
              "      display:flex;\n",
              "      flex-wrap:wrap;\n",
              "      gap: 12px;\n",
              "    }\n",
              "\n",
              "    .colab-df-convert {\n",
              "      background-color: #E8F0FE;\n",
              "      border: none;\n",
              "      border-radius: 50%;\n",
              "      cursor: pointer;\n",
              "      display: none;\n",
              "      fill: #1967D2;\n",
              "      height: 32px;\n",
              "      padding: 0 0 0 0;\n",
              "      width: 32px;\n",
              "    }\n",
              "\n",
              "    .colab-df-convert:hover {\n",
              "      background-color: #E2EBFA;\n",
              "      box-shadow: 0px 1px 2px rgba(60, 64, 67, 0.3), 0px 1px 3px 1px rgba(60, 64, 67, 0.15);\n",
              "      fill: #174EA6;\n",
              "    }\n",
              "\n",
              "    [theme=dark] .colab-df-convert {\n",
              "      background-color: #3B4455;\n",
              "      fill: #D2E3FC;\n",
              "    }\n",
              "\n",
              "    [theme=dark] .colab-df-convert:hover {\n",
              "      background-color: #434B5C;\n",
              "      box-shadow: 0px 1px 3px 1px rgba(0, 0, 0, 0.15);\n",
              "      filter: drop-shadow(0px 1px 2px rgba(0, 0, 0, 0.3));\n",
              "      fill: #FFFFFF;\n",
              "    }\n",
              "  </style>\n",
              "\n",
              "      <script>\n",
              "        const buttonEl =\n",
              "          document.querySelector('#df-6fd60f71-9611-405d-b542-3e635d7f3126 button.colab-df-convert');\n",
              "        buttonEl.style.display =\n",
              "          google.colab.kernel.accessAllowed ? 'block' : 'none';\n",
              "\n",
              "        async function convertToInteractive(key) {\n",
              "          const element = document.querySelector('#df-6fd60f71-9611-405d-b542-3e635d7f3126');\n",
              "          const dataTable =\n",
              "            await google.colab.kernel.invokeFunction('convertToInteractive',\n",
              "                                                     [key], {});\n",
              "          if (!dataTable) return;\n",
              "\n",
              "          const docLinkHtml = 'Like what you see? Visit the ' +\n",
              "            '<a target=\"_blank\" href=https://colab.research.google.com/notebooks/data_table.ipynb>data table notebook</a>'\n",
              "            + ' to learn more about interactive tables.';\n",
              "          element.innerHTML = '';\n",
              "          dataTable['output_type'] = 'display_data';\n",
              "          await google.colab.output.renderOutput(dataTable, element);\n",
              "          const docLink = document.createElement('div');\n",
              "          docLink.innerHTML = docLinkHtml;\n",
              "          element.appendChild(docLink);\n",
              "        }\n",
              "      </script>\n",
              "    </div>\n",
              "  </div>\n",
              "  "
            ]
          },
          "metadata": {},
          "execution_count": 193
        }
      ]
    },
    {
      "cell_type": "markdown",
      "source": [
        "#### Persistindo aqui: CSV com PANDAS"
      ],
      "metadata": {
        "id": "VIbZB4F7dWZu"
      }
    },
    {
      "cell_type": "code",
      "source": [
        "#  Salvar em arquivo CSV\n",
        "pddf_csv_final.to_csv('imdb-novo.csv',index = False)"
      ],
      "metadata": {
        "id": "XHca-4-jc8k0"
      },
      "execution_count": null,
      "outputs": []
    },
    {
      "cell_type": "markdown",
      "source": [
        "### PARQUET com PANDAS"
      ],
      "metadata": {
        "id": "Waml_9QigubB"
      }
    },
    {
      "cell_type": "code",
      "source": [
        "# Importação com biblioteca Pandas\n",
        "pddf_parquet = pd.read_parquet('foursquare_pairs.parquet')"
      ],
      "metadata": {
        "id": "QJ4vO1PVg0tm"
      },
      "execution_count": null,
      "outputs": []
    },
    {
      "cell_type": "markdown",
      "source": [
        "#### Alterar dados do dataframe para salvar em PARQUET"
      ],
      "metadata": {
        "id": "blpAtMFUfdjY"
      }
    },
    {
      "cell_type": "code",
      "source": [
        "pddf_parquet.columns"
      ],
      "metadata": {
        "id": "L3n5ejA6m8sd",
        "colab": {
          "base_uri": "https://localhost:8080/"
        },
        "outputId": "7ab55442-cd12-43c6-817e-ec0f764bd8a0"
      },
      "execution_count": null,
      "outputs": [
        {
          "output_type": "execute_result",
          "data": {
            "text/plain": [
              "Index(['id_1', 'name_1', 'latitude_1', 'longitude_1', 'address_1', 'city_1',\n",
              "       'state_1', 'zip_1', 'country_1', 'url_1', 'phone_1', 'categories_1',\n",
              "       'id_2', 'name_2', 'latitude_2', 'longitude_2', 'address_2', 'city_2',\n",
              "       'state_2', 'zip_2', 'country_2', 'url_2', 'phone_2', 'categories_2',\n",
              "       'match'],\n",
              "      dtype='object')"
            ]
          },
          "metadata": {},
          "execution_count": 195
        }
      ]
    },
    {
      "cell_type": "code",
      "source": [
        "pddf_parquet.loc[2]"
      ],
      "metadata": {
        "id": "qjg6r0VznPVm",
        "colab": {
          "base_uri": "https://localhost:8080/"
        },
        "outputId": "bcaba6be-659f-41a9-dee9-c0c8fc6d1ea0"
      },
      "execution_count": null,
      "outputs": [
        {
          "output_type": "execute_result",
          "data": {
            "text/plain": [
              "id_1                                       E_000023d8f4be44\n",
              "name_1                                           Island Spa\n",
              "latitude_1                                         14.51897\n",
              "longitude_1                                      121.018702\n",
              "address_1       5th Flr, Newport Mall, Resorts World Manila\n",
              "city_1                                           Pasay City\n",
              "state_1                                        Metro Manila\n",
              "zip_1                                                  None\n",
              "country_1                                                PH\n",
              "url_1                                                  None\n",
              "phone_1                                                None\n",
              "categories_1                                           Spas\n",
              "id_2                                       E_12453effe251db\n",
              "name_2                                   Island Spa Theater\n",
              "latitude_2                                         14.51833\n",
              "longitude_2                                      121.019827\n",
              "address_2                                              None\n",
              "city_2                                                 None\n",
              "state_2                                                None\n",
              "zip_2                                                  None\n",
              "country_2                                                PH\n",
              "url_2                                                  None\n",
              "phone_2                                                None\n",
              "categories_2                                           Spas\n",
              "match                                                  True\n",
              "Name: 2, dtype: object"
            ]
          },
          "metadata": {},
          "execution_count": 196
        }
      ]
    },
    {
      "cell_type": "code",
      "source": [
        "pddf_parquet.head()"
      ],
      "metadata": {
        "colab": {
          "base_uri": "https://localhost:8080/",
          "height": 508
        },
        "id": "ZioyOOEyenRF",
        "outputId": "83283a90-8a18-4e4d-c255-654458af289b"
      },
      "execution_count": null,
      "outputs": [
        {
          "output_type": "execute_result",
          "data": {
            "text/plain": [
              "               id_1                name_1  latitude_1  longitude_1  \\\n",
              "0  E_000001272c6c5d  Café Stad Oudenaarde   50.859975     3.634196   \n",
              "1  E_000008a8ba4f48              Turkcell   37.844510    27.844202   \n",
              "2  E_000023d8f4be44            Island Spa   14.518970   121.018702   \n",
              "3  E_00007dcd2bb53f     TOGO'S Sandwiches   38.257797  -122.064599   \n",
              "4  E_0000c362229d93            Coffee Cat    7.082218   125.610244   \n",
              "\n",
              "                                     address_1      city_1          state_1  \\\n",
              "0                                  Abdijstraat  Nederename  Oost-Vlaanderen   \n",
              "1                       Adnan Menderes Bulvarı        None             None   \n",
              "2  5th Flr, Newport Mall, Resorts World Manila  Pasay City     Metro Manila   \n",
              "3                     1380 Holiday Ln., Ste. B   Fairfield               CA   \n",
              "4                                F. Torres St.  Davao City     Davao Region   \n",
              "\n",
              "   zip_1 country_1                                              url_1  ...  \\\n",
              "0   9700        BE                                               None  ...   \n",
              "1   None        TR                                               None  ...   \n",
              "2   None        PH                                               None  ...   \n",
              "3  94534        US  https://locations.togos.com/ll/US/CA/Fairfield...  ...   \n",
              "4   8000        PH                                               None  ...   \n",
              "\n",
              "  longitude_2             address_2      city_2       state_2  zip_2  \\\n",
              "0    3.635206                  None        None          None   None   \n",
              "1   27.845560            batı aydın       aydın          None  67500   \n",
              "2  121.019827                  None        None          None   None   \n",
              "3 -122.064606                  None   Fairfield            CA   None   \n",
              "4  125.611457  E. Jacinto Extension  Davao City  Davao Region   8000   \n",
              "\n",
              "   country_2 url_2 phone_2                        categories_2  match  \n",
              "0         BE  None    None                                Bars   True  \n",
              "1         TR  None    None                  Electronics Stores  False  \n",
              "2         PH  None    None                                Spas   True  \n",
              "3         US  None    None                     Sandwich Places   True  \n",
              "4         PH  None    None  Coffee Shops, Cafés, Dessert Shops  False  \n",
              "\n",
              "[5 rows x 25 columns]"
            ],
            "text/html": [
              "\n",
              "  <div id=\"df-dc901e58-a67e-4b7b-81a1-77ea1901768b\">\n",
              "    <div class=\"colab-df-container\">\n",
              "      <div>\n",
              "<style scoped>\n",
              "    .dataframe tbody tr th:only-of-type {\n",
              "        vertical-align: middle;\n",
              "    }\n",
              "\n",
              "    .dataframe tbody tr th {\n",
              "        vertical-align: top;\n",
              "    }\n",
              "\n",
              "    .dataframe thead th {\n",
              "        text-align: right;\n",
              "    }\n",
              "</style>\n",
              "<table border=\"1\" class=\"dataframe\">\n",
              "  <thead>\n",
              "    <tr style=\"text-align: right;\">\n",
              "      <th></th>\n",
              "      <th>id_1</th>\n",
              "      <th>name_1</th>\n",
              "      <th>latitude_1</th>\n",
              "      <th>longitude_1</th>\n",
              "      <th>address_1</th>\n",
              "      <th>city_1</th>\n",
              "      <th>state_1</th>\n",
              "      <th>zip_1</th>\n",
              "      <th>country_1</th>\n",
              "      <th>url_1</th>\n",
              "      <th>...</th>\n",
              "      <th>longitude_2</th>\n",
              "      <th>address_2</th>\n",
              "      <th>city_2</th>\n",
              "      <th>state_2</th>\n",
              "      <th>zip_2</th>\n",
              "      <th>country_2</th>\n",
              "      <th>url_2</th>\n",
              "      <th>phone_2</th>\n",
              "      <th>categories_2</th>\n",
              "      <th>match</th>\n",
              "    </tr>\n",
              "  </thead>\n",
              "  <tbody>\n",
              "    <tr>\n",
              "      <th>0</th>\n",
              "      <td>E_000001272c6c5d</td>\n",
              "      <td>Café Stad Oudenaarde</td>\n",
              "      <td>50.859975</td>\n",
              "      <td>3.634196</td>\n",
              "      <td>Abdijstraat</td>\n",
              "      <td>Nederename</td>\n",
              "      <td>Oost-Vlaanderen</td>\n",
              "      <td>9700</td>\n",
              "      <td>BE</td>\n",
              "      <td>None</td>\n",
              "      <td>...</td>\n",
              "      <td>3.635206</td>\n",
              "      <td>None</td>\n",
              "      <td>None</td>\n",
              "      <td>None</td>\n",
              "      <td>None</td>\n",
              "      <td>BE</td>\n",
              "      <td>None</td>\n",
              "      <td>None</td>\n",
              "      <td>Bars</td>\n",
              "      <td>True</td>\n",
              "    </tr>\n",
              "    <tr>\n",
              "      <th>1</th>\n",
              "      <td>E_000008a8ba4f48</td>\n",
              "      <td>Turkcell</td>\n",
              "      <td>37.844510</td>\n",
              "      <td>27.844202</td>\n",
              "      <td>Adnan Menderes Bulvarı</td>\n",
              "      <td>None</td>\n",
              "      <td>None</td>\n",
              "      <td>None</td>\n",
              "      <td>TR</td>\n",
              "      <td>None</td>\n",
              "      <td>...</td>\n",
              "      <td>27.845560</td>\n",
              "      <td>batı aydın</td>\n",
              "      <td>aydın</td>\n",
              "      <td>None</td>\n",
              "      <td>67500</td>\n",
              "      <td>TR</td>\n",
              "      <td>None</td>\n",
              "      <td>None</td>\n",
              "      <td>Electronics Stores</td>\n",
              "      <td>False</td>\n",
              "    </tr>\n",
              "    <tr>\n",
              "      <th>2</th>\n",
              "      <td>E_000023d8f4be44</td>\n",
              "      <td>Island Spa</td>\n",
              "      <td>14.518970</td>\n",
              "      <td>121.018702</td>\n",
              "      <td>5th Flr, Newport Mall, Resorts World Manila</td>\n",
              "      <td>Pasay City</td>\n",
              "      <td>Metro Manila</td>\n",
              "      <td>None</td>\n",
              "      <td>PH</td>\n",
              "      <td>None</td>\n",
              "      <td>...</td>\n",
              "      <td>121.019827</td>\n",
              "      <td>None</td>\n",
              "      <td>None</td>\n",
              "      <td>None</td>\n",
              "      <td>None</td>\n",
              "      <td>PH</td>\n",
              "      <td>None</td>\n",
              "      <td>None</td>\n",
              "      <td>Spas</td>\n",
              "      <td>True</td>\n",
              "    </tr>\n",
              "    <tr>\n",
              "      <th>3</th>\n",
              "      <td>E_00007dcd2bb53f</td>\n",
              "      <td>TOGO'S Sandwiches</td>\n",
              "      <td>38.257797</td>\n",
              "      <td>-122.064599</td>\n",
              "      <td>1380 Holiday Ln., Ste. B</td>\n",
              "      <td>Fairfield</td>\n",
              "      <td>CA</td>\n",
              "      <td>94534</td>\n",
              "      <td>US</td>\n",
              "      <td>https://locations.togos.com/ll/US/CA/Fairfield...</td>\n",
              "      <td>...</td>\n",
              "      <td>-122.064606</td>\n",
              "      <td>None</td>\n",
              "      <td>Fairfield</td>\n",
              "      <td>CA</td>\n",
              "      <td>None</td>\n",
              "      <td>US</td>\n",
              "      <td>None</td>\n",
              "      <td>None</td>\n",
              "      <td>Sandwich Places</td>\n",
              "      <td>True</td>\n",
              "    </tr>\n",
              "    <tr>\n",
              "      <th>4</th>\n",
              "      <td>E_0000c362229d93</td>\n",
              "      <td>Coffee Cat</td>\n",
              "      <td>7.082218</td>\n",
              "      <td>125.610244</td>\n",
              "      <td>F. Torres St.</td>\n",
              "      <td>Davao City</td>\n",
              "      <td>Davao Region</td>\n",
              "      <td>8000</td>\n",
              "      <td>PH</td>\n",
              "      <td>None</td>\n",
              "      <td>...</td>\n",
              "      <td>125.611457</td>\n",
              "      <td>E. Jacinto Extension</td>\n",
              "      <td>Davao City</td>\n",
              "      <td>Davao Region</td>\n",
              "      <td>8000</td>\n",
              "      <td>PH</td>\n",
              "      <td>None</td>\n",
              "      <td>None</td>\n",
              "      <td>Coffee Shops, Cafés, Dessert Shops</td>\n",
              "      <td>False</td>\n",
              "    </tr>\n",
              "  </tbody>\n",
              "</table>\n",
              "<p>5 rows × 25 columns</p>\n",
              "</div>\n",
              "      <button class=\"colab-df-convert\" onclick=\"convertToInteractive('df-dc901e58-a67e-4b7b-81a1-77ea1901768b')\"\n",
              "              title=\"Convert this dataframe to an interactive table.\"\n",
              "              style=\"display:none;\">\n",
              "        \n",
              "  <svg xmlns=\"http://www.w3.org/2000/svg\" height=\"24px\"viewBox=\"0 0 24 24\"\n",
              "       width=\"24px\">\n",
              "    <path d=\"M0 0h24v24H0V0z\" fill=\"none\"/>\n",
              "    <path d=\"M18.56 5.44l.94 2.06.94-2.06 2.06-.94-2.06-.94-.94-2.06-.94 2.06-2.06.94zm-11 1L8.5 8.5l.94-2.06 2.06-.94-2.06-.94L8.5 2.5l-.94 2.06-2.06.94zm10 10l.94 2.06.94-2.06 2.06-.94-2.06-.94-.94-2.06-.94 2.06-2.06.94z\"/><path d=\"M17.41 7.96l-1.37-1.37c-.4-.4-.92-.59-1.43-.59-.52 0-1.04.2-1.43.59L10.3 9.45l-7.72 7.72c-.78.78-.78 2.05 0 2.83L4 21.41c.39.39.9.59 1.41.59.51 0 1.02-.2 1.41-.59l7.78-7.78 2.81-2.81c.8-.78.8-2.07 0-2.86zM5.41 20L4 18.59l7.72-7.72 1.47 1.35L5.41 20z\"/>\n",
              "  </svg>\n",
              "      </button>\n",
              "      \n",
              "  <style>\n",
              "    .colab-df-container {\n",
              "      display:flex;\n",
              "      flex-wrap:wrap;\n",
              "      gap: 12px;\n",
              "    }\n",
              "\n",
              "    .colab-df-convert {\n",
              "      background-color: #E8F0FE;\n",
              "      border: none;\n",
              "      border-radius: 50%;\n",
              "      cursor: pointer;\n",
              "      display: none;\n",
              "      fill: #1967D2;\n",
              "      height: 32px;\n",
              "      padding: 0 0 0 0;\n",
              "      width: 32px;\n",
              "    }\n",
              "\n",
              "    .colab-df-convert:hover {\n",
              "      background-color: #E2EBFA;\n",
              "      box-shadow: 0px 1px 2px rgba(60, 64, 67, 0.3), 0px 1px 3px 1px rgba(60, 64, 67, 0.15);\n",
              "      fill: #174EA6;\n",
              "    }\n",
              "\n",
              "    [theme=dark] .colab-df-convert {\n",
              "      background-color: #3B4455;\n",
              "      fill: #D2E3FC;\n",
              "    }\n",
              "\n",
              "    [theme=dark] .colab-df-convert:hover {\n",
              "      background-color: #434B5C;\n",
              "      box-shadow: 0px 1px 3px 1px rgba(0, 0, 0, 0.15);\n",
              "      filter: drop-shadow(0px 1px 2px rgba(0, 0, 0, 0.3));\n",
              "      fill: #FFFFFF;\n",
              "    }\n",
              "  </style>\n",
              "\n",
              "      <script>\n",
              "        const buttonEl =\n",
              "          document.querySelector('#df-dc901e58-a67e-4b7b-81a1-77ea1901768b button.colab-df-convert');\n",
              "        buttonEl.style.display =\n",
              "          google.colab.kernel.accessAllowed ? 'block' : 'none';\n",
              "\n",
              "        async function convertToInteractive(key) {\n",
              "          const element = document.querySelector('#df-dc901e58-a67e-4b7b-81a1-77ea1901768b');\n",
              "          const dataTable =\n",
              "            await google.colab.kernel.invokeFunction('convertToInteractive',\n",
              "                                                     [key], {});\n",
              "          if (!dataTable) return;\n",
              "\n",
              "          const docLinkHtml = 'Like what you see? Visit the ' +\n",
              "            '<a target=\"_blank\" href=https://colab.research.google.com/notebooks/data_table.ipynb>data table notebook</a>'\n",
              "            + ' to learn more about interactive tables.';\n",
              "          element.innerHTML = '';\n",
              "          dataTable['output_type'] = 'display_data';\n",
              "          await google.colab.output.renderOutput(dataTable, element);\n",
              "          const docLink = document.createElement('div');\n",
              "          docLink.innerHTML = docLinkHtml;\n",
              "          element.appendChild(docLink);\n",
              "        }\n",
              "      </script>\n",
              "    </div>\n",
              "  </div>\n",
              "  "
            ]
          },
          "metadata": {},
          "execution_count": 197
        }
      ]
    },
    {
      "cell_type": "code",
      "source": [
        "pddf_parquet_alterado = pddf_parquet[[\"id_1\", \"name_1\"]].tail(10).reset_index(drop=True)\n",
        "pddf_parquet_alterado"
      ],
      "metadata": {
        "colab": {
          "base_uri": "https://localhost:8080/",
          "height": 363
        },
        "id": "qZxogh3lfn-p",
        "outputId": "3596b9e6-2c83-4aeb-e6f6-0176d931a368"
      },
      "execution_count": null,
      "outputs": [
        {
          "output_type": "execute_result",
          "data": {
            "text/plain": [
              "               id_1                                name_1\n",
              "0  E_fffebfdf9be4cc                              во дворе\n",
              "1  E_fffebfdf9be4cc                              во дворе\n",
              "2  E_ffff2b8abf31ab                        La Tagliatella\n",
              "3  E_ffff59c16a4c36                             Walgreens\n",
              "4  E_ffff7b1a22e81b                              Sorrento\n",
              "5  E_ffff80f94b2fee              Blk 332 Hougang Avenue 5\n",
              "6  E_ffff8cc1b92ab3                          Fawsley Hall\n",
              "7  E_ffff989ae206f8  Cricket Wireless Authorized Retailer\n",
              "8  E_ffffca745329ed                                 焼肉 和家\n",
              "9  E_ffffe6f4652fbb                           Waihi Beach"
            ],
            "text/html": [
              "\n",
              "  <div id=\"df-930a187a-9125-465b-9881-72d7e7646952\">\n",
              "    <div class=\"colab-df-container\">\n",
              "      <div>\n",
              "<style scoped>\n",
              "    .dataframe tbody tr th:only-of-type {\n",
              "        vertical-align: middle;\n",
              "    }\n",
              "\n",
              "    .dataframe tbody tr th {\n",
              "        vertical-align: top;\n",
              "    }\n",
              "\n",
              "    .dataframe thead th {\n",
              "        text-align: right;\n",
              "    }\n",
              "</style>\n",
              "<table border=\"1\" class=\"dataframe\">\n",
              "  <thead>\n",
              "    <tr style=\"text-align: right;\">\n",
              "      <th></th>\n",
              "      <th>id_1</th>\n",
              "      <th>name_1</th>\n",
              "    </tr>\n",
              "  </thead>\n",
              "  <tbody>\n",
              "    <tr>\n",
              "      <th>0</th>\n",
              "      <td>E_fffebfdf9be4cc</td>\n",
              "      <td>во дворе</td>\n",
              "    </tr>\n",
              "    <tr>\n",
              "      <th>1</th>\n",
              "      <td>E_fffebfdf9be4cc</td>\n",
              "      <td>во дворе</td>\n",
              "    </tr>\n",
              "    <tr>\n",
              "      <th>2</th>\n",
              "      <td>E_ffff2b8abf31ab</td>\n",
              "      <td>La Tagliatella</td>\n",
              "    </tr>\n",
              "    <tr>\n",
              "      <th>3</th>\n",
              "      <td>E_ffff59c16a4c36</td>\n",
              "      <td>Walgreens</td>\n",
              "    </tr>\n",
              "    <tr>\n",
              "      <th>4</th>\n",
              "      <td>E_ffff7b1a22e81b</td>\n",
              "      <td>Sorrento</td>\n",
              "    </tr>\n",
              "    <tr>\n",
              "      <th>5</th>\n",
              "      <td>E_ffff80f94b2fee</td>\n",
              "      <td>Blk 332 Hougang Avenue 5</td>\n",
              "    </tr>\n",
              "    <tr>\n",
              "      <th>6</th>\n",
              "      <td>E_ffff8cc1b92ab3</td>\n",
              "      <td>Fawsley Hall</td>\n",
              "    </tr>\n",
              "    <tr>\n",
              "      <th>7</th>\n",
              "      <td>E_ffff989ae206f8</td>\n",
              "      <td>Cricket Wireless Authorized Retailer</td>\n",
              "    </tr>\n",
              "    <tr>\n",
              "      <th>8</th>\n",
              "      <td>E_ffffca745329ed</td>\n",
              "      <td>焼肉 和家</td>\n",
              "    </tr>\n",
              "    <tr>\n",
              "      <th>9</th>\n",
              "      <td>E_ffffe6f4652fbb</td>\n",
              "      <td>Waihi Beach</td>\n",
              "    </tr>\n",
              "  </tbody>\n",
              "</table>\n",
              "</div>\n",
              "      <button class=\"colab-df-convert\" onclick=\"convertToInteractive('df-930a187a-9125-465b-9881-72d7e7646952')\"\n",
              "              title=\"Convert this dataframe to an interactive table.\"\n",
              "              style=\"display:none;\">\n",
              "        \n",
              "  <svg xmlns=\"http://www.w3.org/2000/svg\" height=\"24px\"viewBox=\"0 0 24 24\"\n",
              "       width=\"24px\">\n",
              "    <path d=\"M0 0h24v24H0V0z\" fill=\"none\"/>\n",
              "    <path d=\"M18.56 5.44l.94 2.06.94-2.06 2.06-.94-2.06-.94-.94-2.06-.94 2.06-2.06.94zm-11 1L8.5 8.5l.94-2.06 2.06-.94-2.06-.94L8.5 2.5l-.94 2.06-2.06.94zm10 10l.94 2.06.94-2.06 2.06-.94-2.06-.94-.94-2.06-.94 2.06-2.06.94z\"/><path d=\"M17.41 7.96l-1.37-1.37c-.4-.4-.92-.59-1.43-.59-.52 0-1.04.2-1.43.59L10.3 9.45l-7.72 7.72c-.78.78-.78 2.05 0 2.83L4 21.41c.39.39.9.59 1.41.59.51 0 1.02-.2 1.41-.59l7.78-7.78 2.81-2.81c.8-.78.8-2.07 0-2.86zM5.41 20L4 18.59l7.72-7.72 1.47 1.35L5.41 20z\"/>\n",
              "  </svg>\n",
              "      </button>\n",
              "      \n",
              "  <style>\n",
              "    .colab-df-container {\n",
              "      display:flex;\n",
              "      flex-wrap:wrap;\n",
              "      gap: 12px;\n",
              "    }\n",
              "\n",
              "    .colab-df-convert {\n",
              "      background-color: #E8F0FE;\n",
              "      border: none;\n",
              "      border-radius: 50%;\n",
              "      cursor: pointer;\n",
              "      display: none;\n",
              "      fill: #1967D2;\n",
              "      height: 32px;\n",
              "      padding: 0 0 0 0;\n",
              "      width: 32px;\n",
              "    }\n",
              "\n",
              "    .colab-df-convert:hover {\n",
              "      background-color: #E2EBFA;\n",
              "      box-shadow: 0px 1px 2px rgba(60, 64, 67, 0.3), 0px 1px 3px 1px rgba(60, 64, 67, 0.15);\n",
              "      fill: #174EA6;\n",
              "    }\n",
              "\n",
              "    [theme=dark] .colab-df-convert {\n",
              "      background-color: #3B4455;\n",
              "      fill: #D2E3FC;\n",
              "    }\n",
              "\n",
              "    [theme=dark] .colab-df-convert:hover {\n",
              "      background-color: #434B5C;\n",
              "      box-shadow: 0px 1px 3px 1px rgba(0, 0, 0, 0.15);\n",
              "      filter: drop-shadow(0px 1px 2px rgba(0, 0, 0, 0.3));\n",
              "      fill: #FFFFFF;\n",
              "    }\n",
              "  </style>\n",
              "\n",
              "      <script>\n",
              "        const buttonEl =\n",
              "          document.querySelector('#df-930a187a-9125-465b-9881-72d7e7646952 button.colab-df-convert');\n",
              "        buttonEl.style.display =\n",
              "          google.colab.kernel.accessAllowed ? 'block' : 'none';\n",
              "\n",
              "        async function convertToInteractive(key) {\n",
              "          const element = document.querySelector('#df-930a187a-9125-465b-9881-72d7e7646952');\n",
              "          const dataTable =\n",
              "            await google.colab.kernel.invokeFunction('convertToInteractive',\n",
              "                                                     [key], {});\n",
              "          if (!dataTable) return;\n",
              "\n",
              "          const docLinkHtml = 'Like what you see? Visit the ' +\n",
              "            '<a target=\"_blank\" href=https://colab.research.google.com/notebooks/data_table.ipynb>data table notebook</a>'\n",
              "            + ' to learn more about interactive tables.';\n",
              "          element.innerHTML = '';\n",
              "          dataTable['output_type'] = 'display_data';\n",
              "          await google.colab.output.renderOutput(dataTable, element);\n",
              "          const docLink = document.createElement('div');\n",
              "          docLink.innerHTML = docLinkHtml;\n",
              "          element.appendChild(docLink);\n",
              "        }\n",
              "      </script>\n",
              "    </div>\n",
              "  </div>\n",
              "  "
            ]
          },
          "metadata": {},
          "execution_count": 205
        }
      ]
    },
    {
      "cell_type": "markdown",
      "source": [
        "#### Persistindo aqui: PARQUET com PANDAS"
      ],
      "metadata": {
        "id": "1_mWGeijmGRN"
      }
    },
    {
      "cell_type": "code",
      "source": [
        "pddf_parquet_alterado.to_parquet(\"novo_parquet.parquet\")"
      ],
      "metadata": {
        "id": "mdyK3BhLljU0"
      },
      "execution_count": null,
      "outputs": []
    },
    {
      "cell_type": "code",
      "source": [
        "!cat novo_parquet.parquet"
      ],
      "metadata": {
        "colab": {
          "base_uri": "https://localhost:8080/"
        },
        "id": "FUCFyqEzlyvm",
        "outputId": "3ac3f72e-dac7-4612-f628-24ad067112b0"
      },
      "execution_count": null,
      "outputs": [
        {
          "output_type": "stream",
          "name": "stdout",
          "text": [
            "PAR1\u0015\u0004\u0015�\u0002\u0015�\u0002L\u0015\u0012\u0015\u0004\u0012\u0000\u0000�\u0001L\u0010\u0000\u0000\u0000E_fffebfdf9be4cc\u0015\u0014(f2b8abf31ab\u0019\u0014$59c16a4c36\u0019\u0014 7b1a22e81\u001d($80f94b2fee\u0019(,8cc1b92ab3\u0010\u0000\rx(f989ae206f8\u0019\u0014$ca745329ed\u0019\u0014$e6f4652fbb\u0015\u0000\u0015 \u0015$,\u0015\u0014\u0015\u0004\u0015\u0006\u0015\u0006\u001c6\u0000(\u0010E_ffffe6f4652fbb\u0018\u0010E_fffebfdf9be4cc\u0000\u0000\u0000\u0010<\u0002\u0000\u0000\u0000\u0014\u0001\u0004\u0005\u0000!Ce�\u0000\u0000\u0000&�\u0003\u001c\u0015\f\u00195\u0004\u0000\u0006\u0019\u0018\u0004id_1\u0015\u0002\u0016\u0014\u0016�\u0004\u0016�\u0003&�\u0002&\b\u001c6\u0000(\u0010E_ffffe6f4652fbb\u0018\u0010E_fffebfdf9be4cc\u0000\u0019,\u0015\u0004\u0015\u0004\u0015\u0002\u0000\u0015\u0000\u0015\u0004\u0015\u0002\u0000\u0000\u0000\u0015\u0004\u0015�\u0002\u0015�\u0002L\u0015\u0012\u0015\u0004\u0012\u0000\u0000�\u0001(\u000f\u0000\u0000\u0000во д\u0001\u0007�ре\u000e\u0000\u0000\u0000La Tagliatella\t\u0000\u0000\u0000Walgreens\b\u0000\u0000\u0000Sorrento\u0018\u0000\u0000\u0000Blk 332 Hougang Avenue 5\f\u0000\u0000\u0000Fawsley Hall$\u0000\u0000\u0000Cricket Wireless Authorized Retailer\r\u0000\u0000\u0000焼肉 和家\u000b\u0000\u0000\u0000Waihi Beach\u0015\u0000\u0015 \u0015$,\u0015\u0014\u0015\u0004\u0015\u0006\u0015\u0006\u001c6\u0000(\r焼肉 和家\u0018\u0018Blk 332 Hougang Avenue 5\u0000\u0000\u0000\u0010<\u0002\u0000\u0000\u0000\u0014\u0001\u0004\u0005\u0000!Ce�\u0000\u0000\u0000&�\t\u001c\u0015\f\u00195\u0004\u0000\u0006\u0019\u0018\u0006name_1\u0015\u0002\u0016\u0014\u0016�\u0004\u0016�\u0004&�\b&�\u0004\u001c6\u0000(\r焼肉 和家\u0018\u0018Blk 332 Hougang Avenue 5\u0000\u0019,\u0015\u0004\u0015\u0004\u0015\u0002\u0000\u0015\u0000\u0015\u0004\u0015\u0002\u0000\u0000\u0000\u0015\u0002\u0019<5\u0000\u0018\u0006schema\u0015\u0004\u0000\u0015\f%\u0002\u0018\u0004id_1%\u0000L\u001c\u0000\u0000\u0000\u0015\f%\u0002\u0018\u0006name_1%\u0000L\u001c\u0000\u0000\u0000\u0016\u0014\u0019\u001c\u0019,&�\u0003\u001c\u0015\f\u00195\u0004\u0000\u0006\u0019\u0018\u0004id_1\u0015\u0002\u0016\u0014\u0016�\u0004\u0016�\u0003&�\u0002&\b\u001c6\u0000(\u0010E_ffffe6f4652fbb\u0018\u0010E_fffebfdf9be4cc\u0000\u0019,\u0015\u0004\u0015\u0004\u0015\u0002\u0000\u0015\u0000\u0015\u0004\u0015\u0002\u0000\u0000\u0000&�\t\u001c\u0015\f\u00195\u0004\u0000\u0006\u0019\u0018\u0006name_1\u0015\u0002\u0016\u0014\u0016�\u0004\u0016�\u0004&�\b&�\u0004\u001c6\u0000(\r焼肉 和家\u0018\u0018Blk 332 Hougang Avenue 5\u0000\u0019,\u0015\u0004\u0015\u0004\u0015\u0002\u0000\u0015\u0000\u0015\u0004\u0015\u0002\u0000\u0000\u0000\u0016�\b\u0016\u0014&\b\u0016�\u0007\u0014\u0000\u0000\u0019,\u0018\u0006pandas\u0018�\u0004{\"index_columns\": [{\"kind\": \"range\", \"name\": null, \"start\": 0, \"stop\": 10, \"step\": 1}], \"column_indexes\": [{\"name\": null, \"field_name\": null, \"pandas_type\": \"unicode\", \"numpy_type\": \"object\", \"metadata\": {\"encoding\": \"UTF-8\"}}], \"columns\": [{\"name\": \"id_1\", \"field_name\": \"id_1\", \"pandas_type\": \"unicode\", \"numpy_type\": \"object\", \"metadata\": null}, {\"name\": \"name_1\", \"field_name\": \"name_1\", \"pandas_type\": \"unicode\", \"numpy_type\": \"object\", \"metadata\": null}], \"creator\": {\"library\": \"pyarrow\", \"version\": \"6.0.1\"}, \"pandas_version\": \"1.3.5\"}\u0000\u0018\fARROW:schema\u0018�\u0007//////ACAAAQAAAAAAAKAA4ABgAFAAgACgAAAAABBAAQAAAAAAAKAAwAAAAEAAgACgAAAFQCAAAEAAAAAQAAAAwAAAAIAAwABAAIAAgAAAAIAAAAEAAAAAYAAABwYW5kYXMAAB8CAAB7ImluZGV4X2NvbHVtbnMiOiBbeyJraW5kIjogInJhbmdlIiwgIm5hbWUiOiBudWxsLCAic3RhcnQiOiAwLCAic3RvcCI6IDEwLCAic3RlcCI6IDF9XSwgImNvbHVtbl9pbmRleGVzIjogW3sibmFtZSI6IG51bGwsICJmaWVsZF9uYW1lIjogbnVsbCwgInBhbmRhc190eXBlIjogInVuaWNvZGUiLCAibnVtcHlfdHlwZSI6ICJvYmplY3QiLCAibWV0YWRhdGEiOiB7ImVuY29kaW5nIjogIlVURi04In19XSwgImNvbHVtbnMiOiBbeyJuYW1lIjogImlkXzEiLCAiZmllbGRfbmFtZSI6ICJpZF8xIiwgInBhbmRhc190eXBlIjogInVuaWNvZGUiLCAibnVtcHlfdHlwZSI6ICJvYmplY3QiLCAibWV0YWRhdGEiOiBudWxsfSwgeyJuYW1lIjogIm5hbWVfMSIsICJmaWVsZF9uYW1lIjogIm5hbWVfMSIsICJwYW5kYXNfdHlwZSI6ICJ1bmljb2RlIiwgIm51bXB5X3R5cGUiOiAib2JqZWN0IiwgIm1ldGFkYXRhIjogbnVsbH1dLCAiY3JlYXRvciI6IHsibGlicmFyeSI6ICJweWFycm93IiwgInZlcnNpb24iOiAiNi4wLjEifSwgInBhbmRhc192ZXJzaW9uIjogIjEuMy41In0AAgAAAEAAAAAEAAAA2P///wAAAQUQAAAAGAAAAAQAAAAAAAAABgAAAG5hbWVfMQAAyP///xAAFAAIAAYABwAMAAAAEAAQAAAAAAABBRAAAAAcAAAABAAAAAAAAAAEAAAAaWRfMQAAAAAEAAQABAAAAA==\u0000\u0018\u001fparquet-cpp-arrow version 6.0.1\u0019,\u001c\u0000\u0000\u001c\u0000\u0000\u0000g\u0007\u0000\u0000PAR1"
          ]
        }
      ]
    },
    {
      "cell_type": "code",
      "source": [
        "pd.read_parquet('novo_parquet.parquet')"
      ],
      "metadata": {
        "colab": {
          "base_uri": "https://localhost:8080/",
          "height": 363
        },
        "id": "oLtfa9IIl4sP",
        "outputId": "287f0b9b-57e4-44be-f82d-f5efc445c215"
      },
      "execution_count": null,
      "outputs": [
        {
          "output_type": "execute_result",
          "data": {
            "text/plain": [
              "               id_1                                name_1\n",
              "0  E_fffebfdf9be4cc                              во дворе\n",
              "1  E_fffebfdf9be4cc                              во дворе\n",
              "2  E_ffff2b8abf31ab                        La Tagliatella\n",
              "3  E_ffff59c16a4c36                             Walgreens\n",
              "4  E_ffff7b1a22e81b                              Sorrento\n",
              "5  E_ffff80f94b2fee              Blk 332 Hougang Avenue 5\n",
              "6  E_ffff8cc1b92ab3                          Fawsley Hall\n",
              "7  E_ffff989ae206f8  Cricket Wireless Authorized Retailer\n",
              "8  E_ffffca745329ed                                 焼肉 和家\n",
              "9  E_ffffe6f4652fbb                           Waihi Beach"
            ],
            "text/html": [
              "\n",
              "  <div id=\"df-736acaf5-60ea-41c9-ae77-8b60bd0d7cac\">\n",
              "    <div class=\"colab-df-container\">\n",
              "      <div>\n",
              "<style scoped>\n",
              "    .dataframe tbody tr th:only-of-type {\n",
              "        vertical-align: middle;\n",
              "    }\n",
              "\n",
              "    .dataframe tbody tr th {\n",
              "        vertical-align: top;\n",
              "    }\n",
              "\n",
              "    .dataframe thead th {\n",
              "        text-align: right;\n",
              "    }\n",
              "</style>\n",
              "<table border=\"1\" class=\"dataframe\">\n",
              "  <thead>\n",
              "    <tr style=\"text-align: right;\">\n",
              "      <th></th>\n",
              "      <th>id_1</th>\n",
              "      <th>name_1</th>\n",
              "    </tr>\n",
              "  </thead>\n",
              "  <tbody>\n",
              "    <tr>\n",
              "      <th>0</th>\n",
              "      <td>E_fffebfdf9be4cc</td>\n",
              "      <td>во дворе</td>\n",
              "    </tr>\n",
              "    <tr>\n",
              "      <th>1</th>\n",
              "      <td>E_fffebfdf9be4cc</td>\n",
              "      <td>во дворе</td>\n",
              "    </tr>\n",
              "    <tr>\n",
              "      <th>2</th>\n",
              "      <td>E_ffff2b8abf31ab</td>\n",
              "      <td>La Tagliatella</td>\n",
              "    </tr>\n",
              "    <tr>\n",
              "      <th>3</th>\n",
              "      <td>E_ffff59c16a4c36</td>\n",
              "      <td>Walgreens</td>\n",
              "    </tr>\n",
              "    <tr>\n",
              "      <th>4</th>\n",
              "      <td>E_ffff7b1a22e81b</td>\n",
              "      <td>Sorrento</td>\n",
              "    </tr>\n",
              "    <tr>\n",
              "      <th>5</th>\n",
              "      <td>E_ffff80f94b2fee</td>\n",
              "      <td>Blk 332 Hougang Avenue 5</td>\n",
              "    </tr>\n",
              "    <tr>\n",
              "      <th>6</th>\n",
              "      <td>E_ffff8cc1b92ab3</td>\n",
              "      <td>Fawsley Hall</td>\n",
              "    </tr>\n",
              "    <tr>\n",
              "      <th>7</th>\n",
              "      <td>E_ffff989ae206f8</td>\n",
              "      <td>Cricket Wireless Authorized Retailer</td>\n",
              "    </tr>\n",
              "    <tr>\n",
              "      <th>8</th>\n",
              "      <td>E_ffffca745329ed</td>\n",
              "      <td>焼肉 和家</td>\n",
              "    </tr>\n",
              "    <tr>\n",
              "      <th>9</th>\n",
              "      <td>E_ffffe6f4652fbb</td>\n",
              "      <td>Waihi Beach</td>\n",
              "    </tr>\n",
              "  </tbody>\n",
              "</table>\n",
              "</div>\n",
              "      <button class=\"colab-df-convert\" onclick=\"convertToInteractive('df-736acaf5-60ea-41c9-ae77-8b60bd0d7cac')\"\n",
              "              title=\"Convert this dataframe to an interactive table.\"\n",
              "              style=\"display:none;\">\n",
              "        \n",
              "  <svg xmlns=\"http://www.w3.org/2000/svg\" height=\"24px\"viewBox=\"0 0 24 24\"\n",
              "       width=\"24px\">\n",
              "    <path d=\"M0 0h24v24H0V0z\" fill=\"none\"/>\n",
              "    <path d=\"M18.56 5.44l.94 2.06.94-2.06 2.06-.94-2.06-.94-.94-2.06-.94 2.06-2.06.94zm-11 1L8.5 8.5l.94-2.06 2.06-.94-2.06-.94L8.5 2.5l-.94 2.06-2.06.94zm10 10l.94 2.06.94-2.06 2.06-.94-2.06-.94-.94-2.06-.94 2.06-2.06.94z\"/><path d=\"M17.41 7.96l-1.37-1.37c-.4-.4-.92-.59-1.43-.59-.52 0-1.04.2-1.43.59L10.3 9.45l-7.72 7.72c-.78.78-.78 2.05 0 2.83L4 21.41c.39.39.9.59 1.41.59.51 0 1.02-.2 1.41-.59l7.78-7.78 2.81-2.81c.8-.78.8-2.07 0-2.86zM5.41 20L4 18.59l7.72-7.72 1.47 1.35L5.41 20z\"/>\n",
              "  </svg>\n",
              "      </button>\n",
              "      \n",
              "  <style>\n",
              "    .colab-df-container {\n",
              "      display:flex;\n",
              "      flex-wrap:wrap;\n",
              "      gap: 12px;\n",
              "    }\n",
              "\n",
              "    .colab-df-convert {\n",
              "      background-color: #E8F0FE;\n",
              "      border: none;\n",
              "      border-radius: 50%;\n",
              "      cursor: pointer;\n",
              "      display: none;\n",
              "      fill: #1967D2;\n",
              "      height: 32px;\n",
              "      padding: 0 0 0 0;\n",
              "      width: 32px;\n",
              "    }\n",
              "\n",
              "    .colab-df-convert:hover {\n",
              "      background-color: #E2EBFA;\n",
              "      box-shadow: 0px 1px 2px rgba(60, 64, 67, 0.3), 0px 1px 3px 1px rgba(60, 64, 67, 0.15);\n",
              "      fill: #174EA6;\n",
              "    }\n",
              "\n",
              "    [theme=dark] .colab-df-convert {\n",
              "      background-color: #3B4455;\n",
              "      fill: #D2E3FC;\n",
              "    }\n",
              "\n",
              "    [theme=dark] .colab-df-convert:hover {\n",
              "      background-color: #434B5C;\n",
              "      box-shadow: 0px 1px 3px 1px rgba(0, 0, 0, 0.15);\n",
              "      filter: drop-shadow(0px 1px 2px rgba(0, 0, 0, 0.3));\n",
              "      fill: #FFFFFF;\n",
              "    }\n",
              "  </style>\n",
              "\n",
              "      <script>\n",
              "        const buttonEl =\n",
              "          document.querySelector('#df-736acaf5-60ea-41c9-ae77-8b60bd0d7cac button.colab-df-convert');\n",
              "        buttonEl.style.display =\n",
              "          google.colab.kernel.accessAllowed ? 'block' : 'none';\n",
              "\n",
              "        async function convertToInteractive(key) {\n",
              "          const element = document.querySelector('#df-736acaf5-60ea-41c9-ae77-8b60bd0d7cac');\n",
              "          const dataTable =\n",
              "            await google.colab.kernel.invokeFunction('convertToInteractive',\n",
              "                                                     [key], {});\n",
              "          if (!dataTable) return;\n",
              "\n",
              "          const docLinkHtml = 'Like what you see? Visit the ' +\n",
              "            '<a target=\"_blank\" href=https://colab.research.google.com/notebooks/data_table.ipynb>data table notebook</a>'\n",
              "            + ' to learn more about interactive tables.';\n",
              "          element.innerHTML = '';\n",
              "          dataTable['output_type'] = 'display_data';\n",
              "          await google.colab.output.renderOutput(dataTable, element);\n",
              "          const docLink = document.createElement('div');\n",
              "          docLink.innerHTML = docLinkHtml;\n",
              "          element.appendChild(docLink);\n",
              "        }\n",
              "      </script>\n",
              "    </div>\n",
              "  </div>\n",
              "  "
            ]
          },
          "metadata": {},
          "execution_count": 209
        }
      ]
    },
    {
      "cell_type": "markdown",
      "source": [
        "## Conexão com banco de dados SQLite"
      ],
      "metadata": {
        "id": "v2UFRxBlTmcE"
      }
    },
    {
      "cell_type": "code",
      "source": [
        "import sqlite3\n",
        "conn = sqlite3.connect(\"loja.db\")\n",
        "print(sqlite3.version)"
      ],
      "metadata": {
        "colab": {
          "base_uri": "https://localhost:8080/"
        },
        "id": "Yji0fvHdmYzr",
        "outputId": "168369d2-987f-481d-d4c4-bc52d3f74701"
      },
      "execution_count": null,
      "outputs": [
        {
          "output_type": "stream",
          "name": "stdout",
          "text": [
            "2.6.0\n"
          ]
        }
      ]
    },
    {
      "cell_type": "markdown",
      "source": [
        "Criar cursor para executar comandos sql no banco e recuperar dados"
      ],
      "metadata": {
        "id": "2wWJloZ5pvNv"
      }
    },
    {
      "cell_type": "code",
      "source": [
        "cur = conn.cursor()"
      ],
      "metadata": {
        "id": "kjKrOsmEptHC"
      },
      "execution_count": null,
      "outputs": []
    },
    {
      "cell_type": "markdown",
      "source": [
        "Mostrar tabelas do banco:"
      ],
      "metadata": {
        "id": "hai9k5mzpk_k"
      }
    },
    {
      "cell_type": "code",
      "source": [
        "cur.execute(\"SELECT name FROM sqlite_master WHERE type='table';\")\n",
        "print(cur.fetchall())"
      ],
      "metadata": {
        "colab": {
          "base_uri": "https://localhost:8080/"
        },
        "id": "NmhsiKtYoGzh",
        "outputId": "163b3909-0e38-4b3a-ab4a-3daec91e1ff0"
      },
      "execution_count": null,
      "outputs": [
        {
          "output_type": "stream",
          "name": "stdout",
          "text": [
            "[('CARRO',), ('sqlite_sequence',), ('CLIENTE',), ('COMBUSTIVEL',), ('FABRICANTE',), ('MODELO',), ('PAIS',), ('VENDA',), ('VENDEDOR',)]\n"
          ]
        }
      ]
    },
    {
      "cell_type": "markdown",
      "source": [
        "Mostrar lista de carros da loja utilizando o cursor"
      ],
      "metadata": {
        "id": "4MWy3oCfp7GE"
      }
    },
    {
      "cell_type": "code",
      "source": [
        "cur.execute(\"SELECT * FROM carro;\")\n",
        "df = pd.DataFrame(cur.fetchall())\n",
        "df"
      ],
      "metadata": {
        "colab": {
          "base_uri": "https://localhost:8080/",
          "height": 551
        },
        "id": "pc9M2-5lp6pH",
        "outputId": "327766ac-7c02-46d3-fdb0-d6a7f3ee8eb7"
      },
      "execution_count": null,
      "outputs": [
        {
          "output_type": "execute_result",
          "data": {
            "text/plain": [
              "     0   1       2         3     4       5         6  7\n",
              "0    1  12  150000    Branco  2017   17000  AXQ-1234  1\n",
              "1    2  13  180000      Azul  2021    5000  AAA-1111  1\n",
              "2    3  12  220000     Preto  2022       0  ABC-1234  1\n",
              "3    4  13  360000     Preto  2022       0  ABC-2222  1\n",
              "4    5   2   12000  Vermelho  2004  290000  QQQ-1111  1\n",
              "5    6  14   95000      Azul  2018   50000  BBB-1234  1\n",
              "6    7  15  115000     Prata  2015   90000  CCC-1111  1\n",
              "7    8  11   50000     Verde  1994  999500  CAB-4321  1\n",
              "8    9  14   90000     Preto  2021   50000  CBD-1234  1\n",
              "9   10  14   92000     Prata  2020   40000  CBC-1234  1\n",
              "10  11  14  105000  Vermelho  2022       0  CBB-1234  1\n",
              "11  12  13  240000     Verde  2019   45000  CBA-1234  1\n",
              "12  13  13  180000   Amarelo  2015   80000  CBE-1234  1\n",
              "13  14  16   91000  Vermelho  2022       0  ZYX-1234  1\n",
              "14  15  18  120000    Branco  2022       0  ZYX-4321  1\n",
              "15  16  12   92000     Prata  2021  148000  AAA-9876  1"
            ],
            "text/html": [
              "\n",
              "  <div id=\"df-deb1f5ae-a3ea-4270-8cfc-046aa61e91cd\">\n",
              "    <div class=\"colab-df-container\">\n",
              "      <div>\n",
              "<style scoped>\n",
              "    .dataframe tbody tr th:only-of-type {\n",
              "        vertical-align: middle;\n",
              "    }\n",
              "\n",
              "    .dataframe tbody tr th {\n",
              "        vertical-align: top;\n",
              "    }\n",
              "\n",
              "    .dataframe thead th {\n",
              "        text-align: right;\n",
              "    }\n",
              "</style>\n",
              "<table border=\"1\" class=\"dataframe\">\n",
              "  <thead>\n",
              "    <tr style=\"text-align: right;\">\n",
              "      <th></th>\n",
              "      <th>0</th>\n",
              "      <th>1</th>\n",
              "      <th>2</th>\n",
              "      <th>3</th>\n",
              "      <th>4</th>\n",
              "      <th>5</th>\n",
              "      <th>6</th>\n",
              "      <th>7</th>\n",
              "    </tr>\n",
              "  </thead>\n",
              "  <tbody>\n",
              "    <tr>\n",
              "      <th>0</th>\n",
              "      <td>1</td>\n",
              "      <td>12</td>\n",
              "      <td>150000</td>\n",
              "      <td>Branco</td>\n",
              "      <td>2017</td>\n",
              "      <td>17000</td>\n",
              "      <td>AXQ-1234</td>\n",
              "      <td>1</td>\n",
              "    </tr>\n",
              "    <tr>\n",
              "      <th>1</th>\n",
              "      <td>2</td>\n",
              "      <td>13</td>\n",
              "      <td>180000</td>\n",
              "      <td>Azul</td>\n",
              "      <td>2021</td>\n",
              "      <td>5000</td>\n",
              "      <td>AAA-1111</td>\n",
              "      <td>1</td>\n",
              "    </tr>\n",
              "    <tr>\n",
              "      <th>2</th>\n",
              "      <td>3</td>\n",
              "      <td>12</td>\n",
              "      <td>220000</td>\n",
              "      <td>Preto</td>\n",
              "      <td>2022</td>\n",
              "      <td>0</td>\n",
              "      <td>ABC-1234</td>\n",
              "      <td>1</td>\n",
              "    </tr>\n",
              "    <tr>\n",
              "      <th>3</th>\n",
              "      <td>4</td>\n",
              "      <td>13</td>\n",
              "      <td>360000</td>\n",
              "      <td>Preto</td>\n",
              "      <td>2022</td>\n",
              "      <td>0</td>\n",
              "      <td>ABC-2222</td>\n",
              "      <td>1</td>\n",
              "    </tr>\n",
              "    <tr>\n",
              "      <th>4</th>\n",
              "      <td>5</td>\n",
              "      <td>2</td>\n",
              "      <td>12000</td>\n",
              "      <td>Vermelho</td>\n",
              "      <td>2004</td>\n",
              "      <td>290000</td>\n",
              "      <td>QQQ-1111</td>\n",
              "      <td>1</td>\n",
              "    </tr>\n",
              "    <tr>\n",
              "      <th>5</th>\n",
              "      <td>6</td>\n",
              "      <td>14</td>\n",
              "      <td>95000</td>\n",
              "      <td>Azul</td>\n",
              "      <td>2018</td>\n",
              "      <td>50000</td>\n",
              "      <td>BBB-1234</td>\n",
              "      <td>1</td>\n",
              "    </tr>\n",
              "    <tr>\n",
              "      <th>6</th>\n",
              "      <td>7</td>\n",
              "      <td>15</td>\n",
              "      <td>115000</td>\n",
              "      <td>Prata</td>\n",
              "      <td>2015</td>\n",
              "      <td>90000</td>\n",
              "      <td>CCC-1111</td>\n",
              "      <td>1</td>\n",
              "    </tr>\n",
              "    <tr>\n",
              "      <th>7</th>\n",
              "      <td>8</td>\n",
              "      <td>11</td>\n",
              "      <td>50000</td>\n",
              "      <td>Verde</td>\n",
              "      <td>1994</td>\n",
              "      <td>999500</td>\n",
              "      <td>CAB-4321</td>\n",
              "      <td>1</td>\n",
              "    </tr>\n",
              "    <tr>\n",
              "      <th>8</th>\n",
              "      <td>9</td>\n",
              "      <td>14</td>\n",
              "      <td>90000</td>\n",
              "      <td>Preto</td>\n",
              "      <td>2021</td>\n",
              "      <td>50000</td>\n",
              "      <td>CBD-1234</td>\n",
              "      <td>1</td>\n",
              "    </tr>\n",
              "    <tr>\n",
              "      <th>9</th>\n",
              "      <td>10</td>\n",
              "      <td>14</td>\n",
              "      <td>92000</td>\n",
              "      <td>Prata</td>\n",
              "      <td>2020</td>\n",
              "      <td>40000</td>\n",
              "      <td>CBC-1234</td>\n",
              "      <td>1</td>\n",
              "    </tr>\n",
              "    <tr>\n",
              "      <th>10</th>\n",
              "      <td>11</td>\n",
              "      <td>14</td>\n",
              "      <td>105000</td>\n",
              "      <td>Vermelho</td>\n",
              "      <td>2022</td>\n",
              "      <td>0</td>\n",
              "      <td>CBB-1234</td>\n",
              "      <td>1</td>\n",
              "    </tr>\n",
              "    <tr>\n",
              "      <th>11</th>\n",
              "      <td>12</td>\n",
              "      <td>13</td>\n",
              "      <td>240000</td>\n",
              "      <td>Verde</td>\n",
              "      <td>2019</td>\n",
              "      <td>45000</td>\n",
              "      <td>CBA-1234</td>\n",
              "      <td>1</td>\n",
              "    </tr>\n",
              "    <tr>\n",
              "      <th>12</th>\n",
              "      <td>13</td>\n",
              "      <td>13</td>\n",
              "      <td>180000</td>\n",
              "      <td>Amarelo</td>\n",
              "      <td>2015</td>\n",
              "      <td>80000</td>\n",
              "      <td>CBE-1234</td>\n",
              "      <td>1</td>\n",
              "    </tr>\n",
              "    <tr>\n",
              "      <th>13</th>\n",
              "      <td>14</td>\n",
              "      <td>16</td>\n",
              "      <td>91000</td>\n",
              "      <td>Vermelho</td>\n",
              "      <td>2022</td>\n",
              "      <td>0</td>\n",
              "      <td>ZYX-1234</td>\n",
              "      <td>1</td>\n",
              "    </tr>\n",
              "    <tr>\n",
              "      <th>14</th>\n",
              "      <td>15</td>\n",
              "      <td>18</td>\n",
              "      <td>120000</td>\n",
              "      <td>Branco</td>\n",
              "      <td>2022</td>\n",
              "      <td>0</td>\n",
              "      <td>ZYX-4321</td>\n",
              "      <td>1</td>\n",
              "    </tr>\n",
              "    <tr>\n",
              "      <th>15</th>\n",
              "      <td>16</td>\n",
              "      <td>12</td>\n",
              "      <td>92000</td>\n",
              "      <td>Prata</td>\n",
              "      <td>2021</td>\n",
              "      <td>148000</td>\n",
              "      <td>AAA-9876</td>\n",
              "      <td>1</td>\n",
              "    </tr>\n",
              "  </tbody>\n",
              "</table>\n",
              "</div>\n",
              "      <button class=\"colab-df-convert\" onclick=\"convertToInteractive('df-deb1f5ae-a3ea-4270-8cfc-046aa61e91cd')\"\n",
              "              title=\"Convert this dataframe to an interactive table.\"\n",
              "              style=\"display:none;\">\n",
              "        \n",
              "  <svg xmlns=\"http://www.w3.org/2000/svg\" height=\"24px\"viewBox=\"0 0 24 24\"\n",
              "       width=\"24px\">\n",
              "    <path d=\"M0 0h24v24H0V0z\" fill=\"none\"/>\n",
              "    <path d=\"M18.56 5.44l.94 2.06.94-2.06 2.06-.94-2.06-.94-.94-2.06-.94 2.06-2.06.94zm-11 1L8.5 8.5l.94-2.06 2.06-.94-2.06-.94L8.5 2.5l-.94 2.06-2.06.94zm10 10l.94 2.06.94-2.06 2.06-.94-2.06-.94-.94-2.06-.94 2.06-2.06.94z\"/><path d=\"M17.41 7.96l-1.37-1.37c-.4-.4-.92-.59-1.43-.59-.52 0-1.04.2-1.43.59L10.3 9.45l-7.72 7.72c-.78.78-.78 2.05 0 2.83L4 21.41c.39.39.9.59 1.41.59.51 0 1.02-.2 1.41-.59l7.78-7.78 2.81-2.81c.8-.78.8-2.07 0-2.86zM5.41 20L4 18.59l7.72-7.72 1.47 1.35L5.41 20z\"/>\n",
              "  </svg>\n",
              "      </button>\n",
              "      \n",
              "  <style>\n",
              "    .colab-df-container {\n",
              "      display:flex;\n",
              "      flex-wrap:wrap;\n",
              "      gap: 12px;\n",
              "    }\n",
              "\n",
              "    .colab-df-convert {\n",
              "      background-color: #E8F0FE;\n",
              "      border: none;\n",
              "      border-radius: 50%;\n",
              "      cursor: pointer;\n",
              "      display: none;\n",
              "      fill: #1967D2;\n",
              "      height: 32px;\n",
              "      padding: 0 0 0 0;\n",
              "      width: 32px;\n",
              "    }\n",
              "\n",
              "    .colab-df-convert:hover {\n",
              "      background-color: #E2EBFA;\n",
              "      box-shadow: 0px 1px 2px rgba(60, 64, 67, 0.3), 0px 1px 3px 1px rgba(60, 64, 67, 0.15);\n",
              "      fill: #174EA6;\n",
              "    }\n",
              "\n",
              "    [theme=dark] .colab-df-convert {\n",
              "      background-color: #3B4455;\n",
              "      fill: #D2E3FC;\n",
              "    }\n",
              "\n",
              "    [theme=dark] .colab-df-convert:hover {\n",
              "      background-color: #434B5C;\n",
              "      box-shadow: 0px 1px 3px 1px rgba(0, 0, 0, 0.15);\n",
              "      filter: drop-shadow(0px 1px 2px rgba(0, 0, 0, 0.3));\n",
              "      fill: #FFFFFF;\n",
              "    }\n",
              "  </style>\n",
              "\n",
              "      <script>\n",
              "        const buttonEl =\n",
              "          document.querySelector('#df-deb1f5ae-a3ea-4270-8cfc-046aa61e91cd button.colab-df-convert');\n",
              "        buttonEl.style.display =\n",
              "          google.colab.kernel.accessAllowed ? 'block' : 'none';\n",
              "\n",
              "        async function convertToInteractive(key) {\n",
              "          const element = document.querySelector('#df-deb1f5ae-a3ea-4270-8cfc-046aa61e91cd');\n",
              "          const dataTable =\n",
              "            await google.colab.kernel.invokeFunction('convertToInteractive',\n",
              "                                                     [key], {});\n",
              "          if (!dataTable) return;\n",
              "\n",
              "          const docLinkHtml = 'Like what you see? Visit the ' +\n",
              "            '<a target=\"_blank\" href=https://colab.research.google.com/notebooks/data_table.ipynb>data table notebook</a>'\n",
              "            + ' to learn more about interactive tables.';\n",
              "          element.innerHTML = '';\n",
              "          dataTable['output_type'] = 'display_data';\n",
              "          await google.colab.output.renderOutput(dataTable, element);\n",
              "          const docLink = document.createElement('div');\n",
              "          docLink.innerHTML = docLinkHtml;\n",
              "          element.appendChild(docLink);\n",
              "        }\n",
              "      </script>\n",
              "    </div>\n",
              "  </div>\n",
              "  "
            ]
          },
          "metadata": {},
          "execution_count": 222
        }
      ]
    },
    {
      "cell_type": "markdown",
      "source": [
        "Criar dataframe diretamente dos dados do banco com PANDAS:"
      ],
      "metadata": {
        "id": "62ptvTPxqkhk"
      }
    },
    {
      "cell_type": "code",
      "source": [
        "pd.read_sql_query(\"SELECT * from carro\", conn)"
      ],
      "metadata": {
        "colab": {
          "base_uri": "https://localhost:8080/",
          "height": 551
        },
        "id": "c5Rr1kMQqPvp",
        "outputId": "6a0f0b57-dec0-447e-c2ec-41cd557034c5"
      },
      "execution_count": null,
      "outputs": [
        {
          "output_type": "execute_result",
          "data": {
            "text/plain": [
              "    Idcarro  Id_modelo   Valor       Cor   Ano      Km     Placa  Quantidade\n",
              "0         1         12  150000    Branco  2017   17000  AXQ-1234           1\n",
              "1         2         13  180000      Azul  2021    5000  AAA-1111           1\n",
              "2         3         12  220000     Preto  2022       0  ABC-1234           1\n",
              "3         4         13  360000     Preto  2022       0  ABC-2222           1\n",
              "4         5          2   12000  Vermelho  2004  290000  QQQ-1111           1\n",
              "5         6         14   95000      Azul  2018   50000  BBB-1234           1\n",
              "6         7         15  115000     Prata  2015   90000  CCC-1111           1\n",
              "7         8         11   50000     Verde  1994  999500  CAB-4321           1\n",
              "8         9         14   90000     Preto  2021   50000  CBD-1234           1\n",
              "9        10         14   92000     Prata  2020   40000  CBC-1234           1\n",
              "10       11         14  105000  Vermelho  2022       0  CBB-1234           1\n",
              "11       12         13  240000     Verde  2019   45000  CBA-1234           1\n",
              "12       13         13  180000   Amarelo  2015   80000  CBE-1234           1\n",
              "13       14         16   91000  Vermelho  2022       0  ZYX-1234           1\n",
              "14       15         18  120000    Branco  2022       0  ZYX-4321           1\n",
              "15       16         12   92000     Prata  2021  148000  AAA-9876           1"
            ],
            "text/html": [
              "\n",
              "  <div id=\"df-fccec1bc-467b-44d1-af47-430c0f1e348e\">\n",
              "    <div class=\"colab-df-container\">\n",
              "      <div>\n",
              "<style scoped>\n",
              "    .dataframe tbody tr th:only-of-type {\n",
              "        vertical-align: middle;\n",
              "    }\n",
              "\n",
              "    .dataframe tbody tr th {\n",
              "        vertical-align: top;\n",
              "    }\n",
              "\n",
              "    .dataframe thead th {\n",
              "        text-align: right;\n",
              "    }\n",
              "</style>\n",
              "<table border=\"1\" class=\"dataframe\">\n",
              "  <thead>\n",
              "    <tr style=\"text-align: right;\">\n",
              "      <th></th>\n",
              "      <th>Idcarro</th>\n",
              "      <th>Id_modelo</th>\n",
              "      <th>Valor</th>\n",
              "      <th>Cor</th>\n",
              "      <th>Ano</th>\n",
              "      <th>Km</th>\n",
              "      <th>Placa</th>\n",
              "      <th>Quantidade</th>\n",
              "    </tr>\n",
              "  </thead>\n",
              "  <tbody>\n",
              "    <tr>\n",
              "      <th>0</th>\n",
              "      <td>1</td>\n",
              "      <td>12</td>\n",
              "      <td>150000</td>\n",
              "      <td>Branco</td>\n",
              "      <td>2017</td>\n",
              "      <td>17000</td>\n",
              "      <td>AXQ-1234</td>\n",
              "      <td>1</td>\n",
              "    </tr>\n",
              "    <tr>\n",
              "      <th>1</th>\n",
              "      <td>2</td>\n",
              "      <td>13</td>\n",
              "      <td>180000</td>\n",
              "      <td>Azul</td>\n",
              "      <td>2021</td>\n",
              "      <td>5000</td>\n",
              "      <td>AAA-1111</td>\n",
              "      <td>1</td>\n",
              "    </tr>\n",
              "    <tr>\n",
              "      <th>2</th>\n",
              "      <td>3</td>\n",
              "      <td>12</td>\n",
              "      <td>220000</td>\n",
              "      <td>Preto</td>\n",
              "      <td>2022</td>\n",
              "      <td>0</td>\n",
              "      <td>ABC-1234</td>\n",
              "      <td>1</td>\n",
              "    </tr>\n",
              "    <tr>\n",
              "      <th>3</th>\n",
              "      <td>4</td>\n",
              "      <td>13</td>\n",
              "      <td>360000</td>\n",
              "      <td>Preto</td>\n",
              "      <td>2022</td>\n",
              "      <td>0</td>\n",
              "      <td>ABC-2222</td>\n",
              "      <td>1</td>\n",
              "    </tr>\n",
              "    <tr>\n",
              "      <th>4</th>\n",
              "      <td>5</td>\n",
              "      <td>2</td>\n",
              "      <td>12000</td>\n",
              "      <td>Vermelho</td>\n",
              "      <td>2004</td>\n",
              "      <td>290000</td>\n",
              "      <td>QQQ-1111</td>\n",
              "      <td>1</td>\n",
              "    </tr>\n",
              "    <tr>\n",
              "      <th>5</th>\n",
              "      <td>6</td>\n",
              "      <td>14</td>\n",
              "      <td>95000</td>\n",
              "      <td>Azul</td>\n",
              "      <td>2018</td>\n",
              "      <td>50000</td>\n",
              "      <td>BBB-1234</td>\n",
              "      <td>1</td>\n",
              "    </tr>\n",
              "    <tr>\n",
              "      <th>6</th>\n",
              "      <td>7</td>\n",
              "      <td>15</td>\n",
              "      <td>115000</td>\n",
              "      <td>Prata</td>\n",
              "      <td>2015</td>\n",
              "      <td>90000</td>\n",
              "      <td>CCC-1111</td>\n",
              "      <td>1</td>\n",
              "    </tr>\n",
              "    <tr>\n",
              "      <th>7</th>\n",
              "      <td>8</td>\n",
              "      <td>11</td>\n",
              "      <td>50000</td>\n",
              "      <td>Verde</td>\n",
              "      <td>1994</td>\n",
              "      <td>999500</td>\n",
              "      <td>CAB-4321</td>\n",
              "      <td>1</td>\n",
              "    </tr>\n",
              "    <tr>\n",
              "      <th>8</th>\n",
              "      <td>9</td>\n",
              "      <td>14</td>\n",
              "      <td>90000</td>\n",
              "      <td>Preto</td>\n",
              "      <td>2021</td>\n",
              "      <td>50000</td>\n",
              "      <td>CBD-1234</td>\n",
              "      <td>1</td>\n",
              "    </tr>\n",
              "    <tr>\n",
              "      <th>9</th>\n",
              "      <td>10</td>\n",
              "      <td>14</td>\n",
              "      <td>92000</td>\n",
              "      <td>Prata</td>\n",
              "      <td>2020</td>\n",
              "      <td>40000</td>\n",
              "      <td>CBC-1234</td>\n",
              "      <td>1</td>\n",
              "    </tr>\n",
              "    <tr>\n",
              "      <th>10</th>\n",
              "      <td>11</td>\n",
              "      <td>14</td>\n",
              "      <td>105000</td>\n",
              "      <td>Vermelho</td>\n",
              "      <td>2022</td>\n",
              "      <td>0</td>\n",
              "      <td>CBB-1234</td>\n",
              "      <td>1</td>\n",
              "    </tr>\n",
              "    <tr>\n",
              "      <th>11</th>\n",
              "      <td>12</td>\n",
              "      <td>13</td>\n",
              "      <td>240000</td>\n",
              "      <td>Verde</td>\n",
              "      <td>2019</td>\n",
              "      <td>45000</td>\n",
              "      <td>CBA-1234</td>\n",
              "      <td>1</td>\n",
              "    </tr>\n",
              "    <tr>\n",
              "      <th>12</th>\n",
              "      <td>13</td>\n",
              "      <td>13</td>\n",
              "      <td>180000</td>\n",
              "      <td>Amarelo</td>\n",
              "      <td>2015</td>\n",
              "      <td>80000</td>\n",
              "      <td>CBE-1234</td>\n",
              "      <td>1</td>\n",
              "    </tr>\n",
              "    <tr>\n",
              "      <th>13</th>\n",
              "      <td>14</td>\n",
              "      <td>16</td>\n",
              "      <td>91000</td>\n",
              "      <td>Vermelho</td>\n",
              "      <td>2022</td>\n",
              "      <td>0</td>\n",
              "      <td>ZYX-1234</td>\n",
              "      <td>1</td>\n",
              "    </tr>\n",
              "    <tr>\n",
              "      <th>14</th>\n",
              "      <td>15</td>\n",
              "      <td>18</td>\n",
              "      <td>120000</td>\n",
              "      <td>Branco</td>\n",
              "      <td>2022</td>\n",
              "      <td>0</td>\n",
              "      <td>ZYX-4321</td>\n",
              "      <td>1</td>\n",
              "    </tr>\n",
              "    <tr>\n",
              "      <th>15</th>\n",
              "      <td>16</td>\n",
              "      <td>12</td>\n",
              "      <td>92000</td>\n",
              "      <td>Prata</td>\n",
              "      <td>2021</td>\n",
              "      <td>148000</td>\n",
              "      <td>AAA-9876</td>\n",
              "      <td>1</td>\n",
              "    </tr>\n",
              "  </tbody>\n",
              "</table>\n",
              "</div>\n",
              "      <button class=\"colab-df-convert\" onclick=\"convertToInteractive('df-fccec1bc-467b-44d1-af47-430c0f1e348e')\"\n",
              "              title=\"Convert this dataframe to an interactive table.\"\n",
              "              style=\"display:none;\">\n",
              "        \n",
              "  <svg xmlns=\"http://www.w3.org/2000/svg\" height=\"24px\"viewBox=\"0 0 24 24\"\n",
              "       width=\"24px\">\n",
              "    <path d=\"M0 0h24v24H0V0z\" fill=\"none\"/>\n",
              "    <path d=\"M18.56 5.44l.94 2.06.94-2.06 2.06-.94-2.06-.94-.94-2.06-.94 2.06-2.06.94zm-11 1L8.5 8.5l.94-2.06 2.06-.94-2.06-.94L8.5 2.5l-.94 2.06-2.06.94zm10 10l.94 2.06.94-2.06 2.06-.94-2.06-.94-.94-2.06-.94 2.06-2.06.94z\"/><path d=\"M17.41 7.96l-1.37-1.37c-.4-.4-.92-.59-1.43-.59-.52 0-1.04.2-1.43.59L10.3 9.45l-7.72 7.72c-.78.78-.78 2.05 0 2.83L4 21.41c.39.39.9.59 1.41.59.51 0 1.02-.2 1.41-.59l7.78-7.78 2.81-2.81c.8-.78.8-2.07 0-2.86zM5.41 20L4 18.59l7.72-7.72 1.47 1.35L5.41 20z\"/>\n",
              "  </svg>\n",
              "      </button>\n",
              "      \n",
              "  <style>\n",
              "    .colab-df-container {\n",
              "      display:flex;\n",
              "      flex-wrap:wrap;\n",
              "      gap: 12px;\n",
              "    }\n",
              "\n",
              "    .colab-df-convert {\n",
              "      background-color: #E8F0FE;\n",
              "      border: none;\n",
              "      border-radius: 50%;\n",
              "      cursor: pointer;\n",
              "      display: none;\n",
              "      fill: #1967D2;\n",
              "      height: 32px;\n",
              "      padding: 0 0 0 0;\n",
              "      width: 32px;\n",
              "    }\n",
              "\n",
              "    .colab-df-convert:hover {\n",
              "      background-color: #E2EBFA;\n",
              "      box-shadow: 0px 1px 2px rgba(60, 64, 67, 0.3), 0px 1px 3px 1px rgba(60, 64, 67, 0.15);\n",
              "      fill: #174EA6;\n",
              "    }\n",
              "\n",
              "    [theme=dark] .colab-df-convert {\n",
              "      background-color: #3B4455;\n",
              "      fill: #D2E3FC;\n",
              "    }\n",
              "\n",
              "    [theme=dark] .colab-df-convert:hover {\n",
              "      background-color: #434B5C;\n",
              "      box-shadow: 0px 1px 3px 1px rgba(0, 0, 0, 0.15);\n",
              "      filter: drop-shadow(0px 1px 2px rgba(0, 0, 0, 0.3));\n",
              "      fill: #FFFFFF;\n",
              "    }\n",
              "  </style>\n",
              "\n",
              "      <script>\n",
              "        const buttonEl =\n",
              "          document.querySelector('#df-fccec1bc-467b-44d1-af47-430c0f1e348e button.colab-df-convert');\n",
              "        buttonEl.style.display =\n",
              "          google.colab.kernel.accessAllowed ? 'block' : 'none';\n",
              "\n",
              "        async function convertToInteractive(key) {\n",
              "          const element = document.querySelector('#df-fccec1bc-467b-44d1-af47-430c0f1e348e');\n",
              "          const dataTable =\n",
              "            await google.colab.kernel.invokeFunction('convertToInteractive',\n",
              "                                                     [key], {});\n",
              "          if (!dataTable) return;\n",
              "\n",
              "          const docLinkHtml = 'Like what you see? Visit the ' +\n",
              "            '<a target=\"_blank\" href=https://colab.research.google.com/notebooks/data_table.ipynb>data table notebook</a>'\n",
              "            + ' to learn more about interactive tables.';\n",
              "          element.innerHTML = '';\n",
              "          dataTable['output_type'] = 'display_data';\n",
              "          await google.colab.output.renderOutput(dataTable, element);\n",
              "          const docLink = document.createElement('div');\n",
              "          docLink.innerHTML = docLinkHtml;\n",
              "          element.appendChild(docLink);\n",
              "        }\n",
              "      </script>\n",
              "    </div>\n",
              "  </div>\n",
              "  "
            ]
          },
          "metadata": {},
          "execution_count": 294
        }
      ]
    },
    {
      "cell_type": "code",
      "source": [
        "cur.execute(\"PRAGMA table_info(carro);\")\n",
        "colunas = cur.fetchall()\n",
        "colunas"
      ],
      "metadata": {
        "colab": {
          "base_uri": "https://localhost:8080/"
        },
        "id": "OTw2gioYr7ch",
        "outputId": "cd16a423-ee08-4e1b-d818-f5677a898f0e"
      },
      "execution_count": null,
      "outputs": [
        {
          "output_type": "execute_result",
          "data": {
            "text/plain": [
              "[(0, 'Idcarro', 'integer', 1, None, 1),\n",
              " (1, 'Id_modelo', 'integer', 1, None, 0),\n",
              " (2, 'Valor', 'decimal(10,2)', 1, None, 0),\n",
              " (3, 'Cor', 'varchar(45)', 1, None, 0),\n",
              " (4, 'Ano', 'integer', 1, None, 0),\n",
              " (5, 'Km', 'integer', 1, None, 0),\n",
              " (6, 'Placa', 'varchar(45)', 1, None, 0),\n",
              " (7, 'Quantidade', 'integer', 1, None, 0)]"
            ]
          },
          "metadata": {},
          "execution_count": 295
        }
      ]
    },
    {
      "cell_type": "markdown",
      "source": [
        "Salvar um novo dado na tabela carro do banco:"
      ],
      "metadata": {
        "id": "0VhbUIWSq-Dm"
      }
    },
    {
      "cell_type": "code",
      "source": [
        "nova_linha = {colunas[0][1]:17,\n",
        "              colunas[1][1]:2, \n",
        "              colunas[2][1]:54000,\n",
        "              colunas[3][1]:'Preto',\n",
        "              colunas[4][1]:2015,\n",
        "              colunas[5][1]:121556,\n",
        "              colunas[6][1]:'DDD-0012',\n",
        "              colunas[7][1]:1}\n",
        "nova_linha"
      ],
      "metadata": {
        "colab": {
          "base_uri": "https://localhost:8080/"
        },
        "id": "9KloebQ_rS_R",
        "outputId": "05a78c4f-418d-4256-8bb1-64c5b59e23ba"
      },
      "execution_count": null,
      "outputs": [
        {
          "output_type": "execute_result",
          "data": {
            "text/plain": [
              "{'Ano': 2015,\n",
              " 'Cor': 'Preto',\n",
              " 'Id_modelo': 2,\n",
              " 'Idcarro': 17,\n",
              " 'Km': 121556,\n",
              " 'Placa': 'DDD-0012',\n",
              " 'Quantidade': 1,\n",
              " 'Valor': 54000}"
            ]
          },
          "metadata": {},
          "execution_count": 299
        }
      ]
    },
    {
      "cell_type": "code",
      "source": [
        "list(nova_linha.values())"
      ],
      "metadata": {
        "colab": {
          "base_uri": "https://localhost:8080/"
        },
        "id": "epYW4jCauR0w",
        "outputId": "1a98fa92-aa6c-4a42-c788-2ba0bf05e0bd"
      },
      "execution_count": null,
      "outputs": [
        {
          "output_type": "execute_result",
          "data": {
            "text/plain": [
              "[17, 2, 54000, 'Preto', 2015, 121556, 'DDD-0012', 1]"
            ]
          },
          "metadata": {},
          "execution_count": 300
        }
      ]
    },
    {
      "cell_type": "code",
      "source": [
        "sql = ''' INSERT INTO carro VALUES(?, ?, ?, ?, ?, ?, ?, ?) '''"
      ],
      "metadata": {
        "id": "5i1lPhEQprY8"
      },
      "execution_count": null,
      "outputs": []
    },
    {
      "cell_type": "code",
      "source": [
        "cur.execute(sql, list(nova_linha.values()))"
      ],
      "metadata": {
        "colab": {
          "base_uri": "https://localhost:8080/"
        },
        "id": "ARBakPs2uKeh",
        "outputId": "b294f617-b659-488a-b9c7-f4eaa25f5ba2"
      },
      "execution_count": null,
      "outputs": [
        {
          "output_type": "execute_result",
          "data": {
            "text/plain": [
              "<sqlite3.Cursor at 0x7f53e08b0d50>"
            ]
          },
          "metadata": {},
          "execution_count": 307
        }
      ]
    },
    {
      "cell_type": "code",
      "source": [
        "pd.read_sql_query(\"SELECT * from carro WHERE Idcarro = 17\", conn)"
      ],
      "metadata": {
        "colab": {
          "base_uri": "https://localhost:8080/",
          "height": 81
        },
        "id": "2QEIYHkL1q1l",
        "outputId": "41055ecf-e79c-4b8b-d308-3020bc6c8bed"
      },
      "execution_count": null,
      "outputs": [
        {
          "output_type": "execute_result",
          "data": {
            "text/plain": [
              "   Idcarro  Id_modelo  Valor    Cor   Ano      Km     Placa  Quantidade\n",
              "0       17          2  54000  Preto  2015  121556  DDD-0012           1"
            ],
            "text/html": [
              "\n",
              "  <div id=\"df-86c8ba30-c34f-42ec-b0c6-854025bbd29b\">\n",
              "    <div class=\"colab-df-container\">\n",
              "      <div>\n",
              "<style scoped>\n",
              "    .dataframe tbody tr th:only-of-type {\n",
              "        vertical-align: middle;\n",
              "    }\n",
              "\n",
              "    .dataframe tbody tr th {\n",
              "        vertical-align: top;\n",
              "    }\n",
              "\n",
              "    .dataframe thead th {\n",
              "        text-align: right;\n",
              "    }\n",
              "</style>\n",
              "<table border=\"1\" class=\"dataframe\">\n",
              "  <thead>\n",
              "    <tr style=\"text-align: right;\">\n",
              "      <th></th>\n",
              "      <th>Idcarro</th>\n",
              "      <th>Id_modelo</th>\n",
              "      <th>Valor</th>\n",
              "      <th>Cor</th>\n",
              "      <th>Ano</th>\n",
              "      <th>Km</th>\n",
              "      <th>Placa</th>\n",
              "      <th>Quantidade</th>\n",
              "    </tr>\n",
              "  </thead>\n",
              "  <tbody>\n",
              "    <tr>\n",
              "      <th>0</th>\n",
              "      <td>17</td>\n",
              "      <td>2</td>\n",
              "      <td>54000</td>\n",
              "      <td>Preto</td>\n",
              "      <td>2015</td>\n",
              "      <td>121556</td>\n",
              "      <td>DDD-0012</td>\n",
              "      <td>1</td>\n",
              "    </tr>\n",
              "  </tbody>\n",
              "</table>\n",
              "</div>\n",
              "      <button class=\"colab-df-convert\" onclick=\"convertToInteractive('df-86c8ba30-c34f-42ec-b0c6-854025bbd29b')\"\n",
              "              title=\"Convert this dataframe to an interactive table.\"\n",
              "              style=\"display:none;\">\n",
              "        \n",
              "  <svg xmlns=\"http://www.w3.org/2000/svg\" height=\"24px\"viewBox=\"0 0 24 24\"\n",
              "       width=\"24px\">\n",
              "    <path d=\"M0 0h24v24H0V0z\" fill=\"none\"/>\n",
              "    <path d=\"M18.56 5.44l.94 2.06.94-2.06 2.06-.94-2.06-.94-.94-2.06-.94 2.06-2.06.94zm-11 1L8.5 8.5l.94-2.06 2.06-.94-2.06-.94L8.5 2.5l-.94 2.06-2.06.94zm10 10l.94 2.06.94-2.06 2.06-.94-2.06-.94-.94-2.06-.94 2.06-2.06.94z\"/><path d=\"M17.41 7.96l-1.37-1.37c-.4-.4-.92-.59-1.43-.59-.52 0-1.04.2-1.43.59L10.3 9.45l-7.72 7.72c-.78.78-.78 2.05 0 2.83L4 21.41c.39.39.9.59 1.41.59.51 0 1.02-.2 1.41-.59l7.78-7.78 2.81-2.81c.8-.78.8-2.07 0-2.86zM5.41 20L4 18.59l7.72-7.72 1.47 1.35L5.41 20z\"/>\n",
              "  </svg>\n",
              "      </button>\n",
              "      \n",
              "  <style>\n",
              "    .colab-df-container {\n",
              "      display:flex;\n",
              "      flex-wrap:wrap;\n",
              "      gap: 12px;\n",
              "    }\n",
              "\n",
              "    .colab-df-convert {\n",
              "      background-color: #E8F0FE;\n",
              "      border: none;\n",
              "      border-radius: 50%;\n",
              "      cursor: pointer;\n",
              "      display: none;\n",
              "      fill: #1967D2;\n",
              "      height: 32px;\n",
              "      padding: 0 0 0 0;\n",
              "      width: 32px;\n",
              "    }\n",
              "\n",
              "    .colab-df-convert:hover {\n",
              "      background-color: #E2EBFA;\n",
              "      box-shadow: 0px 1px 2px rgba(60, 64, 67, 0.3), 0px 1px 3px 1px rgba(60, 64, 67, 0.15);\n",
              "      fill: #174EA6;\n",
              "    }\n",
              "\n",
              "    [theme=dark] .colab-df-convert {\n",
              "      background-color: #3B4455;\n",
              "      fill: #D2E3FC;\n",
              "    }\n",
              "\n",
              "    [theme=dark] .colab-df-convert:hover {\n",
              "      background-color: #434B5C;\n",
              "      box-shadow: 0px 1px 3px 1px rgba(0, 0, 0, 0.15);\n",
              "      filter: drop-shadow(0px 1px 2px rgba(0, 0, 0, 0.3));\n",
              "      fill: #FFFFFF;\n",
              "    }\n",
              "  </style>\n",
              "\n",
              "      <script>\n",
              "        const buttonEl =\n",
              "          document.querySelector('#df-86c8ba30-c34f-42ec-b0c6-854025bbd29b button.colab-df-convert');\n",
              "        buttonEl.style.display =\n",
              "          google.colab.kernel.accessAllowed ? 'block' : 'none';\n",
              "\n",
              "        async function convertToInteractive(key) {\n",
              "          const element = document.querySelector('#df-86c8ba30-c34f-42ec-b0c6-854025bbd29b');\n",
              "          const dataTable =\n",
              "            await google.colab.kernel.invokeFunction('convertToInteractive',\n",
              "                                                     [key], {});\n",
              "          if (!dataTable) return;\n",
              "\n",
              "          const docLinkHtml = 'Like what you see? Visit the ' +\n",
              "            '<a target=\"_blank\" href=https://colab.research.google.com/notebooks/data_table.ipynb>data table notebook</a>'\n",
              "            + ' to learn more about interactive tables.';\n",
              "          element.innerHTML = '';\n",
              "          dataTable['output_type'] = 'display_data';\n",
              "          await google.colab.output.renderOutput(dataTable, element);\n",
              "          const docLink = document.createElement('div');\n",
              "          docLink.innerHTML = docLinkHtml;\n",
              "          element.appendChild(docLink);\n",
              "        }\n",
              "      </script>\n",
              "    </div>\n",
              "  </div>\n",
              "  "
            ]
          },
          "metadata": {},
          "execution_count": 319
        }
      ]
    },
    {
      "cell_type": "code",
      "source": [
        "pd.read_sql_query(\"SELECT Modelo, Potencia, Tracao, fabricante.nome as Fabricante, Valor, Cor, Ano, Km, Placa, Quantidade \\\n",
        "                    FROM carro LEFT JOIN modelo ON carro.Id_modelo = modelo.idmodelo \\\n",
        "                    LEFT JOIN fabricante ON modelo.Id_fabricante = fabricante.Idfabricante \\\n",
        "                    WHERE Idcarro = 17\", conn)"
      ],
      "metadata": {
        "colab": {
          "base_uri": "https://localhost:8080/",
          "height": 81
        },
        "id": "xSqK7cx83qD2",
        "outputId": "4d36d2b8-f963-44ee-f7b9-c4a30dd82ed6"
      },
      "execution_count": null,
      "outputs": [
        {
          "output_type": "execute_result",
          "data": {
            "text/plain": [
              "  Modelo Potencia     Tracao  Fabricante  Valor    Cor   Ano      Km  \\\n",
              "0    gol       75  dianteria  volkswagen  54000  Preto  2015  121556   \n",
              "\n",
              "      Placa  Quantidade  \n",
              "0  DDD-0012           1  "
            ],
            "text/html": [
              "\n",
              "  <div id=\"df-496a31e0-816b-4f08-972f-bb141be90493\">\n",
              "    <div class=\"colab-df-container\">\n",
              "      <div>\n",
              "<style scoped>\n",
              "    .dataframe tbody tr th:only-of-type {\n",
              "        vertical-align: middle;\n",
              "    }\n",
              "\n",
              "    .dataframe tbody tr th {\n",
              "        vertical-align: top;\n",
              "    }\n",
              "\n",
              "    .dataframe thead th {\n",
              "        text-align: right;\n",
              "    }\n",
              "</style>\n",
              "<table border=\"1\" class=\"dataframe\">\n",
              "  <thead>\n",
              "    <tr style=\"text-align: right;\">\n",
              "      <th></th>\n",
              "      <th>Modelo</th>\n",
              "      <th>Potencia</th>\n",
              "      <th>Tracao</th>\n",
              "      <th>Fabricante</th>\n",
              "      <th>Valor</th>\n",
              "      <th>Cor</th>\n",
              "      <th>Ano</th>\n",
              "      <th>Km</th>\n",
              "      <th>Placa</th>\n",
              "      <th>Quantidade</th>\n",
              "    </tr>\n",
              "  </thead>\n",
              "  <tbody>\n",
              "    <tr>\n",
              "      <th>0</th>\n",
              "      <td>gol</td>\n",
              "      <td>75</td>\n",
              "      <td>dianteria</td>\n",
              "      <td>volkswagen</td>\n",
              "      <td>54000</td>\n",
              "      <td>Preto</td>\n",
              "      <td>2015</td>\n",
              "      <td>121556</td>\n",
              "      <td>DDD-0012</td>\n",
              "      <td>1</td>\n",
              "    </tr>\n",
              "  </tbody>\n",
              "</table>\n",
              "</div>\n",
              "      <button class=\"colab-df-convert\" onclick=\"convertToInteractive('df-496a31e0-816b-4f08-972f-bb141be90493')\"\n",
              "              title=\"Convert this dataframe to an interactive table.\"\n",
              "              style=\"display:none;\">\n",
              "        \n",
              "  <svg xmlns=\"http://www.w3.org/2000/svg\" height=\"24px\"viewBox=\"0 0 24 24\"\n",
              "       width=\"24px\">\n",
              "    <path d=\"M0 0h24v24H0V0z\" fill=\"none\"/>\n",
              "    <path d=\"M18.56 5.44l.94 2.06.94-2.06 2.06-.94-2.06-.94-.94-2.06-.94 2.06-2.06.94zm-11 1L8.5 8.5l.94-2.06 2.06-.94-2.06-.94L8.5 2.5l-.94 2.06-2.06.94zm10 10l.94 2.06.94-2.06 2.06-.94-2.06-.94-.94-2.06-.94 2.06-2.06.94z\"/><path d=\"M17.41 7.96l-1.37-1.37c-.4-.4-.92-.59-1.43-.59-.52 0-1.04.2-1.43.59L10.3 9.45l-7.72 7.72c-.78.78-.78 2.05 0 2.83L4 21.41c.39.39.9.59 1.41.59.51 0 1.02-.2 1.41-.59l7.78-7.78 2.81-2.81c.8-.78.8-2.07 0-2.86zM5.41 20L4 18.59l7.72-7.72 1.47 1.35L5.41 20z\"/>\n",
              "  </svg>\n",
              "      </button>\n",
              "      \n",
              "  <style>\n",
              "    .colab-df-container {\n",
              "      display:flex;\n",
              "      flex-wrap:wrap;\n",
              "      gap: 12px;\n",
              "    }\n",
              "\n",
              "    .colab-df-convert {\n",
              "      background-color: #E8F0FE;\n",
              "      border: none;\n",
              "      border-radius: 50%;\n",
              "      cursor: pointer;\n",
              "      display: none;\n",
              "      fill: #1967D2;\n",
              "      height: 32px;\n",
              "      padding: 0 0 0 0;\n",
              "      width: 32px;\n",
              "    }\n",
              "\n",
              "    .colab-df-convert:hover {\n",
              "      background-color: #E2EBFA;\n",
              "      box-shadow: 0px 1px 2px rgba(60, 64, 67, 0.3), 0px 1px 3px 1px rgba(60, 64, 67, 0.15);\n",
              "      fill: #174EA6;\n",
              "    }\n",
              "\n",
              "    [theme=dark] .colab-df-convert {\n",
              "      background-color: #3B4455;\n",
              "      fill: #D2E3FC;\n",
              "    }\n",
              "\n",
              "    [theme=dark] .colab-df-convert:hover {\n",
              "      background-color: #434B5C;\n",
              "      box-shadow: 0px 1px 3px 1px rgba(0, 0, 0, 0.15);\n",
              "      filter: drop-shadow(0px 1px 2px rgba(0, 0, 0, 0.3));\n",
              "      fill: #FFFFFF;\n",
              "    }\n",
              "  </style>\n",
              "\n",
              "      <script>\n",
              "        const buttonEl =\n",
              "          document.querySelector('#df-496a31e0-816b-4f08-972f-bb141be90493 button.colab-df-convert');\n",
              "        buttonEl.style.display =\n",
              "          google.colab.kernel.accessAllowed ? 'block' : 'none';\n",
              "\n",
              "        async function convertToInteractive(key) {\n",
              "          const element = document.querySelector('#df-496a31e0-816b-4f08-972f-bb141be90493');\n",
              "          const dataTable =\n",
              "            await google.colab.kernel.invokeFunction('convertToInteractive',\n",
              "                                                     [key], {});\n",
              "          if (!dataTable) return;\n",
              "\n",
              "          const docLinkHtml = 'Like what you see? Visit the ' +\n",
              "            '<a target=\"_blank\" href=https://colab.research.google.com/notebooks/data_table.ipynb>data table notebook</a>'\n",
              "            + ' to learn more about interactive tables.';\n",
              "          element.innerHTML = '';\n",
              "          dataTable['output_type'] = 'display_data';\n",
              "          await google.colab.output.renderOutput(dataTable, element);\n",
              "          const docLink = document.createElement('div');\n",
              "          docLink.innerHTML = docLinkHtml;\n",
              "          element.appendChild(docLink);\n",
              "        }\n",
              "      </script>\n",
              "    </div>\n",
              "  </div>\n",
              "  "
            ]
          },
          "metadata": {},
          "execution_count": 318
        }
      ]
    },
    {
      "cell_type": "code",
      "source": [
        "conn.commit()"
      ],
      "metadata": {
        "id": "L20jxbIE0tdw"
      },
      "execution_count": null,
      "outputs": []
    },
    {
      "cell_type": "markdown",
      "source": [
        "É importante sempre fechar a conexão após finalizar a consulta ao banco de dados!"
      ],
      "metadata": {
        "id": "MYB1v_gx4fUY"
      }
    },
    {
      "cell_type": "code",
      "source": [
        "conn.close()"
      ],
      "metadata": {
        "id": "KD7zAPe9ooBu"
      },
      "execution_count": null,
      "outputs": []
    },
    {
      "cell_type": "markdown",
      "source": [
        "## Persistindo lá: APIs REST\n",
        "Consumo de API e Rest Requests.\n",
        "\n",
        "Para nossos testes, vamos usar a API REST FAKE de testes em: https://jsonplaceholder.typicode.com/\n"
      ],
      "metadata": {
        "id": "zRqXFvsFUCj3"
      }
    },
    {
      "cell_type": "markdown",
      "source": [
        "Exemplo de acesso a API REST - GET"
      ],
      "metadata": {
        "id": "SZZLEMolA5rB"
      }
    },
    {
      "cell_type": "code",
      "source": [
        "import requests\n",
        "import http.client\n",
        "from urllib.parse import urlencode\n",
        "\n",
        "payload = {'mensagem': 'Olá! Esta mensagem deverá ser recebida de volta'}\n",
        "\n",
        "response_get = requests.get('https://httpbin.org/get', params=payload)\n",
        "response_get.json()"
      ],
      "metadata": {
        "id": "wlTERHch64PV",
        "colab": {
          "base_uri": "https://localhost:8080/"
        },
        "outputId": "8b9fcd9f-8706-4c55-dee1-eed7763a6c2e"
      },
      "execution_count": null,
      "outputs": [
        {
          "output_type": "execute_result",
          "data": {
            "text/plain": [
              "{'args': {'mensagem': 'Olá! Esta mensagem deverá ser recebida de volta'},\n",
              " 'headers': {'Accept': '*/*',\n",
              "  'Accept-Encoding': 'gzip, deflate',\n",
              "  'Host': 'httpbin.org',\n",
              "  'User-Agent': 'python-requests/2.23.0',\n",
              "  'X-Amzn-Trace-Id': 'Root=1-62d60178-1263ae356463c934664b9513'},\n",
              " 'origin': '34.73.143.111',\n",
              " 'url': 'https://httpbin.org/get?mensagem=Olá!+Esta+mensagem+deverá+ser+recebida+de+volta'}"
            ]
          },
          "metadata": {},
          "execution_count": 336
        }
      ]
    },
    {
      "cell_type": "code",
      "source": [
        "df = pd.DataFrame(response_get.json())"
      ],
      "metadata": {
        "id": "PPCNiugj5DYX"
      },
      "execution_count": null,
      "outputs": []
    },
    {
      "cell_type": "code",
      "source": [
        "df"
      ],
      "metadata": {
        "colab": {
          "base_uri": "https://localhost:8080/",
          "height": 237
        },
        "id": "nIKhLJZ46IsD",
        "outputId": "378432da-5554-489f-b224-8d93c0d70a39"
      },
      "execution_count": null,
      "outputs": [
        {
          "output_type": "execute_result",
          "data": {
            "text/plain": [
              "                                                            args  \\\n",
              "mensagem         Olá! Esta mensagem deverá ser recebida de volta   \n",
              "Accept                                                       NaN   \n",
              "Accept-Encoding                                              NaN   \n",
              "Host                                                         NaN   \n",
              "User-Agent                                                   NaN   \n",
              "X-Amzn-Trace-Id                                              NaN   \n",
              "\n",
              "                                                  headers         origin  \\\n",
              "mensagem                                              NaN  34.73.143.111   \n",
              "Accept                                                */*  34.73.143.111   \n",
              "Accept-Encoding                             gzip, deflate  34.73.143.111   \n",
              "Host                                          httpbin.org  34.73.143.111   \n",
              "User-Agent                         python-requests/2.23.0  34.73.143.111   \n",
              "X-Amzn-Trace-Id  Root=1-62d5ea03-6d991bad35badefa411c6f5e  34.73.143.111   \n",
              "\n",
              "                                                               url  \n",
              "mensagem         https://httpbin.org/get?mensagem=Olá!+Esta+men...  \n",
              "Accept           https://httpbin.org/get?mensagem=Olá!+Esta+men...  \n",
              "Accept-Encoding  https://httpbin.org/get?mensagem=Olá!+Esta+men...  \n",
              "Host             https://httpbin.org/get?mensagem=Olá!+Esta+men...  \n",
              "User-Agent       https://httpbin.org/get?mensagem=Olá!+Esta+men...  \n",
              "X-Amzn-Trace-Id  https://httpbin.org/get?mensagem=Olá!+Esta+men...  "
            ],
            "text/html": [
              "\n",
              "  <div id=\"df-bea751c0-cde2-4b15-87cf-5980576390ad\">\n",
              "    <div class=\"colab-df-container\">\n",
              "      <div>\n",
              "<style scoped>\n",
              "    .dataframe tbody tr th:only-of-type {\n",
              "        vertical-align: middle;\n",
              "    }\n",
              "\n",
              "    .dataframe tbody tr th {\n",
              "        vertical-align: top;\n",
              "    }\n",
              "\n",
              "    .dataframe thead th {\n",
              "        text-align: right;\n",
              "    }\n",
              "</style>\n",
              "<table border=\"1\" class=\"dataframe\">\n",
              "  <thead>\n",
              "    <tr style=\"text-align: right;\">\n",
              "      <th></th>\n",
              "      <th>args</th>\n",
              "      <th>headers</th>\n",
              "      <th>origin</th>\n",
              "      <th>url</th>\n",
              "    </tr>\n",
              "  </thead>\n",
              "  <tbody>\n",
              "    <tr>\n",
              "      <th>mensagem</th>\n",
              "      <td>Olá! Esta mensagem deverá ser recebida de volta</td>\n",
              "      <td>NaN</td>\n",
              "      <td>34.73.143.111</td>\n",
              "      <td>https://httpbin.org/get?mensagem=Olá!+Esta+men...</td>\n",
              "    </tr>\n",
              "    <tr>\n",
              "      <th>Accept</th>\n",
              "      <td>NaN</td>\n",
              "      <td>*/*</td>\n",
              "      <td>34.73.143.111</td>\n",
              "      <td>https://httpbin.org/get?mensagem=Olá!+Esta+men...</td>\n",
              "    </tr>\n",
              "    <tr>\n",
              "      <th>Accept-Encoding</th>\n",
              "      <td>NaN</td>\n",
              "      <td>gzip, deflate</td>\n",
              "      <td>34.73.143.111</td>\n",
              "      <td>https://httpbin.org/get?mensagem=Olá!+Esta+men...</td>\n",
              "    </tr>\n",
              "    <tr>\n",
              "      <th>Host</th>\n",
              "      <td>NaN</td>\n",
              "      <td>httpbin.org</td>\n",
              "      <td>34.73.143.111</td>\n",
              "      <td>https://httpbin.org/get?mensagem=Olá!+Esta+men...</td>\n",
              "    </tr>\n",
              "    <tr>\n",
              "      <th>User-Agent</th>\n",
              "      <td>NaN</td>\n",
              "      <td>python-requests/2.23.0</td>\n",
              "      <td>34.73.143.111</td>\n",
              "      <td>https://httpbin.org/get?mensagem=Olá!+Esta+men...</td>\n",
              "    </tr>\n",
              "    <tr>\n",
              "      <th>X-Amzn-Trace-Id</th>\n",
              "      <td>NaN</td>\n",
              "      <td>Root=1-62d5ea03-6d991bad35badefa411c6f5e</td>\n",
              "      <td>34.73.143.111</td>\n",
              "      <td>https://httpbin.org/get?mensagem=Olá!+Esta+men...</td>\n",
              "    </tr>\n",
              "  </tbody>\n",
              "</table>\n",
              "</div>\n",
              "      <button class=\"colab-df-convert\" onclick=\"convertToInteractive('df-bea751c0-cde2-4b15-87cf-5980576390ad')\"\n",
              "              title=\"Convert this dataframe to an interactive table.\"\n",
              "              style=\"display:none;\">\n",
              "        \n",
              "  <svg xmlns=\"http://www.w3.org/2000/svg\" height=\"24px\"viewBox=\"0 0 24 24\"\n",
              "       width=\"24px\">\n",
              "    <path d=\"M0 0h24v24H0V0z\" fill=\"none\"/>\n",
              "    <path d=\"M18.56 5.44l.94 2.06.94-2.06 2.06-.94-2.06-.94-.94-2.06-.94 2.06-2.06.94zm-11 1L8.5 8.5l.94-2.06 2.06-.94-2.06-.94L8.5 2.5l-.94 2.06-2.06.94zm10 10l.94 2.06.94-2.06 2.06-.94-2.06-.94-.94-2.06-.94 2.06-2.06.94z\"/><path d=\"M17.41 7.96l-1.37-1.37c-.4-.4-.92-.59-1.43-.59-.52 0-1.04.2-1.43.59L10.3 9.45l-7.72 7.72c-.78.78-.78 2.05 0 2.83L4 21.41c.39.39.9.59 1.41.59.51 0 1.02-.2 1.41-.59l7.78-7.78 2.81-2.81c.8-.78.8-2.07 0-2.86zM5.41 20L4 18.59l7.72-7.72 1.47 1.35L5.41 20z\"/>\n",
              "  </svg>\n",
              "      </button>\n",
              "      \n",
              "  <style>\n",
              "    .colab-df-container {\n",
              "      display:flex;\n",
              "      flex-wrap:wrap;\n",
              "      gap: 12px;\n",
              "    }\n",
              "\n",
              "    .colab-df-convert {\n",
              "      background-color: #E8F0FE;\n",
              "      border: none;\n",
              "      border-radius: 50%;\n",
              "      cursor: pointer;\n",
              "      display: none;\n",
              "      fill: #1967D2;\n",
              "      height: 32px;\n",
              "      padding: 0 0 0 0;\n",
              "      width: 32px;\n",
              "    }\n",
              "\n",
              "    .colab-df-convert:hover {\n",
              "      background-color: #E2EBFA;\n",
              "      box-shadow: 0px 1px 2px rgba(60, 64, 67, 0.3), 0px 1px 3px 1px rgba(60, 64, 67, 0.15);\n",
              "      fill: #174EA6;\n",
              "    }\n",
              "\n",
              "    [theme=dark] .colab-df-convert {\n",
              "      background-color: #3B4455;\n",
              "      fill: #D2E3FC;\n",
              "    }\n",
              "\n",
              "    [theme=dark] .colab-df-convert:hover {\n",
              "      background-color: #434B5C;\n",
              "      box-shadow: 0px 1px 3px 1px rgba(0, 0, 0, 0.15);\n",
              "      filter: drop-shadow(0px 1px 2px rgba(0, 0, 0, 0.3));\n",
              "      fill: #FFFFFF;\n",
              "    }\n",
              "  </style>\n",
              "\n",
              "      <script>\n",
              "        const buttonEl =\n",
              "          document.querySelector('#df-bea751c0-cde2-4b15-87cf-5980576390ad button.colab-df-convert');\n",
              "        buttonEl.style.display =\n",
              "          google.colab.kernel.accessAllowed ? 'block' : 'none';\n",
              "\n",
              "        async function convertToInteractive(key) {\n",
              "          const element = document.querySelector('#df-bea751c0-cde2-4b15-87cf-5980576390ad');\n",
              "          const dataTable =\n",
              "            await google.colab.kernel.invokeFunction('convertToInteractive',\n",
              "                                                     [key], {});\n",
              "          if (!dataTable) return;\n",
              "\n",
              "          const docLinkHtml = 'Like what you see? Visit the ' +\n",
              "            '<a target=\"_blank\" href=https://colab.research.google.com/notebooks/data_table.ipynb>data table notebook</a>'\n",
              "            + ' to learn more about interactive tables.';\n",
              "          element.innerHTML = '';\n",
              "          dataTable['output_type'] = 'display_data';\n",
              "          await google.colab.output.renderOutput(dataTable, element);\n",
              "          const docLink = document.createElement('div');\n",
              "          docLink.innerHTML = docLinkHtml;\n",
              "          element.appendChild(docLink);\n",
              "        }\n",
              "      </script>\n",
              "    </div>\n",
              "  </div>\n",
              "  "
            ]
          },
          "metadata": {},
          "execution_count": 329
        }
      ]
    },
    {
      "cell_type": "markdown",
      "source": [
        "Da API fake de testes:\n"
      ],
      "metadata": {
        "id": "hPFMw74-82gU"
      }
    },
    {
      "cell_type": "code",
      "source": [
        "# para vários:\n",
        "url_da_api = 'https://jsonplaceholder.typicode.com/todos/'\n",
        "\n",
        "response_get = requests.get(url_da_api)\n",
        "response_get.json()"
      ],
      "metadata": {
        "colab": {
          "base_uri": "https://localhost:8080/"
        },
        "id": "a63Zf3-89fD9",
        "outputId": "66b817e9-9e16-482a-a1db-437060d7e910"
      },
      "execution_count": null,
      "outputs": [
        {
          "output_type": "execute_result",
          "data": {
            "text/plain": [
              "[{'completed': False, 'id': 1, 'title': 'delectus aut autem', 'userId': 1},\n",
              " {'completed': False,\n",
              "  'id': 2,\n",
              "  'title': 'quis ut nam facilis et officia qui',\n",
              "  'userId': 1},\n",
              " {'completed': False, 'id': 3, 'title': 'fugiat veniam minus', 'userId': 1},\n",
              " {'completed': True, 'id': 4, 'title': 'et porro tempora', 'userId': 1},\n",
              " {'completed': False,\n",
              "  'id': 5,\n",
              "  'title': 'laboriosam mollitia et enim quasi adipisci quia provident illum',\n",
              "  'userId': 1},\n",
              " {'completed': False,\n",
              "  'id': 6,\n",
              "  'title': 'qui ullam ratione quibusdam voluptatem quia omnis',\n",
              "  'userId': 1},\n",
              " {'completed': False,\n",
              "  'id': 7,\n",
              "  'title': 'illo expedita consequatur quia in',\n",
              "  'userId': 1},\n",
              " {'completed': True,\n",
              "  'id': 8,\n",
              "  'title': 'quo adipisci enim quam ut ab',\n",
              "  'userId': 1},\n",
              " {'completed': False,\n",
              "  'id': 9,\n",
              "  'title': 'molestiae perspiciatis ipsa',\n",
              "  'userId': 1},\n",
              " {'completed': True,\n",
              "  'id': 10,\n",
              "  'title': 'illo est ratione doloremque quia maiores aut',\n",
              "  'userId': 1},\n",
              " {'completed': True,\n",
              "  'id': 11,\n",
              "  'title': 'vero rerum temporibus dolor',\n",
              "  'userId': 1},\n",
              " {'completed': True,\n",
              "  'id': 12,\n",
              "  'title': 'ipsa repellendus fugit nisi',\n",
              "  'userId': 1},\n",
              " {'completed': False, 'id': 13, 'title': 'et doloremque nulla', 'userId': 1},\n",
              " {'completed': True,\n",
              "  'id': 14,\n",
              "  'title': 'repellendus sunt dolores architecto voluptatum',\n",
              "  'userId': 1},\n",
              " {'completed': True,\n",
              "  'id': 15,\n",
              "  'title': 'ab voluptatum amet voluptas',\n",
              "  'userId': 1},\n",
              " {'completed': True,\n",
              "  'id': 16,\n",
              "  'title': 'accusamus eos facilis sint et aut voluptatem',\n",
              "  'userId': 1},\n",
              " {'completed': True,\n",
              "  'id': 17,\n",
              "  'title': 'quo laboriosam deleniti aut qui',\n",
              "  'userId': 1},\n",
              " {'completed': False,\n",
              "  'id': 18,\n",
              "  'title': 'dolorum est consequatur ea mollitia in culpa',\n",
              "  'userId': 1},\n",
              " {'completed': True,\n",
              "  'id': 19,\n",
              "  'title': 'molestiae ipsa aut voluptatibus pariatur dolor nihil',\n",
              "  'userId': 1},\n",
              " {'completed': True,\n",
              "  'id': 20,\n",
              "  'title': 'ullam nobis libero sapiente ad optio sint',\n",
              "  'userId': 1},\n",
              " {'completed': False,\n",
              "  'id': 21,\n",
              "  'title': 'suscipit repellat esse quibusdam voluptatem incidunt',\n",
              "  'userId': 2},\n",
              " {'completed': True,\n",
              "  'id': 22,\n",
              "  'title': 'distinctio vitae autem nihil ut molestias quo',\n",
              "  'userId': 2},\n",
              " {'completed': False,\n",
              "  'id': 23,\n",
              "  'title': 'et itaque necessitatibus maxime molestiae qui quas velit',\n",
              "  'userId': 2},\n",
              " {'completed': False,\n",
              "  'id': 24,\n",
              "  'title': 'adipisci non ad dicta qui amet quaerat doloribus ea',\n",
              "  'userId': 2},\n",
              " {'completed': True,\n",
              "  'id': 25,\n",
              "  'title': 'voluptas quo tenetur perspiciatis explicabo natus',\n",
              "  'userId': 2},\n",
              " {'completed': True, 'id': 26, 'title': 'aliquam aut quasi', 'userId': 2},\n",
              " {'completed': True,\n",
              "  'id': 27,\n",
              "  'title': 'veritatis pariatur delectus',\n",
              "  'userId': 2},\n",
              " {'completed': False,\n",
              "  'id': 28,\n",
              "  'title': 'nesciunt totam sit blanditiis sit',\n",
              "  'userId': 2},\n",
              " {'completed': False, 'id': 29, 'title': 'laborum aut in quam', 'userId': 2},\n",
              " {'completed': True,\n",
              "  'id': 30,\n",
              "  'title': 'nemo perspiciatis repellat ut dolor libero commodi blanditiis omnis',\n",
              "  'userId': 2},\n",
              " {'completed': False,\n",
              "  'id': 31,\n",
              "  'title': 'repudiandae totam in est sint facere fuga',\n",
              "  'userId': 2},\n",
              " {'completed': False,\n",
              "  'id': 32,\n",
              "  'title': 'earum doloribus ea doloremque quis',\n",
              "  'userId': 2},\n",
              " {'completed': False, 'id': 33, 'title': 'sint sit aut vero', 'userId': 2},\n",
              " {'completed': False,\n",
              "  'id': 34,\n",
              "  'title': 'porro aut necessitatibus eaque distinctio',\n",
              "  'userId': 2},\n",
              " {'completed': True,\n",
              "  'id': 35,\n",
              "  'title': 'repellendus veritatis molestias dicta incidunt',\n",
              "  'userId': 2},\n",
              " {'completed': True,\n",
              "  'id': 36,\n",
              "  'title': 'excepturi deleniti adipisci voluptatem et neque optio illum ad',\n",
              "  'userId': 2},\n",
              " {'completed': False, 'id': 37, 'title': 'sunt cum tempora', 'userId': 2},\n",
              " {'completed': False, 'id': 38, 'title': 'totam quia non', 'userId': 2},\n",
              " {'completed': False,\n",
              "  'id': 39,\n",
              "  'title': 'doloremque quibusdam asperiores libero corrupti illum qui omnis',\n",
              "  'userId': 2},\n",
              " {'completed': True,\n",
              "  'id': 40,\n",
              "  'title': 'totam atque quo nesciunt',\n",
              "  'userId': 2},\n",
              " {'completed': False,\n",
              "  'id': 41,\n",
              "  'title': 'aliquid amet impedit consequatur aspernatur placeat eaque fugiat suscipit',\n",
              "  'userId': 3},\n",
              " {'completed': False,\n",
              "  'id': 42,\n",
              "  'title': 'rerum perferendis error quia ut eveniet',\n",
              "  'userId': 3},\n",
              " {'completed': True,\n",
              "  'id': 43,\n",
              "  'title': 'tempore ut sint quis recusandae',\n",
              "  'userId': 3},\n",
              " {'completed': True,\n",
              "  'id': 44,\n",
              "  'title': 'cum debitis quis accusamus doloremque ipsa natus sapiente omnis',\n",
              "  'userId': 3},\n",
              " {'completed': False,\n",
              "  'id': 45,\n",
              "  'title': 'velit soluta adipisci molestias reiciendis harum',\n",
              "  'userId': 3},\n",
              " {'completed': False,\n",
              "  'id': 46,\n",
              "  'title': 'vel voluptatem repellat nihil placeat corporis',\n",
              "  'userId': 3},\n",
              " {'completed': False,\n",
              "  'id': 47,\n",
              "  'title': 'nam qui rerum fugiat accusamus',\n",
              "  'userId': 3},\n",
              " {'completed': False,\n",
              "  'id': 48,\n",
              "  'title': 'sit reprehenderit omnis quia',\n",
              "  'userId': 3},\n",
              " {'completed': False,\n",
              "  'id': 49,\n",
              "  'title': 'ut necessitatibus aut maiores debitis officia blanditiis velit et',\n",
              "  'userId': 3},\n",
              " {'completed': True,\n",
              "  'id': 50,\n",
              "  'title': 'cupiditate necessitatibus ullam aut quis dolor voluptate',\n",
              "  'userId': 3},\n",
              " {'completed': False,\n",
              "  'id': 51,\n",
              "  'title': 'distinctio exercitationem ab doloribus',\n",
              "  'userId': 3},\n",
              " {'completed': False,\n",
              "  'id': 52,\n",
              "  'title': 'nesciunt dolorum quis recusandae ad pariatur ratione',\n",
              "  'userId': 3},\n",
              " {'completed': False,\n",
              "  'id': 53,\n",
              "  'title': 'qui labore est occaecati recusandae aliquid quam',\n",
              "  'userId': 3},\n",
              " {'completed': True,\n",
              "  'id': 54,\n",
              "  'title': 'quis et est ut voluptate quam dolor',\n",
              "  'userId': 3},\n",
              " {'completed': True,\n",
              "  'id': 55,\n",
              "  'title': 'voluptatum omnis minima qui occaecati provident nulla voluptatem ratione',\n",
              "  'userId': 3},\n",
              " {'completed': True,\n",
              "  'id': 56,\n",
              "  'title': 'deleniti ea temporibus enim',\n",
              "  'userId': 3},\n",
              " {'completed': False,\n",
              "  'id': 57,\n",
              "  'title': 'pariatur et magnam ea doloribus similique voluptatem rerum quia',\n",
              "  'userId': 3},\n",
              " {'completed': False,\n",
              "  'id': 58,\n",
              "  'title': 'est dicta totam qui explicabo doloribus qui dignissimos',\n",
              "  'userId': 3},\n",
              " {'completed': False,\n",
              "  'id': 59,\n",
              "  'title': 'perspiciatis velit id laborum placeat iusto et aliquam odio',\n",
              "  'userId': 3},\n",
              " {'completed': True,\n",
              "  'id': 60,\n",
              "  'title': 'et sequi qui architecto ut adipisci',\n",
              "  'userId': 3},\n",
              " {'completed': True,\n",
              "  'id': 61,\n",
              "  'title': 'odit optio omnis qui sunt',\n",
              "  'userId': 4},\n",
              " {'completed': False,\n",
              "  'id': 62,\n",
              "  'title': 'et placeat et tempore aspernatur sint numquam',\n",
              "  'userId': 4},\n",
              " {'completed': True,\n",
              "  'id': 63,\n",
              "  'title': 'doloremque aut dolores quidem fuga qui nulla',\n",
              "  'userId': 4},\n",
              " {'completed': False,\n",
              "  'id': 64,\n",
              "  'title': 'voluptas consequatur qui ut quia magnam nemo esse',\n",
              "  'userId': 4},\n",
              " {'completed': False,\n",
              "  'id': 65,\n",
              "  'title': 'fugiat pariatur ratione ut asperiores necessitatibus magni',\n",
              "  'userId': 4},\n",
              " {'completed': False,\n",
              "  'id': 66,\n",
              "  'title': 'rerum eum molestias autem voluptatum sit optio',\n",
              "  'userId': 4},\n",
              " {'completed': False,\n",
              "  'id': 67,\n",
              "  'title': 'quia voluptatibus voluptatem quos similique maiores repellat',\n",
              "  'userId': 4},\n",
              " {'completed': False,\n",
              "  'id': 68,\n",
              "  'title': 'aut id perspiciatis voluptatem iusto',\n",
              "  'userId': 4},\n",
              " {'completed': False,\n",
              "  'id': 69,\n",
              "  'title': 'doloribus sint dolorum ab adipisci itaque dignissimos aliquam suscipit',\n",
              "  'userId': 4},\n",
              " {'completed': False,\n",
              "  'id': 70,\n",
              "  'title': 'ut sequi accusantium et mollitia delectus sunt',\n",
              "  'userId': 4},\n",
              " {'completed': False, 'id': 71, 'title': 'aut velit saepe ullam', 'userId': 4},\n",
              " {'completed': False,\n",
              "  'id': 72,\n",
              "  'title': 'praesentium facilis facere quis harum voluptatibus voluptatem eum',\n",
              "  'userId': 4},\n",
              " {'completed': True,\n",
              "  'id': 73,\n",
              "  'title': 'sint amet quia totam corporis qui exercitationem commodi',\n",
              "  'userId': 4},\n",
              " {'completed': False,\n",
              "  'id': 74,\n",
              "  'title': 'expedita tempore nobis eveniet laborum maiores',\n",
              "  'userId': 4},\n",
              " {'completed': False,\n",
              "  'id': 75,\n",
              "  'title': 'occaecati adipisci est possimus totam',\n",
              "  'userId': 4},\n",
              " {'completed': True, 'id': 76, 'title': 'sequi dolorem sed', 'userId': 4},\n",
              " {'completed': False,\n",
              "  'id': 77,\n",
              "  'title': 'maiores aut nesciunt delectus exercitationem vel assumenda eligendi at',\n",
              "  'userId': 4},\n",
              " {'completed': False,\n",
              "  'id': 78,\n",
              "  'title': 'reiciendis est magnam amet nemo iste recusandae impedit quaerat',\n",
              "  'userId': 4},\n",
              " {'completed': True, 'id': 79, 'title': 'eum ipsa maxime ut', 'userId': 4},\n",
              " {'completed': True,\n",
              "  'id': 80,\n",
              "  'title': 'tempore molestias dolores rerum sequi voluptates ipsum consequatur',\n",
              "  'userId': 4},\n",
              " {'completed': True, 'id': 81, 'title': 'suscipit qui totam', 'userId': 5},\n",
              " {'completed': False,\n",
              "  'id': 82,\n",
              "  'title': 'voluptates eum voluptas et dicta',\n",
              "  'userId': 5},\n",
              " {'completed': True,\n",
              "  'id': 83,\n",
              "  'title': 'quidem at rerum quis ex aut sit quam',\n",
              "  'userId': 5},\n",
              " {'completed': False,\n",
              "  'id': 84,\n",
              "  'title': 'sunt veritatis ut voluptate',\n",
              "  'userId': 5},\n",
              " {'completed': True, 'id': 85, 'title': 'et quia ad iste a', 'userId': 5},\n",
              " {'completed': True,\n",
              "  'id': 86,\n",
              "  'title': 'incidunt ut saepe autem',\n",
              "  'userId': 5},\n",
              " {'completed': True,\n",
              "  'id': 87,\n",
              "  'title': 'laudantium quae eligendi consequatur quia et vero autem',\n",
              "  'userId': 5},\n",
              " {'completed': False,\n",
              "  'id': 88,\n",
              "  'title': 'vitae aut excepturi laboriosam sint aliquam et et accusantium',\n",
              "  'userId': 5},\n",
              " {'completed': True, 'id': 89, 'title': 'sequi ut omnis et', 'userId': 5},\n",
              " {'completed': True,\n",
              "  'id': 90,\n",
              "  'title': 'molestiae nisi accusantium tenetur dolorem et',\n",
              "  'userId': 5},\n",
              " {'completed': True,\n",
              "  'id': 91,\n",
              "  'title': 'nulla quis consequatur saepe qui id expedita',\n",
              "  'userId': 5},\n",
              " {'completed': True, 'id': 92, 'title': 'in omnis laboriosam', 'userId': 5},\n",
              " {'completed': True,\n",
              "  'id': 93,\n",
              "  'title': 'odio iure consequatur molestiae quibusdam necessitatibus quia sint',\n",
              "  'userId': 5},\n",
              " {'completed': False,\n",
              "  'id': 94,\n",
              "  'title': 'facilis modi saepe mollitia',\n",
              "  'userId': 5},\n",
              " {'completed': True,\n",
              "  'id': 95,\n",
              "  'title': 'vel nihil et molestiae iusto assumenda nemo quo ut',\n",
              "  'userId': 5},\n",
              " {'completed': False,\n",
              "  'id': 96,\n",
              "  'title': 'nobis suscipit ducimus enim asperiores voluptas',\n",
              "  'userId': 5},\n",
              " {'completed': False,\n",
              "  'id': 97,\n",
              "  'title': 'dolorum laboriosam eos qui iure aliquam',\n",
              "  'userId': 5},\n",
              " {'completed': True,\n",
              "  'id': 98,\n",
              "  'title': 'debitis accusantium ut quo facilis nihil quis sapiente necessitatibus',\n",
              "  'userId': 5},\n",
              " {'completed': False,\n",
              "  'id': 99,\n",
              "  'title': 'neque voluptates ratione',\n",
              "  'userId': 5},\n",
              " {'completed': False,\n",
              "  'id': 100,\n",
              "  'title': 'excepturi a et neque qui expedita vel voluptate',\n",
              "  'userId': 5},\n",
              " {'completed': False,\n",
              "  'id': 101,\n",
              "  'title': 'explicabo enim cumque porro aperiam occaecati minima',\n",
              "  'userId': 6},\n",
              " {'completed': False, 'id': 102, 'title': 'sed ab consequatur', 'userId': 6},\n",
              " {'completed': False,\n",
              "  'id': 103,\n",
              "  'title': 'non sunt delectus illo nulla tenetur enim omnis',\n",
              "  'userId': 6},\n",
              " {'completed': False,\n",
              "  'id': 104,\n",
              "  'title': 'excepturi non laudantium quo',\n",
              "  'userId': 6},\n",
              " {'completed': True,\n",
              "  'id': 105,\n",
              "  'title': 'totam quia dolorem et illum repellat voluptas optio',\n",
              "  'userId': 6},\n",
              " {'completed': True,\n",
              "  'id': 106,\n",
              "  'title': 'ad illo quis voluptatem temporibus',\n",
              "  'userId': 6},\n",
              " {'completed': False,\n",
              "  'id': 107,\n",
              "  'title': 'praesentium facilis omnis laudantium fugit ad iusto nihil nesciunt',\n",
              "  'userId': 6},\n",
              " {'completed': True,\n",
              "  'id': 108,\n",
              "  'title': 'a eos eaque nihil et exercitationem incidunt delectus',\n",
              "  'userId': 6},\n",
              " {'completed': True,\n",
              "  'id': 109,\n",
              "  'title': 'autem temporibus harum quisquam in culpa',\n",
              "  'userId': 6},\n",
              " {'completed': True, 'id': 110, 'title': 'aut aut ea corporis', 'userId': 6},\n",
              " {'completed': False,\n",
              "  'id': 111,\n",
              "  'title': 'magni accusantium labore et id quis provident',\n",
              "  'userId': 6},\n",
              " {'completed': False,\n",
              "  'id': 112,\n",
              "  'title': 'consectetur impedit quisquam qui deserunt non rerum consequuntur eius',\n",
              "  'userId': 6},\n",
              " {'completed': False,\n",
              "  'id': 113,\n",
              "  'title': 'quia atque aliquam sunt impedit voluptatum rerum assumenda nisi',\n",
              "  'userId': 6},\n",
              " {'completed': False,\n",
              "  'id': 114,\n",
              "  'title': 'cupiditate quos possimus corporis quisquam exercitationem beatae',\n",
              "  'userId': 6},\n",
              " {'completed': False, 'id': 115, 'title': 'sed et ea eum', 'userId': 6},\n",
              " {'completed': True,\n",
              "  'id': 116,\n",
              "  'title': 'ipsa dolores vel facilis ut',\n",
              "  'userId': 6},\n",
              " {'completed': False,\n",
              "  'id': 117,\n",
              "  'title': 'sequi quae est et qui qui eveniet asperiores',\n",
              "  'userId': 6},\n",
              " {'completed': False,\n",
              "  'id': 118,\n",
              "  'title': 'quia modi consequatur vero fugiat',\n",
              "  'userId': 6},\n",
              " {'completed': False,\n",
              "  'id': 119,\n",
              "  'title': 'corporis ducimus ea perspiciatis iste',\n",
              "  'userId': 6},\n",
              " {'completed': False,\n",
              "  'id': 120,\n",
              "  'title': 'dolorem laboriosam vel voluptas et aliquam quasi',\n",
              "  'userId': 6},\n",
              " {'completed': True,\n",
              "  'id': 121,\n",
              "  'title': 'inventore aut nihil minima laudantium hic qui omnis',\n",
              "  'userId': 7},\n",
              " {'completed': True,\n",
              "  'id': 122,\n",
              "  'title': 'provident aut nobis culpa',\n",
              "  'userId': 7},\n",
              " {'completed': False,\n",
              "  'id': 123,\n",
              "  'title': 'esse et quis iste est earum aut impedit',\n",
              "  'userId': 7},\n",
              " {'completed': False, 'id': 124, 'title': 'qui consectetur id', 'userId': 7},\n",
              " {'completed': False,\n",
              "  'id': 125,\n",
              "  'title': 'aut quasi autem iste tempore illum possimus',\n",
              "  'userId': 7},\n",
              " {'completed': True,\n",
              "  'id': 126,\n",
              "  'title': 'ut asperiores perspiciatis veniam ipsum rerum saepe',\n",
              "  'userId': 7},\n",
              " {'completed': True,\n",
              "  'id': 127,\n",
              "  'title': 'voluptatem libero consectetur rerum ut',\n",
              "  'userId': 7},\n",
              " {'completed': False,\n",
              "  'id': 128,\n",
              "  'title': 'eius omnis est qui voluptatem autem',\n",
              "  'userId': 7},\n",
              " {'completed': False,\n",
              "  'id': 129,\n",
              "  'title': 'rerum culpa quis harum',\n",
              "  'userId': 7},\n",
              " {'completed': True,\n",
              "  'id': 130,\n",
              "  'title': 'nulla aliquid eveniet harum laborum libero alias ut unde',\n",
              "  'userId': 7},\n",
              " {'completed': False, 'id': 131, 'title': 'qui ea incidunt quis', 'userId': 7},\n",
              " {'completed': True,\n",
              "  'id': 132,\n",
              "  'title': 'qui molestiae voluptatibus velit iure harum quisquam',\n",
              "  'userId': 7},\n",
              " {'completed': True,\n",
              "  'id': 133,\n",
              "  'title': 'et labore eos enim rerum consequatur sunt',\n",
              "  'userId': 7},\n",
              " {'completed': False,\n",
              "  'id': 134,\n",
              "  'title': 'molestiae doloribus et laborum quod ea',\n",
              "  'userId': 7},\n",
              " {'completed': False,\n",
              "  'id': 135,\n",
              "  'title': 'facere ipsa nam eum voluptates reiciendis vero qui',\n",
              "  'userId': 7},\n",
              " {'completed': False,\n",
              "  'id': 136,\n",
              "  'title': 'asperiores illo tempora fuga sed ut quasi adipisci',\n",
              "  'userId': 7},\n",
              " {'completed': False, 'id': 137, 'title': 'qui sit non', 'userId': 7},\n",
              " {'completed': True,\n",
              "  'id': 138,\n",
              "  'title': 'placeat minima consequatur rem qui ut',\n",
              "  'userId': 7},\n",
              " {'completed': False,\n",
              "  'id': 139,\n",
              "  'title': 'consequatur doloribus id possimus voluptas a voluptatem',\n",
              "  'userId': 7},\n",
              " {'completed': True,\n",
              "  'id': 140,\n",
              "  'title': 'aut consectetur in blanditiis deserunt quia sed laboriosam',\n",
              "  'userId': 7},\n",
              " {'completed': True,\n",
              "  'id': 141,\n",
              "  'title': 'explicabo consectetur debitis voluptates quas quae culpa rerum non',\n",
              "  'userId': 8},\n",
              " {'completed': True,\n",
              "  'id': 142,\n",
              "  'title': 'maiores accusantium architecto necessitatibus reiciendis ea aut',\n",
              "  'userId': 8},\n",
              " {'completed': False,\n",
              "  'id': 143,\n",
              "  'title': 'eum non recusandae cupiditate animi',\n",
              "  'userId': 8},\n",
              " {'completed': False,\n",
              "  'id': 144,\n",
              "  'title': 'ut eum exercitationem sint',\n",
              "  'userId': 8},\n",
              " {'completed': False,\n",
              "  'id': 145,\n",
              "  'title': 'beatae qui ullam incidunt voluptatem non nisi aliquam',\n",
              "  'userId': 8},\n",
              " {'completed': True,\n",
              "  'id': 146,\n",
              "  'title': 'molestiae suscipit ratione nihil odio libero impedit vero totam',\n",
              "  'userId': 8},\n",
              " {'completed': True,\n",
              "  'id': 147,\n",
              "  'title': 'eum itaque quod reprehenderit et facilis dolor autem ut',\n",
              "  'userId': 8},\n",
              " {'completed': False,\n",
              "  'id': 148,\n",
              "  'title': 'esse quas et quo quasi exercitationem',\n",
              "  'userId': 8},\n",
              " {'completed': False,\n",
              "  'id': 149,\n",
              "  'title': 'animi voluptas quod perferendis est',\n",
              "  'userId': 8},\n",
              " {'completed': False,\n",
              "  'id': 150,\n",
              "  'title': 'eos amet tempore laudantium fugit a',\n",
              "  'userId': 8},\n",
              " {'completed': True,\n",
              "  'id': 151,\n",
              "  'title': 'accusamus adipisci dicta qui quo ea explicabo sed vero',\n",
              "  'userId': 8},\n",
              " {'completed': False,\n",
              "  'id': 152,\n",
              "  'title': 'odit eligendi recusandae doloremque cumque non',\n",
              "  'userId': 8},\n",
              " {'completed': False,\n",
              "  'id': 153,\n",
              "  'title': 'ea aperiam consequatur qui repellat eos',\n",
              "  'userId': 8},\n",
              " {'completed': True, 'id': 154, 'title': 'rerum non ex sapiente', 'userId': 8},\n",
              " {'completed': True,\n",
              "  'id': 155,\n",
              "  'title': 'voluptatem nobis consequatur et assumenda magnam',\n",
              "  'userId': 8},\n",
              " {'completed': True,\n",
              "  'id': 156,\n",
              "  'title': 'nam quia quia nulla repellat assumenda quibusdam sit nobis',\n",
              "  'userId': 8},\n",
              " {'completed': True,\n",
              "  'id': 157,\n",
              "  'title': 'dolorem veniam quisquam deserunt repellendus',\n",
              "  'userId': 8},\n",
              " {'completed': True,\n",
              "  'id': 158,\n",
              "  'title': 'debitis vitae delectus et harum accusamus aut deleniti a',\n",
              "  'userId': 8},\n",
              " {'completed': True,\n",
              "  'id': 159,\n",
              "  'title': 'debitis adipisci quibusdam aliquam sed dolore ea praesentium nobis',\n",
              "  'userId': 8},\n",
              " {'completed': False,\n",
              "  'id': 160,\n",
              "  'title': 'et praesentium aliquam est',\n",
              "  'userId': 8},\n",
              " {'completed': True,\n",
              "  'id': 161,\n",
              "  'title': 'ex hic consequuntur earum omnis alias ut occaecati culpa',\n",
              "  'userId': 9},\n",
              " {'completed': True,\n",
              "  'id': 162,\n",
              "  'title': 'omnis laboriosam molestias animi sunt dolore',\n",
              "  'userId': 9},\n",
              " {'completed': False,\n",
              "  'id': 163,\n",
              "  'title': 'natus corrupti maxime laudantium et voluptatem laboriosam odit',\n",
              "  'userId': 9},\n",
              " {'completed': False,\n",
              "  'id': 164,\n",
              "  'title': 'reprehenderit quos aut aut consequatur est sed',\n",
              "  'userId': 9},\n",
              " {'completed': False,\n",
              "  'id': 165,\n",
              "  'title': 'fugiat perferendis sed aut quidem',\n",
              "  'userId': 9},\n",
              " {'completed': False,\n",
              "  'id': 166,\n",
              "  'title': 'quos quo possimus suscipit minima ut',\n",
              "  'userId': 9},\n",
              " {'completed': False,\n",
              "  'id': 167,\n",
              "  'title': 'et quis minus quo a asperiores molestiae',\n",
              "  'userId': 9},\n",
              " {'completed': False,\n",
              "  'id': 168,\n",
              "  'title': 'recusandae quia qui sunt libero',\n",
              "  'userId': 9},\n",
              " {'completed': True,\n",
              "  'id': 169,\n",
              "  'title': 'ea odio perferendis officiis',\n",
              "  'userId': 9},\n",
              " {'completed': False,\n",
              "  'id': 170,\n",
              "  'title': 'quisquam aliquam quia doloribus aut',\n",
              "  'userId': 9},\n",
              " {'completed': True,\n",
              "  'id': 171,\n",
              "  'title': 'fugiat aut voluptatibus corrupti deleniti velit iste odio',\n",
              "  'userId': 9},\n",
              " {'completed': False,\n",
              "  'id': 172,\n",
              "  'title': 'et provident amet rerum consectetur et voluptatum',\n",
              "  'userId': 9},\n",
              " {'completed': False,\n",
              "  'id': 173,\n",
              "  'title': 'harum ad aperiam quis',\n",
              "  'userId': 9},\n",
              " {'completed': False, 'id': 174, 'title': 'similique aut quo', 'userId': 9},\n",
              " {'completed': True,\n",
              "  'id': 175,\n",
              "  'title': 'laudantium eius officia perferendis provident perspiciatis asperiores',\n",
              "  'userId': 9},\n",
              " {'completed': False,\n",
              "  'id': 176,\n",
              "  'title': 'magni soluta corrupti ut maiores rem quidem',\n",
              "  'userId': 9},\n",
              " {'completed': False,\n",
              "  'id': 177,\n",
              "  'title': 'et placeat temporibus voluptas est tempora quos quibusdam',\n",
              "  'userId': 9},\n",
              " {'completed': True,\n",
              "  'id': 178,\n",
              "  'title': 'nesciunt itaque commodi tempore',\n",
              "  'userId': 9},\n",
              " {'completed': True,\n",
              "  'id': 179,\n",
              "  'title': 'omnis consequuntur cupiditate impedit itaque ipsam quo',\n",
              "  'userId': 9},\n",
              " {'completed': True,\n",
              "  'id': 180,\n",
              "  'title': 'debitis nisi et dolorem repellat et',\n",
              "  'userId': 9},\n",
              " {'completed': False,\n",
              "  'id': 181,\n",
              "  'title': 'ut cupiditate sequi aliquam fuga maiores',\n",
              "  'userId': 10},\n",
              " {'completed': True,\n",
              "  'id': 182,\n",
              "  'title': 'inventore saepe cumque et aut illum enim',\n",
              "  'userId': 10},\n",
              " {'completed': True,\n",
              "  'id': 183,\n",
              "  'title': 'omnis nulla eum aliquam distinctio',\n",
              "  'userId': 10},\n",
              " {'completed': False,\n",
              "  'id': 184,\n",
              "  'title': 'molestias modi perferendis perspiciatis',\n",
              "  'userId': 10},\n",
              " {'completed': False,\n",
              "  'id': 185,\n",
              "  'title': 'voluptates dignissimos sed doloribus animi quaerat aut',\n",
              "  'userId': 10},\n",
              " {'completed': False,\n",
              "  'id': 186,\n",
              "  'title': 'explicabo odio est et',\n",
              "  'userId': 10},\n",
              " {'completed': False,\n",
              "  'id': 187,\n",
              "  'title': 'consequuntur animi possimus',\n",
              "  'userId': 10},\n",
              " {'completed': True, 'id': 188, 'title': 'vel non beatae est', 'userId': 10},\n",
              " {'completed': True,\n",
              "  'id': 189,\n",
              "  'title': 'culpa eius et voluptatem et',\n",
              "  'userId': 10},\n",
              " {'completed': True,\n",
              "  'id': 190,\n",
              "  'title': 'accusamus sint iusto et voluptatem exercitationem',\n",
              "  'userId': 10},\n",
              " {'completed': True,\n",
              "  'id': 191,\n",
              "  'title': 'temporibus atque distinctio omnis eius impedit tempore molestias pariatur',\n",
              "  'userId': 10},\n",
              " {'completed': False,\n",
              "  'id': 192,\n",
              "  'title': 'ut quas possimus exercitationem sint voluptates',\n",
              "  'userId': 10},\n",
              " {'completed': True,\n",
              "  'id': 193,\n",
              "  'title': 'rerum debitis voluptatem qui eveniet tempora distinctio a',\n",
              "  'userId': 10},\n",
              " {'completed': False,\n",
              "  'id': 194,\n",
              "  'title': 'sed ut vero sit molestiae',\n",
              "  'userId': 10},\n",
              " {'completed': True,\n",
              "  'id': 195,\n",
              "  'title': 'rerum ex veniam mollitia voluptatibus pariatur',\n",
              "  'userId': 10},\n",
              " {'completed': True,\n",
              "  'id': 196,\n",
              "  'title': 'consequuntur aut ut fugit similique',\n",
              "  'userId': 10},\n",
              " {'completed': True,\n",
              "  'id': 197,\n",
              "  'title': 'dignissimos quo nobis earum saepe',\n",
              "  'userId': 10},\n",
              " {'completed': True,\n",
              "  'id': 198,\n",
              "  'title': 'quis eius est sint explicabo',\n",
              "  'userId': 10},\n",
              " {'completed': True,\n",
              "  'id': 199,\n",
              "  'title': 'numquam repellendus a magnam',\n",
              "  'userId': 10},\n",
              " {'completed': False,\n",
              "  'id': 200,\n",
              "  'title': 'ipsam aperiam voluptates qui',\n",
              "  'userId': 10}]"
            ]
          },
          "metadata": {},
          "execution_count": 337
        }
      ]
    },
    {
      "cell_type": "code",
      "source": [
        "# Para ver 1 dado:\n",
        "url_da_api = 'https://jsonplaceholder.typicode.com/todos/1'\n",
        "\n",
        "response_get = requests.get(url_da_api)\n",
        "response_get.json()"
      ],
      "metadata": {
        "colab": {
          "base_uri": "https://localhost:8080/"
        },
        "id": "4WGE-eMr80AY",
        "outputId": "5b34cbcc-f51d-4313-ed75-1bd143e89ee1"
      },
      "execution_count": null,
      "outputs": [
        {
          "output_type": "execute_result",
          "data": {
            "text/plain": [
              "{'completed': False, 'id': 1, 'title': 'delectus aut autem', 'userId': 1}"
            ]
          },
          "metadata": {},
          "execution_count": 344
        }
      ]
    },
    {
      "cell_type": "code",
      "source": [
        "# Para ver 1 dado da aba de posts:\n",
        "url_da_api = 'https://jsonplaceholder.typicode.com/posts/2'\n",
        "\n",
        "response_get = requests.get(url_da_api)\n",
        "response_get.json()"
      ],
      "metadata": {
        "colab": {
          "base_uri": "https://localhost:8080/"
        },
        "id": "5dqoheT5-LzY",
        "outputId": "c51d88c5-9a04-485c-fb29-70a855876d60"
      },
      "execution_count": null,
      "outputs": [
        {
          "output_type": "execute_result",
          "data": {
            "text/plain": [
              "{'body': 'est rerum tempore vitae\\nsequi sint nihil reprehenderit dolor beatae ea dolores neque\\nfugiat blanditiis voluptate porro vel nihil molestiae ut reiciendis\\nqui aperiam non debitis possimus qui neque nisi nulla',\n",
              " 'id': 2,\n",
              " 'title': 'qui est esse',\n",
              " 'userId': 1}"
            ]
          },
          "metadata": {},
          "execution_count": 392
        }
      ]
    },
    {
      "cell_type": "markdown",
      "source": [
        "Vamos gravar um novo post com nossos dados:"
      ],
      "metadata": {
        "id": "wIaMNI9u9bp0"
      }
    },
    {
      "cell_type": "code",
      "source": [
        "texto_do_post = \"Este é um texto simples de exemplo.\\nAqui nós quebramos a linha para finalizar o post.\"\n",
        "titulo_do_post = \"PERSISTINDO LÁ!\"\n",
        "nome_do_usuario = \"Kurtis Weissnat\""
      ],
      "metadata": {
        "id": "zJUlODDeEtDq"
      },
      "execution_count": null,
      "outputs": []
    },
    {
      "cell_type": "markdown",
      "source": [
        "Primeiro precisamos saber qual o ID do usuário Kurtis Weissnat:"
      ],
      "metadata": {
        "id": "ZKqVCMOZFnvW"
      }
    },
    {
      "cell_type": "code",
      "source": [
        "url_da_api = 'https://jsonplaceholder.typicode.com/users/2'\n",
        "\n",
        "response_get = requests.get(url_da_api)\n",
        "response_get.json()"
      ],
      "metadata": {
        "colab": {
          "base_uri": "https://localhost:8080/"
        },
        "id": "8V15HtKBFfRw",
        "outputId": "e1590183-c70d-4900-ea74-2830307b384a"
      },
      "execution_count": null,
      "outputs": [
        {
          "output_type": "execute_result",
          "data": {
            "text/plain": [
              "{'address': {'city': 'Wisokyburgh',\n",
              "  'geo': {'lat': '-43.9509', 'lng': '-34.4618'},\n",
              "  'street': 'Victor Plains',\n",
              "  'suite': 'Suite 879',\n",
              "  'zipcode': '90566-7771'},\n",
              " 'company': {'bs': 'synergize scalable supply-chains',\n",
              "  'catchPhrase': 'Proactive didactic contingency',\n",
              "  'name': 'Deckow-Crist'},\n",
              " 'email': 'Shanna@melissa.tv',\n",
              " 'id': 2,\n",
              " 'name': 'Ervin Howell',\n",
              " 'phone': '010-692-6593 x09125',\n",
              " 'username': 'Antonette',\n",
              " 'website': 'anastasia.net'}"
            ]
          },
          "metadata": {},
          "execution_count": 398
        }
      ]
    },
    {
      "cell_type": "code",
      "source": [
        "# Para ver 1 dado da aba de posts:\n",
        "url_da_api = 'https://jsonplaceholder.typicode.com/users?name=Kurtis Weissnat'\n",
        "\n",
        "response_get = requests.get(url_da_api)\n",
        "response_get.json()"
      ],
      "metadata": {
        "colab": {
          "base_uri": "https://localhost:8080/"
        },
        "id": "ZDT781ucFSAM",
        "outputId": "8a91d479-0225-4c7d-da6b-a7902194f6e5"
      },
      "execution_count": null,
      "outputs": [
        {
          "output_type": "execute_result",
          "data": {
            "text/plain": [
              "[{'address': {'city': 'Howemouth',\n",
              "   'geo': {'lat': '24.8918', 'lng': '21.8984'},\n",
              "   'street': 'Rex Trail',\n",
              "   'suite': 'Suite 280',\n",
              "   'zipcode': '58804-1099'},\n",
              "  'company': {'bs': 'generate enterprise e-tailers',\n",
              "   'catchPhrase': 'Configurable multimedia task-force',\n",
              "   'name': 'Johns Group'},\n",
              "  'email': 'Telly.Hoeger@billy.biz',\n",
              "  'id': 7,\n",
              "  'name': 'Kurtis Weissnat',\n",
              "  'phone': '210.067.6132',\n",
              "  'username': 'Elwyn.Skiles',\n",
              "  'website': 'elvis.io'}]"
            ]
          },
          "metadata": {},
          "execution_count": 399
        }
      ]
    },
    {
      "cell_type": "code",
      "source": [
        "id_do_usuario = response_get.json()[0]['id']"
      ],
      "metadata": {
        "id": "PJAYUcXNGGMB"
      },
      "execution_count": null,
      "outputs": []
    },
    {
      "cell_type": "code",
      "source": [
        "# Criação da estrutura do json a ser enviado:\n",
        "post = {\"body\":texto_do_post,\"title\":titulo_do_post,\"userId\":id_do_usuario}"
      ],
      "metadata": {
        "id": "yswcDk41Hwxp"
      },
      "execution_count": null,
      "outputs": []
    },
    {
      "cell_type": "markdown",
      "source": [
        "Agora precisamos enviar os dados"
      ],
      "metadata": {
        "id": "jhe41B9NHO6k"
      }
    },
    {
      "cell_type": "code",
      "source": [
        "url_da_api = 'https://jsonplaceholder.typicode.com/posts'\n",
        "response = requests.post(url_da_api, json=post)"
      ],
      "metadata": {
        "id": "vtoUee3YHM1O"
      },
      "execution_count": null,
      "outputs": []
    },
    {
      "cell_type": "code",
      "source": [
        "response.json()"
      ],
      "metadata": {
        "colab": {
          "base_uri": "https://localhost:8080/"
        },
        "id": "NMXQKZ-6ItcH",
        "outputId": "a3dabce2-3b26-4cec-9e55-0a13d83daf8b"
      },
      "execution_count": null,
      "outputs": [
        {
          "output_type": "execute_result",
          "data": {
            "text/plain": [
              "{'body': 'Este é um texto simples de exemplo.\\nAqui nós quebramos a linha para finalizar o post.',\n",
              " 'id': 101,\n",
              " 'title': 'PERSISTINDO LÁ!',\n",
              " 'userId': 7}"
            ]
          },
          "metadata": {},
          "execution_count": 407
        }
      ]
    },
    {
      "cell_type": "markdown",
      "source": [
        "Perceba que poderíamos ter enviado uma quantidade muito maior de dados em formato json e a API REST do servidor se encarregaria de armazenar os dados."
      ],
      "metadata": {
        "id": "qc0fPGHBJsGu"
      }
    },
    {
      "cell_type": "markdown",
      "source": [
        "## Conclusão\n",
        "\n",
        "Estes foram apenas algumas das formas de ler, manipular e salvar arquivos de dados tanto localmente quanto de servidores externos.\n",
        "\n",
        "Muitas outras técnicas poderão ser aplicadas, conforme seu projeto solicitar.\n",
        " \n",
        "Te desejo sucesso em sua jornada!\n",
        "\n",
        "Prof. Guilherme Patriota.\n",
        "\n",
        "### Bons estudos!"
      ],
      "metadata": {
        "id": "nxfJJRrUJ-QU"
      }
    }
  ]
}